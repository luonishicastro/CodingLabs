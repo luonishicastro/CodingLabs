{
 "cells": [
  {
   "cell_type": "markdown",
   "metadata": {},
   "source": [
    "Exercício 1 - Faça um programa que leia três números e mostre qual é o maior e qual é o menor."
   ]
  },
  {
   "cell_type": "code",
   "execution_count": 22,
   "metadata": {},
   "outputs": [
    {
     "name": "stdout",
     "output_type": "stream",
     "text": [
      "Digite um número qualquer: 2\n",
      "Digite outro número: 2\n",
      "Digite mais um número: 3\n",
      "Maior número: 3\n",
      "Menor número: 2\n"
     ]
    }
   ],
   "source": [
    "num1 = int(input('Digite um número qualquer: '))\n",
    "num2 = int(input('Digite outro número: '))\n",
    "num3 = int(input('Digite mais um número: '))\n",
    "if num1 > num2:\n",
    "    if num1 > num3:\n",
    "        print(f'Maior número: {num1}')\n",
    "    else:\n",
    "        print(f'Maior número: {num3}')\n",
    "    if num2 > num3:\n",
    "        print(f'Menor número: {num3}')\n",
    "    else:\n",
    "        print(f'Menor número: {num2}')\n",
    "elif num2 > num1:\n",
    "    if num2 > num3:\n",
    "        print(f'Maior número: {num2}')\n",
    "    else:\n",
    "        print(f'Maior número: {num3}')\n",
    "    if num1 > num3:\n",
    "        print(f'Menor número: {num3}')\n",
    "    else:\n",
    "        print(f'Menor número: {num1}')\n",
    "elif num3 > num1:\n",
    "    print(f'Maior número: {num3}')\n",
    "    if num1 > num2:\n",
    "        print(f'Menor número: {num2}')\n",
    "    else:\n",
    "        print(f'Menor número: {num1}')\n",
    "else:\n",
    "    print('Todos número digitados são iguais.')"
   ]
  },
  {
   "cell_type": "markdown",
   "metadata": {},
   "source": [
    "Exercício 2 - Escreva um programa que pergunte o salário de um funcionário e calcule o valor de seu aumento. Para salários superiores a R$1.250,00, calcule um aumento de 10 por cento. Para os inferiores ou iguais, o aumento é de 15 por cento."
   ]
  },
  {
   "cell_type": "code",
   "execution_count": 24,
   "metadata": {},
   "outputs": [
    {
     "name": "stdout",
     "output_type": "stream",
     "text": [
      "Digite o salário do funcionário: R$1000\n",
      "Um funcionário com salário igual a R$1000.00 terá um novo salário de R$1150.00\n"
     ]
    }
   ],
   "source": [
    "salario = float(input('Digite o salário do funcionário: R$'))\n",
    "if salario > 1250:\n",
    "    novoSalario = salario+salario*0.1\n",
    "else:\n",
    "    novoSalario = salario+salario*0.15\n",
    "\n",
    "print('Um funcionário com salário igual a R${:.2f} terá um novo salário de R${:.2f}'.format(salario, novoSalario))"
   ]
  },
  {
   "cell_type": "markdown",
   "metadata": {},
   "source": [
    "Exercício 3 - Desenvolva um programa que leia o comprimenro de três retas e diga ao usuário se elas podem ou não formar um triângulo."
   ]
  },
  {
   "cell_type": "code",
   "execution_count": 1,
   "metadata": {},
   "outputs": [
    {
     "name": "stdout",
     "output_type": "stream",
     "text": [
      "Digite o comprimeiro da primeira reta: 3\n",
      "Digite o comprimeiro da segunda reta: 4\n",
      "Digite o comprimeiro da terceira reta: 5\n",
      "Estas retas formam um triângulo.\n"
     ]
    }
   ],
   "source": [
    "a = int(input('Digite o comprimeiro da primeira reta: '))\n",
    "b = int(input('Digite o comprimeiro da segunda reta: '))\n",
    "c = int(input('Digite o comprimeiro da terceira reta: '))\n",
    "\n",
    "if (abs(b-a) < a < b+c) and (abs(a-c) < b < a+c) and (abs(a-b) < c < a+b):\n",
    "    print('Estas retas formam um triângulo.')\n",
    "else:\n",
    "    print('Estas retas não formam um triângulo.')"
   ]
  },
  {
   "cell_type": "markdown",
   "metadata": {},
   "source": [
    "Exercício 4 - Escreva um programa para aprovar um empréstimo bancário para a compra de uma casa. Pergunte o valor da casa, o salário do comprador e em quantos anos ele vai pagar. A prestação mensal não pode exceder 30% do salário ou então o empréstimo será negado."
   ]
  },
  {
   "cell_type": "code",
   "execution_count": 3,
   "metadata": {},
   "outputs": [
    {
     "name": "stdout",
     "output_type": "stream",
     "text": [
      "Digite o valor da casa: R$150000\n",
      "Digite o salário do comprador: R$2500\n",
      "Quantos anos pretende pagar? 5\n",
      "Salário: 2500.00\n",
      "Prestação: 2500.00\n",
      "Empréstimo negado!\n"
     ]
    }
   ],
   "source": [
    "valor = float(input('Digite o valor da casa: R$'))\n",
    "salario = float(input('Digite o salário do comprador: R$'))\n",
    "periodo = int(input('Quantos anos pretende pagar? '))\n",
    "\n",
    "prestacao = valor / (periodo*12)\n",
    "if prestacao >= 0.3*salario:\n",
    "    print('Salário: {:.2f}\\nPrestação: {:.2f}\\nEmpréstimo negado!'.format(salario, prestacao))\n",
    "else:\n",
    "    print('Salário: {:.2f}\\nPrestação: {:.2f}\\nEmpréstimo concedido.'.format(salario, prestacao))"
   ]
  },
  {
   "cell_type": "markdown",
   "metadata": {},
   "source": [
    "Exercício 5 - Escreva um programa que leia um número inteiro qualquer e peça para o usuário escolher qual será a base de conversão: (1) para binário; (2) para octal; (3) para hexadecimal"
   ]
  },
  {
   "cell_type": "code",
   "execution_count": 7,
   "metadata": {},
   "outputs": [
    {
     "name": "stdout",
     "output_type": "stream",
     "text": [
      "Digite um número qualquer: 2\n",
      "Qual q base de conversão? \n",
      " [1] Binário \n",
      " [2] Octal \n",
      " [3] Hexadecimal \n",
      " 3\n",
      "2 em binário é 0x2\n"
     ]
    }
   ],
   "source": [
    "import math\n",
    "num = int(input('Digite um número qualquer: '))\n",
    "base = int(input('Qual q base de conversão? \\n [1] Binário \\n [2] Octal \\n [3] Hexadecimal \\n '))\n",
    "\n",
    "if base == 1:\n",
    "    print('{} em binário é {}'.format(num, bin(num)))\n",
    "elif base == 2:\n",
    "    print('{} em binário é {}'.format(num, oct(num)))\n",
    "elif base == 3:\n",
    "    print('{} em binário é {}'.format(num, hex(num)))\n",
    "else:\n",
    "    print('Entrada inválida.')"
   ]
  },
  {
   "cell_type": "markdown",
   "metadata": {},
   "source": [
    "Exercício 6 - Escreva um programa que leia dois números inteiros e compare-os, mostrando na tela a seguinte mensagem: \"o primeiro valor é maior\" ou \"o segundo valor é maior\" ou \"Os dois valores são iguais.\""
   ]
  },
  {
   "cell_type": "code",
   "execution_count": 6,
   "metadata": {},
   "outputs": [
    {
     "name": "stdout",
     "output_type": "stream",
     "text": [
      "Digite um número qualquer: 3\n",
      "Digite um outro número qualquer: 3\n",
      "Os dois valores são iguais.\n"
     ]
    }
   ],
   "source": [
    "num1 = int(input('Digite um número qualquer: '))\n",
    "num2 = int(input('Digite um outro número qualquer: '))\n",
    "if num1>num2:\n",
    "    print('O primeiro valor é maior.')\n",
    "elif num2>num1:\n",
    "    print('O segundo valor é maior')\n",
    "else:\n",
    "    print('Os dois valores são iguais.')"
   ]
  },
  {
   "cell_type": "markdown",
   "metadata": {},
   "source": [
    "Exercício 7 - Faça um programa que leia o ano de nascimento de um jovem e informe de acordo com sua idade se ele ainda vai se alistar para o serviço militar, se é hora de se alistar ou se já passou do alistamento. Seu programa também deverá mostrar o tempo que falta ou que passou do prazo."
   ]
  },
  {
   "cell_type": "code",
   "execution_count": 1,
   "metadata": {},
   "outputs": [
    {
     "name": "stdout",
     "output_type": "stream",
     "text": [
      "Digite seu ano de nascimento: 2015\n",
      "Ainda não é hora de se alistar! Faltam 13 anos.\n"
     ]
    }
   ],
   "source": [
    "import datetime\n",
    "ano = int(input('Digite seu ano de nascimento: '))\n",
    "if datetime.datetime.now().year-ano == 18:\n",
    "    print('Já é hora de se alistar.')\n",
    "elif datetime.datetime.now().year-ano < 18:\n",
    "    print('Ainda não é hora de se alistar! Faltam {} anos.'.format(18-(datetime.datetime.now().year-ano)))\n",
    "else:\n",
    "    print('Já passou da hora de se alistar! Você está atrasado em {} anos.'.format(abs(ano-datetime.datetime.now().year)-18))"
   ]
  },
  {
   "cell_type": "markdown",
   "metadata": {},
   "source": [
    "Exercício 8 - Crie um programa que leia duas notas de um aluno e calcule sua média mostrando um mensagem ao final de acordo com a média atingida: (Reprovado) Média abaixo de 5; (Recuperação) Média entre 5 e 6.9; (Aprovado) Média 7 ou superior."
   ]
  },
  {
   "cell_type": "code",
   "execution_count": 6,
   "metadata": {},
   "outputs": [
    {
     "name": "stdout",
     "output_type": "stream",
     "text": [
      "Digite a primeira nota: 7\n",
      "Digite a segunda nota: 7\n",
      "Tá aprovado! Média 7.0\n"
     ]
    }
   ],
   "source": [
    "nota1 = float(input('Digite a primeira nota: '))\n",
    "nota2 = float(input('Digite a segunda nota: '))\n",
    "\n",
    "media = (nota1 + nota2)/2\n",
    "if media < 5:\n",
    "    print('Tá reprovado! Média {:.1f}'.format(media))\n",
    "elif media < 6.9:\n",
    "    print('Tá de recuperação! Média {:.1f}'.format(media))\n",
    "else:\n",
    "    print('Tá aprovado! Média {:.1f}'.format(media))"
   ]
  },
  {
   "cell_type": "markdown",
   "metadata": {},
   "source": [
    "Exercício 9 - A Confederação nacional de Natação precisa de um programa que leia o ano de nascimento de um atleta, e mostre sua categoria de acordo com a idade: (Mirim) Até 9 anos; (Infantil) Até 14 anos; (Junior) Até 19 anos; (Senior) Até 25 anos; (Master) Acima."
   ]
  },
  {
   "cell_type": "code",
   "execution_count": 15,
   "metadata": {},
   "outputs": [
    {
     "name": "stdout",
     "output_type": "stream",
     "text": [
      "Digite o ano de nascimento do atleta: 2001\n",
      "Idade: 19\n",
      "Categoria Junior\n"
     ]
    }
   ],
   "source": [
    "import datetime\n",
    "\n",
    "ano = int(input('Digite o ano de nascimento do atleta: '))\n",
    "idade = datetime.datetime.now().year - ano\n",
    "print(f'Idade: {idade}')\n",
    "if idade <= 9:\n",
    "    print('Categoria Mirim')\n",
    "elif idade <= 14:\n",
    "    print('Categoria Infantil')\n",
    "elif idade <= 19:\n",
    "    print('Categoria Junior')\n",
    "elif idade <= 25:\n",
    "    print('Categoria Senior')\n",
    "else:\n",
    "    print('Categoria Master')"
   ]
  },
  {
   "cell_type": "markdown",
   "metadata": {},
   "source": [
    "Exercício 10 - Refaça o desafio 035 dos triângulos, acrescentando o recurso de mostrar o tipo de triângulo que será formado: (Equilátero) todos os lados iguais; (Isóceles) Dois lados iguais; (Escaleno) Todos os lados diferentes."
   ]
  },
  {
   "cell_type": "code",
   "execution_count": 19,
   "metadata": {},
   "outputs": [
    {
     "name": "stdout",
     "output_type": "stream",
     "text": [
      "Digite o comprimeiro da primeira reta: 3\n",
      "Digite o comprimeiro da segunda reta: 5\n",
      "Digite o comprimeiro da terceira reta: 3\n",
      "Estas retas formam um triângulo.\n",
      "Triângulo Escaleno.\n"
     ]
    }
   ],
   "source": [
    "a = int(input('Digite o comprimeiro da primeira reta: '))\n",
    "b = int(input('Digite o comprimeiro da segunda reta: '))\n",
    "c = int(input('Digite o comprimeiro da terceira reta: '))\n",
    "\n",
    "\n",
    "if (abs(b-a) < a < b+c) and (abs(a-c) < b < a+c) and (abs(a-b) < c < a+b):\n",
    "    print('Estas retas formam um triângulo.')\n",
    "    if a == b and b == c:\n",
    "        print('Triângulo Equilátero.')\n",
    "    elif (a == b and b != c) or (a != b and b == c) or (c == b and a != c):\n",
    "        print('Triângulo Isóceles.')\n",
    "    else:\n",
    "        print('Triângulo Escaleno.')\n",
    "else:\n",
    "    print('Estas retas não formam um triângulo.')"
   ]
  },
  {
   "cell_type": "code",
   "execution_count": null,
   "metadata": {},
   "outputs": [],
   "source": []
  }
 ],
 "metadata": {
  "kernelspec": {
   "display_name": "Python 3",
   "language": "python",
   "name": "python3"
  },
  "language_info": {
   "codemirror_mode": {
    "name": "ipython",
    "version": 3
   },
   "file_extension": ".py",
   "mimetype": "text/x-python",
   "name": "python",
   "nbconvert_exporter": "python",
   "pygments_lexer": "ipython3",
   "version": "3.6.5"
  }
 },
 "nbformat": 4,
 "nbformat_minor": 2
}
