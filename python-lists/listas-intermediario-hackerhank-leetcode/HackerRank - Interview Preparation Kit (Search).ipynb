{
 "cells": [
  {
   "cell_type": "markdown",
   "metadata": {},
   "source": [
    "<h3>Swap Nodes [Algo]</h3>"
   ]
  },
  {
   "cell_type": "markdown",
   "metadata": {},
   "source": [
    "<i>\n",
    "A binary tree is a tree which is characterized by one of the following properties:\n",
    "\n",
    "* It can be empty (null).\n",
    "* It contains a root node only.\n",
    "* It contains a root node with a left subtree, a right subtree, or both. These subtrees are also binary trees.\n",
    "\n",
    "In-order traversal is performed as\n",
    "\n",
    "<ol>\n",
    "<li>Traverse the left subtree.</li>\n",
    "<li>Visit root.</li>\n",
    "<li>Traverse the right subtree.</li>\n",
    "</ol>\n",
    "For this in-order traversal, start from the left child of the root node and keep exploring the left subtree until you reach a leaf. When you reach a leaf, back up to its parent, check for a right child and visit it if there is one. If there is not a child, you've explored its left and right subtrees fully. If there is a right child, traverse its left subtree then its right in the same manner. Keep doing this until you have traversed the entire tree. You will only store the values of a node as you visit when one of the following is true:\n",
    "\n",
    "* it is the first node visited, the first time visited\n",
    "* it is a leaf, should only be visited once\n",
    "* all of its subtrees have been explored, should only be visited once while this is true\n",
    "* it is the root of the tree, the first time visited\n",
    "\n",
    "<b>Swapping:</b> Swapping subtrees of a node means that if initially node has left subtree L and right subtree R, then after swapping, the left subtree will be R and the right subtree, L.\n",
    "\n",
    "For example, in the following tree, we swap children of node 1.\n",
    "</i>"
   ]
  },
  {
   "cell_type": "code",
   "execution_count": 1,
   "metadata": {},
   "outputs": [
    {
     "data": {
      "text/plain": [
       "'\\n                                Depth\\n    1               1            [1]\\n   / \\\\             /   2   3     ->    3   2          [2]\\n   \\\\   \\\\           \\\\       4   5           5   4        [3]\\n'"
      ]
     },
     "execution_count": 1,
     "metadata": {},
     "output_type": "execute_result"
    }
   ],
   "source": [
    "'''\n",
    "                                Depth\n",
    "    1               1            [1]\n",
    "   / \\             / \\\n",
    "  2   3     ->    3   2          [2]\n",
    "   \\   \\           \\   \\\n",
    "    4   5           5   4        [3]\n",
    "'''"
   ]
  },
  {
   "cell_type": "markdown",
   "metadata": {},
   "source": [
    "<i>In-order traversal of left tree is 2 4 1 3 5 and of right tree is 3 5 1 2 4.</i>"
   ]
  },
  {
   "cell_type": "markdown",
   "metadata": {},
   "source": [
    "<b>Swap operation:</b>"
   ]
  },
  {
   "cell_type": "markdown",
   "metadata": {},
   "source": [
    "<i>\n",
    "We define depth of a node as follows:\n",
    "\n",
    "* The root node is at depth $1$.\n",
    "* If the depth of the parent node is $d$, then the depth of current node will be $d+1$.\n",
    "Given a tree and an integer, $k$, in one operation, we need to swap the subtrees of all the nodes at each depth $h$, where $h \\in [k, 2k, 3k,...]$. In other words, if h is a multiple of k, swap the left and right subtrees of that level.\n",
    "\n",
    "You are given a tree of n nodes where nodes are indexed from $[1..n]$ and it is rooted at $1$. You have to perform t swap operations on it, and after each swap operation print the in-order traversal of the current state of the tree.\n",
    "</i>"
   ]
  },
  {
   "cell_type": "markdown",
   "metadata": {},
   "source": [
    "<b>Function Description</b>"
   ]
  },
  {
   "cell_type": "markdown",
   "metadata": {},
   "source": [
    "<i>\n",
    "Complete the swapNodes function in the editor below. It should return a two-dimensional array where each element is an array of integers representing the node indices of an in-order traversal after a swap operation.\n",
    "\n",
    "swapNodes has the following parameter(s):\n",
    "- indexes: an array of integers representing index values of each $node[i]$, beginning with $node[1]$, the first element, as the root.\n",
    "- queries: an array of integers, each representing a $k$ value.\n",
    "</i>"
   ]
  },
  {
   "cell_type": "markdown",
   "metadata": {},
   "source": [
    "<b>Input Format</b>"
   ]
  },
  {
   "cell_type": "markdown",
   "metadata": {},
   "source": [
    "<i>\n",
    "The first line contains n, number of nodes in the tree.\n",
    "\n",
    "Each of the next n lines contains two integers, a b, where a is the index of left child, and b is the index of right child of ith node.\n",
    "\n",
    "<b>Note:</b> $-1$ is used to represent a null node.\n",
    "\n",
    "The next line contains an integer, t, the size of $queries$.\n",
    "Each of the next t lines contains an integer $queries[i]$, each being a value $k$.\n",
    "</i>"
   ]
  },
  {
   "cell_type": "markdown",
   "metadata": {},
   "source": [
    "<b>Output Format</b>"
   ]
  },
  {
   "cell_type": "markdown",
   "metadata": {},
   "source": [
    "<i>For each k, perform the swap operation and store the indices of your in-order traversal to your result array. After all swap operations have been performed, return your result array for printing.</i>"
   ]
  },
  {
   "cell_type": "markdown",
   "metadata": {},
   "source": [
    "<b>Constraints</b>"
   ]
  },
  {
   "cell_type": "markdown",
   "metadata": {},
   "source": [
    "* $1 \\leq n \\leq 1024$\n",
    "* $1 \\leq t \\leq 100$\n",
    "* $1 \\leq k \\leq n$\n",
    "* Either $a=-1$ or $2 <= a <= n$\n",
    "* Either $b=-1$ or $2 <= b <= n$\n",
    "* The index of a non-null child will always be greater than that of its parent."
   ]
  },
  {
   "cell_type": "markdown",
   "metadata": {},
   "source": [
    "<b>Sample Input 0</b>"
   ]
  },
  {
   "cell_type": "code",
   "execution_count": 2,
   "metadata": {},
   "outputs": [
    {
     "data": {
      "text/plain": [
       "'\\n3\\n2 3\\n-1 -1\\n-1 -1\\n2\\n1\\n1\\n'"
      ]
     },
     "execution_count": 2,
     "metadata": {},
     "output_type": "execute_result"
    }
   ],
   "source": [
    "'''\n",
    "3\n",
    "2 3\n",
    "-1 -1\n",
    "-1 -1\n",
    "2\n",
    "1\n",
    "1\n",
    "'''"
   ]
  },
  {
   "cell_type": "markdown",
   "metadata": {},
   "source": [
    "<b>Sample Output 0</b>"
   ]
  },
  {
   "cell_type": "code",
   "execution_count": 10,
   "metadata": {},
   "outputs": [
    {
     "data": {
      "text/plain": [
       "'\\n3 1 2\\n2 1 3\\n'"
      ]
     },
     "execution_count": 10,
     "metadata": {},
     "output_type": "execute_result"
    }
   ],
   "source": [
    "'''\n",
    "3 1 2\n",
    "2 1 3\n",
    "'''"
   ]
  },
  {
   "cell_type": "markdown",
   "metadata": {},
   "source": [
    "<b>Explanation 0</b>"
   ]
  },
  {
   "cell_type": "markdown",
   "metadata": {},
   "source": [
    "<i>As nodes 2 and 3 have no children, swapping will not have any effect on them. We only have to swap the child nodes of the root node.</i>"
   ]
  },
  {
   "cell_type": "code",
   "execution_count": 12,
   "metadata": {},
   "outputs": [
    {
     "data": {
      "text/plain": [
       "'\\n    1   [s]       1    [s]       1   \\n   / \\\\      ->   / \\\\        ->  / \\\\  \\n  2   3 [s]     3   2  [s]     2   3\\n'"
      ]
     },
     "execution_count": 12,
     "metadata": {},
     "output_type": "execute_result"
    }
   ],
   "source": [
    "'''\n",
    "    1   [s]       1    [s]       1   \n",
    "   / \\      ->   / \\        ->  / \\  \n",
    "  2   3 [s]     3   2  [s]     2   3\n",
    "'''"
   ]
  },
  {
   "cell_type": "markdown",
   "metadata": {},
   "source": [
    "<i><b>Note:</b> [s] indicates that a swap operation is done at this depth.</i>"
   ]
  },
  {
   "cell_type": "markdown",
   "metadata": {},
   "source": [
    "<b>Sample Input 1</b>"
   ]
  },
  {
   "cell_type": "code",
   "execution_count": 13,
   "metadata": {},
   "outputs": [
    {
     "data": {
      "text/plain": [
       "'\\n5\\n2 3\\n-1 4\\n-1 5\\n-1 -1\\n-1 -1\\n1\\n2\\n'"
      ]
     },
     "execution_count": 13,
     "metadata": {},
     "output_type": "execute_result"
    }
   ],
   "source": [
    "'''\n",
    "5\n",
    "2 3\n",
    "-1 4\n",
    "-1 5\n",
    "-1 -1\n",
    "-1 -1\n",
    "1\n",
    "2\n",
    "'''"
   ]
  },
  {
   "cell_type": "markdown",
   "metadata": {},
   "source": [
    "<b>Sample Output 1</b>"
   ]
  },
  {
   "cell_type": "code",
   "execution_count": 15,
   "metadata": {},
   "outputs": [
    {
     "data": {
      "text/plain": [
       "'\\n4 2 1 5 3\\n'"
      ]
     },
     "execution_count": 15,
     "metadata": {},
     "output_type": "execute_result"
    }
   ],
   "source": [
    "'''\n",
    "4 2 1 5 3\n",
    "'''"
   ]
  },
  {
   "cell_type": "markdown",
   "metadata": {},
   "source": [
    "<b>Explanation 1</b>"
   ]
  },
  {
   "cell_type": "markdown",
   "metadata": {},
   "source": [
    "<i>Swapping child nodes of node 2 and 3 we get</i>"
   ]
  },
  {
   "cell_type": "code",
   "execution_count": 17,
   "metadata": {},
   "outputs": [
    {
     "data": {
      "text/plain": [
       "'\\n    1                  1  \\n   / \\\\                / \\\\ \\n  2   3   [s]  ->    2   3\\n   \\\\   \\\\            /   / \\n    4   5          4   5  \\n'"
      ]
     },
     "execution_count": 17,
     "metadata": {},
     "output_type": "execute_result"
    }
   ],
   "source": [
    "'''\n",
    "    1                  1  \n",
    "   / \\                / \\ \n",
    "  2   3   [s]  ->    2   3\n",
    "   \\   \\            /   / \n",
    "    4   5          4   5  \n",
    "'''"
   ]
  },
  {
   "cell_type": "markdown",
   "metadata": {},
   "source": [
    "<b>Sample Input 2</b>"
   ]
  },
  {
   "cell_type": "code",
   "execution_count": 18,
   "metadata": {},
   "outputs": [
    {
     "data": {
      "text/plain": [
       "'\\n11\\n2 3\\n4 -1\\n5 -1\\n6 -1\\n7 8\\n-1 9\\n-1 -1\\n10 11\\n-1 -1\\n-1 -1\\n-1 -1\\n2\\n2\\n4\\n'"
      ]
     },
     "execution_count": 18,
     "metadata": {},
     "output_type": "execute_result"
    }
   ],
   "source": [
    "'''\n",
    "11\n",
    "2 3\n",
    "4 -1\n",
    "5 -1\n",
    "6 -1\n",
    "7 8\n",
    "-1 9\n",
    "-1 -1\n",
    "10 11\n",
    "-1 -1\n",
    "-1 -1\n",
    "-1 -1\n",
    "2\n",
    "2\n",
    "4\n",
    "'''"
   ]
  },
  {
   "cell_type": "markdown",
   "metadata": {},
   "source": [
    "<b>Sample Output 2</b>"
   ]
  },
  {
   "cell_type": "code",
   "execution_count": 19,
   "metadata": {},
   "outputs": [
    {
     "data": {
      "text/plain": [
       "'\\n2 9 6 4 1 3 7 5 11 8 10\\n2 6 9 4 1 3 7 5 10 8 11\\n'"
      ]
     },
     "execution_count": 19,
     "metadata": {},
     "output_type": "execute_result"
    }
   ],
   "source": [
    "'''\n",
    "2 9 6 4 1 3 7 5 11 8 10\n",
    "2 6 9 4 1 3 7 5 10 8 11\n",
    "'''"
   ]
  },
  {
   "cell_type": "markdown",
   "metadata": {},
   "source": [
    "<b>Explanation 2</b>"
   ]
  },
  {
   "cell_type": "markdown",
   "metadata": {},
   "source": [
    "<i>Here we perform swap operations at the nodes whose depth is either 2 or 4 for $K=2$ and then at nodes whose depth is 4 for $K=4$.</i>"
   ]
  },
  {
   "cell_type": "code",
   "execution_count": 20,
   "metadata": {},
   "outputs": [
    {
     "data": {
      "text/plain": [
       "'\\n         1                     1                          1             \\n        / \\\\                   / \\\\                        / \\\\            \\n       /   \\\\                 /   \\\\                      /   \\\\           \\n      2     3    [s]        2     3                    2     3          \\n     /      /                \\\\     \\\\                    \\\\     \\\\         \\n    /      /                  \\\\     \\\\                    \\\\     \\\\        \\n   4      5          ->        4     5          ->        4     5       \\n  /      / \\\\                  /     / \\\\                  /     / \\\\      \\n /      /   \\\\                /     /   \\\\                /     /   \\\\     \\n6      7     8   [s]        6     7     8   [s]        6     7     8\\n \\\\          / \\\\            /           / \\\\              \\\\         / \\\\   \\n  \\\\        /   \\\\          /           /   \\\\              \\\\       /   \\\\  \\n   9      10   11        9           11   10              9     10   11 \\n'"
      ]
     },
     "execution_count": 20,
     "metadata": {},
     "output_type": "execute_result"
    }
   ],
   "source": [
    "'''\n",
    "         1                     1                          1             \n",
    "        / \\                   / \\                        / \\            \n",
    "       /   \\                 /   \\                      /   \\           \n",
    "      2     3    [s]        2     3                    2     3          \n",
    "     /      /                \\     \\                    \\     \\         \n",
    "    /      /                  \\     \\                    \\     \\        \n",
    "   4      5          ->        4     5          ->        4     5       \n",
    "  /      / \\                  /     / \\                  /     / \\      \n",
    " /      /   \\                /     /   \\                /     /   \\     \n",
    "6      7     8   [s]        6     7     8   [s]        6     7     8\n",
    " \\          / \\            /           / \\              \\         / \\   \n",
    "  \\        /   \\          /           /   \\              \\       /   \\  \n",
    "   9      10   11        9           11   10              9     10   11 \n",
    "'''"
   ]
  },
  {
   "cell_type": "code",
   "execution_count": null,
   "metadata": {},
   "outputs": [],
   "source": [
    "#!/bin/python3\n",
    "\n",
    "import os\n",
    "import sys\n",
    "\n",
    "#\n",
    "# Complete the swapNodes function below.\n",
    "#\n",
    "def swapNodes(indexes, queries):\n",
    "    #\n",
    "    # Write your code here.\n",
    "    #\n",
    "\n",
    "if __name__ == '__main__':\n",
    "    fptr = open(os.environ['OUTPUT_PATH'], 'w')\n",
    "\n",
    "    n = int(input())\n",
    "\n",
    "    indexes = []\n",
    "\n",
    "    for _ in range(n):\n",
    "        indexes.append(list(map(int, input().rstrip().split())))\n",
    "\n",
    "    queries_count = int(input())\n",
    "\n",
    "    queries = []\n",
    "\n",
    "    for _ in range(queries_count):\n",
    "        queries_item = int(input())\n",
    "        queries.append(queries_item)\n",
    "\n",
    "    result = swapNodes(indexes, queries)\n",
    "\n",
    "    fptr.write('\\n'.join([' '.join(map(str, x)) for x in result]))\n",
    "    fptr.write('\\n')\n",
    "\n",
    "    fptr.close()"
   ]
  }
 ],
 "metadata": {
  "kernelspec": {
   "display_name": "Python 3",
   "language": "python",
   "name": "python3"
  },
  "language_info": {
   "codemirror_mode": {
    "name": "ipython",
    "version": 3
   },
   "file_extension": ".py",
   "mimetype": "text/x-python",
   "name": "python",
   "nbconvert_exporter": "python",
   "pygments_lexer": "ipython3",
   "version": "3.7.4"
  }
 },
 "nbformat": 4,
 "nbformat_minor": 2
}
