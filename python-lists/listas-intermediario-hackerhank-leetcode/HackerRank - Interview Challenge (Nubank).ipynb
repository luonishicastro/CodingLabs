{
 "cells": [
  {
   "cell_type": "markdown",
   "metadata": {},
   "source": [
    "<h3>Complementing a DNA String</h3>"
   ]
  },
  {
   "cell_type": "markdown",
   "metadata": {},
   "source": [
    "<i>A DNA string is made up of four symbols: A, T, C and G. Each symbol has a complement:\n",
    "* A and T complement each other.\n",
    "* C and G complement each other.\n",
    "Determine the reverse complement of a DNA string by reversing the symbols in the string and replacing each symbol in the reversed string by its complement.\n",
    "    \n",
    "<b>Example</b>\n",
    "<br>\n",
    "$s = GTCAG$\n",
    "\n",
    "* Reverse the string GTCAG -> GACTG\n",
    "* Replace each symbol by its complement GACTG -> CTGAC.\n",
    "* The reverse complement of DNA string is CTGAC.\n",
    "\n",
    "<b>Function Description</b>\n",
    "<br>\n",
    "Complete the function dnaComplement in the editor below.\n",
    "\n",
    "dnaComplement has the following parameter(s): string s (a string of DNA symbols);\n",
    "<br>\n",
    "Returns: string (a string denoting the reverse complement of s);\n",
    "\n",
    "<b>Constraints</b>\n",
    "* $1 \\leq length of s \\leq 1000$\n",
    "* Each character $s[i]$ is in the set $[A, T, C, G]$\n",
    "\n",
    "<b>Input Format for Custom Testing</b>\n",
    "<br>\n",
    "Input from sdin will be processed as follows and passed to the function.\n",
    "<br>\n",
    "The line contains a string s.\n",
    "\n",
    "<b>Sample Case 0</b>\n",
    "<br>\n",
    "Sample Input 0:\n",
    "</i>"
   ]
  },
  {
   "cell_type": "code",
   "execution_count": 1,
   "metadata": {},
   "outputs": [
    {
     "data": {
      "text/plain": [
       "'\\nSTDIN               Function\\n-----               --------\\nACCGGGTTTT          string s = \"ACCGGGTTTT\"\\n'"
      ]
     },
     "execution_count": 1,
     "metadata": {},
     "output_type": "execute_result"
    }
   ],
   "source": [
    "'''\n",
    "STDIN               Function\n",
    "-----               --------\n",
    "ACCGGGTTTT          string s = \"ACCGGGTTTT\"\n",
    "'''"
   ]
  },
  {
   "cell_type": "markdown",
   "metadata": {},
   "source": [
    "<i>\n",
    "\n",
    "<b>Sample Output 0</b>\n",
    "<br>\n",
    "AAAACCCGGT\n",
    "<br>\n",
    "<br>\n",
    "<b>Explanation 0</b>\n",
    "* Reverse the string the string ACCGGGTTTT -> TTTTGGGCCA\n",
    "* Replace each symbol by its complement TTTTGGGCCA -> AAAACCCGGT\n",
    "* The reverse complement of DNA string is $s_c=AAAACCCGGT$\n",
    "\n",
    "<b>Sample Case 1</b>\n",
    "<br>\n",
    "Sample Input 1:\n",
    "</i>"
   ]
  },
  {
   "cell_type": "code",
   "execution_count": 2,
   "metadata": {},
   "outputs": [
    {
     "data": {
      "text/plain": [
       "'\\nSTDIN               Function Parameters\\n-----               --------\\nATGC                string s = \"ATGC\"\\n'"
      ]
     },
     "execution_count": 2,
     "metadata": {},
     "output_type": "execute_result"
    }
   ],
   "source": [
    "'''\n",
    "STDIN               Function Parameters\n",
    "-----               --------\n",
    "ATGC                string s = \"ATGC\"\n",
    "'''"
   ]
  },
  {
   "cell_type": "markdown",
   "metadata": {},
   "source": [
    "<i>\n",
    "Sample Output 1<br>\n",
    "GCAT\n",
    "\n",
    "<br>\n",
    "<b>Explanation 1</b>\n",
    "* Reverse the string ATGC -> CGTA\n",
    "* Replace each symbol by its complement CGTA -> GCAT\n",
    "* The reverse complement of DNA string $s_c=GCAT$\n",
    "\n",
    "<b>Sample Case 2</b>\n",
    "<br>\n",
    "Sample Input 2:\n",
    "</i>"
   ]
  },
  {
   "cell_type": "code",
   "execution_count": 3,
   "metadata": {},
   "outputs": [
    {
     "data": {
      "text/plain": [
       "'\\nSTDIN               Function Parameters\\n-----               --------\\nATCGTA              string s = \"ATCGTA\"\\n'"
      ]
     },
     "execution_count": 3,
     "metadata": {},
     "output_type": "execute_result"
    }
   ],
   "source": [
    "'''\n",
    "STDIN               Function Parameters\n",
    "-----               --------\n",
    "ATCGTA              string s = \"ATCGTA\"\n",
    "'''"
   ]
  },
  {
   "cell_type": "markdown",
   "metadata": {},
   "source": [
    "<i>\n",
    "Sample Output 2<br>\n",
    "TACGAT\n",
    "<br>\n",
    "<br>\n",
    "<b>Exaplanation 2</b>\n",
    "* Reverse the string ATCGTA -> ATGCTA\n",
    "* Replace each symbol by its complement ATGCTA -> TACGAT\n",
    "* The reverse complement of DNA string is $s_c=TACGAT$\n",
    "\n",
    "</i>"
   ]
  },
  {
   "cell_type": "code",
   "execution_count": 1,
   "metadata": {},
   "outputs": [
    {
     "data": {
      "text/plain": [
       "'ACCGGGTTTT'"
      ]
     },
     "execution_count": 1,
     "metadata": {},
     "output_type": "execute_result"
    }
   ],
   "source": [
    "def reverse_complement(dna_string):\n",
    "    reversed_string = ''\n",
    "    for i in range(len(dna_string)-1, -1, -1):\n",
    "        reversed_string = reversed_string + dna_string[i]\n",
    "    \n",
    "    reversed_compl_string = ''\n",
    "    for symbol in reversed_string:\n",
    "        if symbol == 'A':\n",
    "            reversed_compl_string = reversed_compl_string + 'T'\n",
    "        if symbol == 'T':\n",
    "            reversed_compl_string = reversed_compl_string + 'A'\n",
    "        if symbol == 'G':\n",
    "            reversed_compl_string = reversed_compl_string + 'C'\n",
    "        if symbol == 'C':\n",
    "            reversed_compl_string = reversed_compl_string + 'G'\n",
    "    \n",
    "    return reversed_compl_string\n",
    "\n",
    "reverse_complement('AAAACCCGGT')"
   ]
  },
  {
   "cell_type": "code",
   "execution_count": null,
   "metadata": {},
   "outputs": [],
   "source": [
    "'''\n",
    "    String: GTCAG\n",
    "    Reversed String: GACTG\n",
    "    Complemented Reversed String: CTAGAC\n",
    "'''"
   ]
  },
  {
   "cell_type": "markdown",
   "metadata": {},
   "source": [
    "<h3>Compliance Priorities</h3>"
   ]
  },
  {
   "cell_type": "markdown",
   "metadata": {},
   "source": [
    "<i>\n",
    "A system used by a compliance department contains a queue of all current compliance issues along with their priorities. The priorities range from 1 to 99. Create an algorithm that will reassign priorities so that the value of the maximum priority assigned is minimized, keeping the relative priorities between all issues the same.\n",
    "    <br>\n",
    "    <br>\n",
    "<b>Example</b>\n",
    "    <br>\n",
    "$priorities = [1, 4, 8, 4]$\n",
    "    <br>\n",
    "    <br>\n",
    "There are three priority levels: 1, 4 and 8. The array elements are reassigned to priorities $[1, 2, 3, 2]$. Their relative priorities are maintained while the value of the maximum priority is minimized.\n",
    "    <br>\n",
    "    <br>\n",
    "Given the priorities of the issues, return a list that contains the reassigned priority values without reordering.\n",
    "    <br>\n",
    "<b>Function Description</b>\n",
    "Complete the reassignedPriorities function in the editor below. It must return an integer array that represents the reassigned priorities of each element in the original order.\n",
    "    <br>\n",
    "    <br>\n",
    "reassignedPriorities has the following parameter(s):\n",
    "    int priorities[n]: an array of integers that represents current priorities\n",
    "    <br>\n",
    "    <br>\n",
    "<b>Constraints</b>\n",
    "* $1 \\leq n \\leq 10^5$\n",
    "* $1 \\leq priorities[i] \\leq 99$\n",
    "</i>"
   ]
  },
  {
   "cell_type": "markdown",
   "metadata": {},
   "source": [
    "<i>\n",
    "<b>Input Format For Custom Testing</b>\n",
    "    <br>\n",
    "The first line contains an integer, n, that denotes the size of priorities.\n",
    "    <br>\n",
    "Each line i of the subsequent lines (where $0 \\leq i \\leq n$) cotains priorities[i].\n",
    "    <br>\n",
    "    <br>\n",
    "<b>Sample Case 0</b>\n",
    "    <br>\n",
    "Sample Input For Custom Testing:\n",
    "</i>"
   ]
  },
  {
   "cell_type": "code",
   "execution_count": null,
   "metadata": {},
   "outputs": [],
   "source": [
    "'''\n",
    "STDIN               Function\n",
    "-----               --------\n",
    "4          ->       priorities[] size n = 4\n",
    "1          ->       priorities = [1, 3, 7, 3]\n",
    "3\n",
    "7\n",
    "3\n",
    "'''"
   ]
  },
  {
   "cell_type": "markdown",
   "metadata": {},
   "source": [
    "<i>\n",
    "Sample Output:\n",
    "    <br>\n",
    "1\n",
    "    <br>\n",
    "2\n",
    "    <br>\n",
    "3\n",
    "    <br>\n",
    "2\n",
    "    <br>\n",
    "    <br>\n",
    "<b>Explanation</b>\n",
    "    <br>\n",
    "There are three levels: 1, 3, 7. They can be reassigned priorities of 1, 2 and 3 respectively. Replacing the values in priorities returns [1, 2, 3, 2].\n",
    "    <br>\n",
    "    <br>\n",
    "<b>Sample Case 1</b>\n",
    "    <br>\n",
    "Sample Input For Custom Testing:\n",
    "</i>"
   ]
  },
  {
   "cell_type": "code",
   "execution_count": null,
   "metadata": {},
   "outputs": [],
   "source": [
    "'''\n",
    "STDIN               Function\n",
    "-----               --------\n",
    "5          ->       priorities[] size n = 5\n",
    "2          ->       priorities = [2, 9, 3, 2, 3]\n",
    "9\n",
    "3\n",
    "2\n",
    "3\n",
    "'''"
   ]
  },
  {
   "cell_type": "markdown",
   "metadata": {},
   "source": [
    "<i>\n",
    "Sample Output:\n",
    "    <br>\n",
    "1\n",
    "    <br>\n",
    "3\n",
    "    <br>\n",
    "2\n",
    "    <br>\n",
    "1\n",
    "    <br>\n",
    "2\n",
    "    <br>\n",
    "    <br>\n",
    "<b>Explanation</b>\n",
    "    <br>\n",
    "There are three priority levels: 2, 3, 9. These can be reassigned priorities of 1, 2 and 3 respectively. Replacing the values in priorities returns [1, 3, 2, 1, 3].\n",
    "</i>"
   ]
  },
  {
   "cell_type": "code",
   "execution_count": 4,
   "metadata": {},
   "outputs": [
    {
     "data": {
      "text/plain": [
       "[1, 3, 2, 1, 2]"
      ]
     },
     "execution_count": 4,
     "metadata": {},
     "output_type": "execute_result"
    }
   ],
   "source": [
    "def complience_priorities(compliance_issues):\n",
    "    reassigned_priorities = list(set(compliance_issues))\n",
    "    reassigned_priorities_source = reassigned_priorities\n",
    "    reassigned_priorities.sort()\n",
    "    \n",
    "    reassigned_priorities_result = []\n",
    "    reassigned_output = []\n",
    "    \n",
    "    if min(reassigned_priorities) == 1:        \n",
    "        for i in range(1, len(reassigned_priorities)+1):\n",
    "            reassigned_priorities_result.append(i)\n",
    "            \n",
    "        for priorities in compliance_issues:\n",
    "            reassigned_output.append(reassigned_priorities_result[reassigned_priorities_source.index(priorities)])\n",
    "        \n",
    "    else:        \n",
    "        min_value_list = min(compliance_issues)\n",
    "        for n in range(len(compliance_issues)):\n",
    "            if compliance_issues[n] == min_value_list:\n",
    "                compliance_issues[n] = 1\n",
    "                \n",
    "        reassigned_priorities = list(set(compliance_issues))\n",
    "        reassigned_priorities_source = reassigned_priorities\n",
    "        reassigned_priorities.sort()\n",
    "                \n",
    "        for i in range(1, len(reassigned_priorities)+1):\n",
    "            reassigned_priorities_result.append(i)\n",
    "            \n",
    "        for priorities in compliance_issues:\n",
    "            reassigned_output.append(reassigned_priorities_result[reassigned_priorities_source.index(priorities)])\n",
    "    \n",
    "    return reassigned_output\n",
    "\n",
    "complience_priorities([2, 9, 3, 2 ,3])"
   ]
  },
  {
   "cell_type": "code",
   "execution_count": null,
   "metadata": {},
   "outputs": [],
   "source": [
    "'''\n",
    "    priorities: 1, 4, 8, 4\n",
    "    Priorities Levels: 1, 4, 8\n",
    "    \n",
    "    Reassigned: 1, 2, 3, 2\n",
    "'''"
   ]
  }
 ],
 "metadata": {
  "kernelspec": {
   "display_name": "Python 3",
   "language": "python",
   "name": "python3"
  },
  "language_info": {
   "codemirror_mode": {
    "name": "ipython",
    "version": 3
   },
   "file_extension": ".py",
   "mimetype": "text/x-python",
   "name": "python",
   "nbconvert_exporter": "python",
   "pygments_lexer": "ipython3",
   "version": "3.6.5"
  }
 },
 "nbformat": 4,
 "nbformat_minor": 2
}
