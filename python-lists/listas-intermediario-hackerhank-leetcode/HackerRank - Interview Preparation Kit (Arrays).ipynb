{
 "cells": [
  {
   "cell_type": "markdown",
   "metadata": {},
   "source": [
    "<h3>Left Rotation</h3>"
   ]
  },
  {
   "cell_type": "markdown",
   "metadata": {},
   "source": [
    "<i>A left rotation operation on an array shifts each of the array's elements  unit to the left. For example, if  left rotations are performed on array $[1, 2, 3, 5]$, then the array would become $[3, 4, 5, 1, 2]$.\n",
    "\n",
    "Given an array $a$ of $n$ integers and a number, $d$, perform $d$ left rotations on the array. Return the updated array to be printed as a single line of space-separated integers.</i>"
   ]
  },
  {
   "cell_type": "markdown",
   "metadata": {},
   "source": [
    "<b>Function Description</b>"
   ]
  },
  {
   "cell_type": "markdown",
   "metadata": {},
   "source": [
    "<i>\n",
    "Complete the function rotLeft in the editor below. It should return the resulting array of integers.\n",
    "\n",
    "rotLeft has the following parameter(s):\n",
    "\n",
    "* An array of integers $a$.\n",
    "* An integer $d$, the number of rotations.\n",
    "</i>"
   ]
  },
  {
   "cell_type": "markdown",
   "metadata": {},
   "source": [
    "<b>Input Format</b>"
   ]
  },
  {
   "cell_type": "markdown",
   "metadata": {},
   "source": [
    "<i>The first line contains two space-separated integers $n$ and $d$, the size of $a$ and the number of left rotations you must perform.\n",
    "The second line contains $n$ space-separated integers $a[i]$.</i>"
   ]
  },
  {
   "cell_type": "markdown",
   "metadata": {},
   "source": [
    "<b>Constraints</b>"
   ]
  },
  {
   "cell_type": "markdown",
   "metadata": {},
   "source": [
    "* $1 \\leq n \\leq 10^5$\n",
    "* $1 \\leq d \\leq n$\n",
    "* $1 \\leq a[i] \\leq 10^6$"
   ]
  },
  {
   "cell_type": "markdown",
   "metadata": {},
   "source": [
    "<b>Output Format</b>"
   ]
  },
  {
   "cell_type": "markdown",
   "metadata": {},
   "source": [
    "<i>Print a single line of $n$ space-separated integers denoting the final state of the array after performing $d$ left rotations.</i>"
   ]
  },
  {
   "cell_type": "markdown",
   "metadata": {},
   "source": [
    "<b>Sample Input</b>"
   ]
  },
  {
   "cell_type": "code",
   "execution_count": 1,
   "metadata": {},
   "outputs": [
    {
     "data": {
      "text/plain": [
       "'\\n5 4\\n1 2 3 4 5\\n'"
      ]
     },
     "execution_count": 1,
     "metadata": {},
     "output_type": "execute_result"
    }
   ],
   "source": [
    "'''\n",
    "5 4\n",
    "1 2 3 4 5\n",
    "'''"
   ]
  },
  {
   "cell_type": "markdown",
   "metadata": {},
   "source": [
    "<b>Sample Output</b>"
   ]
  },
  {
   "cell_type": "code",
   "execution_count": 2,
   "metadata": {},
   "outputs": [
    {
     "data": {
      "text/plain": [
       "'\\n5 1 2 3 4\\n'"
      ]
     },
     "execution_count": 2,
     "metadata": {},
     "output_type": "execute_result"
    }
   ],
   "source": [
    "'''\n",
    "5 1 2 3 4\n",
    "'''"
   ]
  },
  {
   "cell_type": "markdown",
   "metadata": {},
   "source": [
    "<b>Explanation</b>"
   ]
  },
  {
   "cell_type": "markdown",
   "metadata": {},
   "source": [
    "<i>When we perform $d=4$ left rotations, the array undergoes the following sequence of changes:</i>\n",
    "    $[1, 2, 3, 4, 5] - [2, 3, 4, 5, 1] - [3, 4, 5, 1, 2] - [4, 5, 1, 2, 3] - [5, 1, 2, 3, 4]$"
   ]
  },
  {
   "cell_type": "code",
   "execution_count": 1,
   "metadata": {},
   "outputs": [
    {
     "data": {
      "text/plain": [
       "[77, 97, 58, 1, 86, 58, 26, 10, 86, 51, 41, 73, 89, 7, 10, 1, 59, 58, 84, 77]"
      ]
     },
     "execution_count": 1,
     "metadata": {},
     "output_type": "execute_result"
    }
   ],
   "source": [
    "def rotLeft(array_ex, rotations):\n",
    "    value_rotated = 0\n",
    "    iterator = 0\n",
    "    for cont in range(len(array_ex)-1):\n",
    "        value_rotated = array_ex[cont-iterator]\n",
    "        array_ex.pop(cont-iterator)\n",
    "        array_ex.append(value_rotated)\n",
    "        iterator = iterator + 1\n",
    "        \n",
    "        if cont+1 == rotations:\n",
    "            break\n",
    "    return array_ex\n",
    "\n",
    "rotLeft([41, 73, 89, 7, 10, 1, 59, 58, 84, 77, 77, 97, 58, 1, 86, 58, 26, 10, 86, 51], 10)"
   ]
  },
  {
   "cell_type": "code",
   "execution_count": null,
   "metadata": {},
   "outputs": [],
   "source": [
    "'''\n",
    "    Array Size: 5\n",
    "    Rotations: 4\n",
    "    Array: [1,2,3,4,5]\n",
    "    \n",
    "    [1,2,3,4,5] -> [2,3,4,5,1] -> [3,4,5,1,2] -> [4,5,1,2,3] -> [5,1,2,3,4]\n",
    "'''\n",
    "#Tempo: 16min 26seg"
   ]
  },
  {
   "cell_type": "markdown",
   "metadata": {},
   "source": [
    "<h3>2D Array - DS</h3>"
   ]
  },
  {
   "cell_type": "markdown",
   "metadata": {},
   "source": [
    "<i>\n",
    "Given a $6 x 6$ 2D Array, $arr$:\n",
    "</i>"
   ]
  },
  {
   "cell_type": "code",
   "execution_count": null,
   "metadata": {},
   "outputs": [],
   "source": [
    "'''\n",
    "1 1 1 0 0 0\n",
    "0 1 0 0 0 0\n",
    "1 1 1 0 0 0\n",
    "0 0 0 0 0 0\n",
    "0 0 0 0 0 0\n",
    "0 0 0 0 0 0\n",
    "'''"
   ]
  },
  {
   "cell_type": "markdown",
   "metadata": {},
   "source": [
    "<i>An hourglass in $A$ is a subset of values with indices falling in this pattern in $arr$'s graphical representation:</i>"
   ]
  },
  {
   "cell_type": "code",
   "execution_count": null,
   "metadata": {},
   "outputs": [],
   "source": [
    "'''\n",
    "a b c\n",
    "  d\n",
    "e f g\n",
    "'''"
   ]
  },
  {
   "cell_type": "markdown",
   "metadata": {},
   "source": [
    "<i>There are $16$ hourglasses in $arr$. An hourglass sum is the sum of an hourglass' values. Calculate the hourglass sum for every hourglass in $arr$, then print the maximum hourglass sum. The array will always be $6x6$.<i/>"
   ]
  },
  {
   "cell_type": "markdown",
   "metadata": {},
   "source": [
    "<b>Example</b>"
   ]
  },
  {
   "cell_type": "markdown",
   "metadata": {},
   "source": [
    "<i>$arr =$</i>"
   ]
  },
  {
   "cell_type": "code",
   "execution_count": null,
   "metadata": {},
   "outputs": [],
   "source": [
    "'''\n",
    "-9 -9 -9  1 1 1 \n",
    " 0 -9  0  4 3 2\n",
    "-9 -9 -9  1 2 3\n",
    " 0  0  8  6 6 0\n",
    " 0  0  0 -2 0 0\n",
    " 0  0  1  2 4 0\n",
    " '''"
   ]
  },
  {
   "cell_type": "markdown",
   "metadata": {},
   "source": [
    "<i>The $16$ hourglass sums are:</i>"
   ]
  },
  {
   "cell_type": "code",
   "execution_count": null,
   "metadata": {},
   "outputs": [],
   "source": [
    "'''\n",
    "-63, -34, -9, 12, \n",
    "-10,   0, 28, 23, \n",
    "-27, -11, -2, 10, \n",
    "  9,  17, 25, 18\n",
    "'''"
   ]
  },
  {
   "cell_type": "markdown",
   "metadata": {},
   "source": [
    "<i>The highest hourglass sum is $28$ from the hourglass beginning at row $1$, column $2$:</i>"
   ]
  },
  {
   "cell_type": "code",
   "execution_count": null,
   "metadata": {},
   "outputs": [],
   "source": [
    "'''\n",
    "0 4 3\n",
    "  1\n",
    "8 6 6\n",
    "'''"
   ]
  },
  {
   "cell_type": "code",
   "execution_count": 4,
   "metadata": {},
   "outputs": [
    {
     "data": {
      "text/plain": [
       "19"
      ]
     },
     "execution_count": 4,
     "metadata": {},
     "output_type": "execute_result"
    }
   ],
   "source": [
    "def hourglassSum(arr_hourglass):\n",
    "    sum = []\n",
    "    \n",
    "    for k in range(len(arr_hourglass)-2):\n",
    "        for j in range(len(arr_hourglass)-2):\n",
    "            sum.append(arr_hourglass[k][j]+arr_hourglass[k][j+1]+arr_hourglass[k][j+2]+arr_hourglass[k+1][j+1]+arr_hourglass[k+2][j]+arr_hourglass[k+2][j+1]+arr_hourglass[k+2][j+2])\n",
    "            \n",
    "    return max(sum)\n",
    "\n",
    "hourglassSum([[1, 1, 1, 0, 0, 0], [0, 1, 0, 0, 0, 0], [1, 1, 1, 0, 0, 0], [0, 0, 2, 4, 4, 0], [0, 0, 0, 2, 0, 0], [0, 0, 1, 2, 4, 0]])"
   ]
  },
  {
   "cell_type": "code",
   "execution_count": null,
   "metadata": {},
   "outputs": [],
   "source": []
  }
 ],
 "metadata": {
  "kernelspec": {
   "display_name": "Python 3",
   "language": "python",
   "name": "python3"
  },
  "language_info": {
   "codemirror_mode": {
    "name": "ipython",
    "version": 3
   },
   "file_extension": ".py",
   "mimetype": "text/x-python",
   "name": "python",
   "nbconvert_exporter": "python",
   "pygments_lexer": "ipython3",
   "version": "3.6.5"
  }
 },
 "nbformat": 4,
 "nbformat_minor": 2
}
