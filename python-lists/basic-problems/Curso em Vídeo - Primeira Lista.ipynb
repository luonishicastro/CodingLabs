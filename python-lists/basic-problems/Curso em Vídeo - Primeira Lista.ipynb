{
 "cells": [
  {
   "cell_type": "markdown",
   "metadata": {},
   "source": [
    "Exercício 1 - Faça um programa que leia o nome de uma pessoa e mostre uma mensagem de boas-vindas"
   ]
  },
  {
   "cell_type": "code",
   "execution_count": 3,
   "metadata": {},
   "outputs": [
    {
     "name": "stdout",
     "output_type": "stream",
     "text": [
      "Qual é o seu nome? Lucas\n",
      "Bem vindo à Máquina, Lucas\n"
     ]
    }
   ],
   "source": [
    "nome = input('Qual é o seu nome? ')\n",
    "print(f'Bem vindo à Máquina, {nome}')"
   ]
  },
  {
   "cell_type": "markdown",
   "metadata": {},
   "source": [
    "Exercício 2 - Crie um programa que leia dois números e mostre a soma entre eles."
   ]
  },
  {
   "cell_type": "code",
   "execution_count": 4,
   "metadata": {},
   "outputs": [
    {
     "name": "stdout",
     "output_type": "stream",
     "text": [
      "Digite o primeiro número: 1\n",
      "Digite o segundo número: 2\n",
      "A soma entre 1 e 2 é igual a 3\n"
     ]
    }
   ],
   "source": [
    "num1 = int(input('Digite o primeiro número: '))\n",
    "num2 = int(input('Digite o segundo número: '))\n",
    "\n",
    "soma = num1 + num2\n",
    "print('A soma entre {} e {} é igual a {}'.format(num1, num2, soma))"
   ]
  },
  {
   "cell_type": "markdown",
   "metadata": {},
   "source": [
    "Exercício 3 - Faça um programa que leia algo pelo teclado e mostre na tela o seu tipo primitivo e todas as informações possíveis sobre ele."
   ]
  },
  {
   "cell_type": "code",
   "execution_count": 15,
   "metadata": {},
   "outputs": [
    {
     "name": "stdout",
     "output_type": "stream",
     "text": [
      "Digite algo: algo\n",
      "Tipo: <class 'str'>\n",
      "É alfanumérico? True\n",
      "É alfabético? True\n",
      "É numérico? False\n",
      "É decimal? False\n",
      "Está minúsculo? True\n"
     ]
    }
   ],
   "source": [
    "algo = input('Digite algo: ')\n",
    "\n",
    "print('Tipo: {}'.format(type(algo)))\n",
    "print('É alfanumérico? {}'.format(algo.isalnum()))\n",
    "print('É alfabético? {}'.format(algo.isalpha()))\n",
    "print('É numérico? {}'.format(algo.isnumeric()))\n",
    "print('É decimal? {}'.format(algo.isdecimal()))\n",
    "print('Está minúsculo? {}'.format(algo.islower()))"
   ]
  },
  {
   "cell_type": "markdown",
   "metadata": {},
   "source": [
    "Exercício 4 - Faça um programa que leia um número inteiro e mostre na tela o seu sucessos e seu antecessor."
   ]
  },
  {
   "cell_type": "code",
   "execution_count": 16,
   "metadata": {},
   "outputs": [
    {
     "name": "stdout",
     "output_type": "stream",
     "text": [
      "Digite um número qualquer: 5\n",
      "Sucessor do número digitado: 6\n",
      "Antecessor do número digitado: 4\n"
     ]
    }
   ],
   "source": [
    "num = int(input('Digite um número qualquer: '))\n",
    "print(f'Sucessor do número digitado: {num+1}')\n",
    "print(f'Antecessor do número digitado: {num-1}')"
   ]
  },
  {
   "cell_type": "markdown",
   "metadata": {},
   "source": [
    "Exercício 5 - Crie um algoritmo que leia um número e mostre o seu dobro, triplo e raiz quadrada."
   ]
  },
  {
   "cell_type": "code",
   "execution_count": 19,
   "metadata": {},
   "outputs": [
    {
     "name": "stdout",
     "output_type": "stream",
     "text": [
      "Digite um número qualquer: 4\n",
      "Dobro: 8\n",
      "Triplo: 12\n",
      "Raiz: 2.0\n"
     ]
    }
   ],
   "source": [
    "import math\n",
    "num = int(input('Digite um número qualquer: '))\n",
    "print('Dobro: {}'.format(num*2))\n",
    "print('Triplo: {}'.format(num*3))\n",
    "print('Raiz: {}'.format(math.sqrt(num)))"
   ]
  },
  {
   "cell_type": "markdown",
   "metadata": {},
   "source": [
    "Exercício 6 - Desenvolva um programa que leia as duas notas de um aluno, calcule e mostre a sua média."
   ]
  },
  {
   "cell_type": "code",
   "execution_count": 20,
   "metadata": {},
   "outputs": [
    {
     "name": "stdout",
     "output_type": "stream",
     "text": [
      "Digite a primeira nota: 4\n",
      "Digite a segunda nota: 7\n",
      "A média final entre as notas 4.0 e 7.0 será de 5.5\n"
     ]
    }
   ],
   "source": [
    "nota1 = float(input('Digite a primeira nota: '))\n",
    "nota2 = float(input('Digite a segunda nota: '))\n",
    "media = (nota1 + nota2)/2\n",
    "\n",
    "print('A média final entre as notas {} e {} será de {}'.format(nota1, nota2, media))"
   ]
  },
  {
   "cell_type": "markdown",
   "metadata": {},
   "source": [
    "Exercício 7 - Escreva um programa que leia um valor em metros e o exiba convertido em centímetros e milímetros"
   ]
  },
  {
   "cell_type": "code",
   "execution_count": 23,
   "metadata": {},
   "outputs": [
    {
     "name": "stdout",
     "output_type": "stream",
     "text": [
      "Digite o valor da medida (metros): 1\n",
      "Tabela de Conversão: \n",
      " 1000.000mm \n",
      " 100.000cm \n",
      " 10.000dm \n",
      " 0.001Km\n"
     ]
    }
   ],
   "source": [
    "medida = float(input('Digite o valor da medida (metros): '))\n",
    "print('Tabela de Conversão: \\n {:.3f}mm \\n {:.3f}cm \\n {:.3f}dm \\n {:.3f}Km'.format(medida*1000, medida*100, medida*10, medida/1000))"
   ]
  },
  {
   "cell_type": "markdown",
   "metadata": {},
   "source": [
    "Exercício 8 - Faça um programa que leia um número inteiro qualquer e mostre na tela a sua tabuada."
   ]
  },
  {
   "cell_type": "code",
   "execution_count": 25,
   "metadata": {},
   "outputs": [
    {
     "name": "stdout",
     "output_type": "stream",
     "text": [
      "Digite um número qualquer: 2\n",
      "2 x 1 = 2\n",
      "2 x 2 = 4\n",
      "2 x 3 = 6\n",
      "2 x 4 = 8\n",
      "2 x 5 = 10\n",
      "2 x 6 = 12\n",
      "2 x 7 = 14\n",
      "2 x 8 = 16\n",
      "2 x 9 = 18\n",
      "2 x 10 = 20\n"
     ]
    }
   ],
   "source": [
    "num = int(input('Digite um número qualquer: '))\n",
    "print('{} x {} = {}'.format(num, 1, num*1))\n",
    "print('{} x {} = {}'.format(num, 2, num*2))\n",
    "print('{} x {} = {}'.format(num, 3, num*3))\n",
    "print('{} x {} = {}'.format(num, 4, num*4))\n",
    "print('{} x {} = {}'.format(num, 5, num*5))\n",
    "print('{} x {} = {}'.format(num, 6, num*6))\n",
    "print('{} x {} = {}'.format(num, 7, num*7))\n",
    "print('{} x {} = {}'.format(num, 8, num*8))\n",
    "print('{} x {} = {}'.format(num, 9, num*9))\n",
    "print('{} x {} = {}'.format(num, 10, num*10))"
   ]
  },
  {
   "cell_type": "markdown",
   "metadata": {},
   "source": [
    "Exercício 9 - Crie um programa que leia quanto dinheiro uma pessoa tem na carteira e mostre quantos Dólares ela pode comprar."
   ]
  },
  {
   "cell_type": "code",
   "execution_count": 26,
   "metadata": {},
   "outputs": [
    {
     "name": "stdout",
     "output_type": "stream",
     "text": [
      "Quanto dinheiro você tem? R$10\n",
      "Com R$10.00 você terá U$2.49\n"
     ]
    }
   ],
   "source": [
    "cotacao = 4.02\n",
    "dinheiro = float(input('Quanto dinheiro você tem? R$'))\n",
    "print('Com R${:.2f} você terá U${:.2f}'.format(dinheiro, dinheiro/cotacao))"
   ]
  },
  {
   "cell_type": "markdown",
   "metadata": {},
   "source": [
    "Exercício 10 - Faça um programa que leia a largura e a altura de um parede em metros, calcule a sua área e a quantidade de tinta necessária para pintá-la, sabendo que cada litro de tinta, pinta uma área de 2 metros quadrados."
   ]
  },
  {
   "cell_type": "code",
   "execution_count": 31,
   "metadata": {},
   "outputs": [
    {
     "name": "stdout",
     "output_type": "stream",
     "text": [
      "Digite a largura da parede (metros): 10\n",
      "Digite a altura da parede (metros): 8\n",
      "Uma parede de 10.0 metros de largura por 8.0 metros de altura precisará de 40 litros de tinta para pintar uma área de 80.00 metros quadrados\n"
     ]
    }
   ],
   "source": [
    "largura = float(input('Digite a largura da parede (metros): '))\n",
    "altura = float(input('Digite a altura da parede (metros): '))\n",
    "area = largura * altura\n",
    "print('Uma parede de {:.1f} metros de largura por {:.1f} metros de altura precisará de {:.0f} litros de tinta para pintar uma \\\n",
    "área de {:.2f} metros quadrados'.format(largura, altura, area/2, area))"
   ]
  },
  {
   "cell_type": "code",
   "execution_count": null,
   "metadata": {},
   "outputs": [],
   "source": []
  }
 ],
 "metadata": {
  "kernelspec": {
   "display_name": "Python 3 (ipykernel)",
   "language": "python",
   "name": "python3"
  },
  "language_info": {
   "codemirror_mode": {
    "name": "ipython",
    "version": 3
   },
   "file_extension": ".py",
   "mimetype": "text/x-python",
   "name": "python",
   "nbconvert_exporter": "python",
   "pygments_lexer": "ipython3",
   "version": "3.11.4"
  }
 },
 "nbformat": 4,
 "nbformat_minor": 2
}
