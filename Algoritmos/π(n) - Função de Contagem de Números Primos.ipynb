{
 "cells": [
  {
   "cell_type": "markdown",
   "metadata": {},
   "source": [
    "https://en.wikipedia.org/wiki/Prime-counting_function"
   ]
  },
  {
   "cell_type": "code",
   "execution_count": 3,
   "metadata": {},
   "outputs": [
    {
     "name": "stdout",
     "output_type": "stream",
     "text": [
      "0:00:46.750046\n",
      "Total de primos entre 0 e 100000 = 9593\n"
     ]
    }
   ],
   "source": [
    "import datetime\n",
    "now = datetime.datetime.now()\n",
    "\n",
    "tot = 0\n",
    "\n",
    "for n in range(100001):\n",
    "    primo = True\n",
    "    \n",
    "    for x in range(2, n):\n",
    "        resto = n % x\n",
    "        \n",
    "        if(resto == 0):\n",
    "            primo=False\n",
    "            break\n",
    "            \n",
    "    if primo == True:\n",
    "        tot = tot + 1\n",
    "        \n",
    "now2 = datetime.datetime.now()\n",
    "print(now2 - now)\n",
    "print('Total de primos entre 0 e {} = {}'.format(n, (tot-1)))"
   ]
  }
 ],
 "metadata": {
  "kernelspec": {
   "display_name": "Python 3",
   "language": "python",
   "name": "python3"
  },
  "language_info": {
   "codemirror_mode": {
    "name": "ipython",
    "version": 3
   },
   "file_extension": ".py",
   "mimetype": "text/x-python",
   "name": "python",
   "nbconvert_exporter": "python",
   "pygments_lexer": "ipython3",
   "version": "3.6.5"
  }
 },
 "nbformat": 4,
 "nbformat_minor": 2
}
