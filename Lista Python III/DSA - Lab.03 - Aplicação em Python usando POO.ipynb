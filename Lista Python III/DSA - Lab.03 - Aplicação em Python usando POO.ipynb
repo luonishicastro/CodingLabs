{
 "cells": [
  {
   "cell_type": "code",
   "execution_count": null,
   "metadata": {},
   "outputs": [],
   "source": [
    "# Hangman Game\n",
    "# Programação Orientada a Objetos\n",
    "\n",
    "# forca_v1.py\n",
    "import random\n",
    "\n",
    "board = ['''\n",
    "\n",
    ">>>>>>>>>>>>>>>Hangman<<<<<<<<<<<<<<<\n",
    "\n",
    "+---+\n",
    "|   |\n",
    "    |\n",
    "    |\n",
    "    |\n",
    "    |\n",
    "========='''', ''''\n",
    "+---+\n",
    "|   |\n",
    "O   |\n",
    "    |\n",
    "    |\n",
    "    |\n",
    "========='''', ''''\n",
    ", ''''\n",
    "]\n",
    "\n",
    "\n",
    "# palavras.txt\n",
    "# palavra vem de um banco de palavras alimentado na aplicação / busca de maneira randômica"
   ]
  }
 ],
 "metadata": {
  "kernelspec": {
   "display_name": "Python 3",
   "language": "python",
   "name": "python3"
  },
  "language_info": {
   "codemirror_mode": {
    "name": "ipython",
    "version": 3
   },
   "file_extension": ".py",
   "mimetype": "text/x-python",
   "name": "python",
   "nbconvert_exporter": "python",
   "pygments_lexer": "ipython3",
   "version": "3.6.5"
  }
 },
 "nbformat": 4,
 "nbformat_minor": 2
}
