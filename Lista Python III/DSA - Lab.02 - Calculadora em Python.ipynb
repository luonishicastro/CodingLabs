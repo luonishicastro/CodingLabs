{
 "cells": [
  {
   "cell_type": "code",
   "execution_count": 5,
   "metadata": {},
   "outputs": [
    {
     "name": "stdout",
     "output_type": "stream",
     "text": [
      "Selecione o número da operação desejada: \n",
      " 1 - Soma \n",
      " 2 - Subtração \n",
      " 3 - Multiplicação \n",
      " 4 - Divisão \n",
      "\n",
      "Digite sua opção (1/2/3/4): 5\n",
      "Digite o primeiro número: 4\n",
      "Digite o segundo número: 5\n",
      "Opção inválida!\n"
     ]
    }
   ],
   "source": [
    "# Calculadora Python DSA\n",
    "\n",
    "print('Selecione o número da operação desejada: \\n 1 - Soma \\n 2 - Subtração \\n 3 - Multiplicação \\n 4 - Divisão \\n')\n",
    "\n",
    "def soma(num1, num2):\n",
    "    return num1+num2\n",
    "\n",
    "def multiplicacao(num1, num2):\n",
    "    return num1*num2\n",
    "\n",
    "def subtracao(num1, num2):\n",
    "    return num1-num2\n",
    "\n",
    "def divisao(num1, num2):\n",
    "    return num1/num2\n",
    "\n",
    "oper = int(input('Digite sua opção (1/2/3/4): '))\n",
    "num1 = int(input('Digite o primeiro número: '))\n",
    "num2 = int(input('Digite o segundo número: '))\n",
    "\n",
    "if oper == 1:\n",
    "    print(f'{num1} + {num2} = {soma(num1, num2)}')\n",
    "elif oper == 2:\n",
    "    print(f'{num1} - {num2} = {subtracao(num1, num2)}')\n",
    "elif oper == 3:\n",
    "    print(f'{num1} * {num2} = {multiplicacao(num1, num2)}')\n",
    "elif oper == 4:\n",
    "    print(f'{num1} / {num2} = {divisao(num1, num2)}')\n",
    "else:\n",
    "    print('Opção inválida!')"
   ]
  },
  {
   "cell_type": "code",
   "execution_count": 15,
   "metadata": {},
   "outputs": [
    {
     "name": "stdout",
     "output_type": "stream",
     "text": [
      "200\n",
      "16\n",
      "0.25\n",
      "49\n"
     ]
    }
   ],
   "source": [
    "# Calculadora mais Sofisticada\n",
    "\n",
    "class Calculadora():\n",
    "    def __init__(self, num1=0, num2=0):\n",
    "        self.num1 = num1\n",
    "        self.num2 = num2\n",
    "        \n",
    "    def soma(self, num1, num2):\n",
    "        print(num1+num2)\n",
    "        \n",
    "    def subtracao(self, num1, num2):\n",
    "        print(num1 - num2)\n",
    "\n",
    "    def divisao(self, num1, num2):\n",
    "        print(num1 / num2)\n",
    "        \n",
    "    def multiplicacao(self, num1, num2):\n",
    "        print(num1 * num2)\n",
    "        \n",
    "Calculadora = Calculadora()\n",
    "Calculadora.soma(23,177)\n",
    "Calculadora.subtracao(23,7)\n",
    "Calculadora.divisao(1,4)\n",
    "Calculadora.multiplicacao(7,7)"
   ]
  },
  {
   "cell_type": "code",
   "execution_count": 16,
   "metadata": {},
   "outputs": [],
   "source": [
    "# Calculadora mais Sofisticada\n",
    "\n",
    "from tkinter import *\n",
    "import random\n",
    "import time\n",
    "\n",
    "root = Tk()\n",
    "root.title(\"Calculadora\")\n",
    "root.resizable(0, 0)\n",
    "root.wm_attributes(\"-topmost\", -1)\n",
    "\n",
    "canvas = Canvas(root, width=400, height=513, bd=0, highlightthickness=0)\n",
    "\n",
    "botaoSoma = Button(root, text='+')\n",
    "botaoSoma.config(height=2, width=9)\n",
    "\n",
    "botaoZero = Button(root, text='0')\n",
    "botaoZero.config(height=2, width=9)\n",
    "botaoUm = Button(root, text='1')\n",
    "botaoUm.config(height=2, width=9)\n",
    "botaoDois = Button(root, text='2')\n",
    "botaoDois.config(height=2, width=9)\n",
    "botaoTres = Button(root, text='3')\n",
    "botaoTres.config(height=2, width=9)\n",
    "\n",
    "canvas.pack()\n",
    "botaoSoma.pack(side='top', anchor='e')\n",
    "botaoZero.pack(side='top', anchor='n')\n",
    "botaoUm.pack(side='top', anchor='n')\n",
    "botaoDois.pack(side='top', anchor='n')\n",
    "botaoTres.pack(side='top', anchor='n')\n",
    "\n",
    "root.update()\n",
    "time.sleep(5)"
   ]
  },
  {
   "cell_type": "code",
   "execution_count": null,
   "metadata": {},
   "outputs": [],
   "source": []
  }
 ],
 "metadata": {
  "kernelspec": {
   "display_name": "Python 3",
   "language": "python",
   "name": "python3"
  },
  "language_info": {
   "codemirror_mode": {
    "name": "ipython",
    "version": 3
   },
   "file_extension": ".py",
   "mimetype": "text/x-python",
   "name": "python",
   "nbconvert_exporter": "python",
   "pygments_lexer": "ipython3",
   "version": "3.6.5"
  }
 },
 "nbformat": 4,
 "nbformat_minor": 2
}
