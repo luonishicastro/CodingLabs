{
 "cells": [
  {
   "cell_type": "code",
   "execution_count": 10,
   "metadata": {},
   "outputs": [
    {
     "name": "stdout",
     "output_type": "stream",
     "text": [
      "Selecione o número da operação desejada: \n",
      " 1 - Soma \n",
      " 2 - Subtração \n",
      " 3 - Multiplicação \n",
      " 4 - Divisão \n",
      "\n",
      "Digite sua opção (1/2/3/4): 1\n",
      "Digite o primeiro número: 2\n",
      "Digite o segundo número: 3\n",
      "2 + 3 = 5\n"
     ]
    }
   ],
   "source": [
    "# Calculadora Python DSA\n",
    "\n",
    "print('Selecione o número da operação desejada: \\n 1 - Soma \\n 2 - Subtração \\n 3 - Multiplicação \\n 4 - Divisão \\n')\n",
    "\n",
    "oper = int(input('Digite sua opção (1/2/3/4): '))\n",
    "num1 = int(input('Digite o primeiro número: '))\n",
    "num2 = int(input('Digite o segundo número: '))\n",
    "\n",
    "if oper == 1:\n",
    "    print(f'{num1} + {num2} = {num1+num2}')\n",
    "elif oper == 2:\n",
    "    print(f'{num1} - {num2} = {num1-num2}')\n",
    "elif oper == 3:\n",
    "    print(f'{num1} * {num2} = {num1*num2}')\n",
    "elif oper == 4:\n",
    "    print(f'{num1} / {num2} = {num1/num2}')\n",
    "else:\n",
    "    print('Opção inválida!')"
   ]
  },
  {
   "cell_type": "code",
   "execution_count": 12,
   "metadata": {},
   "outputs": [],
   "source": [
    "# Calculadora mais Sofisticada\n",
    "\n"
   ]
  },
  {
   "cell_type": "code",
   "execution_count": null,
   "metadata": {},
   "outputs": [],
   "source": []
  }
 ],
 "metadata": {
  "kernelspec": {
   "display_name": "Python 3",
   "language": "python",
   "name": "python3"
  },
  "language_info": {
   "codemirror_mode": {
    "name": "ipython",
    "version": 3
   },
   "file_extension": ".py",
   "mimetype": "text/x-python",
   "name": "python",
   "nbconvert_exporter": "python",
   "pygments_lexer": "ipython3",
   "version": "3.6.5"
  }
 },
 "nbformat": 4,
 "nbformat_minor": 2
}
