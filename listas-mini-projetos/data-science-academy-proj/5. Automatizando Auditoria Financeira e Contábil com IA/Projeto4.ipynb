{
 "cells": [
  {
   "cell_type": "markdown",
   "metadata": {},
   "source": [
    "# Inteligência Artificial Aplicada a Finanças"
   ]
  },
  {
   "cell_type": "markdown",
   "metadata": {},
   "source": [
    "# Projeto 4 - Automatizando Auditoria Financeira e Contábil com IA"
   ]
  },
  {
   "cell_type": "code",
   "execution_count": 1,
   "metadata": {},
   "outputs": [
    {
     "name": "stdout",
     "output_type": "stream",
     "text": [
      "Versão da Linguagem Python Usada Neste Jupyter Notebook: 3.7.6\n"
     ]
    }
   ],
   "source": [
    "# Versão da Linguagem Python\n",
    "from platform import python_version\n",
    "print('Versão da Linguagem Python Usada Neste Jupyter Notebook:', python_version())"
   ]
  },
  {
   "cell_type": "markdown",
   "metadata": {},
   "source": [
    "## Definindo o Problema"
   ]
  },
  {
   "cell_type": "markdown",
   "metadata": {},
   "source": [
    "Neste projeto vamos construir uma aplicação para executar auditoria financeira e contábil. Nossa aplicação vai buscar por um tipo específico de crime, conhecido como SMURF, usado em lavagem de dinheiro.\n",
    "\n",
    "Para conhecer mais sobre esse tipo de crime, confira aqui: https://www.investopedia.com/terms/s/smurf.asp\n",
    "\n",
    "O trabalho está divivido em duas partes. Na parte 1 vamos gerar as anomalias com um padrão comum em crimes de lavagem de dinheiro e na parte 2 vamos buscar e detectar essas anomalias."
   ]
  },
  {
   "cell_type": "markdown",
   "metadata": {},
   "source": [
    "## Fonte de Dados\n",
    "\n",
    "<a href=\"https://data.world/lpetrocelli/czech-financial-dataset-real-anonymized-transactions\">1999 Czech Financial Dataset - Real Anonymized Transactions</a>"
   ]
  },
  {
   "cell_type": "markdown",
   "metadata": {},
   "source": [
    "### Instalando e Carregando Pacotes"
   ]
  },
  {
   "cell_type": "code",
   "execution_count": 2,
   "metadata": {},
   "outputs": [],
   "source": [
    "# Para atualizar um pacote, execute o comando abaixo no terminal ou prompt de comando:\n",
    "# pip install -U nome_pacote\n",
    "\n",
    "# Para instalar a versão exata de um pacote, execute o comando abaixo no terminal ou prompt de comando:\n",
    "# pip install nome_pacote==versão_desejada\n",
    "\n",
    "# Depois de instalar ou atualizar o pacote, reinicie o jupyter notebook.\n",
    "\n",
    "# Instala o pacote watermark.\n",
    "# Esse pacote é usado para gravar as versões de outros pacotes usados neste jupyter notebook.\n",
    "#!pip install -q -U watermark"
   ]
  },
  {
   "cell_type": "code",
   "execution_count": 3,
   "metadata": {},
   "outputs": [],
   "source": [
    "# Imports\n",
    "import copy\n",
    "import scipy\n",
    "import pickle\n",
    "import argparse\n",
    "import pandas as pd\n",
    "import numpy as np\n",
    "import matplotlib\n",
    "import matplotlib.pyplot as plt\n",
    "from scipy import sparse\n",
    "from math import ceil\n",
    "from collections import OrderedDict\n",
    "from joblib import Parallel, delayed\n",
    "import sys\n",
    "import warnings\n",
    "if not sys.warnoptions:\n",
    "    warnings.simplefilter(\"ignore\")\n",
    "warnings.simplefilter(action='ignore', category=FutureWarning)\n",
    "warnings.filterwarnings(\"ignore\", category=FutureWarning)"
   ]
  },
  {
   "cell_type": "code",
   "execution_count": 4,
   "metadata": {},
   "outputs": [
    {
     "name": "stdout",
     "output_type": "stream",
     "text": [
      "numpy      1.18.5\n",
      "scipy      1.4.1\n",
      "matplotlib 3.3.1\n",
      "pandas     1.1.4\n",
      "argparse   1.1\n",
      "Data Science Academy\n"
     ]
    }
   ],
   "source": [
    "# Versões dos pacotes usados neste jupyter notebook\n",
    "%reload_ext watermark\n",
    "%watermark -a \"Data Science Academy\" --iversions"
   ]
  },
  {
   "cell_type": "markdown",
   "metadata": {},
   "source": [
    "## Carrega os Dados"
   ]
  },
  {
   "cell_type": "code",
   "execution_count": 5,
   "metadata": {},
   "outputs": [],
   "source": [
    "# Carrega o dataset\n",
    "df = pd.read_csv('dados/raw_cfd_trans.csv', sep = ';', usecols = [1, 2, 4, 5, 9])"
   ]
  },
  {
   "cell_type": "code",
   "execution_count": 6,
   "metadata": {},
   "outputs": [
    {
     "data": {
      "text/html": [
       "<div>\n",
       "<style scoped>\n",
       "    .dataframe tbody tr th:only-of-type {\n",
       "        vertical-align: middle;\n",
       "    }\n",
       "\n",
       "    .dataframe tbody tr th {\n",
       "        vertical-align: top;\n",
       "    }\n",
       "\n",
       "    .dataframe thead th {\n",
       "        text-align: right;\n",
       "    }\n",
       "</style>\n",
       "<table border=\"1\" class=\"dataframe\">\n",
       "  <thead>\n",
       "    <tr style=\"text-align: right;\">\n",
       "      <th></th>\n",
       "      <th>account_id</th>\n",
       "      <th>date</th>\n",
       "      <th>operation</th>\n",
       "      <th>amount</th>\n",
       "      <th>account</th>\n",
       "    </tr>\n",
       "  </thead>\n",
       "  <tbody>\n",
       "    <tr>\n",
       "      <th>0</th>\n",
       "      <td>2378</td>\n",
       "      <td>930101</td>\n",
       "      <td>VKLAD</td>\n",
       "      <td>700.0</td>\n",
       "      <td>NaN</td>\n",
       "    </tr>\n",
       "    <tr>\n",
       "      <th>1</th>\n",
       "      <td>576</td>\n",
       "      <td>930101</td>\n",
       "      <td>VKLAD</td>\n",
       "      <td>900.0</td>\n",
       "      <td>NaN</td>\n",
       "    </tr>\n",
       "    <tr>\n",
       "      <th>2</th>\n",
       "      <td>704</td>\n",
       "      <td>930101</td>\n",
       "      <td>VKLAD</td>\n",
       "      <td>1000.0</td>\n",
       "      <td>NaN</td>\n",
       "    </tr>\n",
       "    <tr>\n",
       "      <th>3</th>\n",
       "      <td>3818</td>\n",
       "      <td>930101</td>\n",
       "      <td>VKLAD</td>\n",
       "      <td>600.0</td>\n",
       "      <td>NaN</td>\n",
       "    </tr>\n",
       "    <tr>\n",
       "      <th>4</th>\n",
       "      <td>1972</td>\n",
       "      <td>930102</td>\n",
       "      <td>VKLAD</td>\n",
       "      <td>400.0</td>\n",
       "      <td>NaN</td>\n",
       "    </tr>\n",
       "  </tbody>\n",
       "</table>\n",
       "</div>"
      ],
      "text/plain": [
       "   account_id    date operation  amount  account\n",
       "0        2378  930101     VKLAD   700.0      NaN\n",
       "1         576  930101     VKLAD   900.0      NaN\n",
       "2         704  930101     VKLAD  1000.0      NaN\n",
       "3        3818  930101     VKLAD   600.0      NaN\n",
       "4        1972  930102     VKLAD   400.0      NaN"
      ]
     },
     "execution_count": 6,
     "metadata": {},
     "output_type": "execute_result"
    }
   ],
   "source": [
    "df.head()"
   ]
  },
  {
   "cell_type": "code",
   "execution_count": 7,
   "metadata": {},
   "outputs": [
    {
     "data": {
      "text/plain": [
       "(1056320, 5)"
      ]
     },
     "execution_count": 7,
     "metadata": {},
     "output_type": "execute_result"
    }
   ],
   "source": [
    "df.shape"
   ]
  },
  {
   "cell_type": "markdown",
   "metadata": {},
   "source": [
    "### Parte 1 - Geração de Anomalias nos Dados"
   ]
  },
  {
   "cell_type": "code",
   "execution_count": 8,
   "metadata": {},
   "outputs": [],
   "source": [
    "# Função para embaralhar os dados no padrão de uma técnica de lavagem de dinheiro chamada SMURF\n",
    "def gera_novos_dados(el, bank_acc, client_acc, middle_num, folds = 10, seed = 0):\n",
    "    \n",
    "    # Random seed\n",
    "    np.random.seed(seed)\n",
    "    \n",
    "    # Lista\n",
    "    evaluate = []\n",
    "    \n",
    "    # Loop pelos folds\n",
    "    for _ in range(folds):\n",
    "        \n",
    "        # Escolha aleatória\n",
    "        src, dst = np.random.choice(client_acc, 2)\n",
    "        middle_acc = np.random.choice(bank_acc, middle_num)\n",
    "        edgelist = copy.copy(el)\n",
    "\n",
    "        # Loop\n",
    "        for mcc in middle_acc:\n",
    "            edgelist.add((src, mcc))\n",
    "            edgelist.add((mcc, dst))\n",
    "\n",
    "        # Gera noise\n",
    "        noise_num = np.random.randint(1, 6)\n",
    "        \n",
    "        # Loop\n",
    "        for _ in range(noise_num):\n",
    "            r = np.random.randint(11)\n",
    "            mn = middle_num + (5 - r)\n",
    "            n_src, n_dst = np.random.choice([ca for ca in client_acc if ca != src and ca != dst], 2)\n",
    "            n_middle = np.random.choice(bank_acc, mn)\n",
    "            for mcc in n_middle:\n",
    "                edgelist.add((n_src, mcc))\n",
    "                edgelist.add((mcc, n_dst))\n",
    "\n",
    "                for c in n_middle:\n",
    "                    # Interação entre intermediários\n",
    "                    if c != mcc and np.random.randint(1, 11) > r / 2.5 + 6:\n",
    "                        edgelist.add((mcc, c))\n",
    "\n",
    "        evaluate.append({'Edgelist': edgelist, 'Label': [src, dst]})\n",
    "    return evaluate"
   ]
  },
  {
   "cell_type": "code",
   "execution_count": 9,
   "metadata": {},
   "outputs": [],
   "source": [
    "# Função para gerar anomalia\n",
    "def gera_anomalia(file_name, interact_prob, folds = 10, seed = 0):\n",
    "    \n",
    "    # Seed para o processo aleatório\n",
    "    np.random.seed(seed)\n",
    "\n",
    "    # Carrega o dataframe original e remove valores NA\n",
    "    dados = pd.read_csv('dados/raw_cfd_trans.csv', sep = ';', usecols = [1, 2, 4, 5, 9]).dropna()\n",
    "    \n",
    "    # Filtra as operações financeiras\n",
    "    dados = dados[dados['operation'].isin(['PREVOD Z UCTU', 'PREVOD NA UCET'])]\n",
    "    \n",
    "    # Obtém os ids das contas\n",
    "    bank_acc = dados['account_id'].unique().astype(int)\n",
    "    client_acc = dados['account'].unique().astype(int)\n",
    "\n",
    "    # Cria um set para as combinações que serão geradas\n",
    "    edgelist = set()\n",
    "    \n",
    "    # Loop pelos valores\n",
    "    for i in dados.values:\n",
    "        if i[2] == 'PREVOD Z UCTU':\n",
    "            edgelist.add((int(i[4]), int(i[0])))\n",
    "        else:\n",
    "            edgelist.add((int(i[0]), int(i[4])))\n",
    "\n",
    "    for s in bank_acc:\n",
    "        for d in bank_acc:\n",
    "            if np.random.random() > interact_prob:\n",
    "                edgelist.add((s, d))\n",
    "\n",
    "    data = {}\n",
    "    for i in range(10, 51, 10):\n",
    "        data[i] = gera_novos_dados(edgelist, bank_acc, client_acc, i, folds = folds, seed = seed)\n",
    "\n",
    "    with open(file_name + '.pkl', 'wb') as handle:\n",
    "        pickle.dump(data, handle, protocol = pickle.HIGHEST_PROTOCOL)"
   ]
  },
  {
   "cell_type": "markdown",
   "metadata": {},
   "source": [
    "> Agora executamos as funções para gerar a anomalia"
   ]
  },
  {
   "cell_type": "code",
   "execution_count": 10,
   "metadata": {},
   "outputs": [],
   "source": [
    "if __name__ == '__main__':\n",
    "    gera_anomalia('dados/novos_dados_smurf', 0.9995, 10, 0)"
   ]
  },
  {
   "cell_type": "markdown",
   "metadata": {},
   "source": [
    "### Parte 2 - Detecção de Anomalias"
   ]
  },
  {
   "cell_type": "code",
   "execution_count": 11,
   "metadata": {},
   "outputs": [],
   "source": [
    "# Função para o cálculo de log\n",
    "def log_star(x):\n",
    "    return 2 * np.log2(x) + 1"
   ]
  },
  {
   "cell_type": "code",
   "execution_count": 12,
   "metadata": {},
   "outputs": [],
   "source": [
    "# Função para converter lista de vértices para matriz\n",
    "def edgelist_to_matrix(edgelist):\n",
    "    node_dict = {e: idx for idx, e in enumerate(np.unique(list(edgelist)))}\n",
    "    ajm = np.zeros((len(node_dict), len(node_dict)))\n",
    "    for e in edgelist:\n",
    "        ajm[node_dict[e[0]]][node_dict[e[1]]] = 1\n",
    "    return ajm, node_dict"
   ]
  },
  {
   "cell_type": "markdown",
   "metadata": {},
   "source": [
    "Calcula o MDL (Minimum Description Length)\n",
    "\n",
    "https://en.wikipedia.org/wiki/Minimum_description_length\n",
    "\n",
    "O MDL se aplica ao aprendizado de máquina quando algoritmos geram descrições. O aprendizado ocorre quando um algoritmo gera uma descrição mais curta do mesmo conjunto de dados.\n",
    "\n",
    "O princípio MDL é baseado no seguinte insight: qualquer regularidade em um determinado conjunto de dados pode ser usada para compactar os dados, ou seja, para descrevê-los usando menos símbolos do que o necessário para descrever os dados literalmente. \n",
    "\n",
    "Em sua forma mais básica, MDL é um princípio de seleção de modelo: a descrição mais curta dos dados como o melhor modelo.\n",
    "\n",
    "Implementação do algoritmo: \n",
    "\n",
    "https://www.sciencedirect.com/topics/computer-science/minimum-description-length\n",
    "\n",
    "https://homepages.cwi.nl/~pdg/ftp/mdlintro.pdf"
   ]
  },
  {
   "cell_type": "code",
   "execution_count": 13,
   "metadata": {},
   "outputs": [],
   "source": [
    "# Função o cálculo de mdl\n",
    "def compute_mdl(ajm, order, start, count):\n",
    "    \n",
    "    # Pureza e mdl\n",
    "    purity, mdl, n = [], 0, len(ajm)\n",
    "    order.extend([i for i in range(n) if i not in order])\n",
    "    ajm = np.array(ajm)[np.ix_(order, order)]\n",
    "\n",
    "    # Encode sub-matrix A, B e C\n",
    "    for idx in range(1, len(start)):\n",
    "        s, e = start[idx-1], start[idx] - 1\n",
    "        k = e - s + 1\n",
    "        e1 = np.sum(ajm[s+1:e, s:e-1]) * (2 * ceil(np.log2(k - 1)))\n",
    "        e2 = np.sum(ajm[e+1:-1, s:e]) * (ceil(np.log2(n)) + ceil(np.log2(n - k)))\n",
    "        e3 = np.sum(ajm[s:e, e+1:-1]) * (ceil(np.log2(n)) + ceil(np.log2(n - k)))\n",
    "        et = e1 + e2 + e3\n",
    "        mdl += et\n",
    "        sum_abc = np.sum(ajm[s:e, s:e]) + np.sum(ajm[e+1:-1, s:e]) + np.sum(ajm[s:e, e+1:-1])\n",
    "        purity.append((k - 2) * 2 / sum_abc)\n",
    "\n",
    "    # Encode sub-matrix D\n",
    "    ajm = 1 - ajm\n",
    "    mdl += np.sum(ajm[start[-1]:-1, start[-1]:-1]) * (2 * ceil(np.log2(n)))\n",
    "\n",
    "    # Encode do número real de padrões e intermediários encontrados\n",
    "    mdl += ceil(log_star(count[0])) + ceil(log_star(count[1]))\n",
    "    \n",
    "    # Encode dos índices de remetentes, receptores e intermediários\n",
    "    mdl += np.sum(count) * ceil(np.log2(n))\n",
    "    \n",
    "    # Encode para o ponto inicial de cada padrão\n",
    "    mdl += ceil(log_star(len(start) - 1))\n",
    "\n",
    "    return mdl, np.mean(purity)"
   ]
  },
  {
   "cell_type": "code",
   "execution_count": 14,
   "metadata": {},
   "outputs": [],
   "source": [
    "# Função para auditoria (detecção de padrões)\n",
    "def func_auditoria(ajm, max_iter, visualize):\n",
    "\n",
    "    # Obtém pares de combinações que têm o número de intermediários maior que o limite c\n",
    "    print('Obtendo Combinações de Pares...')\n",
    "    row, col = ajm, ajm.T\n",
    "    edis = OrderedDict()\n",
    "    dis_mtr = (sparse.csr_matrix(ajm) * sparse.csr_matrix(ajm)).todense()\n",
    "    \n",
    "    # Loop\n",
    "    for idx1, idx2 in zip(*dis_mtr.nonzero()):\n",
    "        val = dis_mtr[idx1, idx2]\n",
    "        if val >= 3:\n",
    "            edis[(idx1, idx2)] = [val, np.arange(len(row))[(row[idx1] + col[idx2]) == 2]]\n",
    "            \n",
    "    edis = OrderedDict(sorted(edis.items(), key = lambda t: t[1][0])[::-1])\n",
    "    print('Concluído!\\n')\n",
    "\n",
    "    # Identifica heuristicamente a melhor ordem por MDL e pureza\n",
    "    print('Identificando a melhor ordem...')\n",
    "\n",
    "    # Função\n",
    "    def func(ajm, key, value, order, count, start, prev_mdl):\n",
    "        if key[0] not in order and key[1] not in order:\n",
    "            order.append(key[0])\n",
    "            tmp_mid = [a for a in value[1] if a not in order]\n",
    "            \n",
    "            if len(tmp_mid) == 0:\n",
    "                return -1, -1, -1, -1, -1\n",
    "            \n",
    "            order.extend(tmp_mid)\n",
    "            order.append(key[1])\n",
    "            start.append(len(order))\n",
    "            \n",
    "            mdl, purity = compute_mdl(ajm, \n",
    "                                      copy.copy(order), \n",
    "                                      copy.copy(start), \n",
    "                                      [count[0] + 1, count[1] + len(tmp_mid), count[2] + 1])\n",
    "            \n",
    "            # Calcula o score com base no mdl e pureza\n",
    "            score = ((prev_mdl - mdl) / prev_mdl) * purity\n",
    "            \n",
    "            # Verifica se é o menor valor de mdl\n",
    "            if mdl < prev_mdl:\n",
    "                count = [count[0] + 1, count[1] + len(tmp_mid), count[2] + 1]\n",
    "                return mdl, score, order, start, count\n",
    "            \n",
    "        return -1, -1, -1, -1, -1\n",
    "\n",
    "    # Ajusta os valores\n",
    "    old_mdl = np.ceil(np.sum(1 - ajm)) * (2 * ceil(np.log2(len(ajm))))\n",
    "    count_arr, order_arr, start_arr, mdl_arr = [[0, 0, 0]], [[]], [[0]], [old_mdl]\n",
    "    iter = 0\n",
    "    \n",
    "    # Loop enquanto for verdadeiro\n",
    "    while True:\n",
    "        \n",
    "        # Obtém o mdl anterior\n",
    "        prev_mdl = mdl_arr[-1]\n",
    "        \n",
    "        # Paraleliza a execução\n",
    "        results = Parallel(n_jobs=4)([delayed(func)(ajm, \n",
    "                                                    key, \n",
    "                                                    value, \n",
    "                                                    copy.copy(order_arr[-1]), \n",
    "                                                    copy.copy(count_arr[-1]), \n",
    "                                                    copy.copy(start_arr[-1]), \n",
    "                                                    prev_mdl) for idx, (key, value) in enumerate(edis.items())])\n",
    "        \n",
    "        # Calcula os valores temporários\n",
    "        tmp_mdl = [r[0] for r in results]\n",
    "        tmp_score = [r[1] for r in results]\n",
    "        tmp_order = [r[2] for r in results]\n",
    "        tmp_start = [r[3] for r in results]\n",
    "        tmp_count = [r[4] for r in results]\n",
    "\n",
    "        # Verifica se ainda tem padrão SMURF nos dados\n",
    "        if np.max(tmp_score) == -1 or (max_iter != None and iter > max_iter):\n",
    "            break\n",
    "            \n",
    "        # Obtém os valores finais\n",
    "        max_idx = np.argmax(tmp_score)\n",
    "        count_arr.append(tmp_count[max_idx])\n",
    "        order_arr.append(tmp_order[max_idx])\n",
    "        start_arr.append(tmp_start[max_idx])\n",
    "        mdl_arr.append(tmp_mdl[max_idx])\n",
    "        iter += 1\n",
    "        \n",
    "    print('Concluído!\\n')\n",
    "\n",
    "    # Obtém o resultado com MDL 10% maior que os bits mínimos\n",
    "    max_idx = next(idx - 1 for idx, m in enumerate(mdl_arr) if m < mdl_arr[-1] * 1.1)\n",
    "    count, order, start, ori_mdl = count_arr[max_idx], order_arr[max_idx], start_arr[max_idx], mdl_arr[max_idx]\n",
    "    order.extend([i for i in range(len(ajm)) if i not in order])\n",
    "    ro_ajm = ajm[np.ix_(order, order)]\n",
    "\n",
    "\n",
    "    if visualize != None:\n",
    "        print('Visualizando o Resultado...')\n",
    "        plt.figure(figsize=(12, 5))\n",
    "        plt.subplot(1, 2, 1)\n",
    "        plt.matshow(ajm, fignum=False, cmap='binary')\n",
    "        plt.title('Antes da Reordenação\\n')\n",
    "        plt.subplot(1, 2, 2)\n",
    "        plt.matshow(ro_ajm, fignum=False, cmap='binary')\n",
    "        plt.title('Depois da Reordenação\\n')\n",
    "        plt.show()\n",
    "        print('Concluído!\\n')\n",
    "\n",
    "    return ro_ajm, order"
   ]
  },
  {
   "cell_type": "markdown",
   "metadata": {},
   "source": [
    "> Agora executamos a aplicação"
   ]
  },
  {
   "cell_type": "code",
   "execution_count": 15,
   "metadata": {},
   "outputs": [
    {
     "name": "stdout",
     "output_type": "stream",
     "text": [
      "Obtendo Combinações de Pares...\n",
      "Concluído!\n",
      "\n",
      "Identificando a melhor ordem...\n",
      "Concluído!\n",
      "\n",
      "Visualizando o Resultado...\n"
     ]
    },
    {
     "data": {
      "image/png": "[encoded data removed]",
      "text/plain": [
       "<Figure size 864x360 with 2 Axes>"
      ]
     },
     "metadata": {
      "needs_background": "light"
     },
     "output_type": "display_data"
    },
    {
     "name": "stdout",
     "output_type": "stream",
     "text": [
      "Concluído!\n",
      "\n"
     ]
    }
   ],
   "source": [
    "if __name__ == '__main__':\n",
    "    ajm = np.loadtxt('dados/sample_matrix.txt')\n",
    "    ro_ajm, order = func_auditoria(ajm, None, 'resultado/auditoria.png')"
   ]
  },
  {
   "cell_type": "markdown",
   "metadata": {},
   "source": [
    "# Fim"
   ]
  }
 ],
 "metadata": {
  "kernelspec": {
   "display_name": "Python 3",
   "language": "python",
   "name": "python3"
  },
  "language_info": {
   "codemirror_mode": {
    "name": "ipython",
    "version": 3
   },
   "file_extension": ".py",
   "mimetype": "text/x-python",
   "name": "python",
   "nbconvert_exporter": "python",
   "pygments_lexer": "ipython3",
   "version": "3.7.6"
  }
 },
 "nbformat": 4,
 "nbformat_minor": 2
}
