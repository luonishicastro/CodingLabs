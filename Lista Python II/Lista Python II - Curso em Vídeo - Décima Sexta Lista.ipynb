{
 "cells": [
  {
   "cell_type": "markdown",
   "metadata": {},
   "source": [
    "Exercício 1 - Bem-vindo ao seu Projeto de Máquina de Vetores de Suporte! Basta seguir o caderno e as instruções abaixo. Vamos analisar o famoso conjunto de dados da íris!"
   ]
  },
  {
   "cell_type": "markdown",
   "metadata": {},
   "source": [
    "Exercício 2 - O conjunto de dados da íris contém medidas de 150 flores da íris de três espécies diferentes.\n",
    "\n",
    "As três classes no conjunto de dados Iris:\n",
    "\n",
    "     Iris-setosa (n = 50)\n",
    "     Iris-versicolor (n = 50)\n",
    "     Iris-virginica (n = 50)\n",
    "\n",
    "Os quatro recursos do conjunto de dados Iris:\n",
    "\n",
    "     comprimento sepal em cm\n",
    "     Largura sepal em cm\n",
    "     comprimento da pétala em cm\n",
    "     largura da pétala em cm\n",
    "\n",
    "Use seaborn para obter os dados da íris usando: iris = sns.load_dataset('iris')"
   ]
  },
  {
   "cell_type": "markdown",
   "metadata": {},
   "source": [
    "Exercício 3 - Importe algumas bibliotecas que você acha que você precisará."
   ]
  },
  {
   "cell_type": "markdown",
   "metadata": {},
   "source": [
    "Exercício 4 - Crie um parplot do conjunto de dados. Qual espécie de flor parece ser a mais separável?"
   ]
  },
  {
   "cell_type": "markdown",
   "metadata": {},
   "source": [
    "Exercício 5 - Crie um kde de comprimento sepal versus largura sepal para espécies de flores setosa."
   ]
  },
  {
   "cell_type": "markdown",
   "metadata": {},
   "source": [
    "Exercício 6 - Divida seus dados em um conjunto de treinamento e um conjunto de testes."
   ]
  },
  {
   "cell_type": "markdown",
   "metadata": {},
   "source": [
    "Exercício 7 - Chame o modelo SVC() da sklearn e ajuste o modelo aos dados de treinamento."
   ]
  },
  {
   "cell_type": "markdown",
   "metadata": {},
   "source": [
    "Exercício 8 - Agora obtenha previsões do modelo e crie uma matriz de confusão e um relatório de classificação."
   ]
  },
  {
   "cell_type": "markdown",
   "metadata": {},
   "source": [
    "Exercício 9 - Importe GridsearchCV do SciKit Learn."
   ]
  },
  {
   "cell_type": "markdown",
   "metadata": {},
   "source": [
    "Exercício 10 - Crie um dicionário chamado param_grid e preencha alguns parâmetros para C e gama."
   ]
  },
  {
   "cell_type": "markdown",
   "metadata": {},
   "source": [
    "Exercício 11 - Crie um objeto GridSearchCV e ajuste-o aos dados de treinamento."
   ]
  },
  {
   "cell_type": "markdown",
   "metadata": {},
   "source": [
    "Exercício 12 - Agora pegue esse modelo de Grid e crie algumas previsões usando o conjunto de teste e crie relatórios de classificação e matrizes de confusão para eles. Você conseguiu melhorar algo?"
   ]
  },
  {
   "cell_type": "code",
   "execution_count": null,
   "metadata": {},
   "outputs": [],
   "source": []
  }
 ],
 "metadata": {
  "kernelspec": {
   "display_name": "Python 3",
   "language": "python",
   "name": "python3"
  },
  "language_info": {
   "codemirror_mode": {
    "name": "ipython",
    "version": 3
   },
   "file_extension": ".py",
   "mimetype": "text/x-python",
   "name": "python",
   "nbconvert_exporter": "python",
   "pygments_lexer": "ipython3",
   "version": "3.6.5"
  }
 },
 "nbformat": 4,
 "nbformat_minor": 2
}
