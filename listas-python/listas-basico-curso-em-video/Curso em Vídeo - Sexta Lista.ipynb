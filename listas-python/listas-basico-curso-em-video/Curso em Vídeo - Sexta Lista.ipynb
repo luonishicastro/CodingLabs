{
 "cells": [
  {
   "cell_type": "markdown",
   "metadata": {},
   "source": [
    "Exercício 1 - Crie um programa que leia uma frase qualquer e diga se ela é um palíndromo, desconsiderando os espaços."
   ]
  },
  {
   "cell_type": "code",
   "execution_count": 17,
   "metadata": {},
   "outputs": [
    {
     "name": "stdout",
     "output_type": "stream",
     "text": [
      "Digite uma frase qualquer: a sacada da casa\n",
      "A frase digitada é palindromo.\n"
     ]
    }
   ],
   "source": [
    "fraseQualquer = input('Digite uma frase qualquer: ').upper().replace(' ', '')\n",
    "cont=1\n",
    "flagPalindromo = True\n",
    "for i in range(len(fraseQualquer)):\n",
    "    if fraseQualquer[i] != fraseQualquer[len(fraseQualquer)-cont]:\n",
    "        flagPalindromo = False\n",
    "    cont = cont + 1\n",
    "    \n",
    "if flagPalindromo == True:\n",
    "    print('A frase digitada é palindromo.')\n",
    "else:\n",
    "    print('Não é palíndromo.')"
   ]
  },
  {
   "cell_type": "markdown",
   "metadata": {},
   "source": [
    "Exercício 2 - Crie um programa que leia o ano de nascimento de sete pessoas. No final, mostre quantas pessoas ainda não atingiram a maioriadade e quantas já são maiores."
   ]
  },
  {
   "cell_type": "code",
   "execution_count": 3,
   "metadata": {},
   "outputs": [
    {
     "name": "stdout",
     "output_type": "stream",
     "text": [
      "Digite o ano de nascimento: 1996\n",
      "Digite o ano de nascimento: 2000\n",
      "Digite o ano de nascimento: 2003\n",
      "Digite o ano de nascimento: 2007\n",
      "Digite o ano de nascimento: 2009\n",
      "Digite o ano de nascimento: 2015\n",
      "Digite o ano de nascimento: 1993\n",
      "Total de pessoas que são maiores de idade: 3\n"
     ]
    }
   ],
   "source": [
    "import datetime\n",
    "\n",
    "contadorMaiorIdade = 0\n",
    "for i in range(1, 8):\n",
    "    ano = int(input('Digite o ano de nascimento: '))\n",
    "    if (datetime.datetime.now().year - ano)>=18:\n",
    "        contadorMaiorIdade = contadorMaiorIdade + 1\n",
    "print(f'Total de pessoas que são maiores de idade: {contadorMaiorIdade}')"
   ]
  },
  {
   "cell_type": "markdown",
   "metadata": {},
   "source": [
    "Exercício 3 - Faça um programa que leia o peso de cinco pessoas. No final, mostre qual foi o maior e o menor peso lidos."
   ]
  },
  {
   "cell_type": "code",
   "execution_count": 27,
   "metadata": {},
   "outputs": [
    {
     "name": "stdout",
     "output_type": "stream",
     "text": [
      "Digite o peso da Pessoa: 45\n",
      "Digite o peso da Pessoa: 56\n",
      "Digite o peso da Pessoa: 67\n",
      "Digite o peso da Pessoa: 78\n",
      "Digite o peso da Pessoa: 99\n",
      "Maior Peso digitado: 99\n",
      "Menor Peso digitado: 45\n"
     ]
    }
   ],
   "source": [
    "maiorPeso = 0\n",
    "menorPeso = 999\n",
    "for i in range(1, 6):\n",
    "    p = int(input('Digite o peso da Pessoa: '))\n",
    "    if p > maiorPeso:\n",
    "        maiorPeso = p\n",
    "    if p < menorPeso:\n",
    "        menorPeso = p\n",
    "        \n",
    "print('Maior Peso digitado: {}'.format(maiorPeso))\n",
    "print('Menor Peso digitado: {}'.format(menorPeso))"
   ]
  },
  {
   "cell_type": "markdown",
   "metadata": {},
   "source": [
    "Exercício 4 - Desenvolva um programa que leia o nome, idade e sexo de 4 pessoas. No final do programa mostre: (a) a média de idade do grupo; (b) qual é o nome do homem mais velho; (c) quantas mulheres têm menos de 20 anos."
   ]
  },
  {
   "cell_type": "code",
   "execution_count": 5,
   "metadata": {},
   "outputs": [
    {
     "name": "stdout",
     "output_type": "stream",
     "text": [
      "Digite o nome: Lucas\n",
      "Digite a idade: 27\n",
      "Digite o sexo: m\n",
      "Digite o nome: Fátima\n",
      "Digite a idade: 57\n",
      "Digite o sexo: f\n",
      "Digite o nome: Gabriela\n",
      "Digite a idade: 13\n",
      "Digite o sexo: f\n",
      "Digite o nome: Marcelo\n",
      "Digite a idade: 58\n",
      "Digite o sexo: m\n",
      "A média de idade do grupo é de 39\n",
      "Homem mais velho: Marcelo\n",
      "Ao todo são 1 mulheres com mais de 20 anos.\n"
     ]
    }
   ],
   "source": [
    "nomeHomemMaisVelho = ''\n",
    "idadeHomemMaisVelho = 0\n",
    "mulheresNosVinte = 0\n",
    "somaIdades = 0\n",
    "\n",
    "for i in range(1, 5):\n",
    "    nome = input('Digite o nome: ')\n",
    "    idade = int(input('Digite a idade: '))\n",
    "    sexo = input('Digite o sexo: ').upper()\n",
    "    \n",
    "    somaIdades = somaIdades + idade\n",
    "    if sexo == 'M' and idade > idadeHomemMaisVelho:\n",
    "        nomeHomemMaisVelho = nome\n",
    "    if sexo == 'F' and idade < 20:\n",
    "        mulheresNosVinte = mulheresNosVinte + 1\n",
    "        \n",
    "print('A média de idade do grupo é de {:.0f}'.format(somaIdades/4))\n",
    "print('Homem mais velho: {}'.format(nomeHomemMaisVelho))\n",
    "print('Ao todo são {} mulheres com mais de 20 anos.'.format(mulheresNosVinte))"
   ]
  },
  {
   "cell_type": "markdown",
   "metadata": {},
   "source": [
    "Exercício 5 - Faça um programa que leia o sexo de uma pessoa, mas só aceite os valores M ou F. Caso esteja errado, peça a digitação novamente até ter um valor correto."
   ]
  },
  {
   "cell_type": "code",
   "execution_count": 29,
   "metadata": {},
   "outputs": [
    {
     "name": "stdout",
     "output_type": "stream",
     "text": [
      "Digite o sexo da pessoa: q\n",
      "Digite o sexo da pessoa: r\n",
      "Digite o sexo da pessoa: d\n",
      "Digite o sexo da pessoa: m\n",
      "Sexo Masculino.\n"
     ]
    }
   ],
   "source": [
    "sexo = 'J'\n",
    "while sexo not in ('M', 'F'):\n",
    "    sexo = input('Digite o sexo da pessoa: ').upper()\n",
    "    \n",
    "if sexo == 'M':\n",
    "    print('Sexo Masculino.')\n",
    "if sexo == 'F':\n",
    "    print('Sexo Feminino.')"
   ]
  },
  {
   "cell_type": "markdown",
   "metadata": {},
   "source": [
    "Exercício 6 - Melhore o jogo do DESAFIO028 onde o computador vai pensar em um número entre 0 e 10. Só que agora o jogador vai tentar adivinhar até acertar, mostrando no final quantos palpites foram necessários para vencer."
   ]
  },
  {
   "cell_type": "code",
   "execution_count": 3,
   "metadata": {},
   "outputs": [
    {
     "name": "stdout",
     "output_type": "stream",
     "text": [
      "Dê seu palpite: 1\n",
      "Não foi esse o número sorteado! Tente novamente!\n",
      "Dê seu palpite: 2\n",
      "Não foi esse o número sorteado! Tente novamente!\n",
      "Dê seu palpite: 3\n",
      "Não foi esse o número sorteado! Tente novamente!\n",
      "Dê seu palpite: 4\n",
      "Você acertou! Número sorteado foi 4\n"
     ]
    }
   ],
   "source": [
    "import random\n",
    "a = random.randint(0, 10)\n",
    "palpite = -1\n",
    "while palpite != a:\n",
    "    palpite = int(input('Dê seu palpite: '))\n",
    "    if palpite != a:\n",
    "        print('Não foi esse o número sorteado! Tente novamente!')\n",
    "    else:\n",
    "        print(f'Você acertou! Número sorteado foi {a}')"
   ]
  },
  {
   "cell_type": "markdown",
   "metadata": {},
   "source": [
    "Exercício 7 - Crie um programa que leia dois valores e mostre um menu como o ao lado na tela: seu programa deverá realizar a operação solicitada em cada caso. (1) somar; (2) multiplicar; (3) maior; (4) novos números; (5) sair do programa"
   ]
  },
  {
   "cell_type": "code",
   "execution_count": 1,
   "metadata": {},
   "outputs": [
    {
     "name": "stdout",
     "output_type": "stream",
     "text": [
      "Primeiro valor: 1\n",
      "Segundo valor: 2\n",
      " [ 1 ] soma \n",
      " [ 2 ] multiplicar \n",
      " [ 3 ] maior \n",
      " [ 4 ] novos números \n",
      " [ 5 ] sair do programa \n",
      " >>>>>Qual é a sua opção? 1\n",
      "A soma entre os números 1 e 2 é 3\n",
      " [ 1 ] soma \n",
      " [ 2 ] multiplicar \n",
      " [ 3 ] maior \n",
      " [ 4 ] novos números \n",
      " [ 5 ] sair do programa \n",
      " >>>>>Qual é a sua opção? 2\n",
      "A multiplicação entre os números 1 e 2 é 2\n",
      " [ 1 ] soma \n",
      " [ 2 ] multiplicar \n",
      " [ 3 ] maior \n",
      " [ 4 ] novos números \n",
      " [ 5 ] sair do programa \n",
      " >>>>>Qual é a sua opção? 3\n",
      "2 é maior do que 1\n",
      " [ 1 ] soma \n",
      " [ 2 ] multiplicar \n",
      " [ 3 ] maior \n",
      " [ 4 ] novos números \n",
      " [ 5 ] sair do programa \n",
      " >>>>>Qual é a sua opção? 4\n",
      "Primeiro valor: 2\n",
      "Segundo valor: 3\n",
      " [ 1 ] soma \n",
      " [ 2 ] multiplicar \n",
      " [ 3 ] maior \n",
      " [ 4 ] novos números \n",
      " [ 5 ] sair do programa \n",
      " >>>>>Qual é a sua opção? 2\n",
      "A multiplicação entre os números 2 e 3 é 6\n",
      " [ 1 ] soma \n",
      " [ 2 ] multiplicar \n",
      " [ 3 ] maior \n",
      " [ 4 ] novos números \n",
      " [ 5 ] sair do programa \n",
      " >>>>>Qual é a sua opção? 5\n",
      "FINALIZANDO O PROGRAMA...\n"
     ]
    }
   ],
   "source": [
    "primeiroValor = int(input('Primeiro valor: '))\n",
    "segundoValor = int(input('Segundo valor: '))\n",
    "\n",
    "while True:\n",
    "    opcao = int(input(' [ 1 ] soma \\n [ 2 ] multiplicar \\n [ 3 ] maior \\n [ 4 ] novos números \\n [ 5 ] sair do programa \\n >>>>>Qual é a sua opção? '))\n",
    "    \n",
    "    if opcao == 1:\n",
    "        print('A soma entre os números {} e {} é {}'.format(primeiroValor, segundoValor, primeiroValor+segundoValor))\n",
    "    elif opcao == 2:\n",
    "        print('A multiplicação entre os números {} e {} é {}'.format(primeiroValor, segundoValor, primeiroValor*segundoValor))\n",
    "    elif opcao == 3:\n",
    "        if primeiroValor > segundoValor:\n",
    "            print('{} é maior do que {}'.format(primeiroValor, segundoValor))\n",
    "        else:\n",
    "            print('{} é maior do que {}'.format(segundoValor, primeiroValor))\n",
    "    if opcao == 4:\n",
    "        primeiroValor = int(input('Primeiro valor: '))\n",
    "        segundoValor = int(input('Segundo valor: '))\n",
    "    if opcao == 5:\n",
    "        break\n",
    "\n",
    "print('FINALIZANDO O PROGRAMA...')"
   ]
  },
  {
   "cell_type": "markdown",
   "metadata": {},
   "source": [
    "Exercício 8 - Faça um programa que leia um número qualquer e mostre o seu fatorial."
   ]
  },
  {
   "cell_type": "code",
   "execution_count": 11,
   "metadata": {},
   "outputs": [
    {
     "name": "stdout",
     "output_type": "stream",
     "text": [
      "Digite um número qualquer: 5\n",
      "Fatorial: 120\n"
     ]
    }
   ],
   "source": [
    "num = int(input('Digite um número qualquer: '))\n",
    "fat = num\n",
    "while num > 1:\n",
    "    num = num-1\n",
    "    fat = num * fat\n",
    "print('Fatorial: {}'.format(fat))"
   ]
  },
  {
   "cell_type": "markdown",
   "metadata": {},
   "source": [
    "Exercício 9 - Refaça o DESAFIO051, lendo o primeiro termo e a razão de uma PA, mostrando os 10 primeiros termos da progressão usando a estrutura while."
   ]
  },
  {
   "cell_type": "code",
   "execution_count": 7,
   "metadata": {},
   "outputs": [
    {
     "name": "stdout",
     "output_type": "stream",
     "text": [
      "Digite o primeiro termo da PA: 2\n",
      "Digite a razão da PA: 3\n",
      "Primeiro Termo: 2\n",
      "Segundo Termo: 5\n",
      "Terceiro Termo: 8\n",
      "Quarto Termo: 11\n",
      "Quinto Termo: 14\n",
      "Sexto Termo: 17\n",
      "Sétimo Termo: 20\n",
      "Oitavo Termo: 23\n",
      "Nono Termo: 26\n",
      "Décimo Termo: 29\n"
     ]
    }
   ],
   "source": [
    "p1 = int(input('Digite o primeiro termo da PA: '))\n",
    "r = int(input('Digite a razão da PA: '))\n",
    "cont = 0\n",
    "\n",
    "while cont <= 10:\n",
    "    n = p1 + r*(cont-1)\n",
    "    if cont == 1:\n",
    "        print(f'Primeiro Termo: {p1}')\n",
    "    elif cont == 2:\n",
    "        print(f'Segundo Termo: {n}')\n",
    "    elif cont == 3:\n",
    "        print(f'Terceiro Termo: {n}')\n",
    "    elif cont == 4:\n",
    "        print(f'Quarto Termo: {n}')\n",
    "    elif cont == 5:\n",
    "        print(f'Quinto Termo: {n}')\n",
    "    elif cont == 6:\n",
    "        print(f'Sexto Termo: {n}')\n",
    "    elif cont == 7:\n",
    "        print(f'Sétimo Termo: {n}')\n",
    "    elif cont == 8:\n",
    "        print(f'Oitavo Termo: {n}')\n",
    "    elif cont == 9:\n",
    "        print(f'Nono Termo: {n}')\n",
    "    elif cont == 10:\n",
    "        print(f'Décimo Termo: {n}')\n",
    "    cont = cont + 1"
   ]
  },
  {
   "cell_type": "markdown",
   "metadata": {},
   "source": [
    "Exercício 10 - Melhore o DESAFIO061, perguntando para o usuário se ele quer mostrar mais alguns termos. O programa encerra quando ele disser que quer mostrar 0 termos."
   ]
  },
  {
   "cell_type": "code",
   "execution_count": 2,
   "metadata": {},
   "outputs": [
    {
     "name": "stdout",
     "output_type": "stream",
     "text": [
      "Primeiro Termo: 2\n",
      "Razão da PA: 3\n",
      "2 -> 5 -> 8 -> 11 -> 14 -> 17 -> 20 -> 23 -> 26 -> 29 -> PAUSA\n",
      "\n",
      "Quantos termos você quer mostrar a mais? 2\n",
      "32 -> 35 -> \n",
      "Quantos termos você quer mostrar a mais? 2\n",
      "38 -> 41 -> \n",
      "Quantos termos você quer mostrar a mais? 2\n",
      "44 -> 47 -> \n",
      "Quantos termos você quer mostrar a mais? 0\n",
      "Progressão finalizada com 16 termos mostrados.\n"
     ]
    }
   ],
   "source": [
    "p1 = int(input('Primeiro Termo: '))\n",
    "r = int(input('Razão da PA: '))\n",
    "nTermos = -1\n",
    "\n",
    "for i in range(1, 11):\n",
    "    n = p1 + (i-1)*r\n",
    "    print(n, end=' -> ')\n",
    "    if i == 10:\n",
    "        print('PAUSA')\n",
    "                \n",
    "while nTermos != 0:\n",
    "    nTermos = int(input('\\nQuantos termos você quer mostrar a mais? '))\n",
    "    for j in range(i+1, i+nTermos+1):\n",
    "        n = p1 + (j-1)*r\n",
    "        print(n, end=' -> ')       \n",
    "        i = j\n",
    "        \n",
    "print('Progressão finalizada com {} termos mostrados.'.format(j))"
   ]
  },
  {
   "cell_type": "code",
   "execution_count": null,
   "metadata": {},
   "outputs": [],
   "source": []
  }
 ],
 "metadata": {
  "kernelspec": {
   "display_name": "Python 3",
   "language": "python",
   "name": "python3"
  },
  "language_info": {
   "codemirror_mode": {
    "name": "ipython",
    "version": 3
   },
   "file_extension": ".py",
   "mimetype": "text/x-python",
   "name": "python",
   "nbconvert_exporter": "python",
   "pygments_lexer": "ipython3",
   "version": "3.6.5"
  }
 },
 "nbformat": 4,
 "nbformat_minor": 2
}
