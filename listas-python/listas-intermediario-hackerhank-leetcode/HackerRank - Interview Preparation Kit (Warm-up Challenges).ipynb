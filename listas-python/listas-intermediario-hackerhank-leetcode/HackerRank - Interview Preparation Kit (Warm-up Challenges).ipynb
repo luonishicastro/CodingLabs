{
 "cells": [
  {
   "cell_type": "markdown",
   "metadata": {},
   "source": [
    "<h3>Sock Merchant Challenge</h3>"
   ]
  },
  {
   "cell_type": "markdown",
   "metadata": {},
   "source": [
    "<i>John works at a clothing store. He has a large pile of socks that he must pair by color for sale. Given an array of integers representing the color of each sock, determine how many pairs of socks with matching colors there are.</i>"
   ]
  },
  {
   "cell_type": "markdown",
   "metadata": {},
   "source": [
    "<i>For example, there are $n=7$ socks with colors $ar=[1,2,1,2,1,3,2]$. There is one pair of color $1$ and one of color $2$. There are three odd socks left, one of each color. The number of pairs is $2$.</i>"
   ]
  },
  {
   "cell_type": "code",
   "execution_count": 19,
   "metadata": {},
   "outputs": [
    {
     "data": {
      "text/plain": [
       "2"
      ]
     },
     "execution_count": 19,
     "metadata": {},
     "output_type": "execute_result"
    }
   ],
   "source": [
    "#!/bin/python3\n",
    "\n",
    "import math\n",
    "import os\n",
    "import random\n",
    "import re\n",
    "import sys\n",
    "\n",
    "# Complete the sockMerchant function below.\n",
    "def sockMerchant(n, ar):\n",
    "    conta_pares = 0\n",
    "    valores_unicos = set(ar)\n",
    "    for i in valores_unicos:\n",
    "        conta_pares = conta_pares + ar.count(i)//2\n",
    "        \n",
    "    return conta_pares\n",
    "\n",
    "\n",
    "#sockMerchant(7, [1,2,1,2,1,3,2])\n",
    "\n",
    "'''\n",
    "if __name__ == '__main__':\n",
    "    fptr = open(os.environ['OUTPUT_PATH'], 'w')\n",
    "\n",
    "    n = int(input())\n",
    "\n",
    "    ar = list(map(int, input().rstrip().split()))\n",
    "\n",
    "    result = sockMerchant(n, ar)\n",
    "\n",
    "    fptr.write(str(result) + '\\n')\n",
    "\n",
    "    fptr.close()\n",
    "'''"
   ]
  },
  {
   "cell_type": "markdown",
   "metadata": {},
   "source": [
    "![](john_can_match_three_pairs_of_socks.png)"
   ]
  },
  {
   "cell_type": "markdown",
   "metadata": {},
   "source": [
    "<h3>Jumping on the Clouds</h3>"
   ]
  },
  {
   "cell_type": "markdown",
   "metadata": {},
   "source": [
    "<i>Emma is playing a new mobile game that starts with consecutively numbered clouds. Some of the clouds are thunderheads and others are cumulus. She can jump on any cumulus cloud having a number that is equal to the number of the current cloud plus $1$ or $2$. She must avoid the thunderheads. Determine the minimum number of jumps it will take Emma to jump from her starting postion to the last cloud. It is always possible to win the game.\n",
    "For each game, Emma will get an array of clouds numbered $0$ if they are safe or $1$ if they must be avoided. For example, $c=[0,1,0,0,0,1,0]$ indexed from $0...6$. The number on each cloud is its index in the list so she must avoid the clouds at indexes $1$ and $5$. She could follow the following two paths: $0 - 2 - 4 - 6$ or $0 - 2 - 3 - 4 - 6$. The first path takes $3$ jumps while the second takes $4$.</i>"
   ]
  },
  {
   "cell_type": "code",
   "execution_count": 8,
   "metadata": {},
   "outputs": [
    {
     "data": {
      "text/plain": [
       "4"
      ]
     },
     "execution_count": 8,
     "metadata": {},
     "output_type": "execute_result"
    }
   ],
   "source": [
    "import math\n",
    "import os\n",
    "import random\n",
    "import re\n",
    "import sys\n",
    "\n",
    "# Complete the jumpingOnClouds function below.\n",
    "def jumpingOnClouds(c):\n",
    "    indice = 0\n",
    "    passo = 0\n",
    "    while indice < len(c)-1:\n",
    "        if indice != len(c)-2:\n",
    "            if c[indice+2] == 1:\n",
    "                passo = passo + 1\n",
    "                indice = indice + 1\n",
    "            else:\n",
    "                passo = passo + 1\n",
    "                indice = indice + 2\n",
    "        else:\n",
    "            passo = passo + 1\n",
    "            break\n",
    "    return passo\n",
    "            \n",
    "jumpingOnClouds([0, 0, 1, 0, 0, 1, 0])"
   ]
  },
  {
   "cell_type": "markdown",
   "metadata": {},
   "source": [
    "<h3>Counting Valleys</h3>"
   ]
  },
  {
   "cell_type": "markdown",
   "metadata": {},
   "source": [
    "<i>Gary is an avid hiker. He tracks his hikes meticulously, paying close attention to small details like topography. During his last hike he took exactly $n$ steps. For every step he took, he noted if it was an uphill, $U$, or a downhill, $D$ step. Gary's hikes start and end at sea level and each step up or down represents a $1$ unit change in altitude. We define the following terms:\n",
    "* A mountain is a sequence of consecutive steps above sea level, starting with a step up from sea level and ending with a step down to sea level.\n",
    "* A valley is a sequence of consecutive steps below sea level, starting with a step down from sea level and ending with a step up to sea level.\n",
    "</i>"
   ]
  },
  {
   "cell_type": "markdown",
   "metadata": {},
   "source": [
    "<i>\n",
    "    Given Gary's sequence of up and down steps during his last hike, find and print the number of valleys he walked through.\n",
    "<br><br>For example, if Gary's path is $s=[DDUUUUDD]$, he first enters a valley $2$ units deep. Then he climbs out an up onto a mountain $2$ units high. Finally, he returns to sea level and ends his hike.\n",
    "</i>"
   ]
  },
  {
   "cell_type": "code",
   "execution_count": 15,
   "metadata": {},
   "outputs": [
    {
     "data": {
      "text/plain": [
       "2"
      ]
     },
     "execution_count": 15,
     "metadata": {},
     "output_type": "execute_result"
    }
   ],
   "source": [
    "#!/bin/python3\n",
    "\n",
    "import math\n",
    "import os\n",
    "import random\n",
    "import re\n",
    "import sys\n",
    "\n",
    "# Complete the countingValleys function below.\n",
    "def countingValleys(n, s):\n",
    "    conta_passos = 0\n",
    "    conta_vale = 0\n",
    "    for passo in s:\n",
    "        if passo == 'U':\n",
    "           conta_passos = conta_passos+1\n",
    "        elif passo == 'D':\n",
    "            conta_passos = conta_passos-1\n",
    "        \n",
    "        if conta_passos == 0:\n",
    "            if passo == 'U':\n",
    "                conta_vale = conta_vale+1\n",
    "    return conta_vale\n",
    "\n",
    "countingValleys(10, 'DDUUUDDUUD')"
   ]
  },
  {
   "cell_type": "code",
   "execution_count": null,
   "metadata": {},
   "outputs": [],
   "source": [
    "'''\n",
    "(exemplo 1)\n",
    "quantidade passos = 8\n",
    "sequencia = UDDDUDUU\n",
    "\n",
    "_/\\      _\n",
    "   \\    /\n",
    "    \\/\\/\n",
    "    \n",
    "resposta correta: 1\n",
    "    \n",
    "    \n",
    "(exemplo 2)\n",
    "quantidade passos = 12\n",
    "sequencia = DUDUDUDUDUDU\n",
    "_            _\n",
    " \\/\\/\\/\\/\\/\\/\n",
    " \n",
    "reposta correta: 6\n",
    "\n",
    "(exemplo 3)\n",
    "quantidade passos = 10\n",
    "sequencia = DDUUUDDUUD\n",
    "_    /\\  /\\_\n",
    " \\  /  \\/\n",
    "  \\/\n",
    "  \n",
    "resposta correta: 2\n",
    "'''"
   ]
  },
  {
   "cell_type": "markdown",
   "metadata": {},
   "source": [
    "<h3>Repeated String</h3>"
   ]
  },
  {
   "cell_type": "markdown",
   "metadata": {},
   "source": [
    "<i>\n",
    "Lilah has a string, $s$, of lowercase English letters that she repeated infinitely many times.\n",
    "\n",
    "Given an integer, $n$, find and print the number of letter a's in the first  letters of Lilah's infinite string.\n",
    "\n",
    "For example, if the string $s='abca'$ and $n=10$, the substring we consider is $abcacabcac$, the first $10$ characters of her infinite string. There are $4$ occurrences of a in the substring.\n",
    "</i>"
   ]
  },
  {
   "cell_type": "code",
   "execution_count": 11,
   "metadata": {},
   "outputs": [
    {
     "data": {
      "text/plain": [
       "4"
      ]
     },
     "execution_count": 11,
     "metadata": {},
     "output_type": "execute_result"
    }
   ],
   "source": [
    "# Complete the repeatedString function below.\n",
    "def repeatedString(s, n):\n",
    "    res = 0\n",
    "    if n%len(s)==0:\n",
    "        res = s.count('a')*(n//len(s))\n",
    "    else:\n",
    "        res = s.count('a')*(n//len(s))\n",
    "        res = res + s[:n%len(s)].count('a')\n",
    "    return res\n",
    "\n",
    "repeatedString('abcac', 10)"
   ]
  },
  {
   "cell_type": "code",
   "execution_count": 5,
   "metadata": {},
   "outputs": [
    {
     "data": {
      "text/plain": [
       "3"
      ]
     },
     "execution_count": 5,
     "metadata": {},
     "output_type": "execute_result"
    }
   ],
   "source": [
    "'''\n",
    "string = 'abcac'\n",
    "qtd caracteres = 10\n",
    "stringRes = abcacabcac\n",
    "\n",
    "resultado = 4\n",
    "'''\n",
    "\n",
    "'''\n",
    "string = 'aba'\n",
    "qtd caracteres = 10\n",
    "stringRes abaabaabaa\n",
    "\n",
    "resultado = 7\n",
    "'''"
   ]
  },
  {
   "cell_type": "code",
   "execution_count": null,
   "metadata": {},
   "outputs": [],
   "source": []
  }
 ],
 "metadata": {
  "kernelspec": {
   "display_name": "Python 3",
   "language": "python",
   "name": "python3"
  },
  "language_info": {
   "codemirror_mode": {
    "name": "ipython",
    "version": 3
   },
   "file_extension": ".py",
   "mimetype": "text/x-python",
   "name": "python",
   "nbconvert_exporter": "python",
   "pygments_lexer": "ipython3",
   "version": "3.6.5"
  }
 },
 "nbformat": 4,
 "nbformat_minor": 2
}
