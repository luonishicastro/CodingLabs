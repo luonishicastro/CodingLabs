{
 "cells": [
  {
   "cell_type": "markdown",
   "metadata": {},
   "source": [
    "<n>QUESTION 1 - You are working on a Python 3 program that is trying to compute some naive integer factorization, i.e. some compute intensive tasks. Which of the following changes will actually help improve the runtime?</n>"
   ]
  },
  {
   "cell_type": "markdown",
   "metadata": {},
   "source": [
    "<n>Alternatives\n",
    "* Use of threading to run multiple OS level threads to run each task. This helps because OS level synchronization is faster.\n",
    "* Use of multiple system processes to run each task. This helps because all CPU cores are properly and effectively used.\n",
    "* Use of asyncio to run multiple application level threads to run each task. This helps because this reduces the need to do any kind of kernel context switch, and still leverages multiple CPU cores.\n",
    "* Neither\n",
    "</n>"
   ]
  },
  {
   "cell_type": "markdown",
   "metadata": {},
   "source": [
    "<n>QUESTION 2 - You have a Python 3 program that implements a basic scheduler that runs some tasks at a specified time. e.g. \"run a program X every day at 13:00\". The implementation of this scheduler fetches the system clock to get the current time to determine if a task needs to happen. If you write a test for it, e.g. at time T, schedule a task at T+x, the task will actually run at T+x. How would you test this use case?</n>"
   ]
  },
  {
   "cell_type": "markdown",
   "metadata": {},
   "source": [
    "<n>\n",
    "Alternatives\n",
    "* This is testable but you can only test the cases where x is small, because otherwise you will wait a long time.\n",
    "* This is not testable since there is not a mock of time library in Python.\n",
    "* This is not testable since a system clock cannot be manipulated without using root access that impacts all other programs on the test server.\n",
    "* This is testable but you need to implement your own interface of a clock with a fake clock implementation, and a real clock with time library.\n",
    "</n>"
   ]
  },
  {
   "cell_type": "markdown",
   "metadata": {},
   "source": [
    "<n>QUESTION 3 - You are a developer, working on a Python 3 program. You are asked to do continous integration using sockets, for sending data between applications. Consider the following code snippet from your own application:</n>"
   ]
  },
  {
   "cell_type": "code",
   "execution_count": null,
   "metadata": {},
   "outputs": [],
   "source": [
    "# .. some code here\n",
    "try:\n",
    "    transport._extra['sockname'] = sock.getsockname()\n",
    "except socket.error\n",
    "    if transport.loop.get_debug():\n",
    "        logger.warning(\"getsockname() failed on %r, sock, exc_info = True\")\n",
    "        \n",
    "if \"peername\" not in transport._extra:\n",
    "    try:\n",
    "        transport._extra['peername'] = sock.getpeername()\n",
    "    except socket.error:\n",
    "        transport._extra['peername'] = None\n",
    "# .. some code here"
   ]
  },
  {
   "cell_type": "markdown",
   "metadata": {},
   "source": [
    "<n>Which of the following statements is true for the above code snippet?\n",
    "* We can directly use sock.getpeername() instead of try except block, since getpeername returns a tuple and handles null if there is none.\n",
    "* Some of the TCP sockets may not have a peer name, and hence we are catching the exception using socket.error\n",
    "* Some of the UDP sockets may or may not have a peer name, and hence we are catching th exception using socket.error\n",
    "* All of the UDP sockets may not have peer names, and hence we are catching the exception for all UDP sockets.\n",
    "</n>"
   ]
  },
  {
   "cell_type": "markdown",
   "metadata": {},
   "source": [
    "<n>QUESTION 4 - Consider a Python module arbit.py that imports symbols from the built-in random module in two different ways:</n>"
   ]
  },
  {
   "cell_type": "code",
   "execution_count": null,
   "metadata": {},
   "outputs": [],
   "source": [
    "# IMPORT-1\n",
    "import random\n",
    "# IMPORT-2\n",
    "from random import choice"
   ]
  },
  {
   "cell_type": "markdown",
   "metadata": {},
   "source": [
    "<n>Suppose the code in arbit.py accesses symbols from the random module as follows:</n>"
   ]
  },
  {
   "cell_type": "code",
   "execution_count": null,
   "metadata": {},
   "outputs": [],
   "source": [
    "numbers = [num for in range(0, 100)]\n",
    "# CLIENT-CODE-1\n",
    "shuffled = shuffle(numbers)\n",
    "# CLIENT-CODE-2\n",
    "pick = choice(numbers)"
   ]
  },
  {
   "cell_type": "markdown",
   "metadata": {},
   "source": [
    "<n>Which of the above snippets of client code will work / not work, and why?\n",
    "* Neither CLIENT-CODE-1 nor CLIENT-CODE-2 will work because both IMPORT-1 and IMPORT-2 do not place the symbols shuffle and choice from the random module, into the symbol table for arbit.py\n",
    "* CLIENT-CODE-2 will work and CLIENT-CODE-1 will not because IMPORT-1 does not place shuffle into the symbol table of arbit.py, whereas IMPORT-2 places choice into it.\n",
    "* Both CLIENT-CODE-1 and CLIENT-CODE-2 will work because IMPORT-1 is sufficient to place all the symbols from the random module directly into the symbol table for arbit.py\n",
    "* Both CLIENT-CODE-1 and CLIENT-CODE-2 will work because IMPORT-2 is sufficient to place all the symbols from the random module directly into the symbol table for arbit.py\n",
    "* CLIENT-CODE-1 will work and CLIENT-CODE-2 will not work because IMPORT-2 does not place choice into the symbol table of arbit.py, whereas IMPORT-2 places both shuffle and choice into it\n",
    "</n>"
   ]
  },
  {
   "cell_type": "markdown",
   "metadata": {},
   "source": [
    "<n>What does the below code snippet do?</n>"
   ]
  },
  {
   "cell_type": "code",
   "execution_count": null,
   "metadata": {},
   "outputs": [],
   "source": [
    "def some_func(array):\n",
    "    array = iter(array)\n",
    "    try:\n",
    "        first = next(array)\n",
    "    except StopIteration:\n",
    "        return True\n",
    "    \n",
    "    return all(first == x for x in array)"
   ]
  },
  {
   "cell_type": "markdown",
   "metadata": {},
   "source": [
    "<n>Alternatives:\n",
    "* Returns true if all elements except the first element are evaluated as True\n",
    "* Converts the input to map without first item and returns true\n",
    "* Converts the input to a set and checking that it only has one or zero and returns true\n",
    "* Returns true if all elements are evaluated as True\n",
    "* Converts all the input to list and returns true\n",
    "</n>"
   ]
  },
  {
   "cell_type": "code",
   "execution_count": null,
   "metadata": {},
   "outputs": [],
   "source": []
  }
 ],
 "metadata": {
  "kernelspec": {
   "display_name": "Python 3",
   "language": "python",
   "name": "python3"
  },
  "language_info": {
   "codemirror_mode": {
    "name": "ipython",
    "version": 3
   },
   "file_extension": ".py",
   "mimetype": "text/x-python",
   "name": "python",
   "nbconvert_exporter": "python",
   "pygments_lexer": "ipython3",
   "version": "3.7.4"
  }
 },
 "nbformat": 4,
 "nbformat_minor": 2
}
