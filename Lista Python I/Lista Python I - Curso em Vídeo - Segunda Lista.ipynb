{
 "cells": [
  {
   "cell_type": "markdown",
   "metadata": {},
   "source": [
    "Exercício 1 - Faça um algoritmo que leia o preço de um produto e mostre seu novo preço, com 5% de desconto."
   ]
  },
  {
   "cell_type": "code",
   "execution_count": 2,
   "metadata": {},
   "outputs": [
    {
     "name": "stdout",
     "output_type": "stream",
     "text": [
      "Qual o preço do produto R$100\n",
      "Após desconto, o produto passará a custar R$85.00\n"
     ]
    }
   ],
   "source": [
    "preco = float(input('Qual o preço do produto? R$'))\n",
    "print('Após desconto, o produto passará a custar R${:.2f}'.format(preco-preco*0.15))"
   ]
  },
  {
   "cell_type": "markdown",
   "metadata": {},
   "source": [
    "Exercício 2 - Faça um algoritmo que leia o salário de um funcionário e mostre seu novo salário, com 15% de aumento."
   ]
  },
  {
   "cell_type": "code",
   "execution_count": 4,
   "metadata": {},
   "outputs": [
    {
     "name": "stdout",
     "output_type": "stream",
     "text": [
      "Qual é o salário atual? R$1000\n",
      "Após reajuste de 15%, o salário de R$1000.00 passará a ser R$1150.00\n"
     ]
    }
   ],
   "source": [
    "salario = float(input('Qual é o salário atual? R$'))\n",
    "print('Após reajuste de 15%, o salário de R${:.2f} passará a ser R${:.2f}'.format(salario, salario+salario*0.15))"
   ]
  },
  {
   "cell_type": "markdown",
   "metadata": {},
   "source": [
    "Exercício 3 - Escreva um programa que converta uma temperatura digitada em C e converta para F."
   ]
  },
  {
   "cell_type": "code",
   "execution_count": 5,
   "metadata": {},
   "outputs": [
    {
     "name": "stdout",
     "output_type": "stream",
     "text": [
      "Digite um temperatura qualquer em graus Celsius: 0\n",
      "0.0 graus Celsius convertidos para Fahrenheit ficam 32.0 graus\n"
     ]
    }
   ],
   "source": [
    "celsius = float(input('Digite um temperatura qualquer em graus Celsius: '))\n",
    "fahr = celsius * 9/5 + 32\n",
    "print('{} graus Celsius convertidos para Fahrenheit ficam {} graus'.format(celsius, fahr))"
   ]
  },
  {
   "cell_type": "markdown",
   "metadata": {},
   "source": [
    "Exercício 4 - Escreva um programa que pergunte a quantidade de Km percorridos por um carro alugado e quantidade de dias pelos quais ele foi alugado. Calcule o preço a pagar, sabendo que o carro custa R$60 por dia e R$0,15 por Km rodado."
   ]
  },
  {
   "cell_type": "code",
   "execution_count": 1,
   "metadata": {},
   "outputs": [
    {
     "name": "stdout",
     "output_type": "stream",
     "text": [
      "Digite a quantidade de Km percorridos: 100\n",
      "Quantos dias de aluguel? 5\n",
      "O preço de Aluguel total por 5 dias e 100 Kilômetros rodados será de R$315.00\n"
     ]
    }
   ],
   "source": [
    "km = int(input('Digite a quantidade de Km percorridos: '))\n",
    "tempo = int(input('Quantos dias de aluguel? '))\n",
    "preco = tempo * 60 + km * 0.15\n",
    "print('O preço de Aluguel total por {} dias e {} Kilômetros rodados será de R${:.2f}'.format(tempo, km, preco))"
   ]
  },
  {
   "cell_type": "markdown",
   "metadata": {},
   "source": [
    "Exercício 5 - Crie um programa que leia um número Real qualquer pelo teclado e mostre na tela a sua porção inteira."
   ]
  },
  {
   "cell_type": "code",
   "execution_count": 4,
   "metadata": {},
   "outputs": [
    {
     "name": "stdout",
     "output_type": "stream",
     "text": [
      "Digite um número qualquer: 10.65\n",
      "10\n"
     ]
    }
   ],
   "source": [
    "num = float(input('Digite um número qualquer: '))\n",
    "print(int(num))"
   ]
  },
  {
   "cell_type": "markdown",
   "metadata": {},
   "source": [
    "Exercício 6 - Faça um programa que leia o comprimento do cateto oposto e do cateto adjacente de um triângulo retângulo, calcule e mostre o comprimento da hipotenusa."
   ]
  },
  {
   "cell_type": "code",
   "execution_count": 8,
   "metadata": {},
   "outputs": [
    {
     "name": "stdout",
     "output_type": "stream",
     "text": [
      "Digite o comprimenro do Cateto Oposto: 3\n",
      "Digite o comprimento do Cateto Adjacente: 4\n",
      "Um Triângulo de lados 3.0 e 4.0 terá como hipotenusa 5\n"
     ]
    }
   ],
   "source": [
    "import math\n",
    "\n",
    "catOp = float(input('Digite o comprimenro do Cateto Oposto: '))\n",
    "catAd = float(input('Digite o comprimento do Cateto Adjacente: '))\n",
    "hip = math.sqrt(pow(catOp, 2) + pow(catAd, 2))\n",
    "print(f'Um Triângulo de lados {catOp} e {catAd} terá como hipotenusa {int(hip)}')"
   ]
  },
  {
   "cell_type": "markdown",
   "metadata": {},
   "source": [
    "Exercício 7 - Faça um programa que leia um ângulo qualquer e mostre na tela o valor do seno, cosseno e tangente desse ângulo."
   ]
  },
  {
   "cell_type": "code",
   "execution_count": 9,
   "metadata": {},
   "outputs": [
    {
     "name": "stdout",
     "output_type": "stream",
     "text": [
      "Digite um ângulo qualquer: 30\n",
      "Cosseno do Ângulo digitado: 0.15425144988758405\n",
      "Seno do Ângulo digitado: -0.9880316240928618\n",
      "Tangente do Ângulo digitado: -6.405331196646276\n"
     ]
    }
   ],
   "source": [
    "import math\n",
    "angulo = int(input('Digite um ângulo qualquer: '))\n",
    "print('Cosseno do Ângulo digitado: {}'.format(math.cos(angulo)))\n",
    "print('Seno do Ângulo digitado: {}'.format(math.sin(angulo)))\n",
    "print('Tangente do Ângulo digitado: {}'.format(math.tan(angulo)))"
   ]
  },
  {
   "cell_type": "markdown",
   "metadata": {},
   "source": [
    "Exercício 8 - Um professor quer sortear um dos seus quatro alunos para apagar o quadro. Faç um programa que ajude ele, lendo o nome deles e escrevendo o escolhido."
   ]
  },
  {
   "cell_type": "code",
   "execution_count": 25,
   "metadata": {},
   "outputs": [
    {
     "name": "stdout",
     "output_type": "stream",
     "text": [
      "Aluno sorteado foi o Pedrinho.\n"
     ]
    }
   ],
   "source": [
    "import random\n",
    "sorteado = random.randint(1,4)\n",
    "if sorteado == 1:\n",
    "    print('Aluno sorteado foi o Pedrinho.')\n",
    "elif sorteado == 2:\n",
    "    print('Aluno sorteado foi a Ana.')\n",
    "elif sorteado == 3:\n",
    "    print('Aluno sorteado foi o Lucas.')\n",
    "else:\n",
    "    print('Aluno sortado foi a Bia.')"
   ]
  },
  {
   "cell_type": "markdown",
   "metadata": {},
   "source": [
    "Exercício 9 - O mesmo professor do desafio anterior quer sortear a ordem de apresentação de trabalhos dos alunos. Faça um programa que leia o nome dos quatro alunos e mostre a ordem sorteada."
   ]
  },
  {
   "cell_type": "code",
   "execution_count": 27,
   "metadata": {},
   "outputs": [
    {
     "name": "stdout",
     "output_type": "stream",
     "text": [
      "Digite o nome do primeiro aluno: Lucas\n",
      "Digite o nome do segundo aluno: Bia\n",
      "Digite o nome do terceiro aluno: Ana\n",
      "Digite o nome do quarto aluno: Pedrinho\n",
      "Ordem de apresentação ficou: Ana, Lucas, Pedrinho, Bia\n"
     ]
    }
   ],
   "source": [
    "import random\n",
    "\n",
    "aluno1 = input('Digite o nome do primeiro aluno: ')\n",
    "aluno2 = input('Digite o nome do segundo aluno: ')\n",
    "aluno3 = input('Digite o nome do terceiro aluno: ')\n",
    "aluno4 = input('Digite o nome do quarto aluno: ')\n",
    "\n",
    "apresentacao = [aluno1, aluno2, aluno3, aluno4]\n",
    "random.shuffle(apresentacao)\n",
    "print('Ordem de apresentação ficou: {}, {}, {}, {}'.format(apresentacao[0],apresentacao[1],apresentacao[2],apresentacao[3]))"
   ]
  },
  {
   "cell_type": "markdown",
   "metadata": {},
   "source": [
    "Exercício 10 - Crie um programa que leia o nome completo de uma pessoa e mostre: (a) o nome com todas as letras maiúsculas e minúsculas; (b) quantas letras ao todo (sem considerar espaços); (c) quantas letras tem o primeiro nome."
   ]
  },
  {
   "cell_type": "code",
   "execution_count": 32,
   "metadata": {},
   "outputs": [
    {
     "name": "stdout",
     "output_type": "stream",
     "text": [
      "Digite seu nome completo: Lucas Beraldo\n",
      "Nome em maiúsculo: LUCAS BERALDO\n",
      "Nome em minúsculo: lucas beraldo\n",
      "Total de Letros: 12\n",
      "Letras do primeiro nome: 5\n"
     ]
    }
   ],
   "source": [
    "nome = input('Digite seu nome completo: ')\n",
    "print('Nome em maiúsculo: {}'.format(nome.upper()))\n",
    "print('Nome em minúsculo: {}'.format(nome.lower()))\n",
    "print('Total de Letros: {}'.format(len(nome.replace(' ', ''))))\n",
    "print('Letras do primeiro nome: {}'.format(len(nome.split()[0])))"
   ]
  },
  {
   "cell_type": "code",
   "execution_count": null,
   "metadata": {},
   "outputs": [],
   "source": []
  }
 ],
 "metadata": {
  "kernelspec": {
   "display_name": "Python 3",
   "language": "python",
   "name": "python3"
  },
  "language_info": {
   "codemirror_mode": {
    "name": "ipython",
    "version": 3
   },
   "file_extension": ".py",
   "mimetype": "text/x-python",
   "name": "python",
   "nbconvert_exporter": "python",
   "pygments_lexer": "ipython3",
   "version": "3.6.5"
  }
 },
 "nbformat": 4,
 "nbformat_minor": 2
}
