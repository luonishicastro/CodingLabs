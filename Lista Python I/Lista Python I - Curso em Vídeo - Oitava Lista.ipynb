{
 "cells": [
  {
   "cell_type": "markdown",
   "metadata": {},
   "source": [
    "Exercício 1 - Crie uma tupla preenchida com os 20 primeiros colocados da Tabela do Campeonato Brasileiro de Futebol, na ordem de colocação. Depois mostre: a) Os 5 primeiros; b) Os últimos 4 colocados; (c) Times em ordem alfabética; (d) Em que posição está o time da Chapecoense."
   ]
  },
  {
   "cell_type": "code",
   "execution_count": 20,
   "metadata": {},
   "outputs": [
    {
     "name": "stdout",
     "output_type": "stream",
     "text": [
      "Os 5 primeiros colocados são: ('Corinthians', 'Palmeiras', 'Santos', 'Grêmio', 'Cruzeiro')\n",
      "Os 4 últimos colocados são: ('Coritiba', 'Avaí', 'Ponte Preta', 'Atlético-GO')\n",
      "Ordem alfabética: ['Atlético', 'Atlético-GO', 'Atlético-PR', 'Avaí', 'Bahia', 'Botafogo', 'Chapecoense', 'Corinthians', 'Coritiba', 'Cruzeiro', 'EC Vitória', 'Flamengo', 'Fluminense', 'Grêmio', 'Palmeiras', 'Ponte Preta', 'Santos', 'Sport Recife', 'São Paulo', 'Vasco']\n",
      "A Chape está em 8 lugar.\n"
     ]
    }
   ],
   "source": [
    "times = ('Corinthians', 'Palmeiras', 'Santos', 'Grêmio', 'Cruzeiro', 'Flamengo', 'Vasco', 'Chapecoense', 'Atlético', 'Botafogo', 'Atlético-PR', 'Bahia', 'São Paulo', 'Fluminense', 'Sport Recife', 'EC Vitória', 'Coritiba', 'Avaí', 'Ponte Preta', 'Atlético-GO')\n",
    "\n",
    "\n",
    "print('Os 5 primeiros colocados são: {}'.format(times[:5]))\n",
    "print('Os 4 últimos colocados são: {}'.format(times[-4:]))\n",
    "print('Ordem alfabética: {}'.format(sorted(times)))\n",
    "print('A Chape está em {} lugar.'.format(times.index('Chapecoense')+1))"
   ]
  },
  {
   "cell_type": "markdown",
   "metadata": {},
   "source": [
    "Exercício 2 - Crie um programa que vai gerar cinco números aleatórios e colocar em uma tupla. Depois disso, mostre a listagem de números gerados e também indique o menor e o maior valor que estão na tupla."
   ]
  },
  {
   "cell_type": "code",
   "execution_count": 6,
   "metadata": {},
   "outputs": [
    {
     "name": "stdout",
     "output_type": "stream",
     "text": [
      "Números gerados: [57, 29, 96, 70, 43]\n",
      "Maior número gerado: 96\n",
      "Maior número gerado: 29\n"
     ]
    }
   ],
   "source": [
    "import random\n",
    "listaNumeros = []\n",
    "\n",
    "for i in range(1, 6):\n",
    "    n = random.randint(1,100)\n",
    "    listaNumeros.append(n)\n",
    "    \n",
    "print('Números gerados: {}'.format(listaNumeros))\n",
    "print('Maior número gerado: {}'.format(max(listaNumeros)))\n",
    "print('Maior número gerado: {}'.format(min(listaNumeros)))"
   ]
  },
  {
   "cell_type": "markdown",
   "metadata": {},
   "source": [
    "Exercício 3 - Desenvolva um programa que leia quatro valores pelo teclado e guarde-os em uma tupla. No final, mostre: a) quantas vezes apareceu o valor 9; b) em que posição foi digitado o primeiro valor 3; c) quais foram os números pares."
   ]
  },
  {
   "cell_type": "code",
   "execution_count": 5,
   "metadata": {},
   "outputs": [
    {
     "name": "stdout",
     "output_type": "stream",
     "text": [
      "Digite o primeiro valor: 1\n",
      "Digite o segundo valor: 2\n",
      "Digite o terceiro valor: 3\n",
      "Digite o quarto valor: 9\n",
      "O valor 9 apareceu 1 vezes.\n",
      "O valor 3 aparece na 3 posição.\n",
      "O valores pares são: [2].\n"
     ]
    }
   ],
   "source": [
    "primeiroValor = int(input('Digite o primeiro valor: '))\n",
    "segundoValor = int(input('Digite o segundo valor: '))\n",
    "terceiroValor = int(input('Digite o terceiro valor: '))\n",
    "quartoValor = int(input('Digite o quarto valor: '))\n",
    "\n",
    "listaValores = (primeiroValor, segundoValor, terceiroValor, quartoValor)\n",
    "pares = []\n",
    "for i in listaValores:\n",
    "    if i % 2 == 0:\n",
    "        pares.append(i)\n",
    "\n",
    "print('O valor 9 apareceu {} vezes.'.format(listaValores.count(9)))\n",
    "print('O valor 3 aparece na {} posição.'.format(listaValores.index(3)+1))\n",
    "print('O valores pares são: {}.'.format(pares))"
   ]
  },
  {
   "cell_type": "markdown",
   "metadata": {},
   "source": [
    "Exercício 4 - Crie um programa que tenha uma tupla única com nomes de produtos e seus respectivos preços, na sequência. No final, mostre uma listagem de preços, organizando os dados em forma tabular."
   ]
  },
  {
   "cell_type": "code",
   "execution_count": 52,
   "metadata": {},
   "outputs": [
    {
     "name": "stdout",
     "output_type": "stream",
     "text": [
      "--------------------------------------------------------------------\n",
      "                 LISTAGEM DE PREÇOS\n",
      "--------------------------------------------------------------------\n",
      "Lápis.......................................................R$1.75\n",
      "Borracha....................................................R$2.00\n",
      "Caderno.....................................................R$15.90\n",
      "Estojo......................................................R$25.00\n",
      "Transferidor................................................R$4.20\n",
      "Compasso....................................................R$9.99\n",
      "Mochila.....................................................R$120.32\n",
      "Canetas.....................................................R$22.30\n",
      "Livro.......................................................R$34.90\n",
      "--------------------------------------------------------------------\n"
     ]
    }
   ],
   "source": [
    "tuplaCompras = ('Lápis', 1.75, 'Borracha', 2.00, 'Caderno', 15.90, 'Estojo', 25.00, 'Transferidor', 4.20, 'Compasso', 9.99, 'Mochila', 120.32, 'Canetas', 22.30, 'Livro', 34.90)\n",
    "print('-' * 68)\n",
    "print('                 LISTAGEM DE PREÇOS')\n",
    "print('-' * 68)\n",
    "for i in range(0, len(tuplaCompras)):\n",
    "    if i % 2 == 0:\n",
    "        print(tuplaCompras[i], end='')\n",
    "        print('.' * (60 - len(tuplaCompras[i])) , end='R$')\n",
    "        print('{:.2f}'.format(tuplaCompras[i+1]))\n",
    "print('-' * 68)"
   ]
  },
  {
   "cell_type": "markdown",
   "metadata": {},
   "source": [
    "Exercício 5 - Crie um programa que tenha uma tupla com várias palavras (não usar acentos). Depois disso, você deve mostrar, para cada palavra, quais serão as suas vogais."
   ]
  },
  {
   "cell_type": "code",
   "execution_count": 13,
   "metadata": {},
   "outputs": [
    {
     "name": "stdout",
     "output_type": "stream",
     "text": [
      "\n",
      "\n",
      "Vogais em: Rio de Janeiro: i, o, e, a, e, i, o, \n",
      "\n",
      "Vogais em: Sao Paulo: a, o, a, u, o, \n",
      "\n",
      "Vogais em: Minas Gerais: i, a, e, a, i, \n",
      "\n",
      "Vogais em: Espirito Santo: i, i, o, a, o, "
     ]
    }
   ],
   "source": [
    "estados = ('Rio de Janeiro', 'Sao Paulo', 'Minas Gerais', 'Espirito Santo')\n",
    "\n",
    "vogais = ['a', 'e', 'i', 'o', 'u']\n",
    "for palavra in estados:\n",
    "    print('\\n')\n",
    "    print(f'Vogais em: {palavra}:', end=' ')\n",
    "    for letras in palavra:\n",
    "        if letras in vogais:\n",
    "            print(letras, end=', ')"
   ]
  },
  {
   "cell_type": "markdown",
   "metadata": {},
   "source": [
    "Exercício 6 - Faça um programa que leia 5 valores numéricos e guarde-os em uma lista. No final, mostre qual foi o maior e o menor valor digitado e as suas respectivas posições na lista."
   ]
  },
  {
   "cell_type": "code",
   "execution_count": 21,
   "metadata": {},
   "outputs": [
    {
     "name": "stdout",
     "output_type": "stream",
     "text": [
      "Digite um novo número: 1\n",
      "Digite um novo número: 2\n",
      "Digite um novo número: 3\n",
      "Digite um novo número: 4\n",
      "Digite um novo número: 5\n",
      "Maior número digitado: 5\n",
      "Menor número digitado: 1\n"
     ]
    }
   ],
   "source": [
    "listaNumeros = list()\n",
    "for i in range(1,6):\n",
    "    num = int(input('Digite um novo número: '))\n",
    "    listaNumeros.append(num)\n",
    "    \n",
    "print('Maior número digitado: {}'.format(max(listaNumeros)))\n",
    "print('Menor número digitado: {}'.format(min(listaNumeros)))"
   ]
  },
  {
   "cell_type": "markdown",
   "metadata": {},
   "source": [
    "Exercício 7 - Crie um programa onde o usuário possa digitar vários valores numéricos e cadastre-os em uma lista. Caso o número já exista lá dentro, ele não será adicionado. No final, serão exibidos todos os valores únicos digitados, em ordem crescente."
   ]
  },
  {
   "cell_type": "code",
   "execution_count": 58,
   "metadata": {},
   "outputs": [
    {
     "name": "stdout",
     "output_type": "stream",
     "text": [
      "Digite um valor qualquer: 1\n",
      "Digite um valor qualquer: 2\n",
      "Digite um valor qualquer: 2\n",
      "Digite um valor qualquer: 3\n",
      "Digite um valor qualquer: 4\n",
      "Digite um valor qualquer: 5\n",
      "Digite um valor qualquer: 6\n",
      "Digite um valor qualquer: 7\n",
      "Digite um valor qualquer: 8\n",
      "Digite um valor qualquer: 9\n",
      "Digite um valor qualquer: 0\n",
      "[0, 1, 2, 3, 4, 5, 6, 7, 8, 9]\n"
     ]
    }
   ],
   "source": [
    "listaNumeros = []\n",
    "while True:\n",
    "    num = int(input('Digite um valor qualquer: '))\n",
    "    if num not in listaNumeros:\n",
    "        listaNumeros.append(num)\n",
    "    if len(listaNumeros) == 10:\n",
    "        break\n",
    "     \n",
    "listaNumeros.sort()\n",
    "print(listaNumeros)"
   ]
  },
  {
   "cell_type": "markdown",
   "metadata": {},
   "source": [
    "Exercício 8 - Crie um programa onde o usuário possa digitar cinco valores numéricos e cadastre-os em uma lista, já na posição correta de inserção (sem usar o sort()). No final, mostre a lista ordenada na tela."
   ]
  },
  {
   "cell_type": "code",
   "execution_count": 10,
   "metadata": {},
   "outputs": [
    {
     "name": "stdout",
     "output_type": "stream",
     "text": [
      "Digite um valor qualquer: 4\n",
      "Digite um valor qualquer: 6\n",
      "Digite um valor qualquer: 2\n",
      "Digite um valor qualquer: 9\n",
      "Digite um valor qualquer: 1\n",
      "[2, 4, 4, 6, 9]\n"
     ]
    }
   ],
   "source": [
    "listaValores = []\n",
    "for i in range(0, 5):\n",
    "    val = int(input('Digite um valor qualquer: '))\n",
    "    if i == 0 or val > listaValores[-1]:\n",
    "        listaValores.append(val)\n",
    "    else:\n",
    "        pos = 0\n",
    "        while pos < len(listaValores):\n",
    "            if i <= listaValores[pos]:\n",
    "                listaValores.insert(pos, i)\n",
    "                break\n",
    "            pos += 1\n",
    "\n",
    "print(listaValores)"
   ]
  },
  {
   "cell_type": "markdown",
   "metadata": {},
   "source": [
    "Exercício 9 - Crie um programa que vai ler vários números e colocar em uma lista. Depois disso, mostre: a) quantos números foram digitados; b) a lista de valores, ordenada de forma descrente; c) se o valor 5 foi digitado e está ou não na lista."
   ]
  },
  {
   "cell_type": "code",
   "execution_count": 29,
   "metadata": {},
   "outputs": [
    {
     "name": "stdout",
     "output_type": "stream",
     "text": [
      "Digite um número qualquer: 3\n",
      "Deseja continuar? [S/N]: s\n",
      "Digite um número qualquer: 5\n",
      "Deseja continuar? [S/N]: s\n",
      "Digite um número qualquer: 6\n",
      "Deseja continuar? [S/N]: s\n",
      "Digite um número qualquer: 56\n",
      "Deseja continuar? [S/N]: s\n",
      "Digite um número qualquer: 98\n",
      "Deseja continuar? [S/N]: s\n",
      "Digite um número qualquer: 2\n",
      "Deseja continuar? [S/N]: n\n",
      "Ao todo foram digitados: 6 números.\n",
      "Ao todo foram digitados: [98, 56, 6, 5, 3, 2] números.\n",
      "O valor 5 está presente 1 vezes na lista.\n"
     ]
    }
   ],
   "source": [
    "continuar = 'S'\n",
    "listaNumeros = list()\n",
    "\n",
    "while continuar == 'S':\n",
    "    num = int(input('Digite um número qualquer: '))\n",
    "    listaNumeros.append(num)\n",
    "    continuar = input('Deseja continuar? [S/N]: ').upper()\n",
    "    \n",
    "print('Ao todo foram digitados: {} números.'.format(len(listaNumeros)))\n",
    "listaNumeros.sort(reverse=True)\n",
    "print('Ao todo foram digitados: {} números.'.format(listaNumeros))\n",
    "print('O valor 5 está presente {} vezes na lista.'.format(listaNumeros.count(5)))"
   ]
  },
  {
   "cell_type": "markdown",
   "metadata": {},
   "source": [
    "Exercício 10 - Crie um programa que vai ler vários números e colocar em uma lista. Depois disso, crie duas listas extras que vão conter apenas os valores pares e os valores ímpares digitados, respectivamente. Ao final, mostre o conteúdo das três listas geradas."
   ]
  },
  {
   "cell_type": "code",
   "execution_count": 7,
   "metadata": {},
   "outputs": [
    {
     "name": "stdout",
     "output_type": "stream",
     "text": [
      "Digite 10 valores: \n",
      "Digite um valor: 1\n",
      "Digite um valor: 2\n",
      "Digite um valor: 3\n",
      "Digite um valor: 4\n",
      "Digite um valor: 5\n",
      "Digite um valor: 6\n",
      "Digite um valor: 7\n",
      "Digite um valor: 8\n",
      "Digite um valor: 9\n",
      "Digite um valor: 10\n",
      "Lista Digitada: [1, 2, 3, 4, 5, 6, 7, 8, 9, 10]\n",
      "Lista de Valores Pares: [2, 4, 6, 8, 10]\n",
      "Lista de Valores Impares: [1, 3, 5, 7, 9]\n"
     ]
    }
   ],
   "source": [
    "listaValores = list()\n",
    "print('Digite 10 valores: ')\n",
    "for i in range(1, 11):\n",
    "    val = int(input('Digite um valor: '))\n",
    "    listaValores.append(val)\n",
    "    \n",
    "listaValoresPares = []\n",
    "listaValoresImpares = []\n",
    "\n",
    "for j in listaValores:\n",
    "    if j % 2 == 0:\n",
    "        listaValoresPares.append(j)\n",
    "    else:\n",
    "        listaValoresImpares.append(j)\n",
    "        \n",
    "print(f'Lista Digitada: {listaValores}')\n",
    "print(f'Lista de Valores Pares: {listaValoresPares}')\n",
    "print(f'Lista de Valores Impares: {listaValoresImpares}')"
   ]
  },
  {
   "cell_type": "code",
   "execution_count": null,
   "metadata": {},
   "outputs": [],
   "source": []
  }
 ],
 "metadata": {
  "kernelspec": {
   "display_name": "Python 3",
   "language": "python",
   "name": "python3"
  },
  "language_info": {
   "codemirror_mode": {
    "name": "ipython",
    "version": 3
   },
   "file_extension": ".py",
   "mimetype": "text/x-python",
   "name": "python",
   "nbconvert_exporter": "python",
   "pygments_lexer": "ipython3",
   "version": "3.6.5"
  }
 },
 "nbformat": 4,
 "nbformat_minor": 2
}
