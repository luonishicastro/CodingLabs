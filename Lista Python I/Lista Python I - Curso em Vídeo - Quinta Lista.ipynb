{
 "cells": [
  {
   "cell_type": "markdown",
   "metadata": {},
   "source": [
    "Exercício 1 - Desenvolva uma lógica que leia o peso e a altura de uma pessoa, calcule seu IMC e mostre seu status, de acordo com a tabela abaixo:\n",
    "(Abaixo do Peso) Abaixo de 18.5\n",
    "(Peso Ideal) Entre 18.5 e 25\n",
    "(Sobrepeso) 25 até 30\n",
    "(Obesidade) 30 até 40\n",
    "(Obesidade Mórbida) Acima de 40"
   ]
  },
  {
   "cell_type": "code",
   "execution_count": 4,
   "metadata": {},
   "outputs": [
    {
     "name": "stdout",
     "output_type": "stream",
     "text": [
      "Digite seu peso: 72\n",
      "Digite sua alteura: 1.8\n",
      "IMC: 22.2\n",
      "Peso Ideal.\n"
     ]
    }
   ],
   "source": [
    "peso = float(input('Digite seu peso: '))\n",
    "altura = float(input('Digite sua alteura: '))\n",
    "imc = peso/pow(altura, 2)\n",
    "if imc < 18.5:\n",
    "    print('IMC: {:.1f}'.format(imc))\n",
    "    print('Abaixo do Peso.')\n",
    "elif imc <= 25:\n",
    "    print('IMC: {:.1f}'.format(imc))\n",
    "    print('Peso Ideal.')\n",
    "elif imc <= 30:\n",
    "    print('IMC: {:.1f}'.format(imc))\n",
    "    print('Sobrepeso.')\n",
    "elif imc <= 40:\n",
    "    print('IMC: {:.1f}'.format(imc))\n",
    "    print('Obesidade.')\n",
    "else:\n",
    "    print('IMC: {:.1f}'.format(imc))\n",
    "    print('Obesidade mórbida.')"
   ]
  },
  {
   "cell_type": "markdown",
   "metadata": {},
   "source": [
    "Exercício 2 - Elabore um programa que calcule o valor a ser pago por um produto, considerando o seu preço normal e condição de pagamento:\n",
    "(à vista dinheiro/cheque) 10% de desconto\n",
    "(à vista no cartão) 5% de desconto\n",
    "(preço normal) em até 2x no cartão\n",
    "(20% de juros) 3x ou mais no cartão"
   ]
  },
  {
   "cell_type": "code",
   "execution_count": 5,
   "metadata": {},
   "outputs": [
    {
     "name": "stdout",
     "output_type": "stream",
     "text": [
      "Digite o preço do produto: R$100\n",
      "Total a ser Pago à Vista Dinheiro (10% desconto): R$90.00\n",
      "Total a ser Pago à Vista Cartão (5% desconto): R$95.00\n",
      "Total a ser Pago Preço Normal (até 2x no Cartão): R$100.00\n",
      "Total a ser Pago 3x ou mais (20% juros): R$120.00\n"
     ]
    }
   ],
   "source": [
    "preco = float(input('Digite o preço do produto: R$'))\n",
    "print('Total a ser Pago à Vista Dinheiro (10% desconto): R${:.2f}'.format(preco-preco*0.1))\n",
    "print('Total a ser Pago à Vista Cartão (5% desconto): R${:.2f}'.format(preco-preco*0.05))\n",
    "print('Total a ser Pago Preço Normal (até 2x no Cartão): R${:.2f}'.format(preco))\n",
    "print('Total a ser Pago 3x ou mais (20% juros): R${:.2f}'.format(preco+preco*0.2))"
   ]
  },
  {
   "cell_type": "markdown",
   "metadata": {},
   "source": [
    "Exercício 3 - Crie um programa que faça o computador jogar Jokenpô com você."
   ]
  },
  {
   "cell_type": "code",
   "execution_count": 29,
   "metadata": {},
   "outputs": [
    {
     "name": "stdout",
     "output_type": "stream",
     "text": [
      "Sua jogada: pedra\n",
      "Jokenpô\n"
     ]
    }
   ],
   "source": [
    "import random\n",
    "\n",
    "\n",
    "suaJogada = input('Sua jogada: ').upper()\n",
    "print('Jokenpô')\n",
    "jogadaComputador = random.randint(1,3)\n",
    "if (suaJogada == 1 and jogadaComputador == 1) or (suaJogada == 2 and jogadaComputador == 2) or\\\n",
    "    (suaJogada == 3 and jogadaComputador == 3):\n",
    "    print(f'Jogada do Computador: {jogadaComputador}')\n",
    "    print('Empatou!')"
   ]
  },
  {
   "cell_type": "markdown",
   "metadata": {},
   "source": [
    "Exercício 4 - Faça um programa que mostre na tela um contagem regressiva para o estouro de artíficio, indo de 10 até 0, com uma pausa de 1 segundo entre eles."
   ]
  },
  {
   "cell_type": "code",
   "execution_count": 16,
   "metadata": {},
   "outputs": [
    {
     "name": "stdout",
     "output_type": "stream",
     "text": [
      "10\n",
      "9\n",
      "8\n",
      "7\n",
      "6\n",
      "5\n",
      "4\n",
      "3\n",
      "2\n",
      "1\n",
      "0\n",
      "BUM! BUM! POOW!\n"
     ]
    }
   ],
   "source": [
    "from time import sleep\n",
    "for cont in range(10, -1, -1):\n",
    "    print(cont)\n",
    "    sleep(1)\n",
    "print('BUM! BUM! POOW!')"
   ]
  },
  {
   "cell_type": "markdown",
   "metadata": {},
   "source": [
    "Exercício 5 - Crie um programa que mostre na tela todos os números pares que estão no intervalo entre 1 e 50."
   ]
  },
  {
   "cell_type": "code",
   "execution_count": 1,
   "metadata": {},
   "outputs": [
    {
     "name": "stdout",
     "output_type": "stream",
     "text": [
      "2\n",
      "4\n",
      "6\n",
      "8\n",
      "10\n",
      "12\n",
      "14\n",
      "16\n",
      "18\n",
      "20\n",
      "22\n",
      "24\n",
      "26\n",
      "28\n",
      "30\n",
      "32\n",
      "34\n",
      "36\n",
      "38\n",
      "40\n",
      "42\n",
      "44\n",
      "46\n",
      "48\n",
      "50\n"
     ]
    }
   ],
   "source": [
    "for i in range(1,51):\n",
    "    if i % 2 == 0:\n",
    "        print(i)"
   ]
  },
  {
   "cell_type": "markdown",
   "metadata": {},
   "source": [
    "Exercício 6 - Faça um programa que calcule a soma entre todos os números ímpares que são múltiplos de três e que se encontram no intervale entre 1 e 500."
   ]
  },
  {
   "cell_type": "code",
   "execution_count": 6,
   "metadata": {},
   "outputs": [
    {
     "name": "stdout",
     "output_type": "stream",
     "text": [
      "A soma entre todos os números ímpares múltiplos de 3 entre 1 e 500 é 20667\n"
     ]
    }
   ],
   "source": [
    "soma = 0\n",
    "for i in range(1,501):\n",
    "    if i % 2 != 0:\n",
    "        if i % 3 == 0:\n",
    "            soma = soma + i\n",
    "print(f'A soma entre todos os números ímpares múltiplos de 3 entre 1 e 500 é {soma}')"
   ]
  },
  {
   "cell_type": "markdown",
   "metadata": {},
   "source": [
    "Exercício 7 - Refaça o Desafio 009, mostrando a tabuada de um número que o usuário escolher, só que agora utilizando o laço for."
   ]
  },
  {
   "cell_type": "code",
   "execution_count": 3,
   "metadata": {},
   "outputs": [
    {
     "name": "stdout",
     "output_type": "stream",
     "text": [
      "Digite um número qualquer: 7\n",
      "Tabuada do 7:\n",
      "7 x 1 = 7\n",
      "7 x 2 = 14\n",
      "7 x 3 = 21\n",
      "7 x 4 = 28\n",
      "7 x 5 = 35\n",
      "7 x 6 = 42\n",
      "7 x 7 = 49\n",
      "7 x 8 = 56\n",
      "7 x 9 = 63\n",
      "7 x 10 = 70\n"
     ]
    }
   ],
   "source": [
    "num = int(input('Digite um número qualquer: '))\n",
    "print(f'Tabuada do {num}:')\n",
    "for i in range(1,11):\n",
    "    print('{} x {} = {}'.format(num, i, num*i))"
   ]
  },
  {
   "cell_type": "markdown",
   "metadata": {},
   "source": [
    "Exercício 8 - Desenvolva um programa que leia seis números inteiros e mostre a soma apenas daqueles que forem pares. Se o valor digitado for ímpar, desconsidere-o."
   ]
  },
  {
   "cell_type": "code",
   "execution_count": 2,
   "metadata": {},
   "outputs": [
    {
     "name": "stdout",
     "output_type": "stream",
     "text": [
      "Digite um número inteiro: 1\n",
      "Digite um número inteiro: 2\n",
      "Digite um número inteiro: 3\n",
      "Digite um número inteiro: 4\n",
      "Digite um número inteiro: 5\n",
      "Digite um número inteiro: 6\n",
      "Soma dos números pares digitados: 12\n"
     ]
    }
   ],
   "source": [
    "soma = 0\n",
    "for i in range(0,6):\n",
    "    num = int(input('Digite um número inteiro: '))\n",
    "    if num % 2 == 0:\n",
    "        soma = soma + num\n",
    "print(f'Soma dos números pares digitados: {soma}')"
   ]
  },
  {
   "cell_type": "markdown",
   "metadata": {},
   "source": [
    "Exercício 9 - Desenvolva um programa que leia o primeiro termo e a razão de uma PA. No final, mostre os 10 primeiros termos dessa progressão."
   ]
  },
  {
   "cell_type": "code",
   "execution_count": 11,
   "metadata": {},
   "outputs": [
    {
     "name": "stdout",
     "output_type": "stream",
     "text": [
      "Primeiro termo da Progressão Aritmética: 1\n",
      "Razão da Progressão: 2\n",
      "1 3 5 7 9 11 13 15 17 19 "
     ]
    }
   ],
   "source": [
    "p1 = int(input('Primeiro termo da Progressão Aritmética: '))\n",
    "r = int(input('Razão da Progressão: '))\n",
    "for i in range(1,11):\n",
    "    pn = p1+(i-1)*r\n",
    "    print(pn, end=' ')"
   ]
  },
  {
   "cell_type": "markdown",
   "metadata": {},
   "source": [
    "Exercício 10 - Faça um programa que leia um número inteiro e diga se ele é ou não um número primo."
   ]
  },
  {
   "cell_type": "code",
   "execution_count": 6,
   "metadata": {},
   "outputs": [
    {
     "name": "stdout",
     "output_type": "stream",
     "text": [
      "Digite um número qualquer: 102\n",
      "Não é Primo.\n"
     ]
    }
   ],
   "source": [
    "contaDivisores = 0\n",
    "num = int(input('Digite um número qualquer: '))\n",
    "for i in range(num, 0, -1):\n",
    "    if num % i == 0:\n",
    "        contaDivisores += 1\n",
    "if contaDivisores == 2:\n",
    "    print('Número digitado é Primo.')\n",
    "else:\n",
    "    print('Não é Primo.')"
   ]
  },
  {
   "cell_type": "code",
   "execution_count": null,
   "metadata": {},
   "outputs": [],
   "source": []
  }
 ],
 "metadata": {
  "kernelspec": {
   "display_name": "Python 3",
   "language": "python",
   "name": "python3"
  },
  "language_info": {
   "codemirror_mode": {
    "name": "ipython",
    "version": 3
   },
   "file_extension": ".py",
   "mimetype": "text/x-python",
   "name": "python",
   "nbconvert_exporter": "python",
   "pygments_lexer": "ipython3",
   "version": "3.6.5"
  }
 },
 "nbformat": 4,
 "nbformat_minor": 2
}
