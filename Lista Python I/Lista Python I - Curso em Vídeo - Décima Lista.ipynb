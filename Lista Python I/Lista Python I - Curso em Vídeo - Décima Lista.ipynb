{
 "cells": [
  {
   "cell_type": "markdown",
   "metadata": {},
   "source": [
    "Exercício 1 - Crie um progeama que gerencie o aproveitamento de um jogador de futebol. O programa vai ler o nome do jogador e quantas partidas ele jogou. Depois vai ler o nome do jogador e quantas partidas ele jogou. Depois vai ler a quantidade de gols feitos em cada partida. No final, tudo isso será guardado em um dicionário, incluindo o total de gols feitos durante o campeonato."
   ]
  },
  {
   "cell_type": "code",
   "execution_count": 9,
   "metadata": {},
   "outputs": [
    {
     "name": "stdout",
     "output_type": "stream",
     "text": [
      "Nome do Jogador: Zico\n",
      "Quantas partidas Zico jogou? 5\n",
      "Quantos gols na partida 1? 3\n",
      "Quantos gols na partida 2? 0\n",
      "Quantos gols na partida 3? 2\n",
      "Quantos gols na partida 4? 1\n",
      "Quantos gols na partida 5? 3\n",
      "-=-=-=-=-=-=-=-=-=-=-=-=-=-=-=-=-=-=-=-=-=-=-=-=-=-=-=-=-=-=-=-=-=-=-=-=-=-=-=-=-=-=-=-=-=-=-=-=-=-=\n",
      "{'nome': 'Zico', 'gols': [3, 0, 2, 1, 3], 'total': 9}\n",
      "-=-=-=-=-=-=-=-=-=-=-=-=-=-=-=-=-=-=-=-=-=-=-=-=-=-=-=-=-=-=-=-=-=-=-=-=-=-=-=-=-=-=-=-=-=-=-=-=-=-=\n",
      "O campo nome tem o valor Zico\n",
      "O campo gols tem o valor [3, 0, 2, 1, 3]\n",
      "O campo total tem o valor 9\n",
      "-=-=-=-=-=-=-=-=-=-=-=-=-=-=-=-=-=-=-=-=-=-=-=-=-=-=-=-=-=-=-=-=-=-=-=-=-=-=-=-=-=-=-=-=-=-=-=-=-=-=\n",
      "O Jogador Zico jogou 5 partidas.\n",
      "   => Na partida 1, fez 3 gols.\n",
      "   => Na partida 2, fez 0 gols.\n",
      "   => Na partida 3, fez 2 gols.\n",
      "   => Na partida 4, fez 1 gols.\n",
      "   => Na partida 5, fez 3 gols.\n",
      "Foi um total de 9 gols.\n"
     ]
    }
   ],
   "source": [
    "jogador = {}\n",
    "artilharia = []\n",
    "\n",
    "jogador['nome'] = input('Nome do Jogador: ')\n",
    "partidas = int(input(f\"Quantas partidas {jogador['nome']} jogou? \"))\n",
    "for i in range(1, partidas+1):\n",
    "    artilharia.append(int(input(f'Quantos gols na partida {i}? ')))\n",
    "jogador['gols'] = artilharia\n",
    "jogador['total'] = sum(artilharia)\n",
    "\n",
    "print('-=' * 50)\n",
    "print(jogador)\n",
    "print('-=' * 50)\n",
    "\n",
    "for chave, valor in jogador.items():\n",
    "    print(f'O campo {chave} tem o valor {valor}')\n",
    "\n",
    "print('-=' * 50)\n",
    "\n",
    "print('O Jogador {} jogou {} partidas.'.format(jogador['nome'], partidas))\n",
    "for n, j in enumerate(artilharia):\n",
    "    print(f'   => Na partida {n+1}, fez {j} gols.')\n",
    "print(f\"Foi um total de {jogador['total']} gols.\")"
   ]
  },
  {
   "cell_type": "markdown",
   "metadata": {},
   "source": [
    "Exercício 2 - Crie um programa que leia nome, sexo e idade de várias pessoas, guardando os dados de cada pessoa em um dicionário e todos os dicionários em uma lista. No final mostre:\n",
    "a) Quantas pessoas cadastradas\n",
    "b) E média de idade\n",
    "c) Uma lista com mulheres.\n",
    "d) Uma lista com idade acima da média"
   ]
  },
  {
   "cell_type": "code",
   "execution_count": 5,
   "metadata": {},
   "outputs": [
    {
     "name": "stdout",
     "output_type": "stream",
     "text": [
      "Nome: lucas\n",
      "Sexo: [M/F] m\n",
      "Idade: 26\n",
      "Quer continuar? [S/N] s\n",
      "Nome: bia\n",
      "Sexo: [M/F] f\n",
      "Idade: 30\n",
      "Quer continuar? [S/N] n\n",
      "-=-=-=-=-=-=-=-=-=-=-=-=-=-=-=-=-=-=-=-=-=-=-=-=-=-=-=-=-=-=-=-=-=-=-=-=-=-=-=-=-=-=-=-=-=-=-=-=-=-=\n",
      "A) Ao todo temos 2 pessoas cadastradas.\n",
      "B) A média de idade é de 28 anos.\n",
      "C) As mulheres cadastradas foram bia ;D) Lista das pessoas que estão acima da média: \n",
      "nome = bia; sexo = F; idade = 30\n"
     ]
    }
   ],
   "source": [
    "cadastroGeral = []\n",
    "pessoa = {}\n",
    "media = 0\n",
    "\n",
    "while True:\n",
    "    pessoa.clear()\n",
    "    \n",
    "    pessoa['nome'] = input('Nome: ')\n",
    "    pessoa['sexo'] = input('Sexo: [M/F] ').upper()\n",
    "    pessoa['idade'] = int(input('Idade: '))\n",
    "    continuar = input('Quer continuar? [S/N] ').upper()\n",
    "    \n",
    "    media = media + pessoa['idade']\n",
    "    cadastroGeral.append(pessoa.copy())\n",
    "    \n",
    "    if continuar == 'N':\n",
    "        break\n",
    "    elif continuar not in ('S', 'N'):\n",
    "        print('ERRO! Responda apenas S ou N.')\n",
    "        continuar = input('Quer continuar? [S/N] ').upper()\n",
    "        if continuar not in ('S', 'N'):\n",
    "            print('Valor inválido. Programa será encerrado.')\n",
    "            break\n",
    "        elif continuar == 'N':\n",
    "            break\n",
    "        \n",
    "print(50*'-=')\n",
    "print('A) Ao todo temos {} pessoas cadastradas.'.format(len(cadastroGeral)))\n",
    "print('B) A média de idade é de {:.0f} anos.'.format(media/len(cadastroGeral)))\n",
    "print('C) As mulheres cadastradas foram ', end='')\n",
    "\n",
    "for dic in cadastroGeral:\n",
    "    if dic['sexo'] == 'F':\n",
    "        print(f'{dic[\"nome\"]} ', end=';')\n",
    "        \n",
    "print('D) Lista das pessoas que estão acima da média: ')\n",
    "for dic in cadastroGeral:\n",
    "    if dic['idade'] > media/len(cadastroGeral):\n",
    "        print('nome = {}; sexo = {}; idade = {}'.format(dic['nome'], dic['sexo'], dic['idade']))"
   ]
  },
  {
   "cell_type": "markdown",
   "metadata": {},
   "source": [
    "Exercício 3 - Aprimore o DESAFIO093 para que ele funcione com vários jogadores, incluindo um sistema de visualização de detalhes do aproveitamento de cada jogador."
   ]
  },
  {
   "cell_type": "code",
   "execution_count": 36,
   "metadata": {},
   "outputs": [
    {
     "name": "stdout",
     "output_type": "stream",
     "text": [
      "Nome do Jogador: Ronaldinho\n",
      "Quantas partidas Ronaldinho jogou? 3\n",
      "Quantos gols na partida 1? 2\n",
      "Quantos gols na partida 2? 3\n",
      "Quantos gols na partida 3? 5\n",
      "Deseja continuar? [S/N]: s\n",
      "Nome do Jogador: Kaká\n",
      "Quantas partidas Kaká jogou? 2\n",
      "Quantos gols na partida 1? 1\n",
      "Quantos gols na partida 2? 3\n",
      "Deseja continuar? [S/N]: s\n",
      "Nome do Jogador: Rivaldo\n",
      "Quantas partidas Rivaldo jogou? 3\n",
      "Quantos gols na partida 1? 1\n",
      "Quantos gols na partida 2? 2\n",
      "Quantos gols na partida 3? 3\n",
      "Deseja continuar? [S/N]: n\n",
      "-=-=-=-=-=-=-=-=-=-=-=-=-=-=-=-=-=-=-=-=-=-=-=-=-=-=-=-=-=-=-=-=-=-=-=\n",
      " cod   nome     gols        total\n",
      "---------------------------------------------\n",
      "  0   Ronaldinho3         [2, 3, 5] \n",
      "  1   Kaká      2         [1, 3]    \n",
      "  2   Rivaldo   3         [1, 2, 3] \n",
      "---------------------------------------------\n",
      "Mostrar dados de qual jogador? (999 para parar): 2\n",
      "-- LEVANTAMENTO DO JOGADOR Rivaldo: \n",
      "No jogo 1 fez 1 gols.\n",
      "No jogo 2 fez 2 gols.\n",
      "No jogo 3 fez 3 gols.\n",
      "Mostrar dados de qual jogador? (999 para parar): 1\n",
      "-- LEVANTAMENTO DO JOGADOR Kaká: \n",
      "No jogo 1 fez 1 gols.\n",
      "No jogo 2 fez 3 gols.\n",
      "Mostrar dados de qual jogador? (999 para parar): 999\n",
      "---------------------------------------------\n",
      "<< VOLTE SEMPRE >>\n"
     ]
    }
   ],
   "source": [
    "listaJogadores = []\n",
    "jogador = {}\n",
    "aproveitamento = []\n",
    "\n",
    "while True:\n",
    "    aproveitamento[:] = []\n",
    "    jogador.clear()\n",
    "    \n",
    "    jogador['nome'] = input('Nome do Jogador: ')\n",
    "    jogador['partidas'] = int(input('Quantas partidas {} jogou? '.format(jogador['nome'])))\n",
    "    for i in range(1, jogador['partidas']+1):\n",
    "        gols = int(input(f'Quantos gols na partida {i}? '))\n",
    "        aproveitamento.append(gols)\n",
    "        \n",
    "    jogador['aproveitamento'] = aproveitamento[:]\n",
    "    \n",
    "    listaJogadores.append(jogador.copy())\n",
    "    \n",
    "    continuar = input('Deseja continuar? [S/N]: ').upper()\n",
    "    \n",
    "    if continuar not in ('S', 'N'):\n",
    "        continuar = input('Deseja continuar? [S/N]: ').upper()\n",
    "        if continuar == 'N':\n",
    "            break\n",
    "    elif continuar == 'N':\n",
    "        break\n",
    "        \n",
    "print(35 * '-=')\n",
    "print(' cod', 1 * ' ', 'nome', 3 * ' ', 'gols', 6 * ' ', 'total')\n",
    "print(45 * '-')\n",
    "\n",
    "for p, k in enumerate(listaJogadores):\n",
    "    print(f'{p:>3}   ', end='')\n",
    "    for d in k.values():\n",
    "        print(f'{str(d):<10}', end='')\n",
    "    print()\n",
    "    \n",
    "print(45 * '-')\n",
    "while True:\n",
    "    dados = int(input('Mostrar dados de qual jogador? (999 para parar): '))    \n",
    "    if dados == 999:\n",
    "        break\n",
    "    print('-- LEVANTAMENTO DO JOGADOR {}: '.format(listaJogadores[dados]['nome']))\n",
    "    for p, k in enumerate(listaJogadores[dados]['aproveitamento']):\n",
    "        print(f'No jogo {p+1} fez {k} gols.')\n",
    "print(45 * '-')  \n",
    "print('<< VOLTE SEMPRE >>')"
   ]
  },
  {
   "cell_type": "markdown",
   "metadata": {},
   "source": [
    "Exercício 4 - Faça um programa que tenha uma função chamada área(), que receba as dimensões de um terreno retangular (largura e comprimento) e mostre a área do terreno."
   ]
  },
  {
   "cell_type": "code",
   "execution_count": 4,
   "metadata": {},
   "outputs": [
    {
     "name": "stdout",
     "output_type": "stream",
     "text": [
      "LARGURA (m): 10\n",
      "COMPRIMENTO (m): 25.5\n",
      "Controle de Terrenos\n",
      "----------\n",
      "A área de um terreno 10.0x25.5 é de 255.0m2\n"
     ]
    }
   ],
   "source": [
    "def area(larg, comp):\n",
    "    print('Controle de Terrenos')\n",
    "    print(10*'-')\n",
    "    areaCalculada = larg * comp\n",
    "    return areaCalculada\n",
    "\n",
    "largura = float(input('LARGURA (m): '))\n",
    "comprimento = float(input('COMPRIMENTO (m): '))\n",
    "print('A área de um terreno {}x{} é de {}m2'.format(largura, comprimento, area(largura, comprimento)))"
   ]
  },
  {
   "cell_type": "markdown",
   "metadata": {},
   "source": [
    "Exercício 5 - Faça um programa que tenha uma função chamada escreva(), que receba um texto qualquer como parâmetro e mostre uma mensagem com tamanho adaptável."
   ]
  },
  {
   "cell_type": "code",
   "execution_count": 17,
   "metadata": {},
   "outputs": [
    {
     "name": "stdout",
     "output_type": "stream",
     "text": [
      "~~~~~~~~~~~~~~~~~\n",
      "  Lucas Beraldo\n",
      "~~~~~~~~~~~~~~~~~\n",
      "~~~~~~~~~~~~~~~~~~\n",
      "  Curso em Vídeo\n",
      "~~~~~~~~~~~~~~~~~~\n",
      "~~~~~~~~~~~\n",
      "  abaduba\n",
      "~~~~~~~~~~~\n"
     ]
    }
   ],
   "source": [
    "def escreva(msg):\n",
    "    tam = len(msg)+4\n",
    "    print('~' * tam)\n",
    "    print(f'  {msg}')\n",
    "    print('~' * tam)\n",
    "    \n",
    "escreva('Lucas Beraldo')\n",
    "escreva('Curso em Vídeo')\n",
    "escreva('abaduba')"
   ]
  },
  {
   "cell_type": "markdown",
   "metadata": {},
   "source": [
    "Exercício 6 - Faça um programa que tenha uma função chamada contador(), que receba três parâmetros: início, fim e passo. Seu programa tem que realizar três contagens através da função criada:\n",
    "a) De 1 até 10, de 1 em 1\n",
    "b) De 10 até 0, de 2 em 2\n",
    "c) Uma contagem personalizada"
   ]
  },
  {
   "cell_type": "code",
   "execution_count": 14,
   "metadata": {},
   "outputs": [
    {
     "name": "stdout",
     "output_type": "stream",
     "text": [
      "-=-=-=-=-=-=-=-=-=-=-=-=-=-=-=-=-=-=-=-=\n",
      "Contagem de 1 até 10 de 1 em 1\n",
      "1 2 3 4 5 6 7 8 9 10 FIM\n",
      "-=-=-=-=-=-=-=-=-=-=-=-=-=-=-=-=-=-=-=-=\n",
      "Contagem de 10 até 0 de 2 em 2\n",
      "10 8 6 4 2 0 FIM\n",
      "-=-=-=-=-=-=-=-=-=-=-=-=-=-=-=-=-=-=-=-=\n",
      "Agora é sua vez de personalizar a contagem!\n",
      "Início: 12\n",
      "Fim: -10\n",
      "Passo: 7\n",
      "-=-=-=-=-=-=-=-=-=-=-=-=-=-=-=-=-=-=-=-=\n",
      "Contagem de -10 até 12 de 7 em 7\n",
      "12 5 -2 -9 FIM\n"
     ]
    }
   ],
   "source": [
    "def contador(inicio, fim, passo):\n",
    "    \n",
    "    print(20 * '-=')\n",
    "    print('Contagem de 1 até 10 de 1 em 1')\n",
    "    for i in range(1, 11, 1):\n",
    "        print(i, end = ' ')\n",
    "    print('FIM')\n",
    "    \n",
    "    print(20 * '-=')\n",
    "    print('Contagem de 10 até 0 de 2 em 2')\n",
    "    for i in range(10, -1, -2):\n",
    "        print(i, end = ' ')\n",
    "    print('FIM')\n",
    "    \n",
    "    print(20 * '-=')\n",
    "    print('Agora é sua vez de personalizar a contagem!')\n",
    "    inicio = int(input('Início: '))\n",
    "    fim = int(input('Fim: '))\n",
    "    passo = int(input('Passo: '))\n",
    "    \n",
    "    print(20 * '-=')\n",
    "    print('Contagem de {} até {} de {} em {}'.format(fim, inicio, passo, passo))\n",
    "    if inicio > fim:\n",
    "        for i in range(inicio, fim, -passo):\n",
    "            print(i, end = ' ')\n",
    "        print('FIM')\n",
    "    else:\n",
    "        for i in range(fim, inicio, passo):\n",
    "            print(i, end = ' ')\n",
    "        print('FIM')\n",
    "    \n",
    "        \n",
    "contador(1, 1, 1)"
   ]
  },
  {
   "cell_type": "markdown",
   "metadata": {},
   "source": [
    "Exercício 7 - Faça um programa que tenha uma função chamada maior(), que receba vários parâmetros com valores inteiros. Seu programa tem que analisar todos os valores e dizer qual deles é o maior."
   ]
  },
  {
   "cell_type": "code",
   "execution_count": 71,
   "metadata": {},
   "outputs": [
    {
     "name": "stdout",
     "output_type": "stream",
     "text": [
      "-=-=-=-=-=-=-=-=-=-=-=-=-=-=-=-=-=-=-=-=-=-=-=-=-=-=-=-=-=-=-=-=-=-=-=\n",
      "291 754 603 260 547 277  Foram informados 6 valores ao todo\n",
      "O maior valor informado foi 754\n",
      "-=-=-=-=-=-=-=-=-=-=-=-=-=-=-=-=-=-=-=-=-=-=-=-=-=-=-=-=-=-=-=-=-=-=-=\n"
     ]
    }
   ],
   "source": [
    "from random import randint\n",
    "\n",
    "def maior(*num):\n",
    "    for i in list(num):\n",
    "        print(i, end=' ')\n",
    "    print(f' Foram informados {len(list(num))} valores ao todo')\n",
    "    print('O maior valor informado foi ', end='')\n",
    "    return max(list(num))\n",
    "\n",
    "\n",
    "print(35*'-=')\n",
    "print(maior(randint(1,1000), randint(1,1000), randint(1,1000), randint(1,1000), randint(1,1000), randint(1,1000)))\n",
    "print(35*'-=')"
   ]
  },
  {
   "cell_type": "markdown",
   "metadata": {},
   "source": [
    "Exercício 8 - Faça um programa que tenha uma lista chamada números e duas funções chamadas sorteia() e somaPar(). A primeira função vai sortear 5 números e vai colocá-los dentro da lista e a segunda função vai mostrar a soma entre todos os valores PARES sorteados pela função anterior."
   ]
  },
  {
   "cell_type": "code",
   "execution_count": 88,
   "metadata": {},
   "outputs": [
    {
     "data": {
      "text/plain": [
       "22"
      ]
     },
     "execution_count": 88,
     "metadata": {},
     "output_type": "execute_result"
    }
   ],
   "source": [
    "import random\n",
    "\n",
    "numeros = []\n",
    "\n",
    "def sorteia(lista):\n",
    "    for i in range(1, 6):\n",
    "        lista.append(random.randint(1, 10))\n",
    "    return lista\n",
    "\n",
    "def somapar(outraLista):\n",
    "    soma = 0\n",
    "    for j in outraLista:\n",
    "        if j%2==0:\n",
    "            soma = soma + j\n",
    "    return soma\n",
    "\n",
    "somapar(sorteia(numeros))"
   ]
  },
  {
   "cell_type": "markdown",
   "metadata": {},
   "source": [
    "Exercício 9 - Crie um programa que tenha uma função chamadata voto() que vai receber como parâmetro o ano de nascimento de uma pessoa, retornando o valor literal indicando se uma pessoa tem voto NEGADO, OPCIONAL ou OBRIGATÓRIO nas eleições."
   ]
  },
  {
   "cell_type": "code",
   "execution_count": null,
   "metadata": {},
   "outputs": [],
   "source": []
  },
  {
   "cell_type": "markdown",
   "metadata": {},
   "source": [
    "Exercício 10 - Crie um programa que tenha uma função fatorial() que recebe dois parâmetros: primeiro que indique o número a calcular e o outro chamado show, que será um valor lógico (opcional) indicando se será mostrado ou não na tela o processo de cálculo do fatorial."
   ]
  },
  {
   "cell_type": "code",
   "execution_count": 29,
   "metadata": {},
   "outputs": [
    {
     "name": "stdout",
     "output_type": "stream",
     "text": [
      "5 x 4 x 3 x 2 x 1 = "
     ]
    },
    {
     "data": {
      "text/plain": [
       "720"
      ]
     },
     "execution_count": 29,
     "metadata": {},
     "output_type": "execute_result"
    }
   ],
   "source": [
    "def fatorial(num, show=False):\n",
    "    fat = 1\n",
    "    for i in range(num, 0, -1):\n",
    "        if show:\n",
    "            print(i, end='')\n",
    "            if i > 1:\n",
    "                print(' x ', end='')\n",
    "            else:\n",
    "                print(' = ', end='')\n",
    "        fat *= i\n",
    "    return fat\n",
    "        \n",
    "fatorial(5, show=True)\n",
    "fatorial(6, show=False)"
   ]
  },
  {
   "cell_type": "code",
   "execution_count": null,
   "metadata": {},
   "outputs": [],
   "source": []
  }
 ],
 "metadata": {
  "kernelspec": {
   "display_name": "Python 3",
   "language": "python",
   "name": "python3"
  },
  "language_info": {
   "codemirror_mode": {
    "name": "ipython",
    "version": 3
   },
   "file_extension": ".py",
   "mimetype": "text/x-python",
   "name": "python",
   "nbconvert_exporter": "python",
   "pygments_lexer": "ipython3",
   "version": "3.6.5"
  }
 },
 "nbformat": 4,
 "nbformat_minor": 2
}
