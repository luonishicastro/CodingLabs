{
 "cells": [
  {
   "cell_type": "markdown",
   "metadata": {},
   "source": [
    "Exercício 1 - Escreva um programa que leia um número n inteiro qualquer e mostre na tela os n primeiros elementos de uma Sequência de Fibonacci."
   ]
  },
  {
   "cell_type": "code",
   "execution_count": 92,
   "metadata": {},
   "outputs": [
    {
     "name": "stdout",
     "output_type": "stream",
     "text": [
      "Digite um número qualquer: 10\n",
      "1\n",
      "1\n",
      "2\n",
      "3\n",
      "5\n",
      "8\n",
      "13\n",
      "21\n",
      "34\n",
      "55\n"
     ]
    }
   ],
   "source": [
    "num = int(input('Digite um número qualquer: '))\n",
    "n1 = 1\n",
    "n2 = 1\n",
    "n3 = n1 + n2\n",
    "\n",
    "print(n1)\n",
    "print(n2)\n",
    "for i in range(1, num-1):\n",
    "    n3 = n1 + n2\n",
    "    n2 = n1\n",
    "    n1 = n3\n",
    "    print(n3)"
   ]
  },
  {
   "cell_type": "markdown",
   "metadata": {},
   "source": [
    "Exercício 2 - Crie um programa que leia vários números inteiros pelo teclado. O programa só vai parar quando o usuário digitar o valor 999, que é a condição de parada. No final, mostre quantos números foram digitados e qual foi a soma entre eles (desconsiderando o flag)."
   ]
  },
  {
   "cell_type": "code",
   "execution_count": 2,
   "metadata": {},
   "outputs": [
    {
     "name": "stdout",
     "output_type": "stream",
     "text": [
      "Digite um número pelo teclado: 1\n",
      "Digite um número pelo teclado: 2\n",
      "Digite um número pelo teclado: 3\n",
      "Digite um número pelo teclado: 4\n",
      "Digite um número pelo teclado: 5\n",
      "Digite um número pelo teclado: 6\n",
      "Digite um número pelo teclado: 7\n",
      "Digite um número pelo teclado: 8\n",
      "Digite um número pelo teclado: 9\n",
      "Digite um número pelo teclado: 999\n",
      "Quantidade de números digitados: 9\n",
      "Soma entre números digitados: 45\n"
     ]
    }
   ],
   "source": [
    "n = 0\n",
    "somaNumeros = 0\n",
    "contaNumeros = 0\n",
    "\n",
    "while n != 999:\n",
    "    n = int(input('Digite um número pelo teclado: '))\n",
    "    if n == 999:\n",
    "        break\n",
    "    somaNumeros = somaNumeros + n\n",
    "    contaNumeros = contaNumeros + 1\n",
    "\n",
    "print('Quantidade de números digitados: {}'.format(contaNumeros))\n",
    "print('Soma entre números digitados: {}'.format(somaNumeros))"
   ]
  },
  {
   "cell_type": "markdown",
   "metadata": {},
   "source": [
    "Exercício 3 - Crie um programa que leia vários números inteiros pelo teclado. No final da execução, mostre a média entre todos os valores e qual foi o maior e o menor valores lidos. O programa deve perguntar ao usuário se ele quer ou não continuar a digitar valores."
   ]
  },
  {
   "cell_type": "code",
   "execution_count": 4,
   "metadata": {},
   "outputs": [
    {
     "name": "stdout",
     "output_type": "stream",
     "text": [
      "Digite um valor qualquer: 1\n",
      "Deseja continuar? [S/N]s\n",
      "Digite um valor qualquer: 2\n",
      "Deseja continuar? [S/N]s\n",
      "Digite um valor qualquer: 3\n",
      "Deseja continuar? [S/N]s\n",
      "Digite um valor qualquer: 4\n",
      "Deseja continuar? [S/N]s\n",
      "Digite um valor qualquer: 5\n",
      "Deseja continuar? [S/N]s\n",
      "Digite um valor qualquer: 6\n",
      "Deseja continuar? [S/N]s\n",
      "Digite um valor qualquer: 7\n",
      "Deseja continuar? [S/N]s\n",
      "Digite um valor qualquer: 8\n",
      "Deseja continuar? [S/N]s\n",
      "Digite um valor qualquer: 9\n",
      "Deseja continuar? [S/N]n\n",
      "Ao todo foram digitados 9 valores.\n",
      "Média entre os números digitados: 5.0\n",
      "Maior Valor digitado: 9\n",
      "Menor Valor digitado: 1\n"
     ]
    }
   ],
   "source": [
    "somaValores = 0\n",
    "contaValores = 0\n",
    "maiorValorDigitado = 0\n",
    "menorValorDigitado = 1000000\n",
    "continua = 'S'\n",
    "while continua == 'S':\n",
    "    num = int(input('Digite um valor qualquer: '))\n",
    "    somaValores = somaValores + num\n",
    "    contaValores = contaValores + 1\n",
    "    if num > maiorValorDigitado:\n",
    "        maiorValorDigitado = num\n",
    "    if num < menorValorDigitado:\n",
    "        menorValorDigitado = num\n",
    "    \n",
    "    continua = input('Deseja continuar? [S/N]').upper()\n",
    "    \n",
    "print('Ao todo foram digitados {} valores.'.format(contaValores))\n",
    "print('Média entre os números digitados: {:.1f}'.format(somaValores/contaValores))\n",
    "print('Maior Valor digitado: {}'.format(maiorValorDigitado))\n",
    "print('Menor Valor digitado: {}'.format(menorValorDigitado))"
   ]
  },
  {
   "cell_type": "markdown",
   "metadata": {},
   "source": [
    "Exercício 4 - Crie um programa que leia vários números inteiros pelo teclado. O programa só vai parar quando o usuário digitar o valor 999, que é a condição de parada. No final, mostre quantos números foram digitados e qual foi a soma entre eles (desconsiderando o flag)."
   ]
  },
  {
   "cell_type": "code",
   "execution_count": 1,
   "metadata": {},
   "outputs": [
    {
     "name": "stdout",
     "output_type": "stream",
     "text": [
      "Digite um valor (999 para parar): 3\n",
      "Digite um valor (999 para parar): 8\n",
      "Digite um valor (999 para parar): 1\n",
      "Digite um valor (999 para parar): 7\n",
      "Digite um valor (999 para parar): 999\n",
      "A soma dos 4 valores foi 19\n"
     ]
    }
   ],
   "source": [
    "valor = 0\n",
    "somaValores = 0\n",
    "cont = 0\n",
    "while valor != 999:\n",
    "    valor = int(input('Digite um valor (999 para parar): '))\n",
    "    if valor == 999:\n",
    "        break\n",
    "    somaValores = somaValores + valor\n",
    "    cont = cont + 1\n",
    "    \n",
    "    \n",
    "print('A soma dos {} valores foi {}'.format(cont, somaValores))"
   ]
  },
  {
   "cell_type": "markdown",
   "metadata": {},
   "source": [
    "Exercício 5 - Faça um programa que mostre a tabuada de vários números, um de cada vez, para cada valor digitado pelo usuário. O programa será interrompido quando o número solicitado for negativo."
   ]
  },
  {
   "cell_type": "code",
   "execution_count": 10,
   "metadata": {},
   "outputs": [
    {
     "name": "stdout",
     "output_type": "stream",
     "text": [
      "Digite um número qualquer: 2\n",
      "TABUADA DO 2\n",
      "2 x 1 = 2\n",
      "2 x 2 = 4\n",
      "2 x 3 = 6\n",
      "2 x 4 = 8\n",
      "2 x 5 = 10\n",
      "2 x 6 = 12\n",
      "2 x 7 = 14\n",
      "2 x 8 = 16\n",
      "2 x 9 = 18\n",
      "2 x 10 = 20\n",
      "Digite um número qualquer: 3\n",
      "TABUADA DO 3\n",
      "3 x 1 = 3\n",
      "3 x 2 = 6\n",
      "3 x 3 = 9\n",
      "3 x 4 = 12\n",
      "3 x 5 = 15\n",
      "3 x 6 = 18\n",
      "3 x 7 = 21\n",
      "3 x 8 = 24\n",
      "3 x 9 = 27\n",
      "3 x 10 = 30\n",
      "Digite um número qualquer: 0\n"
     ]
    }
   ],
   "source": [
    "num = 1\n",
    "while num > 0:\n",
    "    num = int(input('Digite um número qualquer: '))\n",
    "    if num <= 0:\n",
    "        break\n",
    "    print('TABUADA DO {}'.format(num))\n",
    "    for i in range(1, 11):\n",
    "        print('{} x {} = {}'.format(num, i, num*i))"
   ]
  },
  {
   "cell_type": "markdown",
   "metadata": {},
   "source": [
    "Exercício 6 - Faça um programa que jogue par ou ímpar com o computador. O jogo só será interrompido quando o jogador PERDER, mostrando o total de vitórias consecutivas que ele conquistou no final do jogo."
   ]
  },
  {
   "cell_type": "code",
   "execution_count": 27,
   "metadata": {},
   "outputs": [
    {
     "name": "stdout",
     "output_type": "stream",
     "text": [
      "Par ou Impar: par\n",
      "Qual é a sua jogada? 4\n",
      "Jogada do computador: 10\n",
      "Você ganhou! 14 é par!\n",
      "Par ou Impar: par\n",
      "Qual é a sua jogada? 5\n",
      "Jogada do computador: 5\n",
      "Você ganhou! 10 é par!\n",
      "Par ou Impar: impar\n",
      "Qual é a sua jogada? 1\n",
      "Jogada do computador: 10\n",
      "Você ganhou! 11 é impar!\n",
      "Par ou Impar: par\n",
      "Qual é a sua jogada? 8\n",
      "Jogada do computador: 9\n",
      "Perdeu. 17 é impar.Tente Novamente!\n",
      "Você ganhou 3 vezes!\n"
     ]
    }
   ],
   "source": [
    "import random\n",
    "flagVitoria = True\n",
    "qtdVitorias = 0\n",
    "while flagVitoria == True:\n",
    "    jogadaComputador = random.randint(1,11)\n",
    "    suaJogada = input('Par ou Impar: ').upper()\n",
    "    jogada = int(input('Qual é a sua jogada? '))\n",
    "    print('Jogada do computador: {}'.format(jogadaComputador))\n",
    "    if (jogadaComputador+jogada) % 2 == 0:\n",
    "        if suaJogada == 'PAR':\n",
    "            print('Você ganhou! {} é par!'.format(jogadaComputador+jogada))\n",
    "            qtdVitorias += 1\n",
    "        else:\n",
    "            print('Perdeu. {} é ímpar.Tente Novamente!'.format(jogadaComputador+jogada))\n",
    "            flagVitoria = False\n",
    "    else:\n",
    "        if suaJogada == 'IMPAR':\n",
    "            print('Você ganhou! {} é impar!'.format(jogadaComputador+jogada))\n",
    "            qtdVitorias += 1\n",
    "        else:\n",
    "            print('Perdeu. {} é impar.Tente Novamente!'.format(jogadaComputador+jogada))\n",
    "            flagVitoria = False\n",
    "    if flagVitoria == False:\n",
    "        break\n",
    "    \n",
    "print('Você ganhou {} vezes!'.format(qtdVitorias))"
   ]
  },
  {
   "cell_type": "markdown",
   "metadata": {},
   "source": [
    "Exercício 7 - Crie um programa que leia a idade e o sexo de várias pessoas. A cada pessoa cadastrada, o programa deverá perguntar se o usuário quer ou não continuar. No final, mostre:\n",
    "a) Quantas pessoas tem mais de 18 anos.\n",
    "b) Quantos homens foram cadastrados.\n",
    "c) Quantas mulheres tem menos de 20 anos."
   ]
  },
  {
   "cell_type": "code",
   "execution_count": 3,
   "metadata": {},
   "outputs": [
    {
     "name": "stdout",
     "output_type": "stream",
     "text": [
      "Digite o sexo[M/F]:m\n",
      "Digite a idade: 23\n",
      "Deseja continuar? [S/N]s\n",
      "Digite o sexo[M/F]:m\n",
      "Digite a idade: 17\n",
      "Deseja continuar? [S/N]s\n",
      "Digite o sexo[M/F]:f\n",
      "Digite a idade: 67\n",
      "Deseja continuar? [S/N]s\n",
      "Digite o sexo[M/F]:m\n",
      "Digite a idade: 45\n",
      "Deseja continuar? [S/N]n\n",
      "Ao todo são 3 pessoas com mais de 18 anos.\n",
      "Ao todo são 3 homens.\n",
      "Ao todo são 0 mulheres com menos de 20 anos.\n"
     ]
    }
   ],
   "source": [
    "continuar = 'S'\n",
    "maiores = 0\n",
    "homens = 0\n",
    "mulheres = 0\n",
    "\n",
    "while continuar == 'S':\n",
    "    sexo = input('Digite o sexo[M/F]:').upper()\n",
    "    idade = int(input('Digite a idade: '))\n",
    "    if idade >= 18:\n",
    "        maiores = maiores + 1\n",
    "    if sexo == 'M':\n",
    "        homens = homens + 1\n",
    "    if sexo == 'F' and idade < 20:\n",
    "        mulheres = mulheres + 1\n",
    "    \n",
    "    continuar = input('Deseja continuar? [S/N]').upper()\n",
    "    \n",
    "print('Ao todo são {} pessoas com mais de 18 anos.'.format(maiores))\n",
    "print('Ao todo são {} homens.'.format(homens))\n",
    "print('Ao todo são {} mulheres com menos de 20 anos.'.format(mulheres))"
   ]
  },
  {
   "cell_type": "markdown",
   "metadata": {},
   "source": [
    "Exercício 8 - Crie um programa que leia o nome e o preço de vários produtos. O programa deverá perguntar se o usuário vai continuar. No final mostre: a) qual é o total gasto na compra; b) quantos produtos custam mais de R$1000; c) qual é o nome do produto mais barato."
   ]
  },
  {
   "cell_type": "code",
   "execution_count": 8,
   "metadata": {},
   "outputs": [
    {
     "name": "stdout",
     "output_type": "stream",
     "text": [
      "--------------------------------------------------\n",
      "               LOJA SUPER BARATÃO\n",
      "--------------------------------------------------\n",
      "Nome do Produto: Lapiseira\n",
      "Preço: R$6\n",
      "Quer continuar? [S/N]s\n",
      "Nome do Produto: Caderno\n",
      "Preço: R$25\n",
      "Quer continuar? [S/N]s\n",
      "Nome do Produto: Computador\n",
      "Preço: R$12000\n",
      "Quer continuar? [S/N]s\n",
      "Nome do Produto: Impressora\n",
      "Preço: R$750\n",
      "Quer continuar? [S/N]n\n",
      "O total da compra foi de R$12781.00\n",
      "Temos 1 custando mais de R$1000,00\n",
      "O produto mais barato foi a Lapiseira que custa R$6.00\n"
     ]
    }
   ],
   "source": [
    "print('-'*50)\n",
    "print(' '*15+'LOJA SUPER BARATÃO')\n",
    "print('-'*50)\n",
    "continuar = 'S'\n",
    "nomeProdutos = []\n",
    "precoProdutos = []\n",
    "valorTotal = 0\n",
    "acimaDosMil = 0\n",
    "\n",
    "while continuar == 'S':\n",
    "    nome = input('Nome do Produto: ')\n",
    "    preco = int(input('Preço: R$'))\n",
    "    continuar = input('Quer continuar? [S/N]').upper()\n",
    "    \n",
    "    valorTotal = valorTotal + preco\n",
    "    \n",
    "    if preco > 1000:\n",
    "        acimaDosMil = acimaDosMil + 1\n",
    "    \n",
    "    nomeProdutos.append(nome)\n",
    "    precoProdutos.append(preco)\n",
    "    \n",
    "print('O total da compra foi de R${:.2f}'.format(valorTotal))\n",
    "print(f'Temos {acimaDosMil} custando mais de R$1000,00')\n",
    "print('O produto mais barato foi a {} que custa R${:.2f}'.format(nomeProdutos[precoProdutos.index(min(precoProdutos))], min(precoProdutos)))"
   ]
  },
  {
   "cell_type": "markdown",
   "metadata": {},
   "source": [
    "Exercício 9 - Crie um programa que simule o funciomento de um caixa eletrônico. No início, pergunte ao usuário qual será o valor a ser sacado (número inteiro) e o programa vai informar quantas cédulas de cada valor serão entregues. Considere que o caixa possui cédulas de R$50, R$20 e R$1"
   ]
  },
  {
   "cell_type": "code",
   "execution_count": 61,
   "metadata": {},
   "outputs": [
    {
     "name": "stdout",
     "output_type": "stream",
     "text": [
      "Digite o valor a ser sacado: 1459\n",
      "Serão 29 notas de R$50.\n",
      "Serão 0 notas de R$20.\n",
      "Serão 9 notas de R$1.\n"
     ]
    }
   ],
   "source": [
    "import math\n",
    "\n",
    "valor = int(input('Digite o valor a ser sacado: '))\n",
    "if valor >= 50:\n",
    "    if valor % 50 == 0:\n",
    "        print('Serão {:.0f} notas de R$50.'.format(math.floor(valor/50)))\n",
    "    elif (valor % 50) % 20 == 0:\n",
    "        print('Serão {:.0f} notas de R$50.'.format(math.floor(valor/50)))\n",
    "        print('Serão {:.0f} notas de R$20.'.format(math.floor((valor%50) / 20)))\n",
    "    else:\n",
    "        print('Serão {:.0f} notas de R$50.'.format(math.floor(valor/50)))\n",
    "        print('Serão {:.0f} notas de R$20.'.format(math.floor((valor%50) / 20)))\n",
    "        print('Serão {:.0f} notas de R$1.'.format(math.floor((valor%50) % 20)))\n",
    "elif valor >=20:\n",
    "    if valor % 20 == 0:\n",
    "        print('Serão {:.0f} notas de R$20.'.format(math.floor(valor/20)))\n",
    "    else:\n",
    "        print('Serão {:.0f} notas de R$20.'.format(math.floor(valor/20)))\n",
    "        print('Serão {:.0f} notas de R$1.'.format(math.floor(valor%20)))\n",
    "elif (valor >= 1) and (valor < 20):\n",
    "    print('Serão {:.0f} notas de R$1'.format(valor))"
   ]
  },
  {
   "cell_type": "markdown",
   "metadata": {},
   "source": [
    "Exercício 10 - Crie um programa que tenha uma tupla totalmente preenchida com uma contagem por extenso, de zero até vinte. Seu programa deverá ler um número pelo teclado (entre 0 e 20) e mostrá-lo por extenso."
   ]
  },
  {
   "cell_type": "code",
   "execution_count": 14,
   "metadata": {},
   "outputs": [
    {
     "name": "stdout",
     "output_type": "stream",
     "text": [
      "Digite um número (entre 0 e 20): 4\n",
      "O número digitado foi quatro\n"
     ]
    }
   ],
   "source": [
    "contagem = ('um', 'dois', 'três', 'quatro', 'cinco', 'seis', 'sete', 'oito', 'nove', 'dez', 'onze', 'doze', 'treze', 'quatorze', 'quinze', 'dezesseis', 'dezessete', 'dezoito', 'dezenove', 'vinte')\n",
    "num = int(input('Digite um número (entre 0 e 20): '))\n",
    "print(f'O número digitado foi {contagem[num-1]}')"
   ]
  },
  {
   "cell_type": "code",
   "execution_count": null,
   "metadata": {},
   "outputs": [],
   "source": []
  }
 ],
 "metadata": {
  "kernelspec": {
   "display_name": "Python 3",
   "language": "python",
   "name": "python3"
  },
  "language_info": {
   "codemirror_mode": {
    "name": "ipython",
    "version": 3
   },
   "file_extension": ".py",
   "mimetype": "text/x-python",
   "name": "python",
   "nbconvert_exporter": "python",
   "pygments_lexer": "ipython3",
   "version": "3.6.5"
  }
 },
 "nbformat": 4,
 "nbformat_minor": 2
}
