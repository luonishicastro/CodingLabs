{
 "cells": [
  {
   "cell_type": "markdown",
   "metadata": {},
   "source": [
    "<h3>Bubble Sort</h3>"
   ]
  },
  {
   "cell_type": "markdown",
   "metadata": {},
   "source": [
    "<i>Consider the following version of Bubble Sort:</i>"
   ]
  },
  {
   "cell_type": "code",
   "execution_count": null,
   "metadata": {},
   "outputs": [],
   "source": [
    "'''\n",
    "for (int i = 0; i < n; i++) {\n",
    "    \n",
    "    for (int j = 0; j < n - 1; j++) {\n",
    "        // Swap adjacent elements if they are in decreasing order\n",
    "        if (a[j] > a[j + 1]) {\n",
    "            swap(a[j], a[j + 1]);\n",
    "        }\n",
    "    }\n",
    "    \n",
    "}\n",
    "'''"
   ]
  },
  {
   "cell_type": "markdown",
   "metadata": {},
   "source": [
    "<i>\n",
    "Given an array of integers, sort the array in ascending order using the Bubble Sort algorithm above. Once sorted, print the following three lines:\n",
    "\n",
    "1. Array is sorted in numSwaps swaps., where $numSwaps$ is the number of swaps that took place.\n",
    "2. First Element: firstElement, where $firstElement$ is the first element in the sorted array.\n",
    "3. Last Element: lastElement, where $lastElement$ is the last element in the sorted array.\n",
    "\n",
    "Hint: To complete this challenge, you must add a variable that keeps a running tally of all swaps that occur during execution.\n",
    "</i>"
   ]
  },
  {
   "cell_type": "markdown",
   "metadata": {},
   "source": [
    "<b>Example</b>"
   ]
  },
  {
   "cell_type": "markdown",
   "metadata": {},
   "source": [
    "<i>$a = [6,4,1]$</i>"
   ]
  },
  {
   "cell_type": "code",
   "execution_count": null,
   "metadata": {},
   "outputs": [],
   "source": [
    "'''\n",
    "swap    a       \n",
    "0       [6,4,1]\n",
    "1       [4,6,1]\n",
    "2       [4,1,6]\n",
    "3       [1,4,6]\n",
    "'''"
   ]
  },
  {
   "cell_type": "markdown",
   "metadata": {},
   "source": [
    "<i>The steps of the bubble sort are shown above. It took $3$ swaps to sort the array. Output is:</i>"
   ]
  },
  {
   "cell_type": "code",
   "execution_count": null,
   "metadata": {},
   "outputs": [],
   "source": [
    "'''\n",
    "Array is sorted in 3 swaps.  \n",
    "First Element: 1  \n",
    "Last Element: 6  \n",
    "'''"
   ]
  },
  {
   "cell_type": "code",
   "execution_count": 1,
   "metadata": {},
   "outputs": [
    {
     "name": "stdout",
     "output_type": "stream",
     "text": [
      "Array is sorted in 0 swaps.\n",
      "First Element: 1\n",
      "Last Element: 3\n"
     ]
    }
   ],
   "source": [
    "def countSwaps(list_numbers):\n",
    "    done_swaps = 0\n",
    "    \n",
    "    for passnum in range(len(list_numbers)-1, 0, -1):\n",
    "        for j in range(passnum):\n",
    "            if list_numbers[j]>list_numbers[j+1]:\n",
    "                tmp = list_numbers[j]\n",
    "                list_numbers[j] = list_numbers[j+1]\n",
    "                list_numbers[j+1] = tmp\n",
    "                done_swaps = done_swaps + 1\n",
    "                \n",
    "    print('Array is sorted in {} swaps.'.format(done_swaps))\n",
    "    print('First Element: {}'.format(list_numbers[0]))\n",
    "    print('Last Element: {}'.format(list_numbers[len(list_numbers)-1]))\n",
    "                \n",
    "countSwaps([1, 2, 3])"
   ]
  },
  {
   "cell_type": "code",
   "execution_count": null,
   "metadata": {},
   "outputs": [],
   "source": [
    "'''\n",
    "    s = (n-1)(n)/2\n",
    "    \n",
    "    swap         list_numbers\n",
    "    0            [6, 4, 1]\n",
    "    1            [4, 6, 1]\n",
    "    2            [4, 1, 6]\n",
    "    3            [1, 4, 6]\n",
    "    \n",
    "    s = (3-1)(3)/2=4\n",
    "    \n",
    "    \n",
    "    0            [6, 4, 3, 1]\n",
    "    1            [4, 6, 3, 1]\n",
    "    2            [4, 3, 6, 1]\n",
    "    3            [4, 3, 1, 6]\n",
    "    4            [3, 4, 1, 6]\n",
    "    5            [3, 1, 4, 6]\n",
    "    6            [1, 3, 4, 6]\n",
    "    \n",
    "    s = (4-1)(4)/2=6\n",
    "    \n",
    "    0            [9, 6, 4, 3, 1]\n",
    "    1            [6, 9, 4, 3, 1]\n",
    "    2            [6, 4, 9, 3, 1]\n",
    "    3            [6, 4, 3, 9, 1]\n",
    "    4            [6, 4, 3, 1, 9]\n",
    "    5            [4, 6, 3, 1, 9]\n",
    "    6            [4, 3, 6, 1, 9]\n",
    "    7            [4, 3, 1, 6, 9]\n",
    "    8            [4, 1, 3, 6, 9]\n",
    "    9            [1, 4, 3, 6, 9]\n",
    "    10           [1, 3, 4, 6, 9]\n",
    "    \n",
    "    s = (5-1)(5)/2=10\n",
    "'''"
   ]
  },
  {
   "cell_type": "markdown",
   "metadata": {},
   "source": [
    "<h3>Mark and Toys</h3>"
   ]
  },
  {
   "cell_type": "markdown",
   "metadata": {},
   "source": [
    "<i>Mark and Jane are very happy after having their first child. Their son loves toys, so Mark wants to buy some. There are a number of different toys lying in front of him, tagged with their prices. Mark has only a certain amount to spend, and he wants to maximize the number of toys he buys with this money. Given a list of toy prices and an amount to spend, determine the maximum number of gifts he can buy.</i>"
   ]
  },
  {
   "cell_type": "markdown",
   "metadata": {},
   "source": [
    "<b>Example</b>"
   ]
  },
  {
   "cell_type": "markdown",
   "metadata": {},
   "source": [
    "<i>\n",
    "$prices = [1,2,3,4]$\n",
    "    \n",
    "$k = 7$</i>"
   ]
  },
  {
   "cell_type": "markdown",
   "metadata": {},
   "source": [
    "<i>The budget is $7$ units of currency. He can buy items that cost $[1,2,3]$ for $6$, or $[3,4]$ for $7$ units. The maximum is  items.</i>"
   ]
  },
  {
   "cell_type": "code",
   "execution_count": 3,
   "metadata": {},
   "outputs": [
    {
     "data": {
      "text/plain": [
       "3"
      ]
     },
     "execution_count": 3,
     "metadata": {},
     "output_type": "execute_result"
    }
   ],
   "source": [
    "def maximumToys(price_list, budget):\n",
    "    budget_count = 0\n",
    "    count_items = 0\n",
    "    \n",
    "    price_list.sort()\n",
    "    \n",
    "    for price in price_list:\n",
    "        budget_count = budget_count + price\n",
    "        if budget_count > budget:\n",
    "            break\n",
    "        else:\n",
    "            count_items = count_items + 1\n",
    "    return count_items\n",
    "maximumToys([3,2,4,1], 7)"
   ]
  },
  {
   "cell_type": "code",
   "execution_count": null,
   "metadata": {},
   "outputs": [],
   "source": [
    "'''\n",
    "    princes = [1,2,3,4]\n",
    "    budget = 7\n",
    "    \n",
    "    He can buy items that cost [1,2,3] for 6, or [3,4] for 7 units. The maximum is 3 items\n",
    "'''"
   ]
  }
 ],
 "metadata": {
  "kernelspec": {
   "display_name": "Python 3",
   "language": "python",
   "name": "python3"
  },
  "language_info": {
   "codemirror_mode": {
    "name": "ipython",
    "version": 3
   },
   "file_extension": ".py",
   "mimetype": "text/x-python",
   "name": "python",
   "nbconvert_exporter": "python",
   "pygments_lexer": "ipython3",
   "version": "3.6.5"
  }
 },
 "nbformat": 4,
 "nbformat_minor": 2
}
