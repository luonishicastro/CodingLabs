{
 "cells": [
  {
   "cell_type": "markdown",
   "metadata": {},
   "source": [
    "Exercício 1 - Crie um programa onde o usuário digite uma expressão qualquer que use parênteses. Seus aplicativo deverá analisar se a expressão passada está com os parênteses abertos e fechados na ordem correta."
   ]
  },
  {
   "cell_type": "code",
   "execution_count": 9,
   "metadata": {},
   "outputs": [
    {
     "name": "stdout",
     "output_type": "stream",
     "text": [
      "Digite a expressão matemática: ((((a+b)*c)+2)/4))\n",
      "Sua expressão está errada.\n"
     ]
    }
   ],
   "source": [
    "pilhaValidaExpressao = []\n",
    "exp = input('Digite a expressão matemática: ')\n",
    "for i in exp:\n",
    "    if i == '(':\n",
    "        pilhaValidaExpressao.append('(')\n",
    "    elif i == ')':\n",
    "        if len(pilhaValidaExpressao)>1:\n",
    "            pilhaValidaExpressao.pop()\n",
    "        else:\n",
    "            pilhaValidaExpressao.append(')')\n",
    "    \n",
    "if len(pilhaValidaExpressao) == 0:\n",
    "    print('Sua expressão está correta!')\n",
    "else:\n",
    "    print('Sua expressão está errada.')"
   ]
  },
  {
   "cell_type": "markdown",
   "metadata": {},
   "source": [
    "Exercício 2 - Faça um programa que leia o nome e peso de várias pessoas, guardando tudo em uma lista. No final, mostre:\n",
    "a) Quantas pessoas foram cadastradas;\n",
    "b) Uma listagem com as mais pesada;\n",
    "c) Uma listagem com as mais leves."
   ]
  },
  {
   "cell_type": "code",
   "execution_count": 5,
   "metadata": {},
   "outputs": [
    {
     "name": "stdout",
     "output_type": "stream",
     "text": [
      "Digite o nome da Pessoa: Lucas\n",
      "Digite o peso da Pessoa: 75\n",
      "Deseja continuar? [s/n]s\n",
      "Digite o nome da Pessoa: Bia\n",
      "Digite o peso da Pessoa: 65\n",
      "Deseja continuar? [s/n]s\n",
      "Digite o nome da Pessoa: Fatima\n",
      "Digite o peso da Pessoa: 62\n",
      "Deseja continuar? [s/n]n\n",
      "Ao todo foram cadastradas 3 pessoas.\n",
      "A pessoa mais pesada pesa 75Kg.\n",
      "A pessoa mais leve pesa 62Kg.\n"
     ]
    }
   ],
   "source": [
    "listaPessoas = [[], []]\n",
    "cont = 0\n",
    "\n",
    "continua = 'S'\n",
    "while continua == 'S':\n",
    "    nome = input('Digite o nome da Pessoa: ')\n",
    "    listaPessoas[0].append(nome)\n",
    "    peso = int(input('Digite o peso da Pessoa: '))\n",
    "    listaPessoas[1].append(peso)\n",
    "    continua = input('Deseja continuar? [s/n]').upper()\n",
    "    cont = cont + 1\n",
    "\n",
    "print('Ao todo foram cadastradas {} pessoas.'.format(cont))\n",
    "print('A pessoa mais pesada pesa {}Kg.'.format(max(listaPessoas[1])))\n",
    "print('A pessoa mais leve pesa {}Kg.'.format(min(listaPessoas[1])))"
   ]
  },
  {
   "cell_type": "markdown",
   "metadata": {},
   "source": [
    "Exercício 3 - Crie um programa onde o usuário possa digitar sete valores numéricos e cadastre-os em uma lista única que mantenha separados os valores pares e ímpares. No final, mostre pares e ímpares em ordem crescente."
   ]
  },
  {
   "cell_type": "code",
   "execution_count": 9,
   "metadata": {},
   "outputs": [
    {
     "name": "stdout",
     "output_type": "stream",
     "text": [
      "Digite um valor numérico qualquer: 8\n",
      "Digite um valor numérico qualquer: 9\n",
      "Digite um valor numérico qualquer: 5\n",
      "Digite um valor numérico qualquer: 4\n",
      "Digite um valor numérico qualquer: 2\n",
      "Digite um valor numérico qualquer: 7\n",
      "Digite um valor numérico qualquer: 1\n",
      "Lista dos números pares digitados: [2, 4, 8]\n",
      "Lista dos números impares digitados: [1, 5, 7, 9]\n"
     ]
    }
   ],
   "source": [
    "listaNumeros = [[], []]\n",
    "for i in range(1, 8):\n",
    "    num = int(input('Digite um valor numérico qualquer: '))\n",
    "    if num % 2 == 0:\n",
    "        listaNumeros[0].append(num)\n",
    "    else:\n",
    "        listaNumeros[1].append(num)\n",
    "        \n",
    "print('Lista dos números pares digitados: {}'.format(sorted(listaNumeros[0])))\n",
    "print('Lista dos números impares digitados: {}'.format(sorted(listaNumeros[1])))"
   ]
  },
  {
   "cell_type": "markdown",
   "metadata": {},
   "source": [
    "Exercício 4 - Crie um programa que crie uma matriz de dimensão 3x3 e preencha com valores lidos pelo teclado. No final, mostre a matriz na tela, com a formatação correta."
   ]
  },
  {
   "cell_type": "code",
   "execution_count": 13,
   "metadata": {},
   "outputs": [
    {
     "name": "stdout",
     "output_type": "stream",
     "text": [
      "Digite um valor para [0, 0]: 1\n",
      "Digite um valor para [0, 1]: 2\n",
      "Digite um valor para [0, 2]: 3\n",
      "Digite um valor para [1, 0]: 4\n",
      "Digite um valor para [1, 1]: 5\n",
      "Digite um valor para [1, 2]: 6\n",
      "Digite um valor para [2, 0]: 7\n",
      "Digite um valor para [2, 1]: 8\n",
      "Digite um valor para [2, 2]: 9\n",
      "1 2 3\n",
      "4 5 6\n",
      "7 8 9\n"
     ]
    }
   ],
   "source": [
    "matriz = [[[], [], []], [[], [], []], [[], [], []]]\n",
    "matriz[0][0] = int(input('Digite um valor para [0, 0]: '))\n",
    "matriz[0][1] = int(input('Digite um valor para [0, 1]: '))\n",
    "matriz[0][2] = int(input('Digite um valor para [0, 2]: '))\n",
    "matriz[1][0] = int(input('Digite um valor para [1, 0]: '))\n",
    "matriz[1][1] = int(input('Digite um valor para [1, 1]: '))\n",
    "matriz[1][2] = int(input('Digite um valor para [1, 2]: '))\n",
    "matriz[2][0] = int(input('Digite um valor para [2, 0]: '))\n",
    "matriz[2][1] = int(input('Digite um valor para [2, 1]: '))\n",
    "matriz[2][2] = int(input('Digite um valor para [2, 2]: '))\n",
    "print(f'{matriz[0][0]} {matriz[0][1]} {matriz[0][2]}')\n",
    "print(f'{matriz[1][0]} {matriz[1][1]} {matriz[1][2]}')\n",
    "print(f'{matriz[2][0]} {matriz[2][1]} {matriz[2][2]}')"
   ]
  },
  {
   "cell_type": "markdown",
   "metadata": {},
   "source": [
    "Exercício 5 - Aprimore o desafio anterior, mostrando ao final: a) A soma de todos os valores pares digitados; b) A soma dos valores da terceira coluna; c) O maior valor da segunda linha."
   ]
  },
  {
   "cell_type": "code",
   "execution_count": 40,
   "metadata": {},
   "outputs": [
    {
     "name": "stdout",
     "output_type": "stream",
     "text": [
      "Digite um valor para [0, 0]: 3\n",
      "Digite um valor para [0, 1]: 2\n",
      "Digite um valor para [0, 2]: 6\n",
      "Digite um valor para [1, 0]: 5\n",
      "Digite um valor para [1, 1]: 1\n",
      "Digite um valor para [1, 2]: 9\n",
      "Digite um valor para [2, 0]: 7\n",
      "Digite um valor para [2, 1]: 4\n",
      "Digite um valor para [2, 2]: 2\n",
      "[ 3 ] [ 2 ] [ 6 ] \n",
      "\n",
      "[ 5 ] [ 1 ] [ 9 ] \n",
      "\n",
      "[ 7 ] [ 4 ] [ 2 ] \n",
      "\n",
      "A soma dos valores pares é: 14\n",
      "A soma dos valores da terceira coluna é: 17\n",
      "O maior valor da segunda linha é: 9\n"
     ]
    }
   ],
   "source": [
    "matriz = [[[0], [0], [0]], [[0], [0], [0]], [[0], [0], [0]]]\n",
    "somaPar = 0\n",
    "somaTerceiraColuna = 0\n",
    "maxSegundaLinha = 0\n",
    "\n",
    "for i in range(0, 3):\n",
    "    for j in range(0, 3):\n",
    "        matriz[i][j] = int(input('Digite um valor para [{}, {}]: '.format(i, j)))\n",
    "        \n",
    "for i in range(0, 3):\n",
    "    for j in range(0, 3):\n",
    "        print('[' , matriz[i][j] , ']', end=' ')\n",
    "        if i == 0 and j == 2:\n",
    "            print('\\n')\n",
    "        elif i == 1 and j == 2:\n",
    "            print('\\n')\n",
    "        elif i == 2 and j == 2:\n",
    "            print('\\n')\n",
    "            \n",
    "for i in range(0, 3):\n",
    "    for j in range(0, 3):\n",
    "        if matriz[i][j] % 2 == 0:\n",
    "            somaPar = matriz[i][j] + somaPar\n",
    "        if j == 2:\n",
    "            somaTerceiraColuna = matriz[i][j] + somaTerceiraColuna\n",
    "        if i == 1:\n",
    "            if matriz[i][j] > maxSegundaLinha:\n",
    "                maxSegundaLinha = matriz[i][j]\n",
    "                \n",
    "print('A soma dos valores pares é: {}'.format(somaPar))\n",
    "print('A soma dos valores da terceira coluna é: {}'.format(somaTerceiraColuna))\n",
    "print('O maior valor da segunda linha é: {}'.format(maxSegundaLinha))"
   ]
  },
  {
   "cell_type": "markdown",
   "metadata": {},
   "source": [
    "Exercício 6 - Faça um programa que ajude um jogador da Mega Sena a criar palpites. O programa vai perguntar quantos jogos serão gerados e vai sortear 6 números entre 1 e 60 para cada jogo, cadastrando tudo em uma lista composta."
   ]
  },
  {
   "cell_type": "code",
   "execution_count": 25,
   "metadata": {},
   "outputs": [
    {
     "name": "stdout",
     "output_type": "stream",
     "text": [
      "------------------------------\n",
      "      JOGA NA MEGA SENA\n",
      "------------------------------\n",
      "Quantos jogos você quer que eu sorteie? 5\n",
      "-=-=-=-=-= SORTEANDO 5 JOGOS -=-=-=-=-=\n",
      "Jogo 1: [2, 47, 28, 40, 7]\n",
      "Jogo 2: [58, 58, 33, 39, 27]\n",
      "Jogo 3: [11, 53, 31, 1, 12]\n",
      "Jogo 4: [17, 37, 35, 47, 58]\n",
      "Jogo 5: [38, 50, 39, 28, 57]\n",
      "-=-=-=-=-=< BOA SORTE! >-=-=-=-=-=\n"
     ]
    }
   ],
   "source": [
    "import random\n",
    "\n",
    "print(30 * '-')\n",
    "print('      JOGA NA MEGA SENA')\n",
    "print(30 * '-')\n",
    "jogos = []\n",
    "sorteio = []\n",
    "qtd = int(input('Quantos jogos você quer que eu sorteie? '))\n",
    "print(5 * '-=' + f' SORTEANDO {qtd} JOGOS ' + 5 * '-=')\n",
    "for i in range(1, qtd+1):\n",
    "    for j in range(0, 5):\n",
    "        sorteio.append(random.randint(1, 60))\n",
    "    jogos.append(sorteio[:])\n",
    "    sorteio.clear()\n",
    "\n",
    "for numero, jogo in enumerate(jogos):\n",
    "    print('Jogo {}: {}'.format(numero+1, jogo))\n",
    "    \n",
    "print(5 * '-=' + '< BOA SORTE! >' + 5 * '-=')"
   ]
  },
  {
   "cell_type": "markdown",
   "metadata": {},
   "source": [
    "Exercício 7 - Crie um programa que leia nome e duas notas de vários alunos e guarde tudo em uma lista composta. No final, mostre um boletim contendo a média de cada um e permita que o usuário possa mostrar a nota de cada aluno individualmente."
   ]
  },
  {
   "cell_type": "code",
   "execution_count": 40,
   "metadata": {},
   "outputs": [
    {
     "name": "stdout",
     "output_type": "stream",
     "text": [
      "Nome: Maria\n",
      "Nota 1: 8.5\n",
      "Nota 2: 6.5\n",
      "Quer continuar? [S/N] s\n",
      "Nome: claudio\n",
      "Nota 1: 3.5\n",
      "Nota 2: 2\n",
      "Quer continuar? [S/N] s\n",
      "Nome: ana\n",
      "Nota 1: 10\n",
      "Nota 2: 10\n",
      "Quer continuar? [S/N] n\n",
      "-=-=-=-=-=-=-=-=-=-=-=-=-=-=-=-=-=-=-=-=-=-=-=-=-=-=-=-=-=-=-=-=-=-=-=-=-=-=-=-=-=-=-=-=-=-=-=-=-=-=\n",
      "------------------------------\n",
      "No.  NOME    MÉDIA\n",
      "------------------------------\n",
      "0    Maria   7.5\n",
      "1    claudio 2.75\n",
      "2    ana     10.0\n",
      "Mostrar notas de qual aluno? (999 interrompe): 0\n",
      "Notas de Maria são: 8.5 e 6.5\n",
      "Mostrar notas de qual aluno? (999 interrompe): 1\n",
      "Notas de claudio são: 3.5 e 2.0\n",
      "Mostrar notas de qual aluno? (999 interrompe): 2\n",
      "Notas de ana são: 10.0 e 10.0\n",
      "Mostrar notas de qual aluno? (999 interrompe): 999\n"
     ]
    }
   ],
   "source": [
    "boletimAlunos = []\n",
    "notas = []\n",
    "\n",
    "while True:\n",
    "    nome = input('Nome: ')\n",
    "    nota1 = float(input('Nota 1: '))\n",
    "    nota2 = float(input('Nota 2: '))\n",
    "    media = (nota1+nota2)/2\n",
    "    \n",
    "    notas.append(nome)\n",
    "    notas.append(nota1)\n",
    "    notas.append(nota2)\n",
    "    notas.append(media)\n",
    "    boletimAlunos.append(notas[:])\n",
    "    notas.clear()\n",
    "    \n",
    "    continuar = input('Quer continuar? [S/N] ').upper()\n",
    "    if continuar != 'S':\n",
    "        break\n",
    "\n",
    "print(50 * '-=')\n",
    "print(30 * '-')\n",
    "print('No.  NOME    MÉDIA')\n",
    "print(30 * '-')\n",
    "\n",
    "for pos, rep in enumerate(boletimAlunos):\n",
    "    pk = 8-len(rep[0])\n",
    "    print(f'{pos}' + '    ' + f'{rep[0]}' +  pk * ' ' + f'{rep[3]}')\n",
    "    \n",
    "while True:\n",
    "    nro = int(input('Mostrar notas de qual aluno? (999 interrompe): '))\n",
    "    if nro == 999:\n",
    "        break\n",
    "    else:\n",
    "        print('Notas de {} são: {} e {}'.format(boletimAlunos[nro][0], boletimAlunos[nro][1], boletimAlunos[nro][2]))"
   ]
  },
  {
   "cell_type": "markdown",
   "metadata": {},
   "source": [
    "Exercício 8 - Faça um programa que leia nome e média de um aluno, guardando também a situação em um dicionário. No final, mostre o conteúdo da estrutura na tela."
   ]
  },
  {
   "cell_type": "code",
   "execution_count": 3,
   "metadata": {},
   "outputs": [
    {
     "name": "stdout",
     "output_type": "stream",
     "text": [
      "Nome: Pedro\n",
      "Média: 9.5\n",
      "-=-=-=-=-=-=-=-=-=-=-=-=-=-=-=-=-=-=-=-=-=-=-=-=-=-=-=-=-=-=\n",
      "  - nome é igual a Pedro\n",
      "  - média é igual a 9.5\n",
      "  - situação é igual a Aprovado\n"
     ]
    }
   ],
   "source": [
    "relatorio = {}\n",
    "relatorio['nome'] = input('Nome: ')\n",
    "relatorio['media'] = float(input('Média: '))\n",
    "print(30*'-=')\n",
    "print('  - nome é igual a {}'.format(relatorio['nome']))\n",
    "print('  - média é igual a {}'.format(relatorio['media']))\n",
    "if relatorio['media'] >= 7:\n",
    "    print('  - situação é igual a Aprovado')\n",
    "else:\n",
    "    print('  - situação é igual a Recuperação')"
   ]
  },
  {
   "cell_type": "markdown",
   "metadata": {},
   "source": [
    "Exercício 9 - Crie um programa onde 4 jogadores joguem um dado e tenham resultados aleatórios. Guarde esses resultados em um dicionário. No final, coloque esse dicionário em ordem, sabendo que o vencedor tirou o maior número no dado."
   ]
  },
  {
   "cell_type": "code",
   "execution_count": 45,
   "metadata": {},
   "outputs": [
    {
     "name": "stdout",
     "output_type": "stream",
     "text": [
      "jogador1 tirou 5 no dado.\n",
      "jogador2 tirou 3 no dado.\n",
      "jogador3 tirou 2 no dado.\n",
      "jogador4 tirou 2 no dado.\n",
      "\n",
      "\n",
      "-=-=-=-=-=-=-=-=-=-=-=-=-=-=-=-=-=-=-=-=-=-=-=-=-=-=-=-=-=-=-=-=-=-=-=-=-=-=-=-=-=-=-=-=-=-=-=-=-=-=\n",
      "\n",
      "\n",
      "== RANKING DOS JOGADORES ==\n",
      "1º lugar: jogador1 com 5.\n",
      "2º lugar: jogador2 com 3.\n",
      "3º lugar: jogador3 com 2.\n",
      "4º lugar: jogador4 com 2.\n"
     ]
    }
   ],
   "source": [
    "import random\n",
    "import time\n",
    "import operator\n",
    "\n",
    "ranking = []\n",
    "resultados = {'jogador1': random.randint(1, 6), 'jogador2': random.randint(1, 6)\n",
    "                 , 'jogador3': random.randint(1, 6), 'jogador4': random.randint(1, 6)}\n",
    "\n",
    "for jogador, resultado in resultados.items():\n",
    "    print('{} tirou {} no dado.'.format(jogador, resultado))\n",
    "    time.sleep(1)\n",
    "    \n",
    "print('\\n')\n",
    "print(50 * '-=')\n",
    "print('\\n')\n",
    "\n",
    "print('== RANKING DOS JOGADORES ==')\n",
    "ranking = sorted(resultados.items(), key=operator.itemgetter(1), reverse=True)\n",
    "\n",
    "for posicao, resultado in enumerate(ranking):\n",
    "    print(f'{posicao+1}º lugar: {resultado[0]} com {resultado[1]}.')\n",
    "    time.sleep(1)"
   ]
  },
  {
   "cell_type": "markdown",
   "metadata": {},
   "source": [
    "Exercício 10 - Crie um programa que leia nome, ano de nascimento e carteira de trabalho e cadastre-os (com idade) em um dicionário se por acaso a CTPS for diferente de zero, o dicionário receberá também o ano de contratação e o salário. Calcule e acrescente, além da idade, com quantos anos a pessoa vai se aposentar."
   ]
  },
  {
   "cell_type": "code",
   "execution_count": 8,
   "metadata": {},
   "outputs": [
    {
     "name": "stdout",
     "output_type": "stream",
     "text": [
      "Nome: Creuza\n",
      "Ano de Nascimento: 1999\n",
      "Carteira de Trabalho (0 não tem): 43321\n",
      "Ano de Contratação: 2015\n",
      "Salário: R$3000\n",
      "-=-=-=-=-=-=-=-=-=-=-=-=-=-=-=-=-=-=-=-=-=-=-=-=-=-=-=-=-=-=-=-=-=-=-=-=-=-=-=-=-=-=-=-=-=-=-=-=-=-=\n",
      " - nome tem o valor Creuza\n",
      " - idade tem o valor 21\n",
      " - ctps tem o valor 43321\n",
      " - contratação tem o valor 2015\n",
      " - salário tem o valor 3000.00\n",
      " - aposentadoria tem o valor 39\n"
     ]
    }
   ],
   "source": [
    "import datetime\n",
    "\n",
    "carteiraTrabalho = {}\n",
    "\n",
    "carteiraTrabalho['nome'] = input('Nome: ')\n",
    "carteiraTrabalho['nascimento'] = input('Ano de Nascimento: ')\n",
    "carteiraTrabalho['carteira'] = int(input('Carteira de Trabalho (0 não tem): '))\n",
    "\n",
    "if carteiraTrabalho['carteira'] == 0:\n",
    "    print(50 * '-=')\n",
    "    print(' - nome tem o valor {}'.format(carteiraTrabalho['nome']))\n",
    "    print(' - idade tem o valor {}'.format(datetime.datetime.now().year-int(carteiraTrabalho['nascimento'])))\n",
    "    print(' - ctps tem o valor {}'.format(carteiraTrabalho['carteira']))\n",
    "else:\n",
    "    carteiraTrabalho['ano'] = int(input('Ano de Contratação: '))\n",
    "    carteiraTrabalho['salario'] = float(input('Salário: R$'))\n",
    "    \n",
    "    print(50 * '-=')\n",
    "    print(' - nome tem o valor {}'.format(carteiraTrabalho['nome']))\n",
    "    print(' - idade tem o valor {}'.format(datetime.datetime.now().year-int(carteiraTrabalho['nascimento'])))\n",
    "    print(' - ctps tem o valor {}'.format(carteiraTrabalho['carteira']))\n",
    "    print(' - contratação tem o valor {}'.format(carteiraTrabalho['ano']))\n",
    "    print(' - salário tem o valor {:.2f}'.format(carteiraTrabalho['salario']))\n",
    "    print(' - aposentadoria tem o valor {}'.format(60-(datetime.datetime.now().year-int(carteiraTrabalho['nascimento']))))"
   ]
  },
  {
   "cell_type": "code",
   "execution_count": null,
   "metadata": {},
   "outputs": [],
   "source": []
  }
 ],
 "metadata": {
  "kernelspec": {
   "display_name": "Python 3",
   "language": "python",
   "name": "python3"
  },
  "language_info": {
   "codemirror_mode": {
    "name": "ipython",
    "version": 3
   },
   "file_extension": ".py",
   "mimetype": "text/x-python",
   "name": "python",
   "nbconvert_exporter": "python",
   "pygments_lexer": "ipython3",
   "version": "3.6.5"
  }
 },
 "nbformat": 4,
 "nbformat_minor": 2
}
