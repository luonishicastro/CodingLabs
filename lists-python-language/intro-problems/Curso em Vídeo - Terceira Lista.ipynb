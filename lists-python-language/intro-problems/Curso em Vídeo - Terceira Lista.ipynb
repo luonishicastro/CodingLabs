{
 "cells": [
  {
   "cell_type": "markdown",
   "metadata": {},
   "source": [
    "Exercício 1 - Faça um programa que leia um número de 0 a 9999 e mostre na tela cada um dos dígitos separadores."
   ]
  },
  {
   "cell_type": "code",
   "execution_count": 5,
   "metadata": {},
   "outputs": [
    {
     "name": "stdout",
     "output_type": "stream",
     "text": [
      "Digite um número qualquer: 1234\n",
      "Casa dos Milhares: 4\n",
      "Casa das Centenas: 3\n",
      "Casa das Dezenas: 2\n",
      "Casa das Unidades: 1\n"
     ]
    }
   ],
   "source": [
    "num = input('Digite um número qualquer: ')\n",
    "if len(num) == 1:\n",
    "    print(f'Casa das Unidades: {num}')\n",
    "elif len(num) == 2:\n",
    "    print(f'Casa das Dezenas: {num[0]}')\n",
    "    print(f'Casa das Unidades: {num[1]}')\n",
    "elif len(num) == 3:\n",
    "    print(f'Casa das Centenas: {num[2]}')\n",
    "    print(f'Casa das Dezenas: {num[1]}')\n",
    "    print(f'Casa das Unidades: {num[0]}')\n",
    "else:\n",
    "    print(f'Casa dos Milhares: {num[3]}')\n",
    "    print(f'Casa das Centenas: {num[2]}')\n",
    "    print(f'Casa das Dezenas: {num[1]}')\n",
    "    print(f'Casa das Unidades: {num[0]}')"
   ]
  },
  {
   "cell_type": "markdown",
   "metadata": {},
   "source": [
    "Exercício 2 - Crie um programa que leia o nome de uma cidade e diga se ela começa ou não com o nome \"SANTO\""
   ]
  },
  {
   "cell_type": "code",
   "execution_count": 8,
   "metadata": {},
   "outputs": [
    {
     "name": "stdout",
     "output_type": "stream",
     "text": [
      "Digite o nome da cidade: Santo André\n",
      "O nome desta cidade começa com Santo.\n"
     ]
    }
   ],
   "source": [
    "nomeCidade = input('Digite o nome da cidade: ').upper().split()\n",
    "if nomeCidade[0] == 'SANTO':\n",
    "    print('O nome desta cidade começa com Santo.')\n",
    "else:\n",
    "    print('O nome desta cidade não começa com Santo.')"
   ]
  },
  {
   "cell_type": "markdown",
   "metadata": {},
   "source": [
    "Exercício 3 - Crie um programa que leia o nome de uma pessoa e diga se ela tem \"Silva\" no nome."
   ]
  },
  {
   "cell_type": "code",
   "execution_count": 11,
   "metadata": {},
   "outputs": [
    {
     "name": "stdout",
     "output_type": "stream",
     "text": [
      "Digite o seu nome: Lucas Beraldo Onishi de Castro da Silva\n",
      "Este nome possui Silva.\n"
     ]
    }
   ],
   "source": [
    "nome = input('Digite o seu nome: ').upper().split()\n",
    "flagSilva = 0\n",
    "for i in nome:\n",
    "    if i == 'SILVA':\n",
    "        flagSilva = 1\n",
    "if flagSilva == 1:\n",
    "    print('Este nome possui Silva.')\n",
    "else:\n",
    "    print('Este nome não possui Silva.')"
   ]
  },
  {
   "cell_type": "markdown",
   "metadata": {},
   "source": [
    "Exercício 4 - Faça um programa que leia uma frase pelo teclado e mostre: (a) quantas vezes aparece a palavra \"A\"; (b) em que posição ela aparece a primeira vez; (c) em que posição ela aparece a última vez."
   ]
  },
  {
   "cell_type": "code",
   "execution_count": 14,
   "metadata": {},
   "outputs": [
    {
     "name": "stdout",
     "output_type": "stream",
     "text": [
      "Digite uma frase qualquer: o rato roeu a roupa do rei de roma\n",
      "A palavra A aparece 4 vezes na frase digitada.\n",
      "Aparece pela primeira vez na posição 3\n",
      "Aparece pela última vez na posição 33\n"
     ]
    }
   ],
   "source": [
    "frase = input('Digite uma frase qualquer: ').upper()\n",
    "print('A palavra A aparece {} vezes na frase digitada.'.format(frase.count('A')))\n",
    "print('Aparece pela primeira vez na posição {}'.format(frase.find('A')))\n",
    "print('Aparece pela última vez na posição {}'.format(frase.rfind('A')))"
   ]
  },
  {
   "cell_type": "markdown",
   "metadata": {},
   "source": [
    "Exercício 5 - Faça um programa que leia o nome completo de uma pessoa, mostrando em seguida o primeiro e o último nome separadamente."
   ]
  },
  {
   "cell_type": "code",
   "execution_count": 12,
   "metadata": {},
   "outputs": [
    {
     "name": "stdout",
     "output_type": "stream",
     "text": [
      "Digite seu nome completo: Lucas Beraldo Onishi de Castro\n",
      "Primeiro nome: Lucas\n",
      "Último nome: Castro\n"
     ]
    }
   ],
   "source": [
    "nome = input('Digite seu nome completo: ').split()\n",
    "print(f'Primeiro nome: {nome[0]}')\n",
    "print(f'Último nome: {nome[len(nome)-1]}')"
   ]
  },
  {
   "cell_type": "markdown",
   "metadata": {},
   "source": [
    "Exercício 6 - Escreva um programa que faça o computador \"pensar\" em um número inteiro entre 0 e 5 e peça para o usuário tentar descobrir qual foi o número escolhido pelo computador. O programa deverá escrever na tela se o usuário venceu ou perdeu."
   ]
  },
  {
   "cell_type": "code",
   "execution_count": 25,
   "metadata": {},
   "outputs": [
    {
     "name": "stdout",
     "output_type": "stream",
     "text": [
      "Dê seu palpite: 2\n",
      "Você acertou!\n",
      "Número sorteado: 2\n"
     ]
    }
   ],
   "source": [
    "import random\n",
    "num = random.randint(1, 5)\n",
    "palpite = int(input('Dê seu palpite: '))\n",
    "if num == palpite:\n",
    "    print('Você acertou!')\n",
    "else:\n",
    "    print('Você errou!')\n",
    "print('Número sorteado: {}'.format(num))"
   ]
  },
  {
   "cell_type": "markdown",
   "metadata": {},
   "source": [
    "Exercício 7 - Escreva um programa que leia a velocidade de um carro. Se ele ultrapassar 80Km/h, mostre um mensagem dizendo que ele foi multado. A multa vai custar R$7,00 por cada Km acima do limite."
   ]
  },
  {
   "cell_type": "code",
   "execution_count": 2,
   "metadata": {},
   "outputs": [
    {
     "name": "stdout",
     "output_type": "stream",
     "text": [
      "Qual é a velocidade do carro? 90\n",
      "Você foi multado! Valor total a pagar R$70\n"
     ]
    }
   ],
   "source": [
    "velocidade = int(input('Qual é a velocidade do carro? '))\n",
    "if velocidade > 80:\n",
    "    print('Você foi multado! Valor total a pagar R${}'.format((velocidade-80)*7))\n",
    "else:\n",
    "    print('VRUMMMMM')"
   ]
  },
  {
   "cell_type": "markdown",
   "metadata": {},
   "source": [
    "Exercício 8 - Crie um programa que leia um número inteiro e mostre na tela se ele é PAR ou ÍMPAR."
   ]
  },
  {
   "cell_type": "code",
   "execution_count": 1,
   "metadata": {},
   "outputs": [
    {
     "name": "stdout",
     "output_type": "stream",
     "text": [
      "Digite um número qualquer: 6\n",
      "Número digitado é par.\n"
     ]
    }
   ],
   "source": [
    "num = int(input('Digite um número qualquer: '))\n",
    "if num % 2 == 0:\n",
    "    print('Número digitado é par.')\n",
    "else:\n",
    "    print('Número digitado é ímpar.')"
   ]
  },
  {
   "cell_type": "markdown",
   "metadata": {},
   "source": [
    "Exercício 9 - Desenvolva um programa que pergunte a distância de uma viagem em Km. Calcule o preço da passagem, cobrando R$0,50 por Km para viagens de até 200Km e R$0,45 para viagens mais longas."
   ]
  },
  {
   "cell_type": "code",
   "execution_count": 4,
   "metadata": {},
   "outputs": [
    {
     "name": "stdout",
     "output_type": "stream",
     "text": [
      "Qual a ditância total percorrida? 250\n",
      "A passagem custará R$112.50\n"
     ]
    }
   ],
   "source": [
    "distancia = int(input('Qual a ditância total percorrida? '))\n",
    "if distancia < 200:\n",
    "    precoKm = 0.5\n",
    "else:\n",
    "    precoKm = 0.45\n",
    "\n",
    "print('A passagem custará R${:.2f}'.format(distancia*precoKm))"
   ]
  },
  {
   "cell_type": "markdown",
   "metadata": {},
   "source": [
    "Exercício 10 - Faça um programa que leia um ano qualquer e mostre se ele é Bissexto."
   ]
  },
  {
   "cell_type": "code",
   "execution_count": 28,
   "metadata": {},
   "outputs": [
    {
     "name": "stdout",
     "output_type": "stream",
     "text": [
      "Digite um ano qualquer: 2016\n",
      "É bissexto!\n"
     ]
    }
   ],
   "source": [
    "ano = int(input('Digite um ano qualquer: '))\n",
    "if ano % 4 == 0 and ano % 100 != 0 or ano % 400 == 0:\n",
    "    print('É bissexto!')\n",
    "else:\n",
    "    print('Não é bissexto.')"
   ]
  },
  {
   "cell_type": "code",
   "execution_count": null,
   "metadata": {},
   "outputs": [],
   "source": []
  }
 ],
 "metadata": {
  "kernelspec": {
   "display_name": "Python 3",
   "language": "python",
   "name": "python3"
  },
  "language_info": {
   "codemirror_mode": {
    "name": "ipython",
    "version": 3
   },
   "file_extension": ".py",
   "mimetype": "text/x-python",
   "name": "python",
   "nbconvert_exporter": "python",
   "pygments_lexer": "ipython3",
   "version": "3.6.5"
  }
 },
 "nbformat": 4,
 "nbformat_minor": 2
}
