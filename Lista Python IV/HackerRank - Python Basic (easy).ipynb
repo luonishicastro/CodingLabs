{
 "cells": [
  {
   "cell_type": "markdown",
   "metadata": {},
   "source": [
    "<h3>P1 - Python If-Else</h3>\n",
    "\n",
    "<i>\n",
    "Given an integer, $n$, perform the following conditional actions:\n",
    "\n",
    "* If $n$ is odd, print Weird\n",
    "* If $n$ is even and in the inclusive range of $2$ to $5$, print Not Weird\n",
    "* If $n$ is even and in the inclusive range of $6$ to $20$, print Weird\n",
    "* If $n$ is even and greater than $20$, print Not Weird\n",
    "\n",
    "</i>"
   ]
  },
  {
   "cell_type": "code",
   "execution_count": 10,
   "metadata": {},
   "outputs": [
    {
     "name": "stdout",
     "output_type": "stream",
     "text": [
      "24\n",
      "Not Weird\n"
     ]
    }
   ],
   "source": [
    "#!/bin/python3\n",
    "\n",
    "import math\n",
    "import os\n",
    "import random\n",
    "import re\n",
    "import sys\n",
    "\n",
    "if __name__ == '__main__':\n",
    "    n = int(input().strip())\n",
    "\n",
    "if n % 2 != 0:\n",
    "    print('Weird')\n",
    "elif (n % 2 == 0) and (n >= 2 and n<=5):\n",
    "    print('Not Weird')\n",
    "elif (n % 2 == 0) and (n >= 6 and n<=20):\n",
    "    print('Weird')\n",
    "elif (n % 2 == 0) and (n>20):\n",
    "    print('Not Weird')"
   ]
  },
  {
   "cell_type": "markdown",
   "metadata": {},
   "source": [
    "<i>\n",
    "<h3>Arithmetic Operators</h3>\n",
    "<br>\n",
    "The provided code stub reads two integers from STDIN, $a$ and $b$. Add code to print three lines where:\n",
    "    \n",
    "* The first line contains the sum of the two numbers.\n",
    "* The second line contains the difference of the two numbers (first - second).\n",
    "* The third line contains the product of the two numbers.\n",
    "</i>"
   ]
  },
  {
   "cell_type": "code",
   "execution_count": 2,
   "metadata": {},
   "outputs": [
    {
     "name": "stdout",
     "output_type": "stream",
     "text": [
      "2\n",
      "4\n",
      "6\n",
      "-2\n",
      "8\n"
     ]
    }
   ],
   "source": [
    "if __name__ == '__main__':\n",
    "    a = int(input())\n",
    "    b = int(input())\n",
    "    \n",
    "print(a + b)\n",
    "print(a - b)\n",
    "print(a * b)"
   ]
  },
  {
   "cell_type": "markdown",
   "metadata": {},
   "source": [
    "<i>\n",
    "<h3>Python: Division</h3>\n",
    "<br>\n",
    "The provided code stub reads two integers, $a$ and $b$, from STDIN.\n",
    "\n",
    "Add logic to print two lines. The first line should contain the result of integer division, $a$ // $b$. The second line should contain the result of float division, $a$ / $b$.\n",
    "\n",
    "No rounding or formatting is necessary.\n",
    "</i>"
   ]
  },
  {
   "cell_type": "code",
   "execution_count": 4,
   "metadata": {},
   "outputs": [
    {
     "name": "stdout",
     "output_type": "stream",
     "text": [
      "29\n",
      "6\n",
      "4\n",
      "4.833333333333333\n"
     ]
    }
   ],
   "source": [
    "if __name__ == '__main__':\n",
    "    a = int(input())\n",
    "    b = int(input())\n",
    "    \n",
    "print(a//b)\n",
    "print(a/b)"
   ]
  },
  {
   "cell_type": "markdown",
   "metadata": {},
   "source": [
    "<i>\n",
    "<h3>Loops</h3>\n",
    "<br>\n",
    "The provided code stub reads and integer, $n$, from STDIN. For all non-negative integers $i < n$, print $i^2$\n",
    "</i>"
   ]
  },
  {
   "cell_type": "code",
   "execution_count": 11,
   "metadata": {},
   "outputs": [
    {
     "name": "stdout",
     "output_type": "stream",
     "text": [
      "4\n",
      "0\n",
      "1\n",
      "4\n",
      "9\n"
     ]
    }
   ],
   "source": [
    "if __name__ == '__main__':\n",
    "    n = int(input())\n",
    "    \n",
    "for i in range(0, n):\n",
    "    print(pow(i, 2))"
   ]
  },
  {
   "cell_type": "markdown",
   "metadata": {},
   "source": [
    "<i>\n",
    "<h3>Print Function</h3>\n",
    "<br>\n",
    "The included code stub will read an integer, $n$, from STDIN.\n",
    "\n",
    "Without using any string methods, try to print the following:\n",
    "<br>\n",
    "$123...n$\n",
    "\n",
    "Note that \"$...$\" represents the consecutive values in between.\n",
    "</i>"
   ]
  },
  {
   "cell_type": "code",
   "execution_count": 15,
   "metadata": {},
   "outputs": [
    {
     "name": "stdout",
     "output_type": "stream",
     "text": [
      "5\n",
      "12345"
     ]
    }
   ],
   "source": [
    "if __name__ == '__main__':\n",
    "    n = int(input())\n",
    "    \n",
    "for i in range(1, n+1):\n",
    "    print(i, end='')"
   ]
  },
  {
   "cell_type": "markdown",
   "metadata": {},
   "source": [
    "<i>\n",
    "<h3>What's Your Name?</h3>\n",
    "<br>\n",
    "You are given the firstname and lastname of a person on two different lines. Your task is to read them and print the following:\n",
    "    <br>\n",
    "Hello firstname lastname! You just delved into python.\n",
    "</i>"
   ]
  },
  {
   "cell_type": "code",
   "execution_count": 25,
   "metadata": {},
   "outputs": [
    {
     "name": "stdout",
     "output_type": "stream",
     "text": [
      "Lucas\n",
      "Castro\n",
      "Hello Lucas Castro! You just delved into python.\n"
     ]
    }
   ],
   "source": [
    "def print_full_name(a, b):\n",
    "    print('Hello {} {}! You just delved into python.'.format(first_name, last_name))\n",
    "\n",
    "\n",
    "if __name__ == '__main__':\n",
    "    first_name = input()\n",
    "    last_name = input()\n",
    "    print_full_name(first_name, last_name)"
   ]
  },
  {
   "cell_type": "markdown",
   "metadata": {},
   "source": [
    "<i>\n",
    "<h3>String Split and Join</h3>\n",
    "<br>\n",
    "You are given a string. Split the string on a \" \" (space) delimiter and join using a - hyphen.\n",
    "</i>"
   ]
  },
  {
   "cell_type": "code",
   "execution_count": 28,
   "metadata": {},
   "outputs": [
    {
     "name": "stdout",
     "output_type": "stream",
     "text": [
      "this is a string\n",
      "this-is-a-string\n"
     ]
    }
   ],
   "source": [
    "def split_and_join(line):\n",
    "    # write your code here\n",
    "    phr = \"-\".join(line.split())\n",
    "    return phr\n",
    "\n",
    "if __name__ == '__main__':\n",
    "    line = input()\n",
    "    result = split_and_join(line)\n",
    "    print(result)"
   ]
  },
  {
   "cell_type": "markdown",
   "metadata": {},
   "source": [
    "<i>\n",
    "<h3>Mutations</h3>\n",
    "<br>\n",
    "Read a given string, change the character at a given index and then print the modified string.\n",
    "</i>"
   ]
  },
  {
   "cell_type": "code",
   "execution_count": 3,
   "metadata": {},
   "outputs": [
    {
     "name": "stdout",
     "output_type": "stream",
     "text": [
      "abracadabra\n",
      "5 k\n",
      "abrackdabra\n"
     ]
    }
   ],
   "source": [
    "def mutate_string(string, position, character):\n",
    "    s = list(string)\n",
    "    s[position] = character\n",
    "    string = ''.join(s)\n",
    "    return string\n",
    "\n",
    "if __name__ == '__main__':\n",
    "    s = input()\n",
    "    i, c = input().split()\n",
    "    s_new = mutate_string(s, int(i), c)\n",
    "    print(s_new)"
   ]
  },
  {
   "cell_type": "markdown",
   "metadata": {},
   "source": [
    "<i>\n",
    "<h3>Text Wrap</h3>\n",
    "<br>\n",
    "You are given a string $S$ and width $w$.\n",
    "Your task is to wrap the string into a paragraph of width $w$.\n",
    "</i>"
   ]
  },
  {
   "cell_type": "code",
   "execution_count": 17,
   "metadata": {},
   "outputs": [
    {
     "name": "stdout",
     "output_type": "stream",
     "text": [
      "ASIUGSIDUFGIYFUHSDUFHSDOIFH\n",
      "4\n",
      "ASIU\n",
      "GSID\n",
      "UFGI\n",
      "YFUH\n",
      "SDUF\n",
      "HSDO\n",
      "IFH\n",
      "\n"
     ]
    }
   ],
   "source": [
    "import textwrap\n",
    "\n",
    "def wrap(string, max_width):\n",
    "    result = textwrap.wrap(string, max_width)\n",
    "    for i in result:\n",
    "        print(i)\n",
    "    return ''\n",
    "\n",
    "if __name__ == '__main__':\n",
    "    string, max_width = input(), int(input())\n",
    "    result = wrap(string, max_width)\n",
    "    print(result)"
   ]
  },
  {
   "cell_type": "markdown",
   "metadata": {},
   "source": [
    "<i>\n",
    "<h3>sWAP cASE</h3>\n",
    "<br>\n",
    "You are given a string and your task is to swap cases. In other words, convert all lowercase letters to uppercase letters and vice versa.\n",
    "</i>"
   ]
  },
  {
   "cell_type": "code",
   "execution_count": 21,
   "metadata": {},
   "outputs": [
    {
     "name": "stdout",
     "output_type": "stream",
     "text": [
      "Www.HackerRank.com\n",
      "wWW.hACKERrANK.COM\n"
     ]
    }
   ],
   "source": [
    "def swap_case(s):\n",
    "    result = ''\n",
    "    for l in s:\n",
    "        if l.isupper():\n",
    "            result = result + l.lower()\n",
    "        else:\n",
    "            result = result + l.upper()\n",
    "    return result\n",
    "\n",
    "if __name__ == '__main__':\n",
    "    s = input()\n",
    "    result = swap_case(s)\n",
    "    print(result)"
   ]
  },
  {
   "cell_type": "code",
   "execution_count": null,
   "metadata": {},
   "outputs": [],
   "source": []
  }
 ],
 "metadata": {
  "kernelspec": {
   "display_name": "Python 3",
   "language": "python",
   "name": "python3"
  },
  "language_info": {
   "codemirror_mode": {
    "name": "ipython",
    "version": 3
   },
   "file_extension": ".py",
   "mimetype": "text/x-python",
   "name": "python",
   "nbconvert_exporter": "python",
   "pygments_lexer": "ipython3",
   "version": "3.6.5"
  }
 },
 "nbformat": 4,
 "nbformat_minor": 2
}
