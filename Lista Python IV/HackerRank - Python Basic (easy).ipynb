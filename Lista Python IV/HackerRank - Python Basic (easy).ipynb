{
 "cells": [
  {
   "cell_type": "markdown",
   "metadata": {},
   "source": [
    "<h1>Python If-Else</h1>\n",
    "\n",
    "<i>\n",
    "Given an integer, $n$, perform the following conditional actions:\n",
    "\n",
    "* If $n$ is odd, print Weird\n",
    "* If $n$ is even and in the inclusive range of $2$ to $5$, print Not Weird\n",
    "* If $n$ is even and in the inclusive range of $6$ to $20$, print Weird\n",
    "* If $n$ is even and greater than $20$, print Not Weird\n",
    "\n",
    "</i>"
   ]
  },
  {
   "cell_type": "markdown",
   "metadata": {},
   "source": [
    "<i>\n",
    "<b>Input Format</b>\n",
    "\n",
    "A single line containing a positive integer, $n$.\n",
    "\n",
    "<br>\n",
    "<b>Constraints</b>\n",
    "* $1 \\leq n \\leq 100$\n",
    "\n",
    "</i>"
   ]
  },
  {
   "cell_type": "markdown",
   "metadata": {},
   "source": [
    "<i>\n",
    "<b>Output Format</b>\n",
    "\n",
    "Print $Weird$ if the number is weird. Otherwise, print $Not Weird$.\n",
    "\n",
    "<br>\n",
    "<b>Sample Input 0</b>\n",
    "\n",
    "</i>"
   ]
  },
  {
   "cell_type": "code",
   "execution_count": 1,
   "metadata": {},
   "outputs": [
    {
     "data": {
      "text/plain": [
       "'\\n3\\n'"
      ]
     },
     "execution_count": 1,
     "metadata": {},
     "output_type": "execute_result"
    }
   ],
   "source": [
    "'''\n",
    "3\n",
    "'''"
   ]
  },
  {
   "cell_type": "markdown",
   "metadata": {},
   "source": [
    "<i>\n",
    "<b>Sample Output 0</b>\n",
    "</i>"
   ]
  },
  {
   "cell_type": "code",
   "execution_count": 3,
   "metadata": {},
   "outputs": [
    {
     "data": {
      "text/plain": [
       "'\\nWeird\\n'"
      ]
     },
     "execution_count": 3,
     "metadata": {},
     "output_type": "execute_result"
    }
   ],
   "source": [
    "'''\n",
    "Weird\n",
    "'''"
   ]
  },
  {
   "cell_type": "markdown",
   "metadata": {},
   "source": [
    "<i>\n",
    "<b>Explanation 0</b>\n",
    "    <br>\n",
    "$n = 3$\n",
    "    <br>\n",
    "$n$ is odd and odd numbers are weird, so print $Weird$.\n",
    "\n",
    "<br>\n",
    "<b>Sample Input 1</b>\n",
    "\n",
    "</i>"
   ]
  },
  {
   "cell_type": "code",
   "execution_count": 4,
   "metadata": {},
   "outputs": [
    {
     "data": {
      "text/plain": [
       "'\\n24\\n'"
      ]
     },
     "execution_count": 4,
     "metadata": {},
     "output_type": "execute_result"
    }
   ],
   "source": [
    "'''\n",
    "24\n",
    "'''"
   ]
  },
  {
   "cell_type": "markdown",
   "metadata": {},
   "source": [
    "<i>\n",
    "<b>Sample Output 1</b>\n",
    "</i>"
   ]
  },
  {
   "cell_type": "code",
   "execution_count": 6,
   "metadata": {},
   "outputs": [
    {
     "data": {
      "text/plain": [
       "'\\nNot Weird\\n'"
      ]
     },
     "execution_count": 6,
     "metadata": {},
     "output_type": "execute_result"
    }
   ],
   "source": [
    "'''\n",
    "Not Weird\n",
    "'''"
   ]
  },
  {
   "cell_type": "markdown",
   "metadata": {},
   "source": [
    "<i>\n",
    "<b>Explanation 1</b>\n",
    "    <br>\n",
    "$n = 24$\n",
    "<br>\n",
    "$n > 20$ and $n$ is even, so it is not weird\n",
    "    <br>\n",
    "</i>"
   ]
  },
  {
   "cell_type": "code",
   "execution_count": 10,
   "metadata": {},
   "outputs": [
    {
     "name": "stdout",
     "output_type": "stream",
     "text": [
      "24\n",
      "Not Weird\n"
     ]
    }
   ],
   "source": [
    "#!/bin/python3\n",
    "\n",
    "import math\n",
    "import os\n",
    "import random\n",
    "import re\n",
    "import sys\n",
    "\n",
    "if __name__ == '__main__':\n",
    "    n = int(input().strip())\n",
    "\n",
    "if n % 2 != 0:\n",
    "    print('Weird')\n",
    "elif (n % 2 == 0) and (n >= 2 and n<=5):\n",
    "    print('Not Weird')\n",
    "elif (n % 2 == 0) and (n >= 6 and n<=20):\n",
    "    print('Weird')\n",
    "elif (n % 2 == 0) and (n>20):\n",
    "    print('Not Weird')"
   ]
  },
  {
   "cell_type": "code",
   "execution_count": null,
   "metadata": {},
   "outputs": [],
   "source": []
  }
 ],
 "metadata": {
  "kernelspec": {
   "display_name": "Python 3",
   "language": "python",
   "name": "python3"
  },
  "language_info": {
   "codemirror_mode": {
    "name": "ipython",
    "version": 3
   },
   "file_extension": ".py",
   "mimetype": "text/x-python",
   "name": "python",
   "nbconvert_exporter": "python",
   "pygments_lexer": "ipython3",
   "version": "3.6.5"
  }
 },
 "nbformat": 4,
 "nbformat_minor": 2
}
