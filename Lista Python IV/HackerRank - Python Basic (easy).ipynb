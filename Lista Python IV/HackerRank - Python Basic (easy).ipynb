{
 "cells": [
  {
   "cell_type": "markdown",
   "metadata": {},
   "source": [
    "<h3>P1 - Python If-Else</h3>\n",
    "\n",
    "<i>\n",
    "Given an integer, $n$, perform the following conditional actions:\n",
    "\n",
    "* If $n$ is odd, print Weird\n",
    "* If $n$ is even and in the inclusive range of $2$ to $5$, print Not Weird\n",
    "* If $n$ is even and in the inclusive range of $6$ to $20$, print Weird\n",
    "* If $n$ is even and greater than $20$, print Not Weird\n",
    "\n",
    "</i>"
   ]
  },
  {
   "cell_type": "code",
   "execution_count": 10,
   "metadata": {},
   "outputs": [
    {
     "name": "stdout",
     "output_type": "stream",
     "text": [
      "24\n",
      "Not Weird\n"
     ]
    }
   ],
   "source": [
    "#!/bin/python3\n",
    "\n",
    "import math\n",
    "import os\n",
    "import random\n",
    "import re\n",
    "import sys\n",
    "\n",
    "if __name__ == '__main__':\n",
    "    n = int(input().strip())\n",
    "\n",
    "if n % 2 != 0:\n",
    "    print('Weird')\n",
    "elif (n % 2 == 0) and (n >= 2 and n<=5):\n",
    "    print('Not Weird')\n",
    "elif (n % 2 == 0) and (n >= 6 and n<=20):\n",
    "    print('Weird')\n",
    "elif (n % 2 == 0) and (n>20):\n",
    "    print('Not Weird')"
   ]
  },
  {
   "cell_type": "markdown",
   "metadata": {},
   "source": [
    "<i>\n",
    "<h3>Arithmetic Operators</h3>\n",
    "<br>\n",
    "The provided code stub reads two integers from STDIN, $a$ and $b$. Add code to print three lines where:\n",
    "    \n",
    "* The first line contains the sum of the two numbers.\n",
    "* The second line contains the difference of the two numbers (first - second).\n",
    "* The third line contains the product of the two numbers.\n",
    "</i>"
   ]
  },
  {
   "cell_type": "code",
   "execution_count": 2,
   "metadata": {},
   "outputs": [
    {
     "name": "stdout",
     "output_type": "stream",
     "text": [
      "2\n",
      "4\n",
      "6\n",
      "-2\n",
      "8\n"
     ]
    }
   ],
   "source": [
    "if __name__ == '__main__':\n",
    "    a = int(input())\n",
    "    b = int(input())\n",
    "    \n",
    "print(a + b)\n",
    "print(a - b)\n",
    "print(a * b)"
   ]
  },
  {
   "cell_type": "markdown",
   "metadata": {},
   "source": [
    "<i>\n",
    "<h3>Python: Division</h3>\n",
    "<br>\n",
    "The provided code stub reads two integers, $a$ and $b$, from STDIN.\n",
    "\n",
    "Add logic to print two lines. The first line should contain the result of integer division, $a$ // $b$. The second line should contain the result of float division, $a$ / $b$.\n",
    "\n",
    "No rounding or formatting is necessary.\n",
    "</i>"
   ]
  },
  {
   "cell_type": "code",
   "execution_count": 4,
   "metadata": {},
   "outputs": [
    {
     "name": "stdout",
     "output_type": "stream",
     "text": [
      "29\n",
      "6\n",
      "4\n",
      "4.833333333333333\n"
     ]
    }
   ],
   "source": [
    "if __name__ == '__main__':\n",
    "    a = int(input())\n",
    "    b = int(input())\n",
    "    \n",
    "print(a//b)\n",
    "print(a/b)"
   ]
  },
  {
   "cell_type": "markdown",
   "metadata": {},
   "source": [
    "<i>\n",
    "<h3>Loops</h3>\n",
    "<br>\n",
    "The provided code stub reads and integer, $n$, from STDIN. For all non-negative integers $i < n$, print $i^2$\n",
    "</i>"
   ]
  },
  {
   "cell_type": "code",
   "execution_count": 11,
   "metadata": {},
   "outputs": [
    {
     "name": "stdout",
     "output_type": "stream",
     "text": [
      "4\n",
      "0\n",
      "1\n",
      "4\n",
      "9\n"
     ]
    }
   ],
   "source": [
    "if __name__ == '__main__':\n",
    "    n = int(input())\n",
    "    \n",
    "for i in range(0, n):\n",
    "    print(pow(i, 2))"
   ]
  },
  {
   "cell_type": "markdown",
   "metadata": {},
   "source": [
    "<i>\n",
    "<h3>Print Function</h3>\n",
    "<br>\n",
    "The included code stub will read an integer, $n$, from STDIN.\n",
    "\n",
    "Without using any string methods, try to print the following:\n",
    "<br>\n",
    "$123...n$\n",
    "\n",
    "Note that \"$...$\" represents the consecutive values in between.\n",
    "</i>"
   ]
  },
  {
   "cell_type": "code",
   "execution_count": 15,
   "metadata": {},
   "outputs": [
    {
     "name": "stdout",
     "output_type": "stream",
     "text": [
      "5\n",
      "12345"
     ]
    }
   ],
   "source": [
    "if __name__ == '__main__':\n",
    "    n = int(input())\n",
    "    \n",
    "for i in range(1, n+1):\n",
    "    print(i, end='')"
   ]
  },
  {
   "cell_type": "markdown",
   "metadata": {},
   "source": [
    "<i>\n",
    "<h3>List Comprehensions</h3>\n",
    "<br>\n",
    "Let's learn about list comprehensions! You are given three integers $x, y$ and $z$ representing the dimensions of a cuboid along with an integer . Print a list of all possible coordinates given by $(i, j, k)$ on a 3D grid where the sum of $i + j + k$ is not equal to $n$. Here, $0 \\leq i \\leq x; 0 \\leq j \\leq y; 0 \\leq k \\leq z$. Please use list comprehensions rather than multiple loops, as a learning exercise.\n",
    "</i>"
   ]
  },
  {
   "cell_type": "code",
   "execution_count": null,
   "metadata": {},
   "outputs": [],
   "source": [
    "if __name__ == '__main__':\n",
    "    x = int(input())\n",
    "    y = int(input())\n",
    "    z = int(input())\n",
    "    n = int(input())\n",
    "    \n"
   ]
  }
 ],
 "metadata": {
  "kernelspec": {
   "display_name": "Python 3",
   "language": "python",
   "name": "python3"
  },
  "language_info": {
   "codemirror_mode": {
    "name": "ipython",
    "version": 3
   },
   "file_extension": ".py",
   "mimetype": "text/x-python",
   "name": "python",
   "nbconvert_exporter": "python",
   "pygments_lexer": "ipython3",
   "version": "3.6.5"
  }
 },
 "nbformat": 4,
 "nbformat_minor": 2
}
