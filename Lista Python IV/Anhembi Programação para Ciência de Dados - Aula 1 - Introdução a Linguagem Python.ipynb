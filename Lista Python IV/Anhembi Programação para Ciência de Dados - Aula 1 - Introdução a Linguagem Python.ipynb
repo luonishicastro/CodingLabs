{
 "cells": [
  {
   "cell_type": "markdown",
   "metadata": {},
   "source": [
    "<b>Tipagem de variáveis para controle de código:</b>"
   ]
  },
  {
   "cell_type": "code",
   "execution_count": 8,
   "metadata": {},
   "outputs": [],
   "source": [
    "nome:str = \"Lucas\""
   ]
  },
  {
   "cell_type": "markdown",
   "metadata": {},
   "source": [
    "<b>Identificação em Memória: \"deixa uma identificação de memória para todos os valores que sejam iguais\"</b>"
   ]
  },
  {
   "cell_type": "code",
   "execution_count": 5,
   "metadata": {},
   "outputs": [
    {
     "name": "stdout",
     "output_type": "stream",
     "text": [
      "2332915283312\n",
      "2332915283312\n",
      "2332915283312\n"
     ]
    }
   ],
   "source": [
    "nome = \"Lucas\"\n",
    "nome2 = \"Lucas\"\n",
    "print(id(nome))\n",
    "print(id(nome2))\n",
    "print(id(\"Lucas\"))"
   ]
  },
  {
   "cell_type": "markdown",
   "metadata": {},
   "source": [
    "<b>Métodos encapsulados dentro da variável:</b>"
   ]
  },
  {
   "cell_type": "code",
   "execution_count": 7,
   "metadata": {},
   "outputs": [
    {
     "name": "stdout",
     "output_type": "stream",
     "text": [
      "['__add__', '__class__', '__contains__', '__delattr__', '__dir__', '__doc__', '__eq__', '__format__', '__ge__', '__getattribute__', '__getitem__', '__getnewargs__', '__gt__', '__hash__', '__init__', '__init_subclass__', '__iter__', '__le__', '__len__', '__lt__', '__mod__', '__mul__', '__ne__', '__new__', '__reduce__', '__reduce_ex__', '__repr__', '__rmod__', '__rmul__', '__setattr__', '__sizeof__', '__str__', '__subclasshook__', 'capitalize', 'casefold', 'center', 'count', 'encode', 'endswith', 'expandtabs', 'find', 'format', 'format_map', 'index', 'isalnum', 'isalpha', 'isascii', 'isdecimal', 'isdigit', 'isidentifier', 'islower', 'isnumeric', 'isprintable', 'isspace', 'istitle', 'isupper', 'join', 'ljust', 'lower', 'lstrip', 'maketrans', 'partition', 'replace', 'rfind', 'rindex', 'rjust', 'rpartition', 'rsplit', 'rstrip', 'split', 'splitlines', 'startswith', 'strip', 'swapcase', 'title', 'translate', 'upper', 'zfill']\n"
     ]
    }
   ],
   "source": [
    "print(dir(nome))"
   ]
  },
  {
   "cell_type": "markdown",
   "metadata": {},
   "source": [
    "<b>Conversão de Bases:</b>"
   ]
  },
  {
   "cell_type": "code",
   "execution_count": 10,
   "metadata": {},
   "outputs": [
    {
     "data": {
      "text/plain": [
       "10"
      ]
     },
     "execution_count": 10,
     "metadata": {},
     "output_type": "execute_result"
    }
   ],
   "source": [
    "int('1010', 2)"
   ]
  },
  {
   "cell_type": "markdown",
   "metadata": {},
   "source": [
    "<h3>Exercícios:</h3>"
   ]
  },
  {
   "cell_type": "markdown",
   "metadata": {},
   "source": [
    "<b>Faça um programa que peça dois números inteiros e imprima a soma desses dois números</b>"
   ]
  },
  {
   "cell_type": "code",
   "execution_count": 2,
   "metadata": {},
   "outputs": [
    {
     "name": "stdout",
     "output_type": "stream",
     "text": [
      "Digite um número qualquer: 2\n",
      "Digite um outro número qualquer: 3\n",
      "A soma entre 2 e 3 é de 5\n"
     ]
    }
   ],
   "source": [
    "n1 = int(input('Digite um número qualquer: '))\n",
    "n2 = int(input('Digite um outro número qualquer: '))\n",
    "print('A soma entre {:.0f} e {:.0f} é de {:.0f}'.format(n1, n2, n1+n2))"
   ]
  },
  {
   "cell_type": "markdown",
   "metadata": {},
   "source": [
    "<b>Escreva um programa que leia a quantidade de dias, horas, minutos e segundos do usuário. Calcule o total em segundos.</b>"
   ]
  },
  {
   "cell_type": "code",
   "execution_count": 5,
   "metadata": {},
   "outputs": [
    {
     "name": "stdout",
     "output_type": "stream",
     "text": [
      "Digite a quantidade totoal de horas: 3\n",
      "Digite a quantidade totoal de minutos: 24\n",
      "Digite a quantidade totoal de segundos: 30\n",
      "Um total de 3:24:30 corresponde a  12270 segundos.\n"
     ]
    }
   ],
   "source": [
    "horas = int(input('Digite a quantidade totoal de horas: '))\n",
    "minutos = int(input('Digite a quantidade totoal de minutos: '))\n",
    "segundos = int(input('Digite a quantidade totoal de segundos: '))\n",
    "print('Um total de %d:%d:%d corresponde a  %d segundos.' % (horas, minutos, segundos, horas*3600+minutos*60+segundos))"
   ]
  },
  {
   "cell_type": "markdown",
   "metadata": {},
   "source": [
    "<b>Faça um Programa que pergunte quanto você ganha por hora e o número de horas trabalhadas no mês. Calcule e mostre o total do seu salário no referido mês, sabendo-se que são descontados 11% para o Imposto de Renda, 8% para o INSS e 5% para o sindicato, faça um programa que nos dê o salário bruto, quanto pagou ao INSS, quanto pagou ao sindicato e o salário líquido. Observe que Salário Bruto - Descontos = Salário Líquido. Calcule os descontos e o salário líquido, conforme a tabela abaixo:\n",
    "a. + Salário Bruto : R$\n",
    "b. - IR (11%) : R$\n",
    "c. - INSS (8%) : R$\n",
    "d. - Sindicato ( 5%) : R$\n",
    "e. = Salário Liquido : R$\n",
    "</b>"
   ]
  },
  {
   "cell_type": "code",
   "execution_count": 2,
   "metadata": {},
   "outputs": [
    {
     "name": "stdout",
     "output_type": "stream",
     "text": [
      "Quanto você ganha por hora?30\n",
      "Digite a quantidade total de horas trabalhadas:1200\n",
      "O Salario Bruto sera de 36000.00 e o Salario Liquido de 27360.00\n"
     ]
    }
   ],
   "source": [
    "rendimentoHora = float(input('Quanto você ganha por hora? '))\n",
    "horasTrabalhadas = int(input('Digite a quantidade total de horas trabalhadas:'))\n",
    "IR = 0.11*(rendimentoHora*horasTrabalhadas)\n",
    "INSS = 0.08*(rendimentoHora*horasTrabalhadas)\n",
    "SIND = 0.05*(rendimentoHora*horasTrabalhadas)\n",
    "salarioLiquido = (rendimentoHora*horasTrabalhadas)-(IR+INSS+SIND)\n",
    "print(\"O Salario Bruto sera de R${:.2f} e o Salario Liquido de R${:.2f}\".format(rendimentoHora*horasTrabalhadas, salarioLiquido))"
   ]
  }
 ],
 "metadata": {
  "kernelspec": {
   "display_name": "Python 3",
   "language": "python",
   "name": "python3"
  },
  "language_info": {
   "codemirror_mode": {
    "name": "ipython",
    "version": 3
   },
   "file_extension": ".py",
   "mimetype": "text/x-python",
   "name": "python",
   "nbconvert_exporter": "python",
   "pygments_lexer": "ipython3",
   "version": "3.7.4"
  }
 },
 "nbformat": 4,
 "nbformat_minor": 2
}
