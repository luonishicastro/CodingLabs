{
 "cells": [
  {
   "cell_type": "markdown",
   "metadata": {},
   "source": [
    "# Inteligência Artificial Aplicada a Finanças"
   ]
  },
  {
   "cell_type": "markdown",
   "metadata": {},
   "source": [
    "### Projeto 7 - Blockchain e IA Para Gestão de Empréstimos Pessoais – Clube do Empréstimo"
   ]
  },
  {
   "cell_type": "markdown",
   "metadata": {},
   "source": [
    "![title](imagens/projeto7.png)"
   ]
  },
  {
   "cell_type": "markdown",
   "metadata": {},
   "source": [
    "## Definindo um Sub-Problema\n",
    "\n",
    "Usando dados históricos sobre empréstimos do Lendig Club - incluindo informações sobre se o tomador do empréstimo pagou ou não o empréstimo - o principal objetivo deste trabalho será prever se um potencial mutuário provavelmente pagará o empréstimo.\n",
    "\n",
    "Após explorar e pré-processar os dados, vamos treinar um modelo de classificação binária de Rede Neural Artificial para atingir esse objetivo. Por fim, avaliamos o desempenho do modelo e simulamos seu funcionamento fazendo previsões com um novo tomador de empréstimo."
   ]
  },
  {
   "cell_type": "markdown",
   "metadata": {},
   "source": [
    "## Fonte de Dados\n",
    "\n",
    "Leia o manual em pdf no Capítulo 10 do curso."
   ]
  },
  {
   "cell_type": "markdown",
   "metadata": {},
   "source": [
    "## Instalando e Carregando Pacotes"
   ]
  },
  {
   "cell_type": "code",
   "execution_count": 1,
   "metadata": {},
   "outputs": [
    {
     "name": "stdout",
     "output_type": "stream",
     "text": [
      "Versão da Linguagem Python Usada Neste Jupyter Notebook: 3.8.5\n"
     ]
    }
   ],
   "source": [
    "# Versão da Linguagem Python\n",
    "from platform import python_version\n",
    "print('Versão da Linguagem Python Usada Neste Jupyter Notebook:', python_version())"
   ]
  },
  {
   "cell_type": "code",
   "execution_count": 2,
   "metadata": {},
   "outputs": [],
   "source": [
    "# Para atualizar um pacote, execute o comando abaixo no terminal ou prompt de comando:\n",
    "# pip install -U nome_pacote\n",
    "\n",
    "# Para instalar a versão exata de um pacote, execute o comando abaixo no terminal ou prompt de comando:\n",
    "# pip install nome_pacote==versão_desejada\n",
    "\n",
    "# Depois de instalar ou atualizar o pacote, reinicie o jupyter notebook.\n",
    "\n",
    "# Instala o pacote watermark.\n",
    "# Esse pacote é usado para gravar as versões de outros pacotes usados neste jupyter notebook.\n",
    "!pip install -q -U watermark"
   ]
  },
  {
   "cell_type": "code",
   "execution_count": 3,
   "metadata": {
    "_cell_guid": "b1076dfc-b9ad-4769-8c92-a6c4dae69d19",
    "_uuid": "8f2839f25d086af736a60e9eeb907d3b93b6e0e5"
   },
   "outputs": [],
   "source": [
    "# Imports\n",
    "import os\n",
    "import pandas as pd\n",
    "import numpy as np\n",
    "import matplotlib.pyplot as plt\n",
    "import seaborn as sns\n",
    "import tensorflow as tf\n",
    "import sklearn\n",
    "from sklearn.model_selection import train_test_split\n",
    "from sklearn.preprocessing import MinMaxScaler\n",
    "from sklearn.metrics import classification_report, confusion_matrix\n",
    "from tensorflow.keras.models import Sequential\n",
    "from tensorflow.keras.layers import Dense, Dropout\n",
    "import warnings\n",
    "warnings.simplefilter(action='ignore')"
   ]
  },
  {
   "cell_type": "code",
   "execution_count": 4,
   "metadata": {},
   "outputs": [
    {
     "name": "stdout",
     "output_type": "stream",
     "text": [
      "Author: Data Science Academy\n",
      "\n",
      "numpy     : 1.19.2\n",
      "sklearn   : 0.23.2\n",
      "matplotlib: 3.3.2\n",
      "tensorflow: 2.4.1\n",
      "pandas    : 1.1.3\n",
      "seaborn   : 0.11.0\n",
      "\n"
     ]
    }
   ],
   "source": [
    "# Versões dos pacotes usados neste jupyter notebook\n",
    "%reload_ext watermark\n",
    "%watermark -a \"Data Science Academy\" --iversions"
   ]
  },
  {
   "cell_type": "markdown",
   "metadata": {},
   "source": [
    "## Carregando os Dados"
   ]
  },
  {
   "cell_type": "code",
   "execution_count": 5,
   "metadata": {},
   "outputs": [],
   "source": [
    "# Carrega os dados\n",
    "df_aprovado = pd.read_csv(\"dados/accepted_2007_to_2018Q4.csv\")"
   ]
  },
  {
   "cell_type": "code",
   "execution_count": 6,
   "metadata": {},
   "outputs": [
    {
     "name": "stdout",
     "output_type": "stream",
     "text": [
      "<class 'pandas.core.frame.DataFrame'>\n",
      "RangeIndex: 2260701 entries, 0 to 2260700\n",
      "Columns: 151 entries, id to settlement_term\n",
      "dtypes: float64(113), object(38)\n",
      "memory usage: 2.5+ GB\n"
     ]
    }
   ],
   "source": [
    "# Info\n",
    "df_aprovado.info()"
   ]
  },
  {
   "cell_type": "code",
   "execution_count": 7,
   "metadata": {},
   "outputs": [
    {
     "data": {
      "text/plain": [
       "(2260701, 151)"
      ]
     },
     "execution_count": 7,
     "metadata": {},
     "output_type": "execute_result"
    }
   ],
   "source": [
    "# Shape\n",
    "df_aprovado.shape"
   ]
  },
  {
   "cell_type": "code",
   "execution_count": 8,
   "metadata": {},
   "outputs": [
    {
     "data": {
      "text/html": [
       "<div>\n",
       "<style scoped>\n",
       "    .dataframe tbody tr th:only-of-type {\n",
       "        vertical-align: middle;\n",
       "    }\n",
       "\n",
       "    .dataframe tbody tr th {\n",
       "        vertical-align: top;\n",
       "    }\n",
       "\n",
       "    .dataframe thead th {\n",
       "        text-align: right;\n",
       "    }\n",
       "</style>\n",
       "<table border=\"1\" class=\"dataframe\">\n",
       "  <thead>\n",
       "    <tr style=\"text-align: right;\">\n",
       "      <th></th>\n",
       "      <th>id</th>\n",
       "      <th>member_id</th>\n",
       "      <th>loan_amnt</th>\n",
       "      <th>funded_amnt</th>\n",
       "      <th>funded_amnt_inv</th>\n",
       "      <th>term</th>\n",
       "      <th>int_rate</th>\n",
       "      <th>installment</th>\n",
       "      <th>grade</th>\n",
       "      <th>sub_grade</th>\n",
       "      <th>...</th>\n",
       "      <th>hardship_payoff_balance_amount</th>\n",
       "      <th>hardship_last_payment_amount</th>\n",
       "      <th>disbursement_method</th>\n",
       "      <th>debt_settlement_flag</th>\n",
       "      <th>debt_settlement_flag_date</th>\n",
       "      <th>settlement_status</th>\n",
       "      <th>settlement_date</th>\n",
       "      <th>settlement_amount</th>\n",
       "      <th>settlement_percentage</th>\n",
       "      <th>settlement_term</th>\n",
       "    </tr>\n",
       "  </thead>\n",
       "  <tbody>\n",
       "    <tr>\n",
       "      <th>0</th>\n",
       "      <td>68407277</td>\n",
       "      <td>NaN</td>\n",
       "      <td>3600.0</td>\n",
       "      <td>3600.0</td>\n",
       "      <td>3600.0</td>\n",
       "      <td>36 months</td>\n",
       "      <td>13.99</td>\n",
       "      <td>123.03</td>\n",
       "      <td>C</td>\n",
       "      <td>C4</td>\n",
       "      <td>...</td>\n",
       "      <td>NaN</td>\n",
       "      <td>NaN</td>\n",
       "      <td>Cash</td>\n",
       "      <td>N</td>\n",
       "      <td>NaN</td>\n",
       "      <td>NaN</td>\n",
       "      <td>NaN</td>\n",
       "      <td>NaN</td>\n",
       "      <td>NaN</td>\n",
       "      <td>NaN</td>\n",
       "    </tr>\n",
       "    <tr>\n",
       "      <th>1</th>\n",
       "      <td>68355089</td>\n",
       "      <td>NaN</td>\n",
       "      <td>24700.0</td>\n",
       "      <td>24700.0</td>\n",
       "      <td>24700.0</td>\n",
       "      <td>36 months</td>\n",
       "      <td>11.99</td>\n",
       "      <td>820.28</td>\n",
       "      <td>C</td>\n",
       "      <td>C1</td>\n",
       "      <td>...</td>\n",
       "      <td>NaN</td>\n",
       "      <td>NaN</td>\n",
       "      <td>Cash</td>\n",
       "      <td>N</td>\n",
       "      <td>NaN</td>\n",
       "      <td>NaN</td>\n",
       "      <td>NaN</td>\n",
       "      <td>NaN</td>\n",
       "      <td>NaN</td>\n",
       "      <td>NaN</td>\n",
       "    </tr>\n",
       "    <tr>\n",
       "      <th>2</th>\n",
       "      <td>68341763</td>\n",
       "      <td>NaN</td>\n",
       "      <td>20000.0</td>\n",
       "      <td>20000.0</td>\n",
       "      <td>20000.0</td>\n",
       "      <td>60 months</td>\n",
       "      <td>10.78</td>\n",
       "      <td>432.66</td>\n",
       "      <td>B</td>\n",
       "      <td>B4</td>\n",
       "      <td>...</td>\n",
       "      <td>NaN</td>\n",
       "      <td>NaN</td>\n",
       "      <td>Cash</td>\n",
       "      <td>N</td>\n",
       "      <td>NaN</td>\n",
       "      <td>NaN</td>\n",
       "      <td>NaN</td>\n",
       "      <td>NaN</td>\n",
       "      <td>NaN</td>\n",
       "      <td>NaN</td>\n",
       "    </tr>\n",
       "    <tr>\n",
       "      <th>3</th>\n",
       "      <td>66310712</td>\n",
       "      <td>NaN</td>\n",
       "      <td>35000.0</td>\n",
       "      <td>35000.0</td>\n",
       "      <td>35000.0</td>\n",
       "      <td>60 months</td>\n",
       "      <td>14.85</td>\n",
       "      <td>829.90</td>\n",
       "      <td>C</td>\n",
       "      <td>C5</td>\n",
       "      <td>...</td>\n",
       "      <td>NaN</td>\n",
       "      <td>NaN</td>\n",
       "      <td>Cash</td>\n",
       "      <td>N</td>\n",
       "      <td>NaN</td>\n",
       "      <td>NaN</td>\n",
       "      <td>NaN</td>\n",
       "      <td>NaN</td>\n",
       "      <td>NaN</td>\n",
       "      <td>NaN</td>\n",
       "    </tr>\n",
       "    <tr>\n",
       "      <th>4</th>\n",
       "      <td>68476807</td>\n",
       "      <td>NaN</td>\n",
       "      <td>10400.0</td>\n",
       "      <td>10400.0</td>\n",
       "      <td>10400.0</td>\n",
       "      <td>60 months</td>\n",
       "      <td>22.45</td>\n",
       "      <td>289.91</td>\n",
       "      <td>F</td>\n",
       "      <td>F1</td>\n",
       "      <td>...</td>\n",
       "      <td>NaN</td>\n",
       "      <td>NaN</td>\n",
       "      <td>Cash</td>\n",
       "      <td>N</td>\n",
       "      <td>NaN</td>\n",
       "      <td>NaN</td>\n",
       "      <td>NaN</td>\n",
       "      <td>NaN</td>\n",
       "      <td>NaN</td>\n",
       "      <td>NaN</td>\n",
       "    </tr>\n",
       "  </tbody>\n",
       "</table>\n",
       "<p>5 rows × 151 columns</p>\n",
       "</div>"
      ],
      "text/plain": [
       "         id  member_id  loan_amnt  funded_amnt  funded_amnt_inv        term  \\\n",
       "0  68407277        NaN     3600.0       3600.0           3600.0   36 months   \n",
       "1  68355089        NaN    24700.0      24700.0          24700.0   36 months   \n",
       "2  68341763        NaN    20000.0      20000.0          20000.0   60 months   \n",
       "3  66310712        NaN    35000.0      35000.0          35000.0   60 months   \n",
       "4  68476807        NaN    10400.0      10400.0          10400.0   60 months   \n",
       "\n",
       "   int_rate  installment grade sub_grade  ... hardship_payoff_balance_amount  \\\n",
       "0     13.99       123.03     C        C4  ...                            NaN   \n",
       "1     11.99       820.28     C        C1  ...                            NaN   \n",
       "2     10.78       432.66     B        B4  ...                            NaN   \n",
       "3     14.85       829.90     C        C5  ...                            NaN   \n",
       "4     22.45       289.91     F        F1  ...                            NaN   \n",
       "\n",
       "  hardship_last_payment_amount disbursement_method  debt_settlement_flag  \\\n",
       "0                          NaN                Cash                     N   \n",
       "1                          NaN                Cash                     N   \n",
       "2                          NaN                Cash                     N   \n",
       "3                          NaN                Cash                     N   \n",
       "4                          NaN                Cash                     N   \n",
       "\n",
       "  debt_settlement_flag_date settlement_status settlement_date  \\\n",
       "0                       NaN               NaN             NaN   \n",
       "1                       NaN               NaN             NaN   \n",
       "2                       NaN               NaN             NaN   \n",
       "3                       NaN               NaN             NaN   \n",
       "4                       NaN               NaN             NaN   \n",
       "\n",
       "  settlement_amount settlement_percentage settlement_term  \n",
       "0               NaN                   NaN             NaN  \n",
       "1               NaN                   NaN             NaN  \n",
       "2               NaN                   NaN             NaN  \n",
       "3               NaN                   NaN             NaN  \n",
       "4               NaN                   NaN             NaN  \n",
       "\n",
       "[5 rows x 151 columns]"
      ]
     },
     "execution_count": 8,
     "metadata": {},
     "output_type": "execute_result"
    }
   ],
   "source": [
    "# Amostra\n",
    "df_aprovado.head()"
   ]
  },
  {
   "cell_type": "markdown",
   "metadata": {},
   "source": [
    "## Análise Exploratória"
   ]
  },
  {
   "cell_type": "markdown",
   "metadata": {},
   "source": [
    "Como vamos prever o loan_status, vamos dar uma olhada mais de perto nessa variável:"
   ]
  },
  {
   "cell_type": "code",
   "execution_count": 9,
   "metadata": {},
   "outputs": [
    {
     "data": {
      "text/plain": [
       "Fully Paid                                             1076751\n",
       "Current                                                 878317\n",
       "Charged Off                                             268559\n",
       "Late (31-120 days)                                       21467\n",
       "In Grace Period                                           8436\n",
       "Late (16-30 days)                                         4349\n",
       "Does not meet the credit policy. Status:Fully Paid        1988\n",
       "Does not meet the credit policy. Status:Charged Off        761\n",
       "Default                                                     40\n",
       "Name: loan_status, dtype: int64"
      ]
     },
     "execution_count": 9,
     "metadata": {},
     "output_type": "execute_result"
    }
   ],
   "source": [
    "# Total de registros por classe da variável de saída\n",
    "df_aprovado.loan_status.value_counts()"
   ]
  },
  {
   "cell_type": "markdown",
   "metadata": {},
   "source": [
    "Por uma questão de simplicidade, vamos considerar apenas os valores _Fully Paid_ e _Charged Off_ :"
   ]
  },
  {
   "cell_type": "code",
   "execution_count": 10,
   "metadata": {},
   "outputs": [],
   "source": [
    "# Filtrando o dataframe\n",
    "df_aprovado = df_aprovado[df_aprovado.loan_status.isin(['Fully Paid', 'Charged Off'])]"
   ]
  },
  {
   "cell_type": "code",
   "execution_count": 11,
   "metadata": {},
   "outputs": [
    {
     "data": {
      "text/plain": [
       "(1345310, 151)"
      ]
     },
     "execution_count": 11,
     "metadata": {},
     "output_type": "execute_result"
    }
   ],
   "source": [
    "# Shape\n",
    "df_aprovado.shape"
   ]
  },
  {
   "cell_type": "code",
   "execution_count": 12,
   "metadata": {},
   "outputs": [
    {
     "data": {
      "text/plain": [
       "<AxesSubplot:xlabel='loan_status', ylabel='count'>"
      ]
     },
     "execution_count": 12,
     "metadata": {},
     "output_type": "execute_result"
    },
    {
     "data": {
      "image/png": "[encoded data removed]",
      "text/plain": [
       "<Figure size 432x288 with 1 Axes>"
      ]
     },
     "metadata": {
      "needs_background": "light"
     },
     "output_type": "display_data"
    }
   ],
   "source": [
    "# Distribuição da classe\n",
    "sns.countplot(x = \"loan_status\", data = df_aprovado)"
   ]
  },
  {
   "cell_type": "markdown",
   "metadata": {},
   "source": [
    "Verificando agora valores nulos por coluna:"
   ]
  },
  {
   "cell_type": "code",
   "execution_count": 13,
   "metadata": {},
   "outputs": [
    {
     "data": {
      "text/plain": [
       "member_id                                     1345310\n",
       "next_pymnt_d                                  1345310\n",
       "orig_projected_additional_accrued_interest    1341551\n",
       "hardship_start_date                           1339556\n",
       "hardship_end_date                             1339556\n",
       "                                               ...   \n",
       "pub_rec                                             0\n",
       "open_acc                                            0\n",
       "hardship_flag                                       0\n",
       "fico_range_high                                     0\n",
       "id                                                  0\n",
       "Length: 151, dtype: int64"
      ]
     },
     "execution_count": 13,
     "metadata": {},
     "output_type": "execute_result"
    }
   ],
   "source": [
    "# Verificando valores nulos\n",
    "df_aprovado.isnull().sum().sort_values(ascending = False)"
   ]
  },
  {
   "cell_type": "markdown",
   "metadata": {},
   "source": [
    "Há muitas colunas quase cheias de valores ausentes. Vamos verificar as primeiras 50 colunas classificadas por valores ausentes:"
   ]
  },
  {
   "cell_type": "code",
   "execution_count": 14,
   "metadata": {},
   "outputs": [
    {
     "data": {
      "text/plain": [
       "member_id                                     1345310\n",
       "next_pymnt_d                                  1345310\n",
       "orig_projected_additional_accrued_interest    1341551\n",
       "hardship_start_date                           1339556\n",
       "hardship_end_date                             1339556\n",
       "payment_plan_start_date                       1339556\n",
       "hardship_length                               1339556\n",
       "hardship_dpd                                  1339556\n",
       "hardship_loan_status                          1339556\n",
       "hardship_last_payment_amount                  1339556\n",
       "hardship_payoff_balance_amount                1339556\n",
       "hardship_amount                               1339556\n",
       "hardship_status                               1339556\n",
       "hardship_reason                               1339556\n",
       "hardship_type                                 1339556\n",
       "deferral_term                                 1339556\n",
       "sec_app_mths_since_last_major_derog           1338665\n",
       "sec_app_revol_util                            1327008\n",
       "revol_bal_joint                               1326681\n",
       "sec_app_fico_range_high                       1326680\n",
       "sec_app_collections_12_mths_ex_med            1326680\n",
       "sec_app_chargeoff_within_12_mths              1326680\n",
       "sec_app_num_rev_accts                         1326680\n",
       "sec_app_open_act_il                           1326680\n",
       "sec_app_fico_range_low                        1326680\n",
       "sec_app_open_acc                              1326680\n",
       "sec_app_mort_acc                              1326680\n",
       "sec_app_inq_last_6mths                        1326680\n",
       "sec_app_earliest_cr_line                      1326680\n",
       "verification_status_joint                     1319715\n",
       "dti_joint                                     1319513\n",
       "annual_inc_joint                              1319510\n",
       "settlement_percentage                         1312034\n",
       "settlement_term                               1312034\n",
       "debt_settlement_flag_date                     1312034\n",
       "settlement_status                             1312034\n",
       "settlement_date                               1312034\n",
       "settlement_amount                             1312034\n",
       "desc                                          1221778\n",
       "mths_since_last_record                        1116755\n",
       "mths_since_recent_bc_dlq                      1026290\n",
       "mths_since_last_major_derog                    991560\n",
       "mths_since_recent_revol_delinq                 895348\n",
       "il_util                                        880294\n",
       "mths_since_rcnt_il                             821928\n",
       "all_util                                       807765\n",
       "open_acc_6m                                    807713\n",
       "total_cu_tl                                    807713\n",
       "inq_last_12m                                   807713\n",
       "open_il_12m                                    807712\n",
       "dtype: int64"
      ]
     },
     "execution_count": 14,
     "metadata": {},
     "output_type": "execute_result"
    }
   ],
   "source": [
    "# Listando colunas com valores ausentes\n",
    "df_aprovado.isnull().sum().sort_values(ascending = False).head(50)"
   ]
  },
  {
   "cell_type": "markdown",
   "metadata": {},
   "source": [
    "Vamos descartar essas colunas, pois não vai contribuir para o nosso objetivo."
   ]
  },
  {
   "cell_type": "code",
   "execution_count": 15,
   "metadata": {},
   "outputs": [],
   "source": [
    "# Drop das colunas com mais valores ausentes\n",
    "cols_to_drop = df_aprovado.isnull().sum().sort_values(ascending = False).head(50).index\n",
    "df_aprovado = df_aprovado.drop(columns = cols_to_drop)"
   ]
  },
  {
   "cell_type": "code",
   "execution_count": 16,
   "metadata": {},
   "outputs": [
    {
     "data": {
      "text/plain": [
       "(1345310, 101)"
      ]
     },
     "execution_count": 16,
     "metadata": {},
     "output_type": "execute_result"
    }
   ],
   "source": [
    "# Shape\n",
    "df_aprovado.shape"
   ]
  },
  {
   "cell_type": "markdown",
   "metadata": {},
   "source": [
    "Vamos checar novamente:"
   ]
  },
  {
   "cell_type": "code",
   "execution_count": 17,
   "metadata": {},
   "outputs": [
    {
     "data": {
      "text/plain": [
       "open_il_24m                   807712\n",
       "inq_fi                        807712\n",
       "open_rv_24m                   807712\n",
       "open_rv_12m                   807712\n",
       "open_act_il                   807712\n",
       "max_bal_bc                    807712\n",
       "total_bal_il                  807712\n",
       "mths_since_last_delinq        678743\n",
       "mths_since_recent_inq         174071\n",
       "num_tl_120dpd_2m              117401\n",
       "mo_sin_old_il_acct            105575\n",
       "emp_title                      85785\n",
       "emp_length                     78511\n",
       "pct_tl_nvr_dlq                 67681\n",
       "avg_cur_bal                    67549\n",
       "num_rev_accts                  67528\n",
       "mo_sin_old_rev_tl_op           67528\n",
       "mo_sin_rcnt_rev_tl_op          67528\n",
       "mo_sin_rcnt_tl                 67527\n",
       "num_accts_ever_120_pd          67527\n",
       "num_actv_rev_tl                67527\n",
       "num_actv_bc_tl                 67527\n",
       "num_bc_tl                      67527\n",
       "num_tl_op_past_12m             67527\n",
       "num_tl_90g_dpd_24m             67527\n",
       "total_il_high_credit_limit     67527\n",
       "tot_coll_amt                   67527\n",
       "tot_hi_cred_lim                67527\n",
       "tot_cur_bal                    67527\n",
       "num_il_tl                      67527\n",
       "total_rev_hi_lim               67527\n",
       "num_tl_30dpd                   67527\n",
       "num_rev_tl_bal_gt_0            67527\n",
       "num_op_rev_tl                  67527\n",
       "bc_util                        61912\n",
       "percent_bc_gt_75               61555\n",
       "bc_open_to_buy                 61143\n",
       "mths_since_recent_bc           60221\n",
       "num_sats                       55841\n",
       "num_bc_sats                    55841\n",
       "acc_open_past_24mths           47281\n",
       "total_bc_limit                 47281\n",
       "mort_acc                       47281\n",
       "total_bal_ex_mort              47281\n",
       "title                          16659\n",
       "last_pymnt_d                    2313\n",
       "revol_util                       857\n",
       "pub_rec_bankruptcies             697\n",
       "dti                              374\n",
       "chargeoff_within_12_mths          56\n",
       "dtype: int64"
      ]
     },
     "execution_count": 17,
     "metadata": {},
     "output_type": "execute_result"
    }
   ],
   "source": [
    "# Verificando valores ausentes\n",
    "df_aprovado.isnull().sum().sort_values(ascending = False).head(50)"
   ]
  },
  {
   "cell_type": "markdown",
   "metadata": {},
   "source": [
    "Precisamos eliminar mais colunas:"
   ]
  },
  {
   "cell_type": "code",
   "execution_count": 18,
   "metadata": {},
   "outputs": [],
   "source": [
    "# Eliminando colunas com valores ausentes\n",
    "cols_to_drop = df_aprovado.isnull().sum().sort_values(ascending = False).head(45).index\n",
    "df_aprovado = df_aprovado.drop(columns = cols_to_drop)"
   ]
  },
  {
   "cell_type": "code",
   "execution_count": 19,
   "metadata": {},
   "outputs": [
    {
     "data": {
      "text/plain": [
       "(1345310, 56)"
      ]
     },
     "execution_count": 19,
     "metadata": {},
     "output_type": "execute_result"
    }
   ],
   "source": [
    "# Shape\n",
    "df_aprovado.shape"
   ]
  },
  {
   "cell_type": "markdown",
   "metadata": {},
   "source": [
    "Para as colunas restantes com valores ausentes, vamos ver a porcentagem de valores ausentes:"
   ]
  },
  {
   "cell_type": "code",
   "execution_count": 20,
   "metadata": {},
   "outputs": [
    {
     "data": {
      "text/plain": [
       "last_pymnt_d                  0.171931\n",
       "revol_util                    0.063703\n",
       "pub_rec_bankruptcies          0.051810\n",
       "dti                           0.027800\n",
       "collections_12_mths_ex_med    0.004163\n",
       "chargeoff_within_12_mths      0.004163\n",
       "last_credit_pull_d            0.004088\n",
       "tax_liens                     0.002899\n",
       "zip_code                      0.000074\n",
       "inq_last_6mths                0.000074\n",
       "issue_d                       0.000000\n",
       "addr_state                    0.000000\n",
       "delinq_2yrs                   0.000000\n",
       "earliest_cr_line              0.000000\n",
       "purpose                       0.000000\n",
       "dtype: float64"
      ]
     },
     "execution_count": 20,
     "metadata": {},
     "output_type": "execute_result"
    }
   ],
   "source": [
    "# Percentual de valores ausentes\n",
    "nulls = df_aprovado.isnull().sum().sort_values(ascending = False)\n",
    "nulls_percentage = (nulls/df_aprovado.shape[0]*100)\n",
    "nulls_percentage.head(15)"
   ]
  },
  {
   "cell_type": "markdown",
   "metadata": {},
   "source": [
    "As colunas restantes têm pontos de dados ausentes, mas representam menos de 0,2% do total de dados.\n",
    "Vamos remover as linhas que não têm valores nessas colunas com dropna():"
   ]
  },
  {
   "cell_type": "code",
   "execution_count": 21,
   "metadata": {},
   "outputs": [],
   "source": [
    "# Removendo registros com valores ausentes\n",
    "df_aprovado = df_aprovado.dropna()"
   ]
  },
  {
   "cell_type": "code",
   "execution_count": 22,
   "metadata": {},
   "outputs": [
    {
     "data": {
      "text/plain": [
       "(1341026, 56)"
      ]
     },
     "execution_count": 22,
     "metadata": {},
     "output_type": "execute_result"
    }
   ],
   "source": [
    "# Shape\n",
    "df_aprovado.shape"
   ]
  },
  {
   "cell_type": "code",
   "execution_count": 23,
   "metadata": {},
   "outputs": [
    {
     "name": "stdout",
     "output_type": "stream",
     "text": [
      "<class 'pandas.core.frame.DataFrame'>\n",
      "Int64Index: 1341026 entries, 0 to 2260697\n",
      "Data columns (total 56 columns):\n",
      " #   Column                      Non-Null Count    Dtype  \n",
      "---  ------                      --------------    -----  \n",
      " 0   id                          1341026 non-null  object \n",
      " 1   loan_amnt                   1341026 non-null  float64\n",
      " 2   funded_amnt                 1341026 non-null  float64\n",
      " 3   funded_amnt_inv             1341026 non-null  float64\n",
      " 4   term                        1341026 non-null  object \n",
      " 5   int_rate                    1341026 non-null  float64\n",
      " 6   installment                 1341026 non-null  float64\n",
      " 7   grade                       1341026 non-null  object \n",
      " 8   sub_grade                   1341026 non-null  object \n",
      " 9   home_ownership              1341026 non-null  object \n",
      " 10  annual_inc                  1341026 non-null  float64\n",
      " 11  verification_status         1341026 non-null  object \n",
      " 12  issue_d                     1341026 non-null  object \n",
      " 13  loan_status                 1341026 non-null  object \n",
      " 14  pymnt_plan                  1341026 non-null  object \n",
      " 15  url                         1341026 non-null  object \n",
      " 16  purpose                     1341026 non-null  object \n",
      " 17  zip_code                    1341026 non-null  object \n",
      " 18  addr_state                  1341026 non-null  object \n",
      " 19  dti                         1341026 non-null  float64\n",
      " 20  delinq_2yrs                 1341026 non-null  float64\n",
      " 21  earliest_cr_line            1341026 non-null  object \n",
      " 22  fico_range_low              1341026 non-null  float64\n",
      " 23  fico_range_high             1341026 non-null  float64\n",
      " 24  inq_last_6mths              1341026 non-null  float64\n",
      " 25  open_acc                    1341026 non-null  float64\n",
      " 26  pub_rec                     1341026 non-null  float64\n",
      " 27  revol_bal                   1341026 non-null  float64\n",
      " 28  revol_util                  1341026 non-null  float64\n",
      " 29  total_acc                   1341026 non-null  float64\n",
      " 30  initial_list_status         1341026 non-null  object \n",
      " 31  out_prncp                   1341026 non-null  float64\n",
      " 32  out_prncp_inv               1341026 non-null  float64\n",
      " 33  total_pymnt                 1341026 non-null  float64\n",
      " 34  total_pymnt_inv             1341026 non-null  float64\n",
      " 35  total_rec_prncp             1341026 non-null  float64\n",
      " 36  total_rec_int               1341026 non-null  float64\n",
      " 37  total_rec_late_fee          1341026 non-null  float64\n",
      " 38  recoveries                  1341026 non-null  float64\n",
      " 39  collection_recovery_fee     1341026 non-null  float64\n",
      " 40  last_pymnt_d                1341026 non-null  object \n",
      " 41  last_pymnt_amnt             1341026 non-null  float64\n",
      " 42  last_credit_pull_d          1341026 non-null  object \n",
      " 43  last_fico_range_high        1341026 non-null  float64\n",
      " 44  last_fico_range_low         1341026 non-null  float64\n",
      " 45  collections_12_mths_ex_med  1341026 non-null  float64\n",
      " 46  policy_code                 1341026 non-null  float64\n",
      " 47  application_type            1341026 non-null  object \n",
      " 48  acc_now_delinq              1341026 non-null  float64\n",
      " 49  chargeoff_within_12_mths    1341026 non-null  float64\n",
      " 50  delinq_amnt                 1341026 non-null  float64\n",
      " 51  pub_rec_bankruptcies        1341026 non-null  float64\n",
      " 52  tax_liens                   1341026 non-null  float64\n",
      " 53  hardship_flag               1341026 non-null  object \n",
      " 54  disbursement_method         1341026 non-null  object \n",
      " 55  debt_settlement_flag        1341026 non-null  object \n",
      "dtypes: float64(35), object(21)\n",
      "memory usage: 583.2+ MB\n"
     ]
    }
   ],
   "source": [
    "# Info\n",
    "df_aprovado.info()"
   ]
  },
  {
   "cell_type": "markdown",
   "metadata": {},
   "source": [
    "Vamos agora dar uma olhada no histograma loan_amnt, para ter uma ideia da distribuição do valor:"
   ]
  },
  {
   "cell_type": "code",
   "execution_count": 24,
   "metadata": {},
   "outputs": [
    {
     "data": {
      "text/plain": [
       "<AxesSubplot:xlabel='loan_amnt', ylabel='Count'>"
      ]
     },
     "execution_count": 24,
     "metadata": {},
     "output_type": "execute_result"
    },
    {
     "data": {
      "image/png": "[encoded data removed]",
      "text/plain": [
       "<Figure size 1152x576 with 1 Axes>"
      ]
     },
     "metadata": {
      "needs_background": "light"
     },
     "output_type": "display_data"
    }
   ],
   "source": [
    "# Histograma\n",
    "plt.figure(figsize = (16,8))\n",
    "sns.histplot(df_aprovado.loan_amnt, kde = False)"
   ]
  },
  {
   "cell_type": "markdown",
   "metadata": {},
   "source": [
    "Vamos agora ver a correlação entre variáveis contínuas:"
   ]
  },
  {
   "cell_type": "code",
   "execution_count": 25,
   "metadata": {},
   "outputs": [
    {
     "data": {
      "text/plain": [
       "<AxesSubplot:>"
      ]
     },
     "execution_count": 25,
     "metadata": {},
     "output_type": "execute_result"
    },
    {
     "data": {
      "image/png": "[encoded data removed]",
      "text/plain": [
       "<Figure size 1008x720 with 2 Axes>"
      ]
     },
     "metadata": {
      "needs_background": "light"
     },
     "output_type": "display_data"
    }
   ],
   "source": [
    "# Correlação\n",
    "plt.figure(figsize = (14,10))\n",
    "mask = np.zeros_like(df_aprovado.corr())\n",
    "mask[np.triu_indices_from(mask)] = True\n",
    "sns.heatmap(df_aprovado.corr(), cmap = 'viridis', mask = mask, annot = False, square = True)"
   ]
  },
  {
   "cell_type": "markdown",
   "metadata": {},
   "source": [
    "Existem 3 colunas com um comportamento diferente visível:\n",
    "out_prncp, out_prncp_inv and policy_code."
   ]
  },
  {
   "cell_type": "code",
   "execution_count": 26,
   "metadata": {},
   "outputs": [
    {
     "name": "stdout",
     "output_type": "stream",
     "text": [
      "0.0    1341026\n",
      "Name: out_prncp, dtype: int64\n",
      "0.0    1341026\n",
      "Name: out_prncp_inv, dtype: int64\n",
      "1.0    1341026\n",
      "Name: policy_code, dtype: int64\n"
     ]
    }
   ],
   "source": [
    "print(df_aprovado.out_prncp.value_counts())\n",
    "print(df_aprovado.out_prncp_inv.value_counts())\n",
    "print(df_aprovado.policy_code.value_counts())"
   ]
  },
  {
   "cell_type": "markdown",
   "metadata": {},
   "source": [
    "Estas são colunas com valores constantes. Nós podemos removê-las também."
   ]
  },
  {
   "cell_type": "code",
   "execution_count": 27,
   "metadata": {},
   "outputs": [],
   "source": [
    "# Drop das colunas\n",
    "cols_to_drop = ['out_prncp', 'out_prncp_inv', 'policy_code']\n",
    "df_aprovado = df_aprovado.drop(columns = cols_to_drop)"
   ]
  },
  {
   "cell_type": "code",
   "execution_count": 28,
   "metadata": {},
   "outputs": [
    {
     "data": {
      "text/plain": [
       "(1341026, 53)"
      ]
     },
     "execution_count": 28,
     "metadata": {},
     "output_type": "execute_result"
    }
   ],
   "source": [
    "# Shappe\n",
    "df_aprovado.shape"
   ]
  },
  {
   "cell_type": "code",
   "execution_count": 29,
   "metadata": {},
   "outputs": [
    {
     "data": {
      "text/plain": [
       "<AxesSubplot:>"
      ]
     },
     "execution_count": 29,
     "metadata": {},
     "output_type": "execute_result"
    },
    {
     "data": {
      "image/png": "[encoded data removed]",
      "text/plain": [
       "<Figure size 1008x720 with 2 Axes>"
      ]
     },
     "metadata": {
      "needs_background": "light"
     },
     "output_type": "display_data"
    }
   ],
   "source": [
    "# Correlação\n",
    "plt.figure(figsize = (14,10))\n",
    "mask = np.zeros_like(df_aprovado.corr())\n",
    "mask[np.triu_indices_from(mask)] = True\n",
    "sns.heatmap(df_aprovado.corr(), cmap = 'viridis', mask = mask, annot = False, square = True)"
   ]
  },
  {
   "cell_type": "markdown",
   "metadata": {},
   "source": [
    "Existem muitos quadrados amarelados. Isso indica uma correlação quase perfeita entre muitas variáveis. Vamos aprofundar:"
   ]
  },
  {
   "cell_type": "code",
   "execution_count": 30,
   "metadata": {},
   "outputs": [
    {
     "data": {
      "text/html": [
       "<div>\n",
       "<style scoped>\n",
       "    .dataframe tbody tr th:only-of-type {\n",
       "        vertical-align: middle;\n",
       "    }\n",
       "\n",
       "    .dataframe tbody tr th {\n",
       "        vertical-align: top;\n",
       "    }\n",
       "\n",
       "    .dataframe thead th {\n",
       "        text-align: right;\n",
       "    }\n",
       "</style>\n",
       "<table border=\"1\" class=\"dataframe\">\n",
       "  <thead>\n",
       "    <tr style=\"text-align: right;\">\n",
       "      <th></th>\n",
       "      <th>atributo1</th>\n",
       "      <th>atributo2</th>\n",
       "      <th>corr</th>\n",
       "    </tr>\n",
       "  </thead>\n",
       "  <tbody>\n",
       "    <tr>\n",
       "      <th>1</th>\n",
       "      <td>fico_range_high</td>\n",
       "      <td>fico_range_low</td>\n",
       "      <td>1.000000</td>\n",
       "    </tr>\n",
       "    <tr>\n",
       "      <th>2</th>\n",
       "      <td>loan_amnt</td>\n",
       "      <td>funded_amnt</td>\n",
       "      <td>0.999565</td>\n",
       "    </tr>\n",
       "    <tr>\n",
       "      <th>3</th>\n",
       "      <td>total_pymnt</td>\n",
       "      <td>total_pymnt_inv</td>\n",
       "      <td>0.999541</td>\n",
       "    </tr>\n",
       "    <tr>\n",
       "      <th>4</th>\n",
       "      <td>funded_amnt_inv</td>\n",
       "      <td>funded_amnt</td>\n",
       "      <td>0.999439</td>\n",
       "    </tr>\n",
       "    <tr>\n",
       "      <th>5</th>\n",
       "      <td>loan_amnt</td>\n",
       "      <td>funded_amnt_inv</td>\n",
       "      <td>0.998918</td>\n",
       "    </tr>\n",
       "    <tr>\n",
       "      <th>6</th>\n",
       "      <td>collection_recovery_fee</td>\n",
       "      <td>recoveries</td>\n",
       "      <td>0.972674</td>\n",
       "    </tr>\n",
       "    <tr>\n",
       "      <th>7</th>\n",
       "      <td>total_rec_prncp</td>\n",
       "      <td>total_pymnt</td>\n",
       "      <td>0.967104</td>\n",
       "    </tr>\n",
       "    <tr>\n",
       "      <th>8</th>\n",
       "      <td>total_rec_prncp</td>\n",
       "      <td>total_pymnt_inv</td>\n",
       "      <td>0.966725</td>\n",
       "    </tr>\n",
       "    <tr>\n",
       "      <th>9</th>\n",
       "      <td>funded_amnt</td>\n",
       "      <td>installment</td>\n",
       "      <td>0.954037</td>\n",
       "    </tr>\n",
       "    <tr>\n",
       "      <th>10</th>\n",
       "      <td>funded_amnt_inv</td>\n",
       "      <td>installment</td>\n",
       "      <td>0.953445</td>\n",
       "    </tr>\n",
       "    <tr>\n",
       "      <th>11</th>\n",
       "      <td>loan_amnt</td>\n",
       "      <td>installment</td>\n",
       "      <td>0.953387</td>\n",
       "    </tr>\n",
       "    <tr>\n",
       "      <th>12</th>\n",
       "      <td>funded_amnt_inv</td>\n",
       "      <td>total_pymnt_inv</td>\n",
       "      <td>0.857150</td>\n",
       "    </tr>\n",
       "    <tr>\n",
       "      <th>13</th>\n",
       "      <td>funded_amnt</td>\n",
       "      <td>total_pymnt</td>\n",
       "      <td>0.856901</td>\n",
       "    </tr>\n",
       "    <tr>\n",
       "      <th>14</th>\n",
       "      <td>total_pymnt_inv</td>\n",
       "      <td>funded_amnt</td>\n",
       "      <td>0.856675</td>\n",
       "    </tr>\n",
       "    <tr>\n",
       "      <th>15</th>\n",
       "      <td>loan_amnt</td>\n",
       "      <td>total_pymnt</td>\n",
       "      <td>0.856658</td>\n",
       "    </tr>\n",
       "    <tr>\n",
       "      <th>16</th>\n",
       "      <td>total_pymnt</td>\n",
       "      <td>funded_amnt_inv</td>\n",
       "      <td>0.856443</td>\n",
       "    </tr>\n",
       "    <tr>\n",
       "      <th>17</th>\n",
       "      <td>total_pymnt_inv</td>\n",
       "      <td>loan_amnt</td>\n",
       "      <td>0.856355</td>\n",
       "    </tr>\n",
       "    <tr>\n",
       "      <th>18</th>\n",
       "      <td>last_fico_range_high</td>\n",
       "      <td>last_fico_range_low</td>\n",
       "      <td>0.829740</td>\n",
       "    </tr>\n",
       "    <tr>\n",
       "      <th>19</th>\n",
       "      <td>installment</td>\n",
       "      <td>total_pymnt</td>\n",
       "      <td>0.818291</td>\n",
       "    </tr>\n",
       "    <tr>\n",
       "      <th>20</th>\n",
       "      <td>total_pymnt_inv</td>\n",
       "      <td>installment</td>\n",
       "      <td>0.818049</td>\n",
       "    </tr>\n",
       "  </tbody>\n",
       "</table>\n",
       "</div>"
      ],
      "text/plain": [
       "                  atributo1            atributo2      corr\n",
       "1           fico_range_high       fico_range_low  1.000000\n",
       "2                 loan_amnt          funded_amnt  0.999565\n",
       "3               total_pymnt      total_pymnt_inv  0.999541\n",
       "4           funded_amnt_inv          funded_amnt  0.999439\n",
       "5                 loan_amnt      funded_amnt_inv  0.998918\n",
       "6   collection_recovery_fee           recoveries  0.972674\n",
       "7           total_rec_prncp          total_pymnt  0.967104\n",
       "8           total_rec_prncp      total_pymnt_inv  0.966725\n",
       "9               funded_amnt          installment  0.954037\n",
       "10          funded_amnt_inv          installment  0.953445\n",
       "11                loan_amnt          installment  0.953387\n",
       "12          funded_amnt_inv      total_pymnt_inv  0.857150\n",
       "13              funded_amnt          total_pymnt  0.856901\n",
       "14          total_pymnt_inv          funded_amnt  0.856675\n",
       "15                loan_amnt          total_pymnt  0.856658\n",
       "16              total_pymnt      funded_amnt_inv  0.856443\n",
       "17          total_pymnt_inv            loan_amnt  0.856355\n",
       "18     last_fico_range_high  last_fico_range_low  0.829740\n",
       "19              installment          total_pymnt  0.818291\n",
       "20          total_pymnt_inv          installment  0.818049"
      ]
     },
     "execution_count": 30,
     "metadata": {},
     "output_type": "execute_result"
    }
   ],
   "source": [
    "# Vamos detalhar a correlação para verificar os pares de correlação mais altos\n",
    "\n",
    "# Pares\n",
    "c = df_aprovado.corr().abs()\n",
    "unstack_corr = c.unstack()\n",
    "pairs = unstack_corr.sort_values(ascending = False)\n",
    "\n",
    "# Correlação\n",
    "corr_pairs = pd.DataFrame(pairs).drop_duplicates().reset_index()\n",
    "corr_pairs.columns = ['atributo1', 'atributo2', 'corr']\n",
    "\n",
    "# Verifica os pares de recursos acima de 0,8 na correlação\n",
    "cond1 = (corr_pairs.atributo1 != corr_pairs.atributo2)\n",
    "cond2 = (corr_pairs['corr'] > 0.80)\n",
    "corr_pairs[cond1 & cond2]"
   ]
  },
  {
   "cell_type": "markdown",
   "metadata": {},
   "source": [
    "Vamos criar um gráfico de dispersão e verificar visualmente algumas relações entre esses atributos:"
   ]
  },
  {
   "cell_type": "code",
   "execution_count": 31,
   "metadata": {},
   "outputs": [
    {
     "data": {
      "text/plain": [
       "<AxesSubplot:xlabel='fico_range_low', ylabel='fico_range_high'>"
      ]
     },
     "execution_count": 31,
     "metadata": {},
     "output_type": "execute_result"
    },
    {
     "data": {
      "image/png": "[encoded data removed]",
      "text/plain": [
       "<Figure size 432x288 with 1 Axes>"
      ]
     },
     "metadata": {
      "needs_background": "light"
     },
     "output_type": "display_data"
    }
   ],
   "source": [
    "sns.scatterplot(x = df_aprovado.fico_range_low, y = df_aprovado.fico_range_high)"
   ]
  },
  {
   "cell_type": "code",
   "execution_count": 32,
   "metadata": {},
   "outputs": [
    {
     "data": {
      "text/plain": [
       "<AxesSubplot:xlabel='funded_amnt', ylabel='loan_amnt'>"
      ]
     },
     "execution_count": 32,
     "metadata": {},
     "output_type": "execute_result"
    },
    {
     "data": {
      "image/png": "[encoded data removed]",
      "text/plain": [
       "<Figure size 432x288 with 1 Axes>"
      ]
     },
     "metadata": {
      "needs_background": "light"
     },
     "output_type": "display_data"
    }
   ],
   "source": [
    "sns.scatterplot(x = df_aprovado.funded_amnt, y = df_aprovado.loan_amnt)"
   ]
  },
  {
   "cell_type": "code",
   "execution_count": 33,
   "metadata": {},
   "outputs": [
    {
     "data": {
      "text/plain": [
       "<AxesSubplot:xlabel='funded_amnt', ylabel='funded_amnt_inv'>"
      ]
     },
     "execution_count": 33,
     "metadata": {},
     "output_type": "execute_result"
    },
    {
     "data": {
      "image/png": "[encoded data removed]",
      "text/plain": [
       "<Figure size 432x288 with 1 Axes>"
      ]
     },
     "metadata": {
      "needs_background": "light"
     },
     "output_type": "display_data"
    }
   ],
   "source": [
    "sns.scatterplot(x = df_aprovado.funded_amnt, y = df_aprovado.funded_amnt_inv)"
   ]
  },
  {
   "cell_type": "code",
   "execution_count": 34,
   "metadata": {},
   "outputs": [
    {
     "data": {
      "text/plain": [
       "<AxesSubplot:xlabel='total_pymnt', ylabel='installment'>"
      ]
     },
     "execution_count": 34,
     "metadata": {},
     "output_type": "execute_result"
    },
    {
     "data": {
      "image/png": "[encoded data removed]",
      "text/plain": [
       "<Figure size 432x288 with 1 Axes>"
      ]
     },
     "metadata": {
      "needs_background": "light"
     },
     "output_type": "display_data"
    }
   ],
   "source": [
    "sns.scatterplot(x = df_aprovado.total_pymnt, y = df_aprovado.installment)"
   ]
  },
  {
   "cell_type": "markdown",
   "metadata": {},
   "source": [
    "Parece que temos muitas informações \"duplicadas\". Vamos eliminar algumas colunas, com base na inspeção visual no dataframe corr_pairs:"
   ]
  },
  {
   "cell_type": "code",
   "execution_count": 35,
   "metadata": {},
   "outputs": [],
   "source": [
    "# Drop de colunas\n",
    "cols_to_drop = ['fico_range_low', 'funded_amnt_inv', 'funded_amnt', 'total_pymnt_inv', 'total_pymnt', 'installment', 'collection_recovery_fee', 'total_rec_prncp', 'last_fico_range_low']\n",
    "df_aprovado = df_aprovado.drop(columns = cols_to_drop)"
   ]
  },
  {
   "cell_type": "code",
   "execution_count": 36,
   "metadata": {},
   "outputs": [
    {
     "data": {
      "text/plain": [
       "(1341026, 44)"
      ]
     },
     "execution_count": 36,
     "metadata": {},
     "output_type": "execute_result"
    }
   ],
   "source": [
    "# Shape\n",
    "df_aprovado.shape"
   ]
  },
  {
   "cell_type": "markdown",
   "metadata": {},
   "source": [
    "Como nossa coluna de destino é categórica (loan_status), vamos criar um novo recurso - loan_paid - que é 1 para 'Fully Paid' e 0 para 'Charged Off'."
   ]
  },
  {
   "cell_type": "code",
   "execution_count": 37,
   "metadata": {},
   "outputs": [],
   "source": [
    "# Encoding\n",
    "values = df_aprovado.loan_status.unique()\n",
    "encode = [1,0]\n",
    "d = dict(zip(values, encode))"
   ]
  },
  {
   "cell_type": "code",
   "execution_count": 38,
   "metadata": {},
   "outputs": [],
   "source": [
    "# Nova coluna\n",
    "df_aprovado['loan_paid'] = df_aprovado['loan_status'].map(d)\n",
    "df_aprovado = df_aprovado.drop(columns=['loan_status'])"
   ]
  },
  {
   "cell_type": "code",
   "execution_count": 39,
   "metadata": {},
   "outputs": [
    {
     "data": {
      "text/plain": [
       "<AxesSubplot:>"
      ]
     },
     "execution_count": 39,
     "metadata": {},
     "output_type": "execute_result"
    },
    {
     "data": {
      "image/png": "[encoded data removed]",
      "text/plain": [
       "<Figure size 1080x504 with 1 Axes>"
      ]
     },
     "metadata": {
      "needs_background": "light"
     },
     "output_type": "display_data"
    }
   ],
   "source": [
    "# Verificando a correlação de recursos com a nova coluna loan_paid\n",
    "plt.figure(figsize = (15,7))\n",
    "new_corr = df_aprovado.corr().iloc[:-1,-1].sort_values()\n",
    "new_corr.plot.bar(rot=90)"
   ]
  },
  {
   "cell_type": "markdown",
   "metadata": {},
   "source": [
    "## Pré-Processamento"
   ]
  },
  {
   "cell_type": "markdown",
   "metadata": {},
   "source": [
    "### Tratamento de Variáveis Categóricas Constantes\n",
    "\n",
    "Ainda temos muitas colunas categóricas de string. Vamos trabalhar nisso:"
   ]
  },
  {
   "cell_type": "code",
   "execution_count": 40,
   "metadata": {},
   "outputs": [
    {
     "name": "stdout",
     "output_type": "stream",
     "text": [
      "<class 'pandas.core.frame.DataFrame'>\n",
      "Int64Index: 1341026 entries, 0 to 2260697\n",
      "Data columns (total 44 columns):\n",
      " #   Column                      Non-Null Count    Dtype  \n",
      "---  ------                      --------------    -----  \n",
      " 0   id                          1341026 non-null  object \n",
      " 1   loan_amnt                   1341026 non-null  float64\n",
      " 2   term                        1341026 non-null  object \n",
      " 3   int_rate                    1341026 non-null  float64\n",
      " 4   grade                       1341026 non-null  object \n",
      " 5   sub_grade                   1341026 non-null  object \n",
      " 6   home_ownership              1341026 non-null  object \n",
      " 7   annual_inc                  1341026 non-null  float64\n",
      " 8   verification_status         1341026 non-null  object \n",
      " 9   issue_d                     1341026 non-null  object \n",
      " 10  pymnt_plan                  1341026 non-null  object \n",
      " 11  url                         1341026 non-null  object \n",
      " 12  purpose                     1341026 non-null  object \n",
      " 13  zip_code                    1341026 non-null  object \n",
      " 14  addr_state                  1341026 non-null  object \n",
      " 15  dti                         1341026 non-null  float64\n",
      " 16  delinq_2yrs                 1341026 non-null  float64\n",
      " 17  earliest_cr_line            1341026 non-null  object \n",
      " 18  fico_range_high             1341026 non-null  float64\n",
      " 19  inq_last_6mths              1341026 non-null  float64\n",
      " 20  open_acc                    1341026 non-null  float64\n",
      " 21  pub_rec                     1341026 non-null  float64\n",
      " 22  revol_bal                   1341026 non-null  float64\n",
      " 23  revol_util                  1341026 non-null  float64\n",
      " 24  total_acc                   1341026 non-null  float64\n",
      " 25  initial_list_status         1341026 non-null  object \n",
      " 26  total_rec_int               1341026 non-null  float64\n",
      " 27  total_rec_late_fee          1341026 non-null  float64\n",
      " 28  recoveries                  1341026 non-null  float64\n",
      " 29  last_pymnt_d                1341026 non-null  object \n",
      " 30  last_pymnt_amnt             1341026 non-null  float64\n",
      " 31  last_credit_pull_d          1341026 non-null  object \n",
      " 32  last_fico_range_high        1341026 non-null  float64\n",
      " 33  collections_12_mths_ex_med  1341026 non-null  float64\n",
      " 34  application_type            1341026 non-null  object \n",
      " 35  acc_now_delinq              1341026 non-null  float64\n",
      " 36  chargeoff_within_12_mths    1341026 non-null  float64\n",
      " 37  delinq_amnt                 1341026 non-null  float64\n",
      " 38  pub_rec_bankruptcies        1341026 non-null  float64\n",
      " 39  tax_liens                   1341026 non-null  float64\n",
      " 40  hardship_flag               1341026 non-null  object \n",
      " 41  disbursement_method         1341026 non-null  object \n",
      " 42  debt_settlement_flag        1341026 non-null  object \n",
      " 43  loan_paid                   1341026 non-null  int64  \n",
      "dtypes: float64(23), int64(1), object(20)\n",
      "memory usage: 460.4+ MB\n"
     ]
    }
   ],
   "source": [
    "# Info\n",
    "df_aprovado.info()"
   ]
  },
  {
   "cell_type": "code",
   "execution_count": 41,
   "metadata": {},
   "outputs": [
    {
     "data": {
      "text/html": [
       "<div>\n",
       "<style scoped>\n",
       "    .dataframe tbody tr th:only-of-type {\n",
       "        vertical-align: middle;\n",
       "    }\n",
       "\n",
       "    .dataframe tbody tr th {\n",
       "        vertical-align: top;\n",
       "    }\n",
       "\n",
       "    .dataframe thead th {\n",
       "        text-align: right;\n",
       "    }\n",
       "</style>\n",
       "<table border=\"1\" class=\"dataframe\">\n",
       "  <thead>\n",
       "    <tr style=\"text-align: right;\">\n",
       "      <th></th>\n",
       "      <th>id</th>\n",
       "      <th>loan_amnt</th>\n",
       "      <th>term</th>\n",
       "      <th>int_rate</th>\n",
       "      <th>grade</th>\n",
       "      <th>sub_grade</th>\n",
       "      <th>home_ownership</th>\n",
       "      <th>annual_inc</th>\n",
       "      <th>verification_status</th>\n",
       "      <th>issue_d</th>\n",
       "      <th>...</th>\n",
       "      <th>application_type</th>\n",
       "      <th>acc_now_delinq</th>\n",
       "      <th>chargeoff_within_12_mths</th>\n",
       "      <th>delinq_amnt</th>\n",
       "      <th>pub_rec_bankruptcies</th>\n",
       "      <th>tax_liens</th>\n",
       "      <th>hardship_flag</th>\n",
       "      <th>disbursement_method</th>\n",
       "      <th>debt_settlement_flag</th>\n",
       "      <th>loan_paid</th>\n",
       "    </tr>\n",
       "  </thead>\n",
       "  <tbody>\n",
       "    <tr>\n",
       "      <th>0</th>\n",
       "      <td>68407277</td>\n",
       "      <td>3600.0</td>\n",
       "      <td>36 months</td>\n",
       "      <td>13.99</td>\n",
       "      <td>C</td>\n",
       "      <td>C4</td>\n",
       "      <td>MORTGAGE</td>\n",
       "      <td>55000.0</td>\n",
       "      <td>Not Verified</td>\n",
       "      <td>Dec-2015</td>\n",
       "      <td>...</td>\n",
       "      <td>Individual</td>\n",
       "      <td>0.0</td>\n",
       "      <td>0.0</td>\n",
       "      <td>0.0</td>\n",
       "      <td>0.0</td>\n",
       "      <td>0.0</td>\n",
       "      <td>N</td>\n",
       "      <td>Cash</td>\n",
       "      <td>N</td>\n",
       "      <td>1</td>\n",
       "    </tr>\n",
       "    <tr>\n",
       "      <th>1</th>\n",
       "      <td>68355089</td>\n",
       "      <td>24700.0</td>\n",
       "      <td>36 months</td>\n",
       "      <td>11.99</td>\n",
       "      <td>C</td>\n",
       "      <td>C1</td>\n",
       "      <td>MORTGAGE</td>\n",
       "      <td>65000.0</td>\n",
       "      <td>Not Verified</td>\n",
       "      <td>Dec-2015</td>\n",
       "      <td>...</td>\n",
       "      <td>Individual</td>\n",
       "      <td>0.0</td>\n",
       "      <td>0.0</td>\n",
       "      <td>0.0</td>\n",
       "      <td>0.0</td>\n",
       "      <td>0.0</td>\n",
       "      <td>N</td>\n",
       "      <td>Cash</td>\n",
       "      <td>N</td>\n",
       "      <td>1</td>\n",
       "    </tr>\n",
       "    <tr>\n",
       "      <th>2</th>\n",
       "      <td>68341763</td>\n",
       "      <td>20000.0</td>\n",
       "      <td>60 months</td>\n",
       "      <td>10.78</td>\n",
       "      <td>B</td>\n",
       "      <td>B4</td>\n",
       "      <td>MORTGAGE</td>\n",
       "      <td>63000.0</td>\n",
       "      <td>Not Verified</td>\n",
       "      <td>Dec-2015</td>\n",
       "      <td>...</td>\n",
       "      <td>Joint App</td>\n",
       "      <td>0.0</td>\n",
       "      <td>0.0</td>\n",
       "      <td>0.0</td>\n",
       "      <td>0.0</td>\n",
       "      <td>0.0</td>\n",
       "      <td>N</td>\n",
       "      <td>Cash</td>\n",
       "      <td>N</td>\n",
       "      <td>1</td>\n",
       "    </tr>\n",
       "    <tr>\n",
       "      <th>4</th>\n",
       "      <td>68476807</td>\n",
       "      <td>10400.0</td>\n",
       "      <td>60 months</td>\n",
       "      <td>22.45</td>\n",
       "      <td>F</td>\n",
       "      <td>F1</td>\n",
       "      <td>MORTGAGE</td>\n",
       "      <td>104433.0</td>\n",
       "      <td>Source Verified</td>\n",
       "      <td>Dec-2015</td>\n",
       "      <td>...</td>\n",
       "      <td>Individual</td>\n",
       "      <td>0.0</td>\n",
       "      <td>0.0</td>\n",
       "      <td>0.0</td>\n",
       "      <td>0.0</td>\n",
       "      <td>0.0</td>\n",
       "      <td>N</td>\n",
       "      <td>Cash</td>\n",
       "      <td>N</td>\n",
       "      <td>1</td>\n",
       "    </tr>\n",
       "    <tr>\n",
       "      <th>5</th>\n",
       "      <td>68426831</td>\n",
       "      <td>11950.0</td>\n",
       "      <td>36 months</td>\n",
       "      <td>13.44</td>\n",
       "      <td>C</td>\n",
       "      <td>C3</td>\n",
       "      <td>RENT</td>\n",
       "      <td>34000.0</td>\n",
       "      <td>Source Verified</td>\n",
       "      <td>Dec-2015</td>\n",
       "      <td>...</td>\n",
       "      <td>Individual</td>\n",
       "      <td>0.0</td>\n",
       "      <td>0.0</td>\n",
       "      <td>0.0</td>\n",
       "      <td>0.0</td>\n",
       "      <td>0.0</td>\n",
       "      <td>N</td>\n",
       "      <td>Cash</td>\n",
       "      <td>N</td>\n",
       "      <td>1</td>\n",
       "    </tr>\n",
       "  </tbody>\n",
       "</table>\n",
       "<p>5 rows × 44 columns</p>\n",
       "</div>"
      ],
      "text/plain": [
       "         id  loan_amnt        term  int_rate grade sub_grade home_ownership  \\\n",
       "0  68407277     3600.0   36 months     13.99     C        C4       MORTGAGE   \n",
       "1  68355089    24700.0   36 months     11.99     C        C1       MORTGAGE   \n",
       "2  68341763    20000.0   60 months     10.78     B        B4       MORTGAGE   \n",
       "4  68476807    10400.0   60 months     22.45     F        F1       MORTGAGE   \n",
       "5  68426831    11950.0   36 months     13.44     C        C3           RENT   \n",
       "\n",
       "   annual_inc verification_status   issue_d  ... application_type  \\\n",
       "0     55000.0        Not Verified  Dec-2015  ...       Individual   \n",
       "1     65000.0        Not Verified  Dec-2015  ...       Individual   \n",
       "2     63000.0        Not Verified  Dec-2015  ...        Joint App   \n",
       "4    104433.0     Source Verified  Dec-2015  ...       Individual   \n",
       "5     34000.0     Source Verified  Dec-2015  ...       Individual   \n",
       "\n",
       "  acc_now_delinq chargeoff_within_12_mths delinq_amnt pub_rec_bankruptcies  \\\n",
       "0            0.0                      0.0         0.0                  0.0   \n",
       "1            0.0                      0.0         0.0                  0.0   \n",
       "2            0.0                      0.0         0.0                  0.0   \n",
       "4            0.0                      0.0         0.0                  0.0   \n",
       "5            0.0                      0.0         0.0                  0.0   \n",
       "\n",
       "   tax_liens  hardship_flag disbursement_method  debt_settlement_flag  \\\n",
       "0        0.0              N                Cash                     N   \n",
       "1        0.0              N                Cash                     N   \n",
       "2        0.0              N                Cash                     N   \n",
       "4        0.0              N                Cash                     N   \n",
       "5        0.0              N                Cash                     N   \n",
       "\n",
       "   loan_paid  \n",
       "0          1  \n",
       "1          1  \n",
       "2          1  \n",
       "4          1  \n",
       "5          1  \n",
       "\n",
       "[5 rows x 44 columns]"
      ]
     },
     "execution_count": 41,
     "metadata": {},
     "output_type": "execute_result"
    }
   ],
   "source": [
    "# Visualiza os dados\n",
    "df_aprovado.head()"
   ]
  },
  {
   "cell_type": "code",
   "execution_count": 42,
   "metadata": {},
   "outputs": [
    {
     "name": "stdout",
     "output_type": "stream",
     "text": [
      "Index(['id', 'term', 'grade', 'sub_grade', 'home_ownership',\n",
      "       'verification_status', 'issue_d', 'pymnt_plan', 'url', 'purpose',\n",
      "       'zip_code', 'addr_state', 'earliest_cr_line', 'initial_list_status',\n",
      "       'last_pymnt_d', 'last_credit_pull_d', 'application_type',\n",
      "       'hardship_flag', 'disbursement_method', 'debt_settlement_flag'],\n",
      "      dtype='object')\n"
     ]
    }
   ],
   "source": [
    "# Listamos as variáveis categóricas (do tipo object)\n",
    "cat_cols = df_aprovado.select_dtypes(include = ['object']).columns\n",
    "print(cat_cols)"
   ]
  },
  {
   "cell_type": "code",
   "execution_count": 43,
   "metadata": {},
   "outputs": [
    {
     "data": {
      "text/html": [
       "<div>\n",
       "<style scoped>\n",
       "    .dataframe tbody tr th:only-of-type {\n",
       "        vertical-align: middle;\n",
       "    }\n",
       "\n",
       "    .dataframe tbody tr th {\n",
       "        vertical-align: top;\n",
       "    }\n",
       "\n",
       "    .dataframe thead th {\n",
       "        text-align: right;\n",
       "    }\n",
       "</style>\n",
       "<table border=\"1\" class=\"dataframe\">\n",
       "  <thead>\n",
       "    <tr style=\"text-align: right;\">\n",
       "      <th></th>\n",
       "      <th>id</th>\n",
       "      <th>term</th>\n",
       "      <th>grade</th>\n",
       "      <th>sub_grade</th>\n",
       "      <th>home_ownership</th>\n",
       "      <th>verification_status</th>\n",
       "      <th>issue_d</th>\n",
       "      <th>pymnt_plan</th>\n",
       "      <th>url</th>\n",
       "      <th>purpose</th>\n",
       "      <th>zip_code</th>\n",
       "      <th>addr_state</th>\n",
       "      <th>earliest_cr_line</th>\n",
       "      <th>initial_list_status</th>\n",
       "      <th>last_pymnt_d</th>\n",
       "      <th>last_credit_pull_d</th>\n",
       "      <th>application_type</th>\n",
       "      <th>hardship_flag</th>\n",
       "      <th>disbursement_method</th>\n",
       "      <th>debt_settlement_flag</th>\n",
       "    </tr>\n",
       "  </thead>\n",
       "  <tbody>\n",
       "    <tr>\n",
       "      <th>0</th>\n",
       "      <td>68407277</td>\n",
       "      <td>36 months</td>\n",
       "      <td>C</td>\n",
       "      <td>C4</td>\n",
       "      <td>MORTGAGE</td>\n",
       "      <td>Not Verified</td>\n",
       "      <td>Dec-2015</td>\n",
       "      <td>n</td>\n",
       "      <td>https://lendingclub.com/browse/loanDetail.acti...</td>\n",
       "      <td>debt_consolidation</td>\n",
       "      <td>190xx</td>\n",
       "      <td>PA</td>\n",
       "      <td>Aug-2003</td>\n",
       "      <td>w</td>\n",
       "      <td>Jan-2019</td>\n",
       "      <td>Mar-2019</td>\n",
       "      <td>Individual</td>\n",
       "      <td>N</td>\n",
       "      <td>Cash</td>\n",
       "      <td>N</td>\n",
       "    </tr>\n",
       "    <tr>\n",
       "      <th>1</th>\n",
       "      <td>68355089</td>\n",
       "      <td>36 months</td>\n",
       "      <td>C</td>\n",
       "      <td>C1</td>\n",
       "      <td>MORTGAGE</td>\n",
       "      <td>Not Verified</td>\n",
       "      <td>Dec-2015</td>\n",
       "      <td>n</td>\n",
       "      <td>https://lendingclub.com/browse/loanDetail.acti...</td>\n",
       "      <td>small_business</td>\n",
       "      <td>577xx</td>\n",
       "      <td>SD</td>\n",
       "      <td>Dec-1999</td>\n",
       "      <td>w</td>\n",
       "      <td>Jun-2016</td>\n",
       "      <td>Mar-2019</td>\n",
       "      <td>Individual</td>\n",
       "      <td>N</td>\n",
       "      <td>Cash</td>\n",
       "      <td>N</td>\n",
       "    </tr>\n",
       "    <tr>\n",
       "      <th>2</th>\n",
       "      <td>68341763</td>\n",
       "      <td>60 months</td>\n",
       "      <td>B</td>\n",
       "      <td>B4</td>\n",
       "      <td>MORTGAGE</td>\n",
       "      <td>Not Verified</td>\n",
       "      <td>Dec-2015</td>\n",
       "      <td>n</td>\n",
       "      <td>https://lendingclub.com/browse/loanDetail.acti...</td>\n",
       "      <td>home_improvement</td>\n",
       "      <td>605xx</td>\n",
       "      <td>IL</td>\n",
       "      <td>Aug-2000</td>\n",
       "      <td>w</td>\n",
       "      <td>Jun-2017</td>\n",
       "      <td>Mar-2019</td>\n",
       "      <td>Joint App</td>\n",
       "      <td>N</td>\n",
       "      <td>Cash</td>\n",
       "      <td>N</td>\n",
       "    </tr>\n",
       "    <tr>\n",
       "      <th>4</th>\n",
       "      <td>68476807</td>\n",
       "      <td>60 months</td>\n",
       "      <td>F</td>\n",
       "      <td>F1</td>\n",
       "      <td>MORTGAGE</td>\n",
       "      <td>Source Verified</td>\n",
       "      <td>Dec-2015</td>\n",
       "      <td>n</td>\n",
       "      <td>https://lendingclub.com/browse/loanDetail.acti...</td>\n",
       "      <td>major_purchase</td>\n",
       "      <td>174xx</td>\n",
       "      <td>PA</td>\n",
       "      <td>Jun-1998</td>\n",
       "      <td>w</td>\n",
       "      <td>Jul-2016</td>\n",
       "      <td>Mar-2018</td>\n",
       "      <td>Individual</td>\n",
       "      <td>N</td>\n",
       "      <td>Cash</td>\n",
       "      <td>N</td>\n",
       "    </tr>\n",
       "    <tr>\n",
       "      <th>5</th>\n",
       "      <td>68426831</td>\n",
       "      <td>36 months</td>\n",
       "      <td>C</td>\n",
       "      <td>C3</td>\n",
       "      <td>RENT</td>\n",
       "      <td>Source Verified</td>\n",
       "      <td>Dec-2015</td>\n",
       "      <td>n</td>\n",
       "      <td>https://lendingclub.com/browse/loanDetail.acti...</td>\n",
       "      <td>debt_consolidation</td>\n",
       "      <td>300xx</td>\n",
       "      <td>GA</td>\n",
       "      <td>Oct-1987</td>\n",
       "      <td>w</td>\n",
       "      <td>May-2017</td>\n",
       "      <td>May-2017</td>\n",
       "      <td>Individual</td>\n",
       "      <td>N</td>\n",
       "      <td>Cash</td>\n",
       "      <td>N</td>\n",
       "    </tr>\n",
       "    <tr>\n",
       "      <th>...</th>\n",
       "      <td>...</td>\n",
       "      <td>...</td>\n",
       "      <td>...</td>\n",
       "      <td>...</td>\n",
       "      <td>...</td>\n",
       "      <td>...</td>\n",
       "      <td>...</td>\n",
       "      <td>...</td>\n",
       "      <td>...</td>\n",
       "      <td>...</td>\n",
       "      <td>...</td>\n",
       "      <td>...</td>\n",
       "      <td>...</td>\n",
       "      <td>...</td>\n",
       "      <td>...</td>\n",
       "      <td>...</td>\n",
       "      <td>...</td>\n",
       "      <td>...</td>\n",
       "      <td>...</td>\n",
       "      <td>...</td>\n",
       "    </tr>\n",
       "    <tr>\n",
       "      <th>2260688</th>\n",
       "      <td>89905081</td>\n",
       "      <td>60 months</td>\n",
       "      <td>B</td>\n",
       "      <td>B2</td>\n",
       "      <td>OWN</td>\n",
       "      <td>Not Verified</td>\n",
       "      <td>Oct-2016</td>\n",
       "      <td>n</td>\n",
       "      <td>https://lendingclub.com/browse/loanDetail.acti...</td>\n",
       "      <td>home_improvement</td>\n",
       "      <td>775xx</td>\n",
       "      <td>TX</td>\n",
       "      <td>Jul-2004</td>\n",
       "      <td>f</td>\n",
       "      <td>Aug-2018</td>\n",
       "      <td>Mar-2019</td>\n",
       "      <td>Individual</td>\n",
       "      <td>N</td>\n",
       "      <td>Cash</td>\n",
       "      <td>N</td>\n",
       "    </tr>\n",
       "    <tr>\n",
       "      <th>2260690</th>\n",
       "      <td>88948836</td>\n",
       "      <td>60 months</td>\n",
       "      <td>C</td>\n",
       "      <td>C3</td>\n",
       "      <td>MORTGAGE</td>\n",
       "      <td>Not Verified</td>\n",
       "      <td>Oct-2016</td>\n",
       "      <td>n</td>\n",
       "      <td>https://lendingclub.com/browse/loanDetail.acti...</td>\n",
       "      <td>debt_consolidation</td>\n",
       "      <td>900xx</td>\n",
       "      <td>CA</td>\n",
       "      <td>Mar-2002</td>\n",
       "      <td>f</td>\n",
       "      <td>Jul-2018</td>\n",
       "      <td>Jul-2018</td>\n",
       "      <td>Individual</td>\n",
       "      <td>N</td>\n",
       "      <td>Cash</td>\n",
       "      <td>N</td>\n",
       "    </tr>\n",
       "    <tr>\n",
       "      <th>2260691</th>\n",
       "      <td>89996426</td>\n",
       "      <td>60 months</td>\n",
       "      <td>C</td>\n",
       "      <td>C4</td>\n",
       "      <td>MORTGAGE</td>\n",
       "      <td>Source Verified</td>\n",
       "      <td>Oct-2016</td>\n",
       "      <td>n</td>\n",
       "      <td>https://lendingclub.com/browse/loanDetail.acti...</td>\n",
       "      <td>home_improvement</td>\n",
       "      <td>863xx</td>\n",
       "      <td>AZ</td>\n",
       "      <td>Jun-2011</td>\n",
       "      <td>f</td>\n",
       "      <td>Mar-2017</td>\n",
       "      <td>Dec-2018</td>\n",
       "      <td>Individual</td>\n",
       "      <td>N</td>\n",
       "      <td>Cash</td>\n",
       "      <td>N</td>\n",
       "    </tr>\n",
       "    <tr>\n",
       "      <th>2260692</th>\n",
       "      <td>90006534</td>\n",
       "      <td>60 months</td>\n",
       "      <td>C</td>\n",
       "      <td>C1</td>\n",
       "      <td>RENT</td>\n",
       "      <td>Not Verified</td>\n",
       "      <td>Oct-2016</td>\n",
       "      <td>n</td>\n",
       "      <td>https://lendingclub.com/browse/loanDetail.acti...</td>\n",
       "      <td>medical</td>\n",
       "      <td>284xx</td>\n",
       "      <td>NC</td>\n",
       "      <td>Aug-1997</td>\n",
       "      <td>f</td>\n",
       "      <td>Mar-2018</td>\n",
       "      <td>Mar-2019</td>\n",
       "      <td>Individual</td>\n",
       "      <td>N</td>\n",
       "      <td>Cash</td>\n",
       "      <td>N</td>\n",
       "    </tr>\n",
       "    <tr>\n",
       "      <th>2260697</th>\n",
       "      <td>88224441</td>\n",
       "      <td>60 months</td>\n",
       "      <td>C</td>\n",
       "      <td>C4</td>\n",
       "      <td>RENT</td>\n",
       "      <td>Not Verified</td>\n",
       "      <td>Oct-2016</td>\n",
       "      <td>n</td>\n",
       "      <td>https://lendingclub.com/browse/loanDetail.acti...</td>\n",
       "      <td>debt_consolidation</td>\n",
       "      <td>334xx</td>\n",
       "      <td>FL</td>\n",
       "      <td>Jul-1999</td>\n",
       "      <td>f</td>\n",
       "      <td>Oct-2017</td>\n",
       "      <td>Mar-2019</td>\n",
       "      <td>Individual</td>\n",
       "      <td>N</td>\n",
       "      <td>Cash</td>\n",
       "      <td>Y</td>\n",
       "    </tr>\n",
       "  </tbody>\n",
       "</table>\n",
       "<p>1341026 rows × 20 columns</p>\n",
       "</div>"
      ],
      "text/plain": [
       "               id        term grade sub_grade home_ownership  \\\n",
       "0        68407277   36 months     C        C4       MORTGAGE   \n",
       "1        68355089   36 months     C        C1       MORTGAGE   \n",
       "2        68341763   60 months     B        B4       MORTGAGE   \n",
       "4        68476807   60 months     F        F1       MORTGAGE   \n",
       "5        68426831   36 months     C        C3           RENT   \n",
       "...           ...         ...   ...       ...            ...   \n",
       "2260688  89905081   60 months     B        B2            OWN   \n",
       "2260690  88948836   60 months     C        C3       MORTGAGE   \n",
       "2260691  89996426   60 months     C        C4       MORTGAGE   \n",
       "2260692  90006534   60 months     C        C1           RENT   \n",
       "2260697  88224441   60 months     C        C4           RENT   \n",
       "\n",
       "        verification_status   issue_d pymnt_plan  \\\n",
       "0              Not Verified  Dec-2015          n   \n",
       "1              Not Verified  Dec-2015          n   \n",
       "2              Not Verified  Dec-2015          n   \n",
       "4           Source Verified  Dec-2015          n   \n",
       "5           Source Verified  Dec-2015          n   \n",
       "...                     ...       ...        ...   \n",
       "2260688        Not Verified  Oct-2016          n   \n",
       "2260690        Not Verified  Oct-2016          n   \n",
       "2260691     Source Verified  Oct-2016          n   \n",
       "2260692        Not Verified  Oct-2016          n   \n",
       "2260697        Not Verified  Oct-2016          n   \n",
       "\n",
       "                                                       url  \\\n",
       "0        https://lendingclub.com/browse/loanDetail.acti...   \n",
       "1        https://lendingclub.com/browse/loanDetail.acti...   \n",
       "2        https://lendingclub.com/browse/loanDetail.acti...   \n",
       "4        https://lendingclub.com/browse/loanDetail.acti...   \n",
       "5        https://lendingclub.com/browse/loanDetail.acti...   \n",
       "...                                                    ...   \n",
       "2260688  https://lendingclub.com/browse/loanDetail.acti...   \n",
       "2260690  https://lendingclub.com/browse/loanDetail.acti...   \n",
       "2260691  https://lendingclub.com/browse/loanDetail.acti...   \n",
       "2260692  https://lendingclub.com/browse/loanDetail.acti...   \n",
       "2260697  https://lendingclub.com/browse/loanDetail.acti...   \n",
       "\n",
       "                    purpose zip_code addr_state earliest_cr_line  \\\n",
       "0        debt_consolidation    190xx         PA         Aug-2003   \n",
       "1            small_business    577xx         SD         Dec-1999   \n",
       "2          home_improvement    605xx         IL         Aug-2000   \n",
       "4            major_purchase    174xx         PA         Jun-1998   \n",
       "5        debt_consolidation    300xx         GA         Oct-1987   \n",
       "...                     ...      ...        ...              ...   \n",
       "2260688    home_improvement    775xx         TX         Jul-2004   \n",
       "2260690  debt_consolidation    900xx         CA         Mar-2002   \n",
       "2260691    home_improvement    863xx         AZ         Jun-2011   \n",
       "2260692             medical    284xx         NC         Aug-1997   \n",
       "2260697  debt_consolidation    334xx         FL         Jul-1999   \n",
       "\n",
       "        initial_list_status last_pymnt_d last_credit_pull_d application_type  \\\n",
       "0                         w     Jan-2019           Mar-2019       Individual   \n",
       "1                         w     Jun-2016           Mar-2019       Individual   \n",
       "2                         w     Jun-2017           Mar-2019        Joint App   \n",
       "4                         w     Jul-2016           Mar-2018       Individual   \n",
       "5                         w     May-2017           May-2017       Individual   \n",
       "...                     ...          ...                ...              ...   \n",
       "2260688                   f     Aug-2018           Mar-2019       Individual   \n",
       "2260690                   f     Jul-2018           Jul-2018       Individual   \n",
       "2260691                   f     Mar-2017           Dec-2018       Individual   \n",
       "2260692                   f     Mar-2018           Mar-2019       Individual   \n",
       "2260697                   f     Oct-2017           Mar-2019       Individual   \n",
       "\n",
       "        hardship_flag disbursement_method debt_settlement_flag  \n",
       "0                   N                Cash                    N  \n",
       "1                   N                Cash                    N  \n",
       "2                   N                Cash                    N  \n",
       "4                   N                Cash                    N  \n",
       "5                   N                Cash                    N  \n",
       "...               ...                 ...                  ...  \n",
       "2260688             N                Cash                    N  \n",
       "2260690             N                Cash                    N  \n",
       "2260691             N                Cash                    N  \n",
       "2260692             N                Cash                    N  \n",
       "2260697             N                Cash                    Y  \n",
       "\n",
       "[1341026 rows x 20 columns]"
      ]
     },
     "execution_count": 43,
     "metadata": {},
     "output_type": "execute_result"
    }
   ],
   "source": [
    "# Filtramos o  dataframe pelas variáveis categóricas\n",
    "df_aprovado[cat_cols]"
   ]
  },
  {
   "cell_type": "markdown",
   "metadata": {},
   "source": [
    "Algumas colunas de variáveis categóricas apresentam valores constantes (a exemplo do que tínhamos com colunas do tipo numérico). Vamos remover."
   ]
  },
  {
   "cell_type": "code",
   "execution_count": 44,
   "metadata": {},
   "outputs": [
    {
     "name": "stdout",
     "output_type": "stream",
     "text": [
      "n    1341026\n",
      "Name: pymnt_plan, dtype: int64\n",
      "N    1341026\n",
      "Name: hardship_flag, dtype: int64\n"
     ]
    }
   ],
   "source": [
    "print(df_aprovado.pymnt_plan.value_counts())\n",
    "print(df_aprovado.hardship_flag.value_counts())"
   ]
  },
  {
   "cell_type": "code",
   "execution_count": 45,
   "metadata": {},
   "outputs": [],
   "source": [
    "# Drop de colunas constantes\n",
    "cols_to_drop = ['id', 'pymnt_plan', 'hardship_flag']\n",
    "df_aprovado = df_aprovado.drop(columns = cols_to_drop)"
   ]
  },
  {
   "cell_type": "code",
   "execution_count": 46,
   "metadata": {},
   "outputs": [
    {
     "data": {
      "text/plain": [
       "(1341026, 41)"
      ]
     },
     "execution_count": 46,
     "metadata": {},
     "output_type": "execute_result"
    }
   ],
   "source": [
    "# Shape\n",
    "df_aprovado.shape"
   ]
  },
  {
   "cell_type": "code",
   "execution_count": 47,
   "metadata": {},
   "outputs": [
    {
     "name": "stdout",
     "output_type": "stream",
     "text": [
      "Index(['term', 'grade', 'sub_grade', 'home_ownership', 'verification_status',\n",
      "       'issue_d', 'url', 'purpose', 'zip_code', 'addr_state',\n",
      "       'earliest_cr_line', 'initial_list_status', 'last_pymnt_d',\n",
      "       'last_credit_pull_d', 'application_type', 'disbursement_method',\n",
      "       'debt_settlement_flag'],\n",
      "      dtype='object')\n"
     ]
    }
   ],
   "source": [
    "# Variáveis categóricas restantes\n",
    "cat_cols = df_aprovado.select_dtypes(include = ['object']).columns\n",
    "print(cat_cols)"
   ]
  },
  {
   "cell_type": "markdown",
   "metadata": {},
   "source": [
    "### Engenharia de Atributos - Variável \"term\""
   ]
  },
  {
   "cell_type": "code",
   "execution_count": 48,
   "metadata": {},
   "outputs": [
    {
     "name": "stdout",
     "output_type": "stream",
     "text": [
      " 36 months    1017398\n",
      " 60 months     323628\n",
      "Name: term, dtype: int64\n"
     ]
    }
   ],
   "source": [
    "print(df_aprovado.term.value_counts())"
   ]
  },
  {
   "cell_type": "code",
   "execution_count": 49,
   "metadata": {},
   "outputs": [],
   "source": [
    "# Converte a variável term em um tipo de dados numéricos de valor 36 ou 60 \n",
    "l1 = df_aprovado.term.unique()\n",
    "l2 = [36, 60]\n",
    "d = dict(zip(l1, l2))\n",
    "df_aprovado['term'] = df_aprovado['term'].map(d)"
   ]
  },
  {
   "cell_type": "code",
   "execution_count": 50,
   "metadata": {},
   "outputs": [
    {
     "data": {
      "text/plain": [
       "0          36\n",
       "1          36\n",
       "2          60\n",
       "4          60\n",
       "5          36\n",
       "           ..\n",
       "2260688    60\n",
       "2260690    60\n",
       "2260691    60\n",
       "2260692    60\n",
       "2260697    60\n",
       "Name: term, Length: 1341026, dtype: int64"
      ]
     },
     "execution_count": 50,
     "metadata": {},
     "output_type": "execute_result"
    }
   ],
   "source": [
    "df_aprovado['term']"
   ]
  },
  {
   "cell_type": "code",
   "execution_count": 51,
   "metadata": {},
   "outputs": [
    {
     "name": "stdout",
     "output_type": "stream",
     "text": [
      "Index(['grade', 'sub_grade', 'home_ownership', 'verification_status',\n",
      "       'issue_d', 'url', 'purpose', 'zip_code', 'addr_state',\n",
      "       'earliest_cr_line', 'initial_list_status', 'last_pymnt_d',\n",
      "       'last_credit_pull_d', 'application_type', 'disbursement_method',\n",
      "       'debt_settlement_flag'],\n",
      "      dtype='object')\n"
     ]
    }
   ],
   "source": [
    "# Variáveis categóricas restantes\n",
    "cat_cols = df_aprovado.select_dtypes(include = ['object']).columns\n",
    "print(cat_cols)"
   ]
  },
  {
   "cell_type": "markdown",
   "metadata": {},
   "source": [
    "### Engenharia de Atributos - Variável \"grade\" e \"sub_grade\""
   ]
  },
  {
   "cell_type": "code",
   "execution_count": 52,
   "metadata": {},
   "outputs": [
    {
     "name": "stdout",
     "output_type": "stream",
     "text": [
      "B    391850\n",
      "C    380490\n",
      "A    234657\n",
      "D    200019\n",
      "E     93126\n",
      "F     31854\n",
      "G      9030\n",
      "Name: grade, dtype: int64\n",
      "C1    85247\n",
      "B4    83003\n",
      "B5    82327\n",
      "B3    81658\n",
      "C2    78960\n",
      "C3    74781\n",
      "C4    74173\n",
      "B2    73870\n",
      "B1    70992\n",
      "C5    67329\n",
      "A5    63892\n",
      "A4    52135\n",
      "D1    51092\n",
      "D2    44637\n",
      "A1    43634\n",
      "D3    39134\n",
      "A3    37900\n",
      "A2    37096\n",
      "D4    35412\n",
      "D5    29744\n",
      "E1    23657\n",
      "E2    21244\n",
      "E3    18279\n",
      "E4    15621\n",
      "E5    14325\n",
      "F1     9914\n",
      "F2     7149\n",
      "F3     6055\n",
      "F4     4826\n",
      "F5     3910\n",
      "G1     2967\n",
      "G2     2109\n",
      "G3     1600\n",
      "G4     1259\n",
      "G5     1095\n",
      "Name: sub_grade, dtype: int64\n"
     ]
    }
   ],
   "source": [
    "print(df_aprovado.grade.value_counts())\n",
    "print(df_aprovado.sub_grade.value_counts())"
   ]
  },
  {
   "cell_type": "code",
   "execution_count": 53,
   "metadata": {},
   "outputs": [
    {
     "data": {
      "text/plain": [
       "<AxesSubplot:xlabel='grade', ylabel='count'>"
      ]
     },
     "execution_count": 53,
     "metadata": {},
     "output_type": "execute_result"
    },
    {
     "data": {
      "image/png": "[encoded data removed]",
      "text/plain": [
       "<Figure size 1008x360 with 1 Axes>"
      ]
     },
     "metadata": {
      "needs_background": "light"
     },
     "output_type": "display_data"
    }
   ],
   "source": [
    "# Plot para contagem da variável target pela variável grade\n",
    "plt.figure(figsize = (14,5))\n",
    "sns.countplot(x = df_aprovado.grade, hue = df_aprovado.loan_paid)"
   ]
  },
  {
   "cell_type": "code",
   "execution_count": 54,
   "metadata": {},
   "outputs": [
    {
     "data": {
      "text/plain": [
       "<AxesSubplot:xlabel='sub_grade', ylabel='count'>"
      ]
     },
     "execution_count": 54,
     "metadata": {},
     "output_type": "execute_result"
    },
    {
     "data": {
      "image/png": "[encoded data removed]",
      "text/plain": [
       "<Figure size 1008x360 with 1 Axes>"
      ]
     },
     "metadata": {
      "needs_background": "light"
     },
     "output_type": "display_data"
    }
   ],
   "source": [
    "# Plot para contagem da variável target pela variável sub_grade\n",
    "l = list(df_aprovado.sub_grade.unique())\n",
    "l.sort()\n",
    "plt.figure(figsize = (14,5))\n",
    "sns.countplot(x = df_aprovado.sub_grade, order = l, hue = df_aprovado.loan_paid, palette = 'coolwarm')"
   ]
  },
  {
   "cell_type": "code",
   "execution_count": 55,
   "metadata": {},
   "outputs": [],
   "source": [
    "# Visto que a variável grade é parte de sub_grade, então vamos deixar de lado o recurso de grade.\n",
    "df_aprovado = df_aprovado.drop(columns = 'grade')"
   ]
  },
  {
   "cell_type": "markdown",
   "metadata": {},
   "source": [
    "E então criamos variáveis dummy para cada catagoria."
   ]
  },
  {
   "cell_type": "code",
   "execution_count": 56,
   "metadata": {},
   "outputs": [],
   "source": [
    "# Cria variáveis dummy\n",
    "df_aprovado = pd.get_dummies(df_aprovado, columns = ['sub_grade'], prefix = '', prefix_sep = '', drop_first = True)"
   ]
  },
  {
   "cell_type": "code",
   "execution_count": 57,
   "metadata": {},
   "outputs": [
    {
     "data": {
      "text/html": [
       "<div>\n",
       "<style scoped>\n",
       "    .dataframe tbody tr th:only-of-type {\n",
       "        vertical-align: middle;\n",
       "    }\n",
       "\n",
       "    .dataframe tbody tr th {\n",
       "        vertical-align: top;\n",
       "    }\n",
       "\n",
       "    .dataframe thead th {\n",
       "        text-align: right;\n",
       "    }\n",
       "</style>\n",
       "<table border=\"1\" class=\"dataframe\">\n",
       "  <thead>\n",
       "    <tr style=\"text-align: right;\">\n",
       "      <th></th>\n",
       "      <th>loan_amnt</th>\n",
       "      <th>term</th>\n",
       "      <th>int_rate</th>\n",
       "      <th>home_ownership</th>\n",
       "      <th>annual_inc</th>\n",
       "      <th>verification_status</th>\n",
       "      <th>issue_d</th>\n",
       "      <th>url</th>\n",
       "      <th>purpose</th>\n",
       "      <th>zip_code</th>\n",
       "      <th>...</th>\n",
       "      <th>F1</th>\n",
       "      <th>F2</th>\n",
       "      <th>F3</th>\n",
       "      <th>F4</th>\n",
       "      <th>F5</th>\n",
       "      <th>G1</th>\n",
       "      <th>G2</th>\n",
       "      <th>G3</th>\n",
       "      <th>G4</th>\n",
       "      <th>G5</th>\n",
       "    </tr>\n",
       "  </thead>\n",
       "  <tbody>\n",
       "    <tr>\n",
       "      <th>0</th>\n",
       "      <td>3600.0</td>\n",
       "      <td>36</td>\n",
       "      <td>13.99</td>\n",
       "      <td>MORTGAGE</td>\n",
       "      <td>55000.0</td>\n",
       "      <td>Not Verified</td>\n",
       "      <td>Dec-2015</td>\n",
       "      <td>https://lendingclub.com/browse/loanDetail.acti...</td>\n",
       "      <td>debt_consolidation</td>\n",
       "      <td>190xx</td>\n",
       "      <td>...</td>\n",
       "      <td>0</td>\n",
       "      <td>0</td>\n",
       "      <td>0</td>\n",
       "      <td>0</td>\n",
       "      <td>0</td>\n",
       "      <td>0</td>\n",
       "      <td>0</td>\n",
       "      <td>0</td>\n",
       "      <td>0</td>\n",
       "      <td>0</td>\n",
       "    </tr>\n",
       "    <tr>\n",
       "      <th>1</th>\n",
       "      <td>24700.0</td>\n",
       "      <td>36</td>\n",
       "      <td>11.99</td>\n",
       "      <td>MORTGAGE</td>\n",
       "      <td>65000.0</td>\n",
       "      <td>Not Verified</td>\n",
       "      <td>Dec-2015</td>\n",
       "      <td>https://lendingclub.com/browse/loanDetail.acti...</td>\n",
       "      <td>small_business</td>\n",
       "      <td>577xx</td>\n",
       "      <td>...</td>\n",
       "      <td>0</td>\n",
       "      <td>0</td>\n",
       "      <td>0</td>\n",
       "      <td>0</td>\n",
       "      <td>0</td>\n",
       "      <td>0</td>\n",
       "      <td>0</td>\n",
       "      <td>0</td>\n",
       "      <td>0</td>\n",
       "      <td>0</td>\n",
       "    </tr>\n",
       "    <tr>\n",
       "      <th>2</th>\n",
       "      <td>20000.0</td>\n",
       "      <td>60</td>\n",
       "      <td>10.78</td>\n",
       "      <td>MORTGAGE</td>\n",
       "      <td>63000.0</td>\n",
       "      <td>Not Verified</td>\n",
       "      <td>Dec-2015</td>\n",
       "      <td>https://lendingclub.com/browse/loanDetail.acti...</td>\n",
       "      <td>home_improvement</td>\n",
       "      <td>605xx</td>\n",
       "      <td>...</td>\n",
       "      <td>0</td>\n",
       "      <td>0</td>\n",
       "      <td>0</td>\n",
       "      <td>0</td>\n",
       "      <td>0</td>\n",
       "      <td>0</td>\n",
       "      <td>0</td>\n",
       "      <td>0</td>\n",
       "      <td>0</td>\n",
       "      <td>0</td>\n",
       "    </tr>\n",
       "    <tr>\n",
       "      <th>4</th>\n",
       "      <td>10400.0</td>\n",
       "      <td>60</td>\n",
       "      <td>22.45</td>\n",
       "      <td>MORTGAGE</td>\n",
       "      <td>104433.0</td>\n",
       "      <td>Source Verified</td>\n",
       "      <td>Dec-2015</td>\n",
       "      <td>https://lendingclub.com/browse/loanDetail.acti...</td>\n",
       "      <td>major_purchase</td>\n",
       "      <td>174xx</td>\n",
       "      <td>...</td>\n",
       "      <td>1</td>\n",
       "      <td>0</td>\n",
       "      <td>0</td>\n",
       "      <td>0</td>\n",
       "      <td>0</td>\n",
       "      <td>0</td>\n",
       "      <td>0</td>\n",
       "      <td>0</td>\n",
       "      <td>0</td>\n",
       "      <td>0</td>\n",
       "    </tr>\n",
       "    <tr>\n",
       "      <th>5</th>\n",
       "      <td>11950.0</td>\n",
       "      <td>36</td>\n",
       "      <td>13.44</td>\n",
       "      <td>RENT</td>\n",
       "      <td>34000.0</td>\n",
       "      <td>Source Verified</td>\n",
       "      <td>Dec-2015</td>\n",
       "      <td>https://lendingclub.com/browse/loanDetail.acti...</td>\n",
       "      <td>debt_consolidation</td>\n",
       "      <td>300xx</td>\n",
       "      <td>...</td>\n",
       "      <td>0</td>\n",
       "      <td>0</td>\n",
       "      <td>0</td>\n",
       "      <td>0</td>\n",
       "      <td>0</td>\n",
       "      <td>0</td>\n",
       "      <td>0</td>\n",
       "      <td>0</td>\n",
       "      <td>0</td>\n",
       "      <td>0</td>\n",
       "    </tr>\n",
       "  </tbody>\n",
       "</table>\n",
       "<p>5 rows × 73 columns</p>\n",
       "</div>"
      ],
      "text/plain": [
       "   loan_amnt  term  int_rate home_ownership  annual_inc verification_status  \\\n",
       "0     3600.0    36     13.99       MORTGAGE     55000.0        Not Verified   \n",
       "1    24700.0    36     11.99       MORTGAGE     65000.0        Not Verified   \n",
       "2    20000.0    60     10.78       MORTGAGE     63000.0        Not Verified   \n",
       "4    10400.0    60     22.45       MORTGAGE    104433.0     Source Verified   \n",
       "5    11950.0    36     13.44           RENT     34000.0     Source Verified   \n",
       "\n",
       "    issue_d                                                url  \\\n",
       "0  Dec-2015  https://lendingclub.com/browse/loanDetail.acti...   \n",
       "1  Dec-2015  https://lendingclub.com/browse/loanDetail.acti...   \n",
       "2  Dec-2015  https://lendingclub.com/browse/loanDetail.acti...   \n",
       "4  Dec-2015  https://lendingclub.com/browse/loanDetail.acti...   \n",
       "5  Dec-2015  https://lendingclub.com/browse/loanDetail.acti...   \n",
       "\n",
       "              purpose zip_code  ... F1  F2  F3 F4  F5  G1  G2  G3  G4  G5  \n",
       "0  debt_consolidation    190xx  ...  0   0   0  0   0   0   0   0   0   0  \n",
       "1      small_business    577xx  ...  0   0   0  0   0   0   0   0   0   0  \n",
       "2    home_improvement    605xx  ...  0   0   0  0   0   0   0   0   0   0  \n",
       "4      major_purchase    174xx  ...  1   0   0  0   0   0   0   0   0   0  \n",
       "5  debt_consolidation    300xx  ...  0   0   0  0   0   0   0   0   0   0  \n",
       "\n",
       "[5 rows x 73 columns]"
      ]
     },
     "execution_count": 57,
     "metadata": {},
     "output_type": "execute_result"
    }
   ],
   "source": [
    "# Visualiza os dados\n",
    "df_aprovado.head()"
   ]
  },
  {
   "cell_type": "code",
   "execution_count": 58,
   "metadata": {},
   "outputs": [
    {
     "name": "stdout",
     "output_type": "stream",
     "text": [
      "Index(['home_ownership', 'verification_status', 'issue_d', 'url', 'purpose',\n",
      "       'zip_code', 'addr_state', 'earliest_cr_line', 'initial_list_status',\n",
      "       'last_pymnt_d', 'last_credit_pull_d', 'application_type',\n",
      "       'disbursement_method', 'debt_settlement_flag'],\n",
      "      dtype='object')\n"
     ]
    }
   ],
   "source": [
    "# Variáveis categóricas restantes\n",
    "cat_cols = df_aprovado.select_dtypes(include = ['object']).columns\n",
    "print(cat_cols)"
   ]
  },
  {
   "cell_type": "markdown",
   "metadata": {},
   "source": [
    "### Engenharia de Atributos - Variáveis \"verification_status\", \"application_type\", \"initial_list_status\", \"purpose\""
   ]
  },
  {
   "cell_type": "code",
   "execution_count": 59,
   "metadata": {},
   "outputs": [
    {
     "name": "stdout",
     "output_type": "stream",
     "text": [
      "['Not Verified' 'Source Verified' 'Verified']\n",
      "['Individual' 'Joint App']\n",
      "['w' 'f']\n",
      "['debt_consolidation' 'small_business' 'home_improvement' 'major_purchase'\n",
      " 'credit_card' 'other' 'house' 'vacation' 'car' 'medical' 'moving'\n",
      " 'renewable_energy' 'wedding' 'educational']\n"
     ]
    }
   ],
   "source": [
    "print(df_aprovado.verification_status.unique())\n",
    "print(df_aprovado.application_type.unique())\n",
    "print(df_aprovado.initial_list_status.unique())\n",
    "print(df_aprovado.purpose.unique())"
   ]
  },
  {
   "cell_type": "markdown",
   "metadata": {},
   "source": [
    "Para essas colunas, vamos apenas criar variáveis fictícias (dummy), concatená-las com o dataframe original e eliminar o original."
   ]
  },
  {
   "cell_type": "code",
   "execution_count": 60,
   "metadata": {},
   "outputs": [],
   "source": [
    "# Cria variáveis dummy\n",
    "df_aprovado = pd.get_dummies(df_aprovado, columns = ['verification_status'], prefix='', prefix_sep='', drop_first=True)\n",
    "df_aprovado = pd.get_dummies(df_aprovado, columns = ['application_type'], prefix='', prefix_sep='', drop_first=True)\n",
    "df_aprovado = pd.get_dummies(df_aprovado, columns = ['initial_list_status'], prefix='', prefix_sep='', drop_first=True)\n",
    "df_aprovado = pd.get_dummies(df_aprovado, columns = ['purpose'], prefix='', prefix_sep='', drop_first=True)"
   ]
  },
  {
   "cell_type": "code",
   "execution_count": 61,
   "metadata": {},
   "outputs": [
    {
     "data": {
      "text/html": [
       "<div>\n",
       "<style scoped>\n",
       "    .dataframe tbody tr th:only-of-type {\n",
       "        vertical-align: middle;\n",
       "    }\n",
       "\n",
       "    .dataframe tbody tr th {\n",
       "        vertical-align: top;\n",
       "    }\n",
       "\n",
       "    .dataframe thead th {\n",
       "        text-align: right;\n",
       "    }\n",
       "</style>\n",
       "<table border=\"1\" class=\"dataframe\">\n",
       "  <thead>\n",
       "    <tr style=\"text-align: right;\">\n",
       "      <th></th>\n",
       "      <th>loan_amnt</th>\n",
       "      <th>term</th>\n",
       "      <th>int_rate</th>\n",
       "      <th>home_ownership</th>\n",
       "      <th>annual_inc</th>\n",
       "      <th>issue_d</th>\n",
       "      <th>url</th>\n",
       "      <th>zip_code</th>\n",
       "      <th>addr_state</th>\n",
       "      <th>dti</th>\n",
       "      <th>...</th>\n",
       "      <th>home_improvement</th>\n",
       "      <th>house</th>\n",
       "      <th>major_purchase</th>\n",
       "      <th>medical</th>\n",
       "      <th>moving</th>\n",
       "      <th>other</th>\n",
       "      <th>renewable_energy</th>\n",
       "      <th>small_business</th>\n",
       "      <th>vacation</th>\n",
       "      <th>wedding</th>\n",
       "    </tr>\n",
       "  </thead>\n",
       "  <tbody>\n",
       "    <tr>\n",
       "      <th>0</th>\n",
       "      <td>3600.0</td>\n",
       "      <td>36</td>\n",
       "      <td>13.99</td>\n",
       "      <td>MORTGAGE</td>\n",
       "      <td>55000.0</td>\n",
       "      <td>Dec-2015</td>\n",
       "      <td>https://lendingclub.com/browse/loanDetail.acti...</td>\n",
       "      <td>190xx</td>\n",
       "      <td>PA</td>\n",
       "      <td>5.91</td>\n",
       "      <td>...</td>\n",
       "      <td>0</td>\n",
       "      <td>0</td>\n",
       "      <td>0</td>\n",
       "      <td>0</td>\n",
       "      <td>0</td>\n",
       "      <td>0</td>\n",
       "      <td>0</td>\n",
       "      <td>0</td>\n",
       "      <td>0</td>\n",
       "      <td>0</td>\n",
       "    </tr>\n",
       "    <tr>\n",
       "      <th>1</th>\n",
       "      <td>24700.0</td>\n",
       "      <td>36</td>\n",
       "      <td>11.99</td>\n",
       "      <td>MORTGAGE</td>\n",
       "      <td>65000.0</td>\n",
       "      <td>Dec-2015</td>\n",
       "      <td>https://lendingclub.com/browse/loanDetail.acti...</td>\n",
       "      <td>577xx</td>\n",
       "      <td>SD</td>\n",
       "      <td>16.06</td>\n",
       "      <td>...</td>\n",
       "      <td>0</td>\n",
       "      <td>0</td>\n",
       "      <td>0</td>\n",
       "      <td>0</td>\n",
       "      <td>0</td>\n",
       "      <td>0</td>\n",
       "      <td>0</td>\n",
       "      <td>1</td>\n",
       "      <td>0</td>\n",
       "      <td>0</td>\n",
       "    </tr>\n",
       "    <tr>\n",
       "      <th>2</th>\n",
       "      <td>20000.0</td>\n",
       "      <td>60</td>\n",
       "      <td>10.78</td>\n",
       "      <td>MORTGAGE</td>\n",
       "      <td>63000.0</td>\n",
       "      <td>Dec-2015</td>\n",
       "      <td>https://lendingclub.com/browse/loanDetail.acti...</td>\n",
       "      <td>605xx</td>\n",
       "      <td>IL</td>\n",
       "      <td>10.78</td>\n",
       "      <td>...</td>\n",
       "      <td>1</td>\n",
       "      <td>0</td>\n",
       "      <td>0</td>\n",
       "      <td>0</td>\n",
       "      <td>0</td>\n",
       "      <td>0</td>\n",
       "      <td>0</td>\n",
       "      <td>0</td>\n",
       "      <td>0</td>\n",
       "      <td>0</td>\n",
       "    </tr>\n",
       "    <tr>\n",
       "      <th>4</th>\n",
       "      <td>10400.0</td>\n",
       "      <td>60</td>\n",
       "      <td>22.45</td>\n",
       "      <td>MORTGAGE</td>\n",
       "      <td>104433.0</td>\n",
       "      <td>Dec-2015</td>\n",
       "      <td>https://lendingclub.com/browse/loanDetail.acti...</td>\n",
       "      <td>174xx</td>\n",
       "      <td>PA</td>\n",
       "      <td>25.37</td>\n",
       "      <td>...</td>\n",
       "      <td>0</td>\n",
       "      <td>0</td>\n",
       "      <td>1</td>\n",
       "      <td>0</td>\n",
       "      <td>0</td>\n",
       "      <td>0</td>\n",
       "      <td>0</td>\n",
       "      <td>0</td>\n",
       "      <td>0</td>\n",
       "      <td>0</td>\n",
       "    </tr>\n",
       "    <tr>\n",
       "      <th>5</th>\n",
       "      <td>11950.0</td>\n",
       "      <td>36</td>\n",
       "      <td>13.44</td>\n",
       "      <td>RENT</td>\n",
       "      <td>34000.0</td>\n",
       "      <td>Dec-2015</td>\n",
       "      <td>https://lendingclub.com/browse/loanDetail.acti...</td>\n",
       "      <td>300xx</td>\n",
       "      <td>GA</td>\n",
       "      <td>10.20</td>\n",
       "      <td>...</td>\n",
       "      <td>0</td>\n",
       "      <td>0</td>\n",
       "      <td>0</td>\n",
       "      <td>0</td>\n",
       "      <td>0</td>\n",
       "      <td>0</td>\n",
       "      <td>0</td>\n",
       "      <td>0</td>\n",
       "      <td>0</td>\n",
       "      <td>0</td>\n",
       "    </tr>\n",
       "  </tbody>\n",
       "</table>\n",
       "<p>5 rows × 86 columns</p>\n",
       "</div>"
      ],
      "text/plain": [
       "   loan_amnt  term  int_rate home_ownership  annual_inc   issue_d  \\\n",
       "0     3600.0    36     13.99       MORTGAGE     55000.0  Dec-2015   \n",
       "1    24700.0    36     11.99       MORTGAGE     65000.0  Dec-2015   \n",
       "2    20000.0    60     10.78       MORTGAGE     63000.0  Dec-2015   \n",
       "4    10400.0    60     22.45       MORTGAGE    104433.0  Dec-2015   \n",
       "5    11950.0    36     13.44           RENT     34000.0  Dec-2015   \n",
       "\n",
       "                                                 url zip_code addr_state  \\\n",
       "0  https://lendingclub.com/browse/loanDetail.acti...    190xx         PA   \n",
       "1  https://lendingclub.com/browse/loanDetail.acti...    577xx         SD   \n",
       "2  https://lendingclub.com/browse/loanDetail.acti...    605xx         IL   \n",
       "4  https://lendingclub.com/browse/loanDetail.acti...    174xx         PA   \n",
       "5  https://lendingclub.com/browse/loanDetail.acti...    300xx         GA   \n",
       "\n",
       "     dti  ...  home_improvement house  major_purchase  medical  moving  other  \\\n",
       "0   5.91  ...                 0     0               0        0       0      0   \n",
       "1  16.06  ...                 0     0               0        0       0      0   \n",
       "2  10.78  ...                 1     0               0        0       0      0   \n",
       "4  25.37  ...                 0     0               1        0       0      0   \n",
       "5  10.20  ...                 0     0               0        0       0      0   \n",
       "\n",
       "   renewable_energy  small_business  vacation  wedding  \n",
       "0                 0               0         0        0  \n",
       "1                 0               1         0        0  \n",
       "2                 0               0         0        0  \n",
       "4                 0               0         0        0  \n",
       "5                 0               0         0        0  \n",
       "\n",
       "[5 rows x 86 columns]"
      ]
     },
     "execution_count": 61,
     "metadata": {},
     "output_type": "execute_result"
    }
   ],
   "source": [
    "# Visualiza os dados\n",
    "df_aprovado.head()"
   ]
  },
  {
   "cell_type": "code",
   "execution_count": 62,
   "metadata": {},
   "outputs": [
    {
     "name": "stdout",
     "output_type": "stream",
     "text": [
      "Index(['home_ownership', 'issue_d', 'url', 'zip_code', 'addr_state',\n",
      "       'earliest_cr_line', 'last_pymnt_d', 'last_credit_pull_d',\n",
      "       'disbursement_method', 'debt_settlement_flag'],\n",
      "      dtype='object')\n"
     ]
    }
   ],
   "source": [
    "# Variáveis categóricas restantes\n",
    "cat_cols = df_aprovado.select_dtypes(include = ['object']).columns\n",
    "print(cat_cols)"
   ]
  },
  {
   "cell_type": "markdown",
   "metadata": {},
   "source": [
    "### Engenharia de Atributos - Variável \"home_ownership\""
   ]
  },
  {
   "cell_type": "code",
   "execution_count": 63,
   "metadata": {},
   "outputs": [
    {
     "data": {
      "text/plain": [
       "MORTGAGE    663868\n",
       "RENT        532493\n",
       "OWN         144195\n",
       "ANY            283\n",
       "OTHER          142\n",
       "NONE            45\n",
       "Name: home_ownership, dtype: int64"
      ]
     },
     "execution_count": 63,
     "metadata": {},
     "output_type": "execute_result"
    }
   ],
   "source": [
    "# Contagem por categoria\n",
    "df_aprovado.home_ownership.value_counts()"
   ]
  },
  {
   "cell_type": "code",
   "execution_count": 64,
   "metadata": {},
   "outputs": [],
   "source": [
    "# Substitui None por Any\n",
    "df_aprovado['home_ownership'] = df_aprovado.home_ownership.replace('NONE', 'ANY')"
   ]
  },
  {
   "cell_type": "code",
   "execution_count": 65,
   "metadata": {},
   "outputs": [],
   "source": [
    "# Cria variáveis dummy\n",
    "df_aprovado = pd.get_dummies(df_aprovado, columns = ['home_ownership'], \n",
    "                             prefix = '', \n",
    "                             prefix_sep = '', \n",
    "                             drop_first = True)"
   ]
  },
  {
   "cell_type": "code",
   "execution_count": 66,
   "metadata": {},
   "outputs": [
    {
     "name": "stdout",
     "output_type": "stream",
     "text": [
      "Index(['issue_d', 'url', 'zip_code', 'addr_state', 'earliest_cr_line',\n",
      "       'last_pymnt_d', 'last_credit_pull_d', 'disbursement_method',\n",
      "       'debt_settlement_flag'],\n",
      "      dtype='object')\n"
     ]
    }
   ],
   "source": [
    "# Variáveis categóricas restantes\n",
    "cat_cols = df_aprovado.select_dtypes(include = ['object']).columns\n",
    "print(cat_cols)"
   ]
  },
  {
   "cell_type": "markdown",
   "metadata": {},
   "source": [
    "### Engenharia de Atributos - Variáveis \"issue_d\", \"url, last_pymnt_d\" e \"last_credit_pull_d\""
   ]
  },
  {
   "cell_type": "code",
   "execution_count": 67,
   "metadata": {},
   "outputs": [
    {
     "data": {
      "text/plain": [
       "0     Dec-2015\n",
       "1     Dec-2015\n",
       "2     Dec-2015\n",
       "4     Dec-2015\n",
       "5     Dec-2015\n",
       "6     Dec-2015\n",
       "7     Dec-2015\n",
       "8     Dec-2015\n",
       "9     Dec-2015\n",
       "12    Dec-2015\n",
       "Name: issue_d, dtype: object"
      ]
     },
     "execution_count": 67,
     "metadata": {},
     "output_type": "execute_result"
    }
   ],
   "source": [
    "df_aprovado.issue_d.head(10)"
   ]
  },
  {
   "cell_type": "code",
   "execution_count": 68,
   "metadata": {},
   "outputs": [],
   "source": [
    "# Vamos apenas dropar as variáveis, pois o valor parece ser constante\n",
    "df_aprovado = df_aprovado.drop(columns = ['issue_d', 'url', 'last_pymnt_d', 'last_credit_pull_d'])"
   ]
  },
  {
   "cell_type": "markdown",
   "metadata": {},
   "source": [
    "### Engenharia de Atributos - Variáveis \"zip_code\" e \"addr_state\""
   ]
  },
  {
   "cell_type": "code",
   "execution_count": 69,
   "metadata": {},
   "outputs": [
    {
     "data": {
      "text/plain": [
       "945xx    14964\n",
       "750xx    14440\n",
       "112xx    13781\n",
       "606xx    12407\n",
       "300xx    12087\n",
       "         ...  \n",
       "698xx        1\n",
       "568xx        1\n",
       "009xx        1\n",
       "892xx        1\n",
       "095xx        1\n",
       "Name: zip_code, Length: 943, dtype: int64"
      ]
     },
     "execution_count": 69,
     "metadata": {},
     "output_type": "execute_result"
    }
   ],
   "source": [
    "df_aprovado.zip_code.value_counts()"
   ]
  },
  {
   "cell_type": "code",
   "execution_count": 70,
   "metadata": {},
   "outputs": [],
   "source": [
    "# Não parece ser informação relevante, vamos dropar as colunas\n",
    "df_aprovado = df_aprovado.drop(columns = ['zip_code', 'addr_state'])"
   ]
  },
  {
   "cell_type": "code",
   "execution_count": 71,
   "metadata": {},
   "outputs": [
    {
     "name": "stdout",
     "output_type": "stream",
     "text": [
      "Index(['earliest_cr_line', 'disbursement_method', 'debt_settlement_flag'], dtype='object')\n"
     ]
    }
   ],
   "source": [
    "# Variáveis categóricas restantes\n",
    "cat_cols = df_aprovado.select_dtypes(include=['object']).columns\n",
    "print(cat_cols)"
   ]
  },
  {
   "cell_type": "markdown",
   "metadata": {},
   "source": [
    "### Engenharia de Atributos - Variáveis \"disbursement_method\" e \"debt_settlement_flag\""
   ]
  },
  {
   "cell_type": "code",
   "execution_count": 72,
   "metadata": {},
   "outputs": [
    {
     "name": "stdout",
     "output_type": "stream",
     "text": [
      "Cash         1334162\n",
      "DirectPay       6864\n",
      "Name: disbursement_method, dtype: int64\n",
      "N    1307844\n",
      "Y      33182\n",
      "Name: debt_settlement_flag, dtype: int64\n"
     ]
    }
   ],
   "source": [
    "print(df_aprovado.disbursement_method.value_counts())\n",
    "print(df_aprovado.debt_settlement_flag.value_counts())"
   ]
  },
  {
   "cell_type": "markdown",
   "metadata": {},
   "source": [
    "Criaremos variáveis dummy."
   ]
  },
  {
   "cell_type": "code",
   "execution_count": 73,
   "metadata": {},
   "outputs": [],
   "source": [
    "# Cria variáveis dummy\n",
    "df_aprovado = pd.get_dummies(df_aprovado, columns = ['disbursement_method'], prefix='', prefix_sep='', drop_first=True)\n",
    "df_aprovado = pd.get_dummies(df_aprovado, columns = ['debt_settlement_flag'], prefix='', prefix_sep='', drop_first=True)"
   ]
  },
  {
   "cell_type": "markdown",
   "metadata": {},
   "source": [
    "### Engenharia de Atributos - Variáveis \"earliest_cr_line\""
   ]
  },
  {
   "cell_type": "code",
   "execution_count": 74,
   "metadata": {},
   "outputs": [
    {
     "name": "stdout",
     "output_type": "stream",
     "text": [
      "Aug-2001    9365\n",
      "Aug-2002    9066\n",
      "Sep-2003    9000\n",
      "Oct-2001    8838\n",
      "Aug-2000    8822\n",
      "            ... \n",
      "Jun-1949       1\n",
      "May-1950       1\n",
      "Oct-1954       1\n",
      "Sep-1953       1\n",
      "Feb-1957       1\n",
      "Name: earliest_cr_line, Length: 739, dtype: int64\n"
     ]
    }
   ],
   "source": [
    "print(df_aprovado.earliest_cr_line.value_counts())"
   ]
  },
  {
   "cell_type": "code",
   "execution_count": 75,
   "metadata": {},
   "outputs": [],
   "source": [
    "# Drop da coluna pois não parece ser relevante\n",
    "df_aprovado = df_aprovado.drop(columns = ['earliest_cr_line'])"
   ]
  },
  {
   "cell_type": "code",
   "execution_count": 76,
   "metadata": {},
   "outputs": [
    {
     "name": "stdout",
     "output_type": "stream",
     "text": [
      "Index([], dtype='object')\n"
     ]
    }
   ],
   "source": [
    "# Variáveis categóricas restantes\n",
    "cat_cols = df_aprovado.select_dtypes(include=['object']).columns\n",
    "print(cat_cols)"
   ]
  },
  {
   "cell_type": "code",
   "execution_count": 77,
   "metadata": {},
   "outputs": [
    {
     "name": "stdout",
     "output_type": "stream",
     "text": [
      "<class 'pandas.core.frame.DataFrame'>\n",
      "Int64Index: 1341026 entries, 0 to 2260697\n",
      "Data columns (total 82 columns):\n",
      " #   Column                      Non-Null Count    Dtype  \n",
      "---  ------                      --------------    -----  \n",
      " 0   loan_amnt                   1341026 non-null  float64\n",
      " 1   term                        1341026 non-null  int64  \n",
      " 2   int_rate                    1341026 non-null  float64\n",
      " 3   annual_inc                  1341026 non-null  float64\n",
      " 4   dti                         1341026 non-null  float64\n",
      " 5   delinq_2yrs                 1341026 non-null  float64\n",
      " 6   fico_range_high             1341026 non-null  float64\n",
      " 7   inq_last_6mths              1341026 non-null  float64\n",
      " 8   open_acc                    1341026 non-null  float64\n",
      " 9   pub_rec                     1341026 non-null  float64\n",
      " 10  revol_bal                   1341026 non-null  float64\n",
      " 11  revol_util                  1341026 non-null  float64\n",
      " 12  total_acc                   1341026 non-null  float64\n",
      " 13  total_rec_int               1341026 non-null  float64\n",
      " 14  total_rec_late_fee          1341026 non-null  float64\n",
      " 15  recoveries                  1341026 non-null  float64\n",
      " 16  last_pymnt_amnt             1341026 non-null  float64\n",
      " 17  last_fico_range_high        1341026 non-null  float64\n",
      " 18  collections_12_mths_ex_med  1341026 non-null  float64\n",
      " 19  acc_now_delinq              1341026 non-null  float64\n",
      " 20  chargeoff_within_12_mths    1341026 non-null  float64\n",
      " 21  delinq_amnt                 1341026 non-null  float64\n",
      " 22  pub_rec_bankruptcies        1341026 non-null  float64\n",
      " 23  tax_liens                   1341026 non-null  float64\n",
      " 24  loan_paid                   1341026 non-null  int64  \n",
      " 25  A2                          1341026 non-null  uint8  \n",
      " 26  A3                          1341026 non-null  uint8  \n",
      " 27  A4                          1341026 non-null  uint8  \n",
      " 28  A5                          1341026 non-null  uint8  \n",
      " 29  B1                          1341026 non-null  uint8  \n",
      " 30  B2                          1341026 non-null  uint8  \n",
      " 31  B3                          1341026 non-null  uint8  \n",
      " 32  B4                          1341026 non-null  uint8  \n",
      " 33  B5                          1341026 non-null  uint8  \n",
      " 34  C1                          1341026 non-null  uint8  \n",
      " 35  C2                          1341026 non-null  uint8  \n",
      " 36  C3                          1341026 non-null  uint8  \n",
      " 37  C4                          1341026 non-null  uint8  \n",
      " 38  C5                          1341026 non-null  uint8  \n",
      " 39  D1                          1341026 non-null  uint8  \n",
      " 40  D2                          1341026 non-null  uint8  \n",
      " 41  D3                          1341026 non-null  uint8  \n",
      " 42  D4                          1341026 non-null  uint8  \n",
      " 43  D5                          1341026 non-null  uint8  \n",
      " 44  E1                          1341026 non-null  uint8  \n",
      " 45  E2                          1341026 non-null  uint8  \n",
      " 46  E3                          1341026 non-null  uint8  \n",
      " 47  E4                          1341026 non-null  uint8  \n",
      " 48  E5                          1341026 non-null  uint8  \n",
      " 49  F1                          1341026 non-null  uint8  \n",
      " 50  F2                          1341026 non-null  uint8  \n",
      " 51  F3                          1341026 non-null  uint8  \n",
      " 52  F4                          1341026 non-null  uint8  \n",
      " 53  F5                          1341026 non-null  uint8  \n",
      " 54  G1                          1341026 non-null  uint8  \n",
      " 55  G2                          1341026 non-null  uint8  \n",
      " 56  G3                          1341026 non-null  uint8  \n",
      " 57  G4                          1341026 non-null  uint8  \n",
      " 58  G5                          1341026 non-null  uint8  \n",
      " 59  Source Verified             1341026 non-null  uint8  \n",
      " 60  Verified                    1341026 non-null  uint8  \n",
      " 61  Joint App                   1341026 non-null  uint8  \n",
      " 62  w                           1341026 non-null  uint8  \n",
      " 63  credit_card                 1341026 non-null  uint8  \n",
      " 64  debt_consolidation          1341026 non-null  uint8  \n",
      " 65  educational                 1341026 non-null  uint8  \n",
      " 66  home_improvement            1341026 non-null  uint8  \n",
      " 67  house                       1341026 non-null  uint8  \n",
      " 68  major_purchase              1341026 non-null  uint8  \n",
      " 69  medical                     1341026 non-null  uint8  \n",
      " 70  moving                      1341026 non-null  uint8  \n",
      " 71  other                       1341026 non-null  uint8  \n",
      " 72  renewable_energy            1341026 non-null  uint8  \n",
      " 73  small_business              1341026 non-null  uint8  \n",
      " 74  vacation                    1341026 non-null  uint8  \n",
      " 75  wedding                     1341026 non-null  uint8  \n",
      " 76  MORTGAGE                    1341026 non-null  uint8  \n",
      " 77  OTHER                       1341026 non-null  uint8  \n",
      " 78  OWN                         1341026 non-null  uint8  \n",
      " 79  RENT                        1341026 non-null  uint8  \n",
      " 80  DirectPay                   1341026 non-null  uint8  \n",
      " 81  Y                           1341026 non-null  uint8  \n",
      "dtypes: float64(23), int64(2), uint8(57)\n",
      "memory usage: 338.9 MB\n"
     ]
    }
   ],
   "source": [
    "# Info\n",
    "df_aprovado.info()"
   ]
  },
  {
   "cell_type": "markdown",
   "metadata": {},
   "source": [
    "## Modelagem Preditiva"
   ]
  },
  {
   "cell_type": "markdown",
   "metadata": {},
   "source": [
    "Agora trabalhamos na modelagem preditiva!"
   ]
  },
  {
   "cell_type": "code",
   "execution_count": 78,
   "metadata": {},
   "outputs": [],
   "source": [
    "# Começamos separando as variáveis X (entrada) e y (saída)\n",
    "df = df_aprovado.copy()\n",
    "X = df.loc[:, df.columns != 'loan_paid'].values\n",
    "y = df.loan_paid.values"
   ]
  },
  {
   "cell_type": "code",
   "execution_count": 79,
   "metadata": {},
   "outputs": [],
   "source": [
    "# Divisão em dados de treino e teste com proporção 80/20\n",
    "X_treino, X_teste, y_treino, y_teste = train_test_split(X, y, test_size = 0.2, random_state = 42)"
   ]
  },
  {
   "cell_type": "markdown",
   "metadata": {},
   "source": [
    "Precisamos padronizar os dados e colocá-los na mesma escala."
   ]
  },
  {
   "cell_type": "code",
   "execution_count": 80,
   "metadata": {},
   "outputs": [
    {
     "data": {
      "text/html": [
       "<div>\n",
       "<style scoped>\n",
       "    .dataframe tbody tr th:only-of-type {\n",
       "        vertical-align: middle;\n",
       "    }\n",
       "\n",
       "    .dataframe tbody tr th {\n",
       "        vertical-align: top;\n",
       "    }\n",
       "\n",
       "    .dataframe thead th {\n",
       "        text-align: right;\n",
       "    }\n",
       "</style>\n",
       "<table border=\"1\" class=\"dataframe\">\n",
       "  <thead>\n",
       "    <tr style=\"text-align: right;\">\n",
       "      <th></th>\n",
       "      <th>loan_amnt</th>\n",
       "      <th>term</th>\n",
       "      <th>int_rate</th>\n",
       "      <th>annual_inc</th>\n",
       "      <th>dti</th>\n",
       "      <th>delinq_2yrs</th>\n",
       "      <th>fico_range_high</th>\n",
       "      <th>inq_last_6mths</th>\n",
       "      <th>open_acc</th>\n",
       "      <th>pub_rec</th>\n",
       "      <th>...</th>\n",
       "      <th>renewable_energy</th>\n",
       "      <th>small_business</th>\n",
       "      <th>vacation</th>\n",
       "      <th>wedding</th>\n",
       "      <th>MORTGAGE</th>\n",
       "      <th>OTHER</th>\n",
       "      <th>OWN</th>\n",
       "      <th>RENT</th>\n",
       "      <th>DirectPay</th>\n",
       "      <th>Y</th>\n",
       "    </tr>\n",
       "  </thead>\n",
       "  <tbody>\n",
       "    <tr>\n",
       "      <th>0</th>\n",
       "      <td>3600.0</td>\n",
       "      <td>36</td>\n",
       "      <td>13.99</td>\n",
       "      <td>55000.0</td>\n",
       "      <td>5.91</td>\n",
       "      <td>0.0</td>\n",
       "      <td>679.0</td>\n",
       "      <td>1.0</td>\n",
       "      <td>7.0</td>\n",
       "      <td>0.0</td>\n",
       "      <td>...</td>\n",
       "      <td>0</td>\n",
       "      <td>0</td>\n",
       "      <td>0</td>\n",
       "      <td>0</td>\n",
       "      <td>1</td>\n",
       "      <td>0</td>\n",
       "      <td>0</td>\n",
       "      <td>0</td>\n",
       "      <td>0</td>\n",
       "      <td>0</td>\n",
       "    </tr>\n",
       "    <tr>\n",
       "      <th>1</th>\n",
       "      <td>24700.0</td>\n",
       "      <td>36</td>\n",
       "      <td>11.99</td>\n",
       "      <td>65000.0</td>\n",
       "      <td>16.06</td>\n",
       "      <td>1.0</td>\n",
       "      <td>719.0</td>\n",
       "      <td>4.0</td>\n",
       "      <td>22.0</td>\n",
       "      <td>0.0</td>\n",
       "      <td>...</td>\n",
       "      <td>0</td>\n",
       "      <td>1</td>\n",
       "      <td>0</td>\n",
       "      <td>0</td>\n",
       "      <td>1</td>\n",
       "      <td>0</td>\n",
       "      <td>0</td>\n",
       "      <td>0</td>\n",
       "      <td>0</td>\n",
       "      <td>0</td>\n",
       "    </tr>\n",
       "    <tr>\n",
       "      <th>2</th>\n",
       "      <td>20000.0</td>\n",
       "      <td>60</td>\n",
       "      <td>10.78</td>\n",
       "      <td>63000.0</td>\n",
       "      <td>10.78</td>\n",
       "      <td>0.0</td>\n",
       "      <td>699.0</td>\n",
       "      <td>0.0</td>\n",
       "      <td>6.0</td>\n",
       "      <td>0.0</td>\n",
       "      <td>...</td>\n",
       "      <td>0</td>\n",
       "      <td>0</td>\n",
       "      <td>0</td>\n",
       "      <td>0</td>\n",
       "      <td>1</td>\n",
       "      <td>0</td>\n",
       "      <td>0</td>\n",
       "      <td>0</td>\n",
       "      <td>0</td>\n",
       "      <td>0</td>\n",
       "    </tr>\n",
       "    <tr>\n",
       "      <th>4</th>\n",
       "      <td>10400.0</td>\n",
       "      <td>60</td>\n",
       "      <td>22.45</td>\n",
       "      <td>104433.0</td>\n",
       "      <td>25.37</td>\n",
       "      <td>1.0</td>\n",
       "      <td>699.0</td>\n",
       "      <td>3.0</td>\n",
       "      <td>12.0</td>\n",
       "      <td>0.0</td>\n",
       "      <td>...</td>\n",
       "      <td>0</td>\n",
       "      <td>0</td>\n",
       "      <td>0</td>\n",
       "      <td>0</td>\n",
       "      <td>1</td>\n",
       "      <td>0</td>\n",
       "      <td>0</td>\n",
       "      <td>0</td>\n",
       "      <td>0</td>\n",
       "      <td>0</td>\n",
       "    </tr>\n",
       "    <tr>\n",
       "      <th>5</th>\n",
       "      <td>11950.0</td>\n",
       "      <td>36</td>\n",
       "      <td>13.44</td>\n",
       "      <td>34000.0</td>\n",
       "      <td>10.20</td>\n",
       "      <td>0.0</td>\n",
       "      <td>694.0</td>\n",
       "      <td>0.0</td>\n",
       "      <td>5.0</td>\n",
       "      <td>0.0</td>\n",
       "      <td>...</td>\n",
       "      <td>0</td>\n",
       "      <td>0</td>\n",
       "      <td>0</td>\n",
       "      <td>0</td>\n",
       "      <td>0</td>\n",
       "      <td>0</td>\n",
       "      <td>0</td>\n",
       "      <td>1</td>\n",
       "      <td>0</td>\n",
       "      <td>0</td>\n",
       "    </tr>\n",
       "  </tbody>\n",
       "</table>\n",
       "<p>5 rows × 82 columns</p>\n",
       "</div>"
      ],
      "text/plain": [
       "   loan_amnt  term  int_rate  annual_inc    dti  delinq_2yrs  fico_range_high  \\\n",
       "0     3600.0    36     13.99     55000.0   5.91          0.0            679.0   \n",
       "1    24700.0    36     11.99     65000.0  16.06          1.0            719.0   \n",
       "2    20000.0    60     10.78     63000.0  10.78          0.0            699.0   \n",
       "4    10400.0    60     22.45    104433.0  25.37          1.0            699.0   \n",
       "5    11950.0    36     13.44     34000.0  10.20          0.0            694.0   \n",
       "\n",
       "   inq_last_6mths  open_acc  pub_rec  ...  renewable_energy  small_business  \\\n",
       "0             1.0       7.0      0.0  ...                 0               0   \n",
       "1             4.0      22.0      0.0  ...                 0               1   \n",
       "2             0.0       6.0      0.0  ...                 0               0   \n",
       "4             3.0      12.0      0.0  ...                 0               0   \n",
       "5             0.0       5.0      0.0  ...                 0               0   \n",
       "\n",
       "   vacation  wedding  MORTGAGE  OTHER  OWN  RENT  DirectPay  Y  \n",
       "0         0        0         1      0    0     0          0  0  \n",
       "1         0        0         1      0    0     0          0  0  \n",
       "2         0        0         1      0    0     0          0  0  \n",
       "4         0        0         1      0    0     0          0  0  \n",
       "5         0        0         0      0    0     1          0  0  \n",
       "\n",
       "[5 rows x 82 columns]"
      ]
     },
     "execution_count": 80,
     "metadata": {},
     "output_type": "execute_result"
    }
   ],
   "source": [
    "# Visualiza os dados\n",
    "df_aprovado.head()"
   ]
  },
  {
   "cell_type": "code",
   "execution_count": 81,
   "metadata": {},
   "outputs": [],
   "source": [
    "# Cria o scaler\n",
    "scaler = MinMaxScaler()"
   ]
  },
  {
   "cell_type": "code",
   "execution_count": 82,
   "metadata": {},
   "outputs": [],
   "source": [
    "# Fit e transform em treino\n",
    "X_treino = scaler.fit_transform(X_treino)\n",
    "\n",
    "# Somente transform em teste\n",
    "X_teste = scaler.transform(X_teste)"
   ]
  },
  {
   "cell_type": "code",
   "execution_count": 83,
   "metadata": {},
   "outputs": [
    {
     "name": "stdout",
     "output_type": "stream",
     "text": [
      "(1072820, 81)\n",
      "(268206, 81)\n"
     ]
    }
   ],
   "source": [
    "print(X_treino.shape)\n",
    "print(X_teste.shape)"
   ]
  },
  {
   "cell_type": "markdown",
   "metadata": {},
   "source": [
    "### Construção do Modelo"
   ]
  },
  {
   "cell_type": "markdown",
   "metadata": {},
   "source": [
    "www.deeplearningbook.com.br"
   ]
  },
  {
   "cell_type": "code",
   "execution_count": 84,
   "metadata": {},
   "outputs": [],
   "source": [
    "# Modelo\n",
    "modelo = Sequential()\n",
    "modelo.add(Dense(units = 78, activation = 'relu'))\n",
    "modelo.add(Dense(units = 39, activation = 'relu'))\n",
    "modelo.add(Dense(units = 19, activation = 'relu'))\n",
    "modelo.add(Dense(units = 8, activation = 'relu'))\n",
    "modelo.add(Dense(units = 4, activation = 'relu'))\n",
    "modelo.add(Dense(units = 1, activation = 'sigmoid'))"
   ]
  },
  {
   "cell_type": "code",
   "execution_count": 85,
   "metadata": {},
   "outputs": [],
   "source": [
    "# Compilação do modelo\n",
    "modelo.compile(optimizer = 'adam', loss = 'binary_crossentropy', metrics = ['accuracy'])"
   ]
  },
  {
   "cell_type": "code",
   "execution_count": 86,
   "metadata": {},
   "outputs": [
    {
     "name": "stdout",
     "output_type": "stream",
     "text": [
      "Epoch 1/40\n",
      "2096/2096 [==============================] - 6s 2ms/step - loss: 0.1970 - accuracy: 0.9153 - val_loss: 0.0821 - val_accuracy: 0.9677\n",
      "Epoch 2/40\n",
      "2096/2096 [==============================] - 4s 2ms/step - loss: 0.0811 - accuracy: 0.9683 - val_loss: 0.0827 - val_accuracy: 0.9672\n",
      "Epoch 3/40\n",
      "2096/2096 [==============================] - 3s 2ms/step - loss: 0.0721 - accuracy: 0.9720 - val_loss: 0.0743 - val_accuracy: 0.9712\n",
      "Epoch 4/40\n",
      "2096/2096 [==============================] - 4s 2ms/step - loss: 0.0675 - accuracy: 0.9743 - val_loss: 0.0625 - val_accuracy: 0.9764\n",
      "Epoch 5/40\n",
      "2096/2096 [==============================] - 4s 2ms/step - loss: 0.0635 - accuracy: 0.9759 - val_loss: 0.0651 - val_accuracy: 0.9754\n",
      "Epoch 6/40\n",
      "2096/2096 [==============================] - 3s 2ms/step - loss: 0.0607 - accuracy: 0.9772 - val_loss: 0.0586 - val_accuracy: 0.9782\n",
      "Epoch 7/40\n",
      "2096/2096 [==============================] - 4s 2ms/step - loss: 0.0576 - accuracy: 0.9788 - val_loss: 0.0554 - val_accuracy: 0.9799\n",
      "Epoch 8/40\n",
      "2096/2096 [==============================] - 4s 2ms/step - loss: 0.0542 - accuracy: 0.9801 - val_loss: 0.0607 - val_accuracy: 0.9772\n",
      "Epoch 9/40\n",
      "2096/2096 [==============================] - 5s 2ms/step - loss: 0.0529 - accuracy: 0.9807 - val_loss: 0.0519 - val_accuracy: 0.9815\n",
      "Epoch 10/40\n",
      "2096/2096 [==============================] - 4s 2ms/step - loss: 0.0510 - accuracy: 0.9815 - val_loss: 0.0504 - val_accuracy: 0.9818\n",
      "Epoch 11/40\n",
      "2096/2096 [==============================] - 3s 2ms/step - loss: 0.0484 - accuracy: 0.9824 - val_loss: 0.0503 - val_accuracy: 0.9813\n",
      "Epoch 12/40\n",
      "2096/2096 [==============================] - 5s 2ms/step - loss: 0.0463 - accuracy: 0.9832 - val_loss: 0.0439 - val_accuracy: 0.9841\n",
      "Epoch 13/40\n",
      "2096/2096 [==============================] - 4s 2ms/step - loss: 0.0438 - accuracy: 0.9840 - val_loss: 0.0480 - val_accuracy: 0.9827\n",
      "Epoch 14/40\n",
      "2096/2096 [==============================] - 4s 2ms/step - loss: 0.0419 - accuracy: 0.9847 - val_loss: 0.0415 - val_accuracy: 0.9849\n",
      "Epoch 15/40\n",
      "2096/2096 [==============================] - 4s 2ms/step - loss: 0.0388 - accuracy: 0.9858 - val_loss: 0.0402 - val_accuracy: 0.9854\n",
      "Epoch 16/40\n",
      "2096/2096 [==============================] - 4s 2ms/step - loss: 0.0377 - accuracy: 0.9864 - val_loss: 0.0368 - val_accuracy: 0.9868\n",
      "Epoch 17/40\n",
      "2096/2096 [==============================] - 4s 2ms/step - loss: 0.0366 - accuracy: 0.9866 - val_loss: 0.0379 - val_accuracy: 0.9864\n",
      "Epoch 18/40\n",
      "2096/2096 [==============================] - 4s 2ms/step - loss: 0.0355 - accuracy: 0.9872 - val_loss: 0.0375 - val_accuracy: 0.9864\n",
      "Epoch 19/40\n",
      "2096/2096 [==============================] - 4s 2ms/step - loss: 0.0345 - accuracy: 0.9875 - val_loss: 0.0347 - val_accuracy: 0.9874\n",
      "Epoch 20/40\n",
      "2096/2096 [==============================] - 4s 2ms/step - loss: 0.0341 - accuracy: 0.9877 - val_loss: 0.0353 - val_accuracy: 0.9872\n",
      "Epoch 21/40\n",
      "2096/2096 [==============================] - 4s 2ms/step - loss: 0.0340 - accuracy: 0.9876 - val_loss: 0.0346 - val_accuracy: 0.9874\n",
      "Epoch 22/40\n",
      "2096/2096 [==============================] - 4s 2ms/step - loss: 0.0324 - accuracy: 0.9883 - val_loss: 0.0346 - val_accuracy: 0.9877\n",
      "Epoch 23/40\n",
      "2096/2096 [==============================] - 4s 2ms/step - loss: 0.0330 - accuracy: 0.9881 - val_loss: 0.0361 - val_accuracy: 0.9872\n",
      "Epoch 24/40\n",
      "2096/2096 [==============================] - 4s 2ms/step - loss: 0.0321 - accuracy: 0.9885 - val_loss: 0.0353 - val_accuracy: 0.9872\n",
      "Epoch 25/40\n",
      "2096/2096 [==============================] - 4s 2ms/step - loss: 0.0318 - accuracy: 0.9885 - val_loss: 0.0332 - val_accuracy: 0.9881\n",
      "Epoch 26/40\n",
      "2096/2096 [==============================] - 4s 2ms/step - loss: 0.0315 - accuracy: 0.9885 - val_loss: 0.0363 - val_accuracy: 0.9868\n",
      "Epoch 27/40\n",
      "2096/2096 [==============================] - 4s 2ms/step - loss: 0.0314 - accuracy: 0.9887 - val_loss: 0.0338 - val_accuracy: 0.9879\n",
      "Epoch 28/40\n",
      "2096/2096 [==============================] - 4s 2ms/step - loss: 0.0305 - accuracy: 0.9891 - val_loss: 0.0313 - val_accuracy: 0.9887\n",
      "Epoch 29/40\n",
      "2096/2096 [==============================] - 4s 2ms/step - loss: 0.0300 - accuracy: 0.9891 - val_loss: 0.0317 - val_accuracy: 0.9886\n",
      "Epoch 30/40\n",
      "2096/2096 [==============================] - 4s 2ms/step - loss: 0.0303 - accuracy: 0.9890 - val_loss: 0.0315 - val_accuracy: 0.9887\n",
      "Epoch 31/40\n",
      "2096/2096 [==============================] - 4s 2ms/step - loss: 0.0295 - accuracy: 0.9894 - val_loss: 0.0318 - val_accuracy: 0.9889\n",
      "Epoch 32/40\n",
      "2096/2096 [==============================] - 4s 2ms/step - loss: 0.0291 - accuracy: 0.9896 - val_loss: 0.0329 - val_accuracy: 0.9881\n",
      "Epoch 33/40\n",
      "2096/2096 [==============================] - 4s 2ms/step - loss: 0.0291 - accuracy: 0.9895 - val_loss: 0.0328 - val_accuracy: 0.9882\n",
      "Epoch 34/40\n",
      "2096/2096 [==============================] - 4s 2ms/step - loss: 0.0285 - accuracy: 0.9896 - val_loss: 0.0317 - val_accuracy: 0.9889\n",
      "Epoch 35/40\n",
      "2096/2096 [==============================] - 4s 2ms/step - loss: 0.0285 - accuracy: 0.9897 - val_loss: 0.0333 - val_accuracy: 0.9882\n",
      "Epoch 36/40\n",
      "2096/2096 [==============================] - 4s 2ms/step - loss: 0.0288 - accuracy: 0.9895 - val_loss: 0.0319 - val_accuracy: 0.9887\n",
      "Epoch 37/40\n",
      "2096/2096 [==============================] - 4s 2ms/step - loss: 0.0273 - accuracy: 0.9902 - val_loss: 0.0309 - val_accuracy: 0.9892\n",
      "Epoch 38/40\n",
      "2096/2096 [==============================] - 4s 2ms/step - loss: 0.0274 - accuracy: 0.9902 - val_loss: 0.0300 - val_accuracy: 0.9895\n",
      "Epoch 39/40\n",
      "2096/2096 [==============================] - 4s 2ms/step - loss: 0.0279 - accuracy: 0.9900 - val_loss: 0.0286 - val_accuracy: 0.9901\n",
      "Epoch 40/40\n",
      "2096/2096 [==============================] - 4s 2ms/step - loss: 0.0273 - accuracy: 0.9900 - val_loss: 0.0297 - val_accuracy: 0.9895\n"
     ]
    },
    {
     "data": {
      "text/plain": [
       "<tensorflow.python.keras.callbacks.History at 0x7ffab79490d0>"
      ]
     },
     "execution_count": 86,
     "metadata": {},
     "output_type": "execute_result"
    }
   ],
   "source": [
    "# Treinamento do modelo\n",
    "modelo.fit(x = X_treino, \n",
    "           y = y_treino, \n",
    "           epochs = 40,\n",
    "           batch_size = 512,\n",
    "           validation_data = (X_teste, y_teste), \n",
    "           verbose = 1)"
   ]
  },
  {
   "cell_type": "code",
   "execution_count": 87,
   "metadata": {},
   "outputs": [
    {
     "name": "stdout",
     "output_type": "stream",
     "text": [
      "Model: \"sequential\"\n",
      "_________________________________________________________________\n",
      "Layer (type)                 Output Shape              Param #   \n",
      "=================================================================\n",
      "dense (Dense)                (None, 78)                6396      \n",
      "_________________________________________________________________\n",
      "dense_1 (Dense)              (None, 39)                3081      \n",
      "_________________________________________________________________\n",
      "dense_2 (Dense)              (None, 19)                760       \n",
      "_________________________________________________________________\n",
      "dense_3 (Dense)              (None, 8)                 160       \n",
      "_________________________________________________________________\n",
      "dense_4 (Dense)              (None, 4)                 36        \n",
      "_________________________________________________________________\n",
      "dense_5 (Dense)              (None, 1)                 5         \n",
      "=================================================================\n",
      "Total params: 10,438\n",
      "Trainable params: 10,438\n",
      "Non-trainable params: 0\n",
      "_________________________________________________________________\n"
     ]
    }
   ],
   "source": [
    "# Sumário\n",
    "modelo.summary()"
   ]
  },
  {
   "cell_type": "markdown",
   "metadata": {},
   "source": [
    "### Avaliação do Modelo"
   ]
  },
  {
   "cell_type": "code",
   "execution_count": 88,
   "metadata": {},
   "outputs": [],
   "source": [
    "# Erros do modelo\n",
    "losses = pd.DataFrame(modelo.history.history)"
   ]
  },
  {
   "cell_type": "code",
   "execution_count": 89,
   "metadata": {},
   "outputs": [
    {
     "data": {
      "text/plain": [
       "<AxesSubplot:>"
      ]
     },
     "execution_count": 89,
     "metadata": {},
     "output_type": "execute_result"
    },
    {
     "data": {
      "image/png": "[encoded data removed]",
      "text/plain": [
       "<Figure size 432x288 with 1 Axes>"
      ]
     },
     "metadata": {
      "needs_background": "light"
     },
     "output_type": "display_data"
    }
   ],
   "source": [
    "# Plot do erro\n",
    "losses[['loss','val_loss']].plot()"
   ]
  },
  {
   "cell_type": "code",
   "execution_count": 90,
   "metadata": {},
   "outputs": [
    {
     "data": {
      "text/plain": [
       "<AxesSubplot:>"
      ]
     },
     "execution_count": 90,
     "metadata": {},
     "output_type": "execute_result"
    },
    {
     "data": {
      "image/png": "[encoded data removed]",
      "text/plain": [
       "<Figure size 432x288 with 1 Axes>"
      ]
     },
     "metadata": {
      "needs_background": "light"
     },
     "output_type": "display_data"
    }
   ],
   "source": [
    "# Plot da acurácia\n",
    "losses[['accuracy','val_accuracy']].plot()"
   ]
  },
  {
   "cell_type": "code",
   "execution_count": 91,
   "metadata": {},
   "outputs": [],
   "source": [
    "# Previsões\n",
    "previsoes = (modelo.predict(X_teste) > 0.5).astype(\"int32\")"
   ]
  },
  {
   "cell_type": "code",
   "execution_count": 92,
   "metadata": {},
   "outputs": [
    {
     "name": "stdout",
     "output_type": "stream",
     "text": [
      "              precision    recall  f1-score   support\n",
      "\n",
      "           0       0.97      0.97      0.97     53089\n",
      "           1       0.99      0.99      0.99    215117\n",
      "\n",
      "    accuracy                           0.99    268206\n",
      "   macro avg       0.98      0.98      0.98    268206\n",
      "weighted avg       0.99      0.99      0.99    268206\n",
      "\n"
     ]
    }
   ],
   "source": [
    "print(classification_report(y_teste, previsoes))"
   ]
  },
  {
   "cell_type": "code",
   "execution_count": 93,
   "metadata": {},
   "outputs": [
    {
     "data": {
      "text/html": [
       "<div>\n",
       "<style scoped>\n",
       "    .dataframe tbody tr th:only-of-type {\n",
       "        vertical-align: middle;\n",
       "    }\n",
       "\n",
       "    .dataframe tbody tr th {\n",
       "        vertical-align: top;\n",
       "    }\n",
       "\n",
       "    .dataframe thead th {\n",
       "        text-align: right;\n",
       "    }\n",
       "</style>\n",
       "<table border=\"1\" class=\"dataframe\">\n",
       "  <thead>\n",
       "    <tr style=\"text-align: right;\">\n",
       "      <th></th>\n",
       "      <th>0</th>\n",
       "      <th>1</th>\n",
       "    </tr>\n",
       "  </thead>\n",
       "  <tbody>\n",
       "    <tr>\n",
       "      <th>0</th>\n",
       "      <td>51622</td>\n",
       "      <td>1467</td>\n",
       "    </tr>\n",
       "    <tr>\n",
       "      <th>1</th>\n",
       "      <td>1344</td>\n",
       "      <td>213773</td>\n",
       "    </tr>\n",
       "  </tbody>\n",
       "</table>\n",
       "</div>"
      ],
      "text/plain": [
       "       0       1\n",
       "0  51622    1467\n",
       "1   1344  213773"
      ]
     },
     "execution_count": 93,
     "metadata": {},
     "output_type": "execute_result"
    }
   ],
   "source": [
    "# Matriz de confusão\n",
    "pd.DataFrame(confusion_matrix(y_teste, previsoes))"
   ]
  },
  {
   "cell_type": "markdown",
   "metadata": {},
   "source": [
    "## Previsões com um Novo Usuário"
   ]
  },
  {
   "cell_type": "code",
   "execution_count": 94,
   "metadata": {},
   "outputs": [
    {
     "data": {
      "text/plain": [
       "loan_amnt      29675.00\n",
       "term              36.00\n",
       "int_rate          10.99\n",
       "annual_inc    125565.00\n",
       "dti                7.67\n",
       "                ...    \n",
       "OTHER              0.00\n",
       "OWN                0.00\n",
       "RENT               0.00\n",
       "DirectPay          0.00\n",
       "Y                  0.00\n",
       "Name: 1218764, Length: 81, dtype: float64"
      ]
     },
     "execution_count": 94,
     "metadata": {},
     "output_type": "execute_result"
    }
   ],
   "source": [
    "import random\n",
    "\n",
    "df_aprovado = df_aprovado.reset_index(drop=True)\n",
    "\n",
    "random.seed(101)\n",
    "random_ind = random.randint(0,len(df_aprovado))\n",
    "\n",
    "novo_usuario = df_aprovado.drop('loan_paid', axis = 1).iloc[random_ind]\n",
    "novo_usuario"
   ]
  },
  {
   "cell_type": "code",
   "execution_count": 95,
   "metadata": {},
   "outputs": [],
   "source": [
    "# Padroniza os dados do novo usuário\n",
    "novo_c = scaler.transform(novo_usuario.values.reshape(1,81))"
   ]
  },
  {
   "cell_type": "code",
   "execution_count": 96,
   "metadata": {},
   "outputs": [
    {
     "name": "stdout",
     "output_type": "stream",
     "text": [
      "Clube do Empréstimo - Previsão de Pagamento Para Novo Usuário (1 - vai pagar / 0 - não vai pagar)\n",
      "Previsão do Modelo Para Este Usuário: 1\n"
     ]
    }
   ],
   "source": [
    "print(f\"Clube do Empréstimo - Previsão de Pagamento Para Novo Usuário (1 - vai pagar / 0 - não vai pagar)\")\n",
    "print(f\"Previsão do Modelo Para Este Usuário: {(modelo.predict(novo_c) > 0.5).astype('int32')[0][0]}\")"
   ]
  },
  {
   "cell_type": "code",
   "execution_count": 97,
   "metadata": {},
   "outputs": [
    {
     "data": {
      "text/plain": [
       "1"
      ]
     },
     "execution_count": 97,
     "metadata": {},
     "output_type": "execute_result"
    }
   ],
   "source": [
    "# Vamos verificar o status histórico desse usuário\n",
    "df_aprovado.loc[random_ind, 'loan_paid']"
   ]
  },
  {
   "cell_type": "markdown",
   "metadata": {},
   "source": [
    "# Fim"
   ]
  }
 ],
 "metadata": {
  "kernelspec": {
   "display_name": "Python 3",
   "language": "python",
   "name": "python3"
  },
  "language_info": {
   "codemirror_mode": {
    "name": "ipython",
    "version": 3
   },
   "file_extension": ".py",
   "mimetype": "text/x-python",
   "name": "python",
   "nbconvert_exporter": "python",
   "pygments_lexer": "ipython3",
   "version": "3.8.5"
  }
 },
 "nbformat": 4,
 "nbformat_minor": 4
}
