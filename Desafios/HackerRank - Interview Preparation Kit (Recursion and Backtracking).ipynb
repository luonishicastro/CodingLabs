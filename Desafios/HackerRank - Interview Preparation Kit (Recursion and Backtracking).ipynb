{
 "cells": [
  {
   "cell_type": "markdown",
   "metadata": {},
   "source": [
    "<h3>Recursion: Fibonacci Numbers</h3>"
   ]
  },
  {
   "cell_type": "markdown",
   "metadata": {},
   "source": [
    "<i>\n",
    "The Fibonacci Sequence\n",
    "\n",
    "The Fibonacci sequence appears in nature all around us, in the arrangement of seeds in a sunflower and the spiral of a nautilus for example.\n",
    "\n",
    "The Fibonacci sequence begins with $fibonacci(0) = 0$ and $fibonacci(1) = 1$ as its first and second terms. After these first two elements, each subsequent element is equal to the sum of the previous two elements.\n",
    "\n",
    "Programmatically:\n",
    "* $fibonacci(0) = 0$\n",
    "* $fibonacci(1) = 1$\n",
    "* $fibonacci(n) = fibonacci(n-1) + fibonacci(n-2)$\n",
    "\n",
    "Given $n$, return the $n^{th}$ number in the sequence.\n",
    "\n",
    "As an example, $n=5$. The Fibonacci sequence to %6% is $fs = [0, 1, 1, 2, 3, 5, 8]$. With zero-based indexing, $fs[5]=5$.\n",
    "</i>"
   ]
  },
  {
   "cell_type": "markdown",
   "metadata": {},
   "source": [
    "<b>Function Description</b>"
   ]
  },
  {
   "cell_type": "markdown",
   "metadata": {},
   "source": [
    "<i>Complete the recursive function $fibonacci$ in the editor below. It must return the $n^{th}$ element in the Fibonacci sequence.\n",
    "\n",
    "fibonacci has the following parameter(s):\n",
    "\n",
    "* n: the integer index of the sequence to return</i>"
   ]
  },
  {
   "cell_type": "markdown",
   "metadata": {},
   "source": [
    "<b>Input Format</b>"
   ]
  },
  {
   "cell_type": "markdown",
   "metadata": {},
   "source": [
    "<i>The input line contains a single integer, $n$.</i>"
   ]
  },
  {
   "cell_type": "markdown",
   "metadata": {},
   "source": [
    "<b>Constraints</b>"
   ]
  },
  {
   "cell_type": "markdown",
   "metadata": {},
   "source": [
    "* $0 \\leq n \\leq 30$"
   ]
  },
  {
   "cell_type": "markdown",
   "metadata": {},
   "source": [
    "<b>Output Format</b>"
   ]
  },
  {
   "cell_type": "markdown",
   "metadata": {},
   "source": [
    "<i>Locked stub code in the editor prints the integer value returned by the $fibonacci$ function.</i>"
   ]
  },
  {
   "cell_type": "markdown",
   "metadata": {},
   "source": [
    "<b>Sample Input</b>"
   ]
  },
  {
   "cell_type": "code",
   "execution_count": 2,
   "metadata": {},
   "outputs": [
    {
     "data": {
      "text/plain": [
       "'\\n3\\n'"
      ]
     },
     "execution_count": 2,
     "metadata": {},
     "output_type": "execute_result"
    }
   ],
   "source": [
    "'''\n",
    "3\n",
    "'''"
   ]
  },
  {
   "cell_type": "markdown",
   "metadata": {},
   "source": [
    "<b>Sample Output</b>"
   ]
  },
  {
   "cell_type": "code",
   "execution_count": 3,
   "metadata": {},
   "outputs": [
    {
     "data": {
      "text/plain": [
       "'\\n2\\n'"
      ]
     },
     "execution_count": 3,
     "metadata": {},
     "output_type": "execute_result"
    }
   ],
   "source": [
    "'''\n",
    "2\n",
    "'''"
   ]
  },
  {
   "cell_type": "markdown",
   "metadata": {},
   "source": [
    "<b>Explanation</b>"
   ]
  },
  {
   "cell_type": "markdown",
   "metadata": {},
   "source": [
    "<i>The Fibonacci sequence begins as follows:\n",
    "<br>\n",
    "$fibonacci(0) = 0$\n",
    "<br>\n",
    "$fibonacci(1) = 1$\n",
    "<br>\n",
    "$fibonacci(2) = (0 + 1) = 1$\n",
    "<br>\n",
    "$fibonacci(3) = (1 + 1) = 2$\n",
    "<br>\n",
    "$fibonacci(4) = (1 + 2) = 3$\n",
    "<br>\n",
    "$fibonacci(5) = (2 + 3) = 5$\n",
    "<br>\n",
    "$fibonacci(6) = (3 + 5) = 8$\n",
    "<br>\n",
    "$...$\n",
    "<br>\n",
    "We want to know the value of $fibonacci(3)$. In the sequence above, $fibonacci(3)$ evaluates to $2$.\n",
    "</i>"
   ]
  },
  {
   "cell_type": "code",
   "execution_count": 5,
   "metadata": {},
   "outputs": [
    {
     "name": "stdout",
     "output_type": "stream",
     "text": [
      "3\n",
      "0\n"
     ]
    }
   ],
   "source": [
    "def fibonacci(n):\n",
    "    return 0\n",
    "    # Write your code here.\n",
    "\n",
    "n = int(input())\n",
    "print(fibonacci(n))"
   ]
  },
  {
   "cell_type": "code",
   "execution_count": null,
   "metadata": {},
   "outputs": [],
   "source": []
  }
 ],
 "metadata": {
  "kernelspec": {
   "display_name": "Python 3",
   "language": "python",
   "name": "python3"
  },
  "language_info": {
   "codemirror_mode": {
    "name": "ipython",
    "version": 3
   },
   "file_extension": ".py",
   "mimetype": "text/x-python",
   "name": "python",
   "nbconvert_exporter": "python",
   "pygments_lexer": "ipython3",
   "version": "3.7.4"
  }
 },
 "nbformat": 4,
 "nbformat_minor": 2
}
