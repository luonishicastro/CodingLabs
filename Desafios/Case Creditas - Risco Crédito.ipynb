{
 "cells": [
  {
   "cell_type": "markdown",
   "metadata": {},
   "source": [
    "<b>Problema 1</b> - O arquivo loan_tape_port.xlsx contém a informação de um portfolio de crédito em detalhe a nível de parcela. Você precisará construir um código em Python que:\n",
    "* Importe a tab Loan_Tape do arquivo.\n",
    "* Calcule a taxa efetiva por contrato.\n",
    "* Calcule os dias em atraso do contrato em função de uma data referência.\n",
    "* Calcule o saldo devedor de cada contrato em função de uma data referência.\n",
    "* Calcule quanto de caixa foi recebido em função da data de referência.\n",
    "* Exporte um arquivo em csv que gere uma visão mensal de Jan-18 até Dez-19 da evolução por contrato contendo as colunas: (DATA_REF: Data de Referência; LOAN_ID: Identificador do contrato; VL_OUTSTANDING: Saldo Devedor; DAYS_IN_ARREARS: Dias de Atraso do Contrato; CASHFLOW_AMOUNT: Quanto foi recebido até o momento)\n",
    "\n",
    "<b>GLOSSÁRIO</b> <br>\n",
    "<b>Taxa Efetiva:</b> A TIR diária do contrato calculada a partir do do Valor Financiado (Saída de Caixa) com as Parcelas Futuras (Entradas de Caixa) na data de concessão de crédito.\n",
    "\n",
    "<b>Saldo Devedor:</b> É o Valor Presente pela Taxa Efetiva do Valor de Face das Parcelas em Aberto na data de referência.\n",
    "\n",
    "<b>Dias em Atraso:</b> Diferença entre a e Data de Referência e a Data de Vencimento da Parcela, sempre contabilizado pela parcela mais atrasada."
   ]
  },
  {
   "cell_type": "code",
   "execution_count": null,
   "metadata": {},
   "outputs": [],
   "source": []
  },
  {
   "cell_type": "markdown",
   "metadata": {},
   "source": [
    "<b>Problema 2</b> - Construa um crawler em Python que a partir de uma data de referência obtém a Curva de Juros do dia(fonte: https://www2.bmf.com.br/pages/portal/bmfbovespa/boletim1/TxRef1.asp).\n",
    "\n",
    "Retorne um dataframe em pandas contendo as colunas:\n",
    "* DIAS_CORRIDOS\n",
    "* TAXA_252\n",
    "* TAXA_360"
   ]
  },
  {
   "cell_type": "code",
   "execution_count": null,
   "metadata": {},
   "outputs": [],
   "source": [
    "#Biblioteca para requisitar uma página de um web site\n",
    "import urllib.request"
   ]
  },
  {
   "cell_type": "code",
   "execution_count": 267,
   "metadata": {},
   "outputs": [],
   "source": [
    "import pandas as pd\n",
    "import numpy as np\n",
    "import requests\n",
    "from bs4 import BeautifulSoup\n",
    "from tabulate import tabulate"
   ]
  },
  {
   "cell_type": "code",
   "execution_count": 276,
   "metadata": {},
   "outputs": [
    {
     "name": "stdout",
     "output_type": "stream",
     "text": [
      "Qual a data desejada? 03/08/2020\n"
     ]
    }
   ],
   "source": [
    "data = str(input('Qual a data desejada? ')) #04/08/2020\n",
    "url = 'https://www2.bmf.com.br/pages/portal/bmfbovespa/boletim1/TxRef1.asp?Data='+data+'&Data1=20200804&slcTaxa=PRE'"
   ]
  },
  {
   "cell_type": "code",
   "execution_count": 277,
   "metadata": {},
   "outputs": [],
   "source": [
    "#Definir conexão com URL\n",
    "with urllib.request.urlopen(url) as url:\n",
    "    page = url.read()\n",
    "    \n",
    "#Analise o html na variável 'page' e armazene-o no formato Beutiful Soup\n",
    "soup = BeautifulSoup(page, \"html.parser\")"
   ]
  },
  {
   "cell_type": "code",
   "execution_count": 258,
   "metadata": {},
   "outputs": [],
   "source": [
    "#soup.find(\"input\",{\"id\":\"Data\"})[\"value\"]"
   ]
  },
  {
   "cell_type": "code",
   "execution_count": 278,
   "metadata": {},
   "outputs": [],
   "source": [
    "for nome in soup.find_all('td', class_='tabelaConteudo1'):\n",
    "    valorTb1 = float((nome.get_text().strip()).replace(',', '.'))\n",
    "    tabelaConteudo1.append(valorTb1)\n",
    "    \n",
    "for nome in soup.find_all('td', class_='tabelaConteudo2'):\n",
    "    valorTb2 = float((nome.get_text().strip()).replace(',', '.'))\n",
    "    tabelaConteudo2.append(valorTb2)\n",
    "    \n",
    "TabelaConteudoFinal = tabelaConteudo1 + tabelaConteudo2\n",
    "    \n",
    "arrayTabelaConteudoFinal = np.array(TabelaConteudoFinal)\n",
    "\n",
    "ar1 = arrayTabelaConteudoFinal.reshape(int(len(arrayTabelaConteudoFinal)/3), 3)"
   ]
  },
  {
   "cell_type": "code",
   "execution_count": 279,
   "metadata": {},
   "outputs": [
    {
     "data": {
      "text/html": [
       "<div>\n",
       "<style scoped>\n",
       "    .dataframe tbody tr th:only-of-type {\n",
       "        vertical-align: middle;\n",
       "    }\n",
       "\n",
       "    .dataframe tbody tr th {\n",
       "        vertical-align: top;\n",
       "    }\n",
       "\n",
       "    .dataframe thead th {\n",
       "        text-align: right;\n",
       "    }\n",
       "</style>\n",
       "<table border=\"1\" class=\"dataframe\">\n",
       "  <thead>\n",
       "    <tr style=\"text-align: right;\">\n",
       "      <th></th>\n",
       "      <th>DIAS_CORRIDOS</th>\n",
       "      <th>TAXA_252</th>\n",
       "      <th>TAXA_360</th>\n",
       "    </tr>\n",
       "  </thead>\n",
       "  <tbody>\n",
       "    <tr>\n",
       "      <td>0</td>\n",
       "      <td>1.0</td>\n",
       "      <td>2.15</td>\n",
       "      <td>0.00</td>\n",
       "    </tr>\n",
       "    <tr>\n",
       "      <td>1</td>\n",
       "      <td>7.0</td>\n",
       "      <td>2.00</td>\n",
       "      <td>2.04</td>\n",
       "    </tr>\n",
       "    <tr>\n",
       "      <td>2</td>\n",
       "      <td>7.0</td>\n",
       "      <td>1.99</td>\n",
       "      <td>2.03</td>\n",
       "    </tr>\n",
       "    <tr>\n",
       "      <td>3</td>\n",
       "      <td>8.0</td>\n",
       "      <td>1.98</td>\n",
       "      <td>2.13</td>\n",
       "    </tr>\n",
       "    <tr>\n",
       "      <td>4</td>\n",
       "      <td>9.0</td>\n",
       "      <td>1.99</td>\n",
       "      <td>2.21</td>\n",
       "    </tr>\n",
       "    <tr>\n",
       "      <td>...</td>\n",
       "      <td>...</td>\n",
       "      <td>...</td>\n",
       "      <td>...</td>\n",
       "    </tr>\n",
       "    <tr>\n",
       "      <td>567</td>\n",
       "      <td>10801.0</td>\n",
       "      <td>7.72</td>\n",
       "      <td>7.58</td>\n",
       "    </tr>\n",
       "    <tr>\n",
       "      <td>568</td>\n",
       "      <td>10968.0</td>\n",
       "      <td>7.80</td>\n",
       "      <td>7.66</td>\n",
       "    </tr>\n",
       "    <tr>\n",
       "      <td>569</td>\n",
       "      <td>10969.0</td>\n",
       "      <td>7.72</td>\n",
       "      <td>7.58</td>\n",
       "    </tr>\n",
       "    <tr>\n",
       "      <td>570</td>\n",
       "      <td>12704.0</td>\n",
       "      <td>7.86</td>\n",
       "      <td>7.72</td>\n",
       "    </tr>\n",
       "    <tr>\n",
       "      <td>571</td>\n",
       "      <td>12705.0</td>\n",
       "      <td>7.78</td>\n",
       "      <td>7.64</td>\n",
       "    </tr>\n",
       "  </tbody>\n",
       "</table>\n",
       "<p>572 rows × 3 columns</p>\n",
       "</div>"
      ],
      "text/plain": [
       "     DIAS_CORRIDOS  TAXA_252  TAXA_360\n",
       "0              1.0      2.15      0.00\n",
       "1              7.0      2.00      2.04\n",
       "2              7.0      1.99      2.03\n",
       "3              8.0      1.98      2.13\n",
       "4              9.0      1.99      2.21\n",
       "..             ...       ...       ...\n",
       "567        10801.0      7.72      7.58\n",
       "568        10968.0      7.80      7.66\n",
       "569        10969.0      7.72      7.58\n",
       "570        12704.0      7.86      7.72\n",
       "571        12705.0      7.78      7.64\n",
       "\n",
       "[572 rows x 3 columns]"
      ]
     },
     "execution_count": 279,
     "metadata": {},
     "output_type": "execute_result"
    }
   ],
   "source": [
    "df = pd.DataFrame(ar1, columns=['DIAS_CORRIDOS', 'TAXA_252', 'TAXA_360'])\n",
    "df.drop_duplicates(inplace=True)\n",
    "df.sort_values(by=['DIAS_CORRIDOS'], inplace=True)\n",
    "df.reset_index(drop=True, inplace=True)\n",
    "df"
   ]
  },
  {
   "cell_type": "code",
   "execution_count": null,
   "metadata": {},
   "outputs": [],
   "source": []
  }
 ],
 "metadata": {
  "kernelspec": {
   "display_name": "Python 3",
   "language": "python",
   "name": "python3"
  },
  "language_info": {
   "codemirror_mode": {
    "name": "ipython",
    "version": 3
   },
   "file_extension": ".py",
   "mimetype": "text/x-python",
   "name": "python",
   "nbconvert_exporter": "python",
   "pygments_lexer": "ipython3",
   "version": "3.7.4"
  }
 },
 "nbformat": 4,
 "nbformat_minor": 2
}
