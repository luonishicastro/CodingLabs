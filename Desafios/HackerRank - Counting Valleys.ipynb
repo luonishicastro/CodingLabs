{
 "cells": [
  {
   "cell_type": "markdown",
   "metadata": {},
   "source": [
    "Gary is an avid hiker. He tracks his hikes meticulously, paying close attention to small details like topography. During his last hike he took exactly $n$ steps. For every step he took, he noted if it was an uphill, $U$, or a downhill, $D$ step. Gary's hikes start and end at sea level and each step up or down represents a $1$ unit change in altitude. We define the following terms:\n",
    "* A mountain is a sequence of consecutive steps above sea level, starting with a step up from sea level and ending with a step down to sea level.\n",
    "* A valley is a sequence of consecutive steps below sea level, starting with a step down from sea level and ending with a step up to sea level."
   ]
  },
  {
   "cell_type": "markdown",
   "metadata": {},
   "source": [
    "Given Gary's sequence of up and down steps during his last hike, find and print the number of valleys he walked through.\n",
    "<br><br>For example, if Gary's path is $s=[DDUUUUDD]$, he first enters a valley $2$ units deep. Then he climbs out an up onto a mountain $2$ units high. Finally, he returns to sea level and ends his hike."
   ]
  },
  {
   "cell_type": "markdown",
   "metadata": {},
   "source": [
    "<b>Function Description</b>"
   ]
  },
  {
   "cell_type": "markdown",
   "metadata": {},
   "source": [
    "Complete the countingValleys function in the editor below. It must return an integer that denotes the number of valleys Gary traversed.\n",
    "\n",
    "countingValleys has the following parameter(s):\n",
    "\n",
    "* n: the number of steps Gary takes\n",
    "* s: a string describing his path"
   ]
  },
  {
   "cell_type": "markdown",
   "metadata": {},
   "source": [
    "<b>Input Format</b>"
   ]
  },
  {
   "cell_type": "markdown",
   "metadata": {},
   "source": [
    "The first line contains an integer $n$, the number of steps in Gary's hike.\n",
    "<br>\n",
    "The second line contains a single string $s$, of $n$ characters that describe his path."
   ]
  },
  {
   "cell_type": "markdown",
   "metadata": {},
   "source": [
    "<b>Constraints</b>"
   ]
  },
  {
   "cell_type": "markdown",
   "metadata": {},
   "source": [
    "* $2 \\leq n \\leq 10^6$\n",
    "* $s[i] \\in \\{UD\\} $"
   ]
  },
  {
   "cell_type": "markdown",
   "metadata": {},
   "source": [
    "<b>Output Format</b>"
   ]
  },
  {
   "cell_type": "markdown",
   "metadata": {},
   "source": [
    "Print a single integer that denotes the number of valleys Gary walked through during his hike."
   ]
  },
  {
   "cell_type": "markdown",
   "metadata": {},
   "source": [
    "<b>Sample Input</b>"
   ]
  },
  {
   "cell_type": "code",
   "execution_count": 5,
   "metadata": {},
   "outputs": [
    {
     "data": {
      "text/plain": [
       "'\\n8\\nUDDDUDUU\\n'"
      ]
     },
     "execution_count": 5,
     "metadata": {},
     "output_type": "execute_result"
    }
   ],
   "source": [
    "'''\n",
    "8\n",
    "UDDDUDUU\n",
    "'''"
   ]
  },
  {
   "cell_type": "markdown",
   "metadata": {},
   "source": [
    "<b>Sample Output</b>"
   ]
  },
  {
   "cell_type": "code",
   "execution_count": 6,
   "metadata": {},
   "outputs": [
    {
     "data": {
      "text/plain": [
       "'\\n1\\n'"
      ]
     },
     "execution_count": 6,
     "metadata": {},
     "output_type": "execute_result"
    }
   ],
   "source": [
    "'''\n",
    "1\n",
    "'''"
   ]
  },
  {
   "cell_type": "markdown",
   "metadata": {},
   "source": [
    "<b>Explanation</b>"
   ]
  },
  {
   "cell_type": "markdown",
   "metadata": {},
   "source": [
    "If we represent _ as sea level, a step up as /, and a step down as \\, Gary's hike can be drawn as:"
   ]
  },
  {
   "cell_type": "code",
   "execution_count": 7,
   "metadata": {},
   "outputs": [
    {
     "data": {
      "text/plain": [
       "'\\n_/\\\\      _\\n   \\\\    /\\n    \\\\/\\\\/\\n'"
      ]
     },
     "execution_count": 7,
     "metadata": {},
     "output_type": "execute_result"
    }
   ],
   "source": [
    "'''\n",
    "_/\\      _\n",
    "   \\    /\n",
    "    \\/\\/\n",
    "'''"
   ]
  },
  {
   "cell_type": "markdown",
   "metadata": {},
   "source": [
    "He enters and leaves one valley."
   ]
  },
  {
   "cell_type": "code",
   "execution_count": 73,
   "metadata": {},
   "outputs": [
    {
     "name": "stdout",
     "output_type": "stream",
     "text": [
      "passo = D\n",
      "percurso = -1\n",
      "passo = U\n",
      "percurso = 0\n",
      "passo = D\n",
      "percurso = -1\n",
      "passo = U\n",
      "percurso = 0\n",
      "passo = D\n",
      "percurso = -1\n",
      "passo = U\n",
      "percurso = 0\n",
      "passo = D\n",
      "percurso = -1\n",
      "passo = U\n",
      "percurso = 0\n"
     ]
    },
    {
     "data": {
      "text/plain": [
       "4"
      ]
     },
     "execution_count": 73,
     "metadata": {},
     "output_type": "execute_result"
    }
   ],
   "source": [
    "#!/bin/python3\n",
    "\n",
    "import math\n",
    "import os\n",
    "import random\n",
    "import re\n",
    "import sys\n",
    "\n",
    "# Complete the countingValleys function below.\n",
    "def countingValleys(n, s):\n",
    "    percurso = 0\n",
    "    contaVales = 0\n",
    "    for passo in s:\n",
    "        if passo == 'D':\n",
    "            percurso -= 1\n",
    "        else:\n",
    "            percurso += 1\n",
    "        \n",
    "        if percurso > 0:\n",
    "            flagNivelAcima=True\n",
    "        \n",
    "        #print(f'passo = {passo}')\n",
    "        #print(f'percurso = {percurso}')\n",
    "        \n",
    "        if percurso == 0 and passo=='U':\n",
    "            contaVales += 1\n",
    "        \n",
    "    return contaVales\n",
    "    \n",
    "\n",
    "countingValleys(8, 'DUDUDUDU')"
   ]
  },
  {
   "cell_type": "code",
   "execution_count": 9,
   "metadata": {},
   "outputs": [
    {
     "data": {
      "text/plain": [
       "'\\ns = [DDUUUUDD]\\n\\n      /_    /  \\\\_\\n \\\\  /\\n  \\\\/\\nquantidade de passos (n) = 8\\nquantidade de vales: 1\\n   \\n  \\ns= [DUDUDUDU]\\n_        _\\n \\\\/\\\\/\\\\/\\\\/\\nquantidade de passos (n) = 8\\nquantiadade de vales: 4\\n'"
      ]
     },
     "execution_count": 9,
     "metadata": {},
     "output_type": "execute_result"
    }
   ],
   "source": [
    "'''\n",
    "s = [UDDDUDUU]\n",
    "  \n",
    "_/\\      _\n",
    "   \\    /\n",
    "    \\/\\/\n",
    "quantidade de passos (n) = 8\n",
    "quantidade de vales: 1\n",
    "\n",
    "s = [DDUUUUDD]\n",
    "\n",
    "      /\\\n",
    "_    /  \\_\n",
    " \\  /\n",
    "  \\/\n",
    "quantidade de passos (n) = 8\n",
    "quantidade de vales: 1\n",
    "   \n",
    "   \n",
    "s = [DDUUDDUU]\n",
    "\n",
    "_        _\n",
    " \\  /\\  /\n",
    "  \\/  \\/\n",
    "quantidade de passos (n) = 8\n",
    "quantiadade de vales: 2\n",
    "  \n",
    "  \n",
    "s= [DUDUDUDU]\n",
    "\n",
    "_        _\n",
    " \\/\\/\\/\\/\n",
    "quantidade de passos (n) = 8\n",
    "quantiadade de vales: 4\n",
    "\n",
    "'''"
   ]
  }
 ],
 "metadata": {
  "kernelspec": {
   "display_name": "Python 3",
   "language": "python",
   "name": "python3"
  },
  "language_info": {
   "codemirror_mode": {
    "name": "ipython",
    "version": 3
   },
   "file_extension": ".py",
   "mimetype": "text/x-python",
   "name": "python",
   "nbconvert_exporter": "python",
   "pygments_lexer": "ipython3",
   "version": "3.7.4"
  }
 },
 "nbformat": 4,
 "nbformat_minor": 2
}
