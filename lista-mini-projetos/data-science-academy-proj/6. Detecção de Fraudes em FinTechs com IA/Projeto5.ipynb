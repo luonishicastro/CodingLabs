{
 "cells": [
  {
   "cell_type": "markdown",
   "metadata": {},
   "source": [
    "# Inteligência Artificial Aplicada a Finanças"
   ]
  },
  {
   "cell_type": "markdown",
   "metadata": {},
   "source": [
    "# Projeto 5 - Detecção de Fraudes em FinTechs com IA"
   ]
  },
  {
   "cell_type": "markdown",
   "metadata": {},
   "source": [
    "## Definindo o Problema"
   ]
  },
  {
   "cell_type": "markdown",
   "metadata": {},
   "source": [
    "Leia o manual em pdf no Capítulo 8 do curso."
   ]
  },
  {
   "cell_type": "markdown",
   "metadata": {},
   "source": [
    "## Fonte de Dados"
   ]
  },
  {
   "cell_type": "markdown",
   "metadata": {},
   "source": [
    "Leia o manual em pdf no Capítulo 8 do curso."
   ]
  },
  {
   "cell_type": "markdown",
   "metadata": {},
   "source": [
    "### Instalando e Carregando Pacotes"
   ]
  },
  {
   "cell_type": "code",
   "execution_count": 1,
   "metadata": {},
   "outputs": [
    {
     "name": "stdout",
     "output_type": "stream",
     "text": [
      "Versão da Linguagem Python Usada Neste Jupyter Notebook: 3.7.6\n"
     ]
    }
   ],
   "source": [
    "# Versão da Linguagem Python\n",
    "from platform import python_version\n",
    "print('Versão da Linguagem Python Usada Neste Jupyter Notebook:', python_version())"
   ]
  },
  {
   "cell_type": "code",
   "execution_count": 2,
   "metadata": {},
   "outputs": [],
   "source": [
    "# Para atualizar um pacote, execute o comando abaixo no terminal ou prompt de comando:\n",
    "# pip install -U nome_pacote\n",
    "\n",
    "# Para instalar a versão exata de um pacote, execute o comando abaixo no terminal ou prompt de comando:\n",
    "# pip install nome_pacote==versão_desejada\n",
    "\n",
    "# Depois de instalar ou atualizar o pacote, reinicie o jupyter notebook.\n",
    "\n",
    "# Instala o pacote watermark.\n",
    "# Esse pacote é usado para gravar as versões de outros pacotes usados neste jupyter notebook.\n",
    "#!pip install -q -U watermark"
   ]
  },
  {
   "cell_type": "code",
   "execution_count": 3,
   "metadata": {},
   "outputs": [],
   "source": [
    "# Imports\n",
    "import os\n",
    "import sys\n",
    "import pandas as pd\n",
    "import numpy as np\n",
    "import matplotlib.pyplot as plt\n",
    "from scipy import interp\n",
    "from random import shuffle\n",
    "from sklearn.model_selection import train_test_split, cross_val_score, GridSearchCV\n",
    "from sklearn.linear_model import LogisticRegression\n",
    "from sklearn.ensemble import GradientBoostingClassifier, AdaBoostClassifier\n",
    "from sklearn.neural_network import MLPClassifier\n",
    "from sklearn.metrics import roc_auc_score, roc_curve, auc\n",
    "import warnings\n",
    "warnings.filterwarnings(\"ignore\")"
   ]
  },
  {
   "cell_type": "code",
   "execution_count": 4,
   "metadata": {},
   "outputs": [
    {
     "name": "stdout",
     "output_type": "stream",
     "text": [
      "Author: Data Science Academy\n",
      "\n",
      "pandas    : 1.1.4\n",
      "matplotlib: 3.3.3\n",
      "numpy     : 1.19.4\n",
      "sys       : 3.7.6 (default, Jan  8 2020, 13:42:34) \n",
      "[Clang 4.0.1 (tags/RELEASE_401/final)]\n",
      "\n"
     ]
    }
   ],
   "source": [
    "# Versões dos pacotes usados neste jupyter notebook\n",
    "%reload_ext watermark\n",
    "%watermark -a \"Data Science Academy\" --iversions"
   ]
  },
  {
   "cell_type": "markdown",
   "metadata": {},
   "source": [
    "## Carregando os Dados"
   ]
  },
  {
   "cell_type": "markdown",
   "metadata": {},
   "source": [
    "Primeiro definimos o arquivo."
   ]
  },
  {
   "cell_type": "code",
   "execution_count": 5,
   "metadata": {},
   "outputs": [],
   "source": [
    "# Obtendo o diretório corrente\n",
    "caminho_dados = os.path.abspath(os.path.join('.'))\n",
    "if caminho_dados not in sys.path:\n",
    "    sys.path.append(caminho_dados)"
   ]
  },
  {
   "cell_type": "code",
   "execution_count": 6,
   "metadata": {},
   "outputs": [
    {
     "data": {
      "text/plain": [
       "'/Users/dmpm/Dropbox/DSA/IA_Aplicada_Fin/Cap08'"
      ]
     },
     "execution_count": 6,
     "metadata": {},
     "output_type": "execute_result"
    }
   ],
   "source": [
    "caminho_dados"
   ]
  },
  {
   "cell_type": "code",
   "execution_count": 7,
   "metadata": {},
   "outputs": [
    {
     "data": {
      "text/plain": [
       "'/Users/dmpm/Dropbox/DSA/IA_Aplicada_Fin/Cap08/dados/dataset.csv'"
      ]
     },
     "execution_count": 7,
     "metadata": {},
     "output_type": "execute_result"
    }
   ],
   "source": [
    "arquivo_completo = caminho_dados + '/dados/dataset.csv'\n",
    "arquivo_completo"
   ]
  },
  {
   "cell_type": "markdown",
   "metadata": {},
   "source": [
    "Agora carregamos o arquivo em dataframe Pandas."
   ]
  },
  {
   "cell_type": "code",
   "execution_count": 8,
   "metadata": {},
   "outputs": [],
   "source": [
    "# Carrega o dataset\n",
    "dataset_completo = pd.read_csv(arquivo_completo)"
   ]
  },
  {
   "cell_type": "code",
   "execution_count": 9,
   "metadata": {},
   "outputs": [
    {
     "data": {
      "text/plain": [
       "(46960, 96)"
      ]
     },
     "execution_count": 9,
     "metadata": {},
     "output_type": "execute_result"
    }
   ],
   "source": [
    "# Shape\n",
    "dataset_completo.shape"
   ]
  },
  {
   "cell_type": "code",
   "execution_count": 10,
   "metadata": {},
   "outputs": [
    {
     "data": {
      "text/html": [
       "<div>\n",
       "<style scoped>\n",
       "    .dataframe tbody tr th:only-of-type {\n",
       "        vertical-align: middle;\n",
       "    }\n",
       "\n",
       "    .dataframe tbody tr th {\n",
       "        vertical-align: top;\n",
       "    }\n",
       "\n",
       "    .dataframe thead th {\n",
       "        text-align: right;\n",
       "    }\n",
       "</style>\n",
       "<table border=\"1\" class=\"dataframe\">\n",
       "  <thead>\n",
       "    <tr style=\"text-align: right;\">\n",
       "      <th></th>\n",
       "      <th>ID</th>\n",
       "      <th>is_email_acct</th>\n",
       "      <th>certificationtype</th>\n",
       "      <th>registered_channels</th>\n",
       "      <th>sex</th>\n",
       "      <th>age</th>\n",
       "      <th>registered_days</th>\n",
       "      <th>area1_danger</th>\n",
       "      <th>area4_danger</th>\n",
       "      <th>is_area3_eqaul_area4</th>\n",
       "      <th>...</th>\n",
       "      <th>10m_pay_times</th>\n",
       "      <th>12h_pay_times</th>\n",
       "      <th>1d_pay_times</th>\n",
       "      <th>1h_pay_times</th>\n",
       "      <th>30m_pay_times</th>\n",
       "      <th>10m_Sum_pay_amount</th>\n",
       "      <th>12h_Sum_pay_amount</th>\n",
       "      <th>1d_Sum_pay_amount</th>\n",
       "      <th>1h_Sum_pay_amount</th>\n",
       "      <th>flag</th>\n",
       "    </tr>\n",
       "  </thead>\n",
       "  <tbody>\n",
       "    <tr>\n",
       "      <th>0</th>\n",
       "      <td>0</td>\n",
       "      <td>0.0</td>\n",
       "      <td>2</td>\n",
       "      <td>SDK</td>\n",
       "      <td>1.0</td>\n",
       "      <td>42</td>\n",
       "      <td>219</td>\n",
       "      <td>5.0</td>\n",
       "      <td>1</td>\n",
       "      <td>1</td>\n",
       "      <td>...</td>\n",
       "      <td>NaN</td>\n",
       "      <td>NaN</td>\n",
       "      <td>NaN</td>\n",
       "      <td>NaN</td>\n",
       "      <td>NaN</td>\n",
       "      <td>NaN</td>\n",
       "      <td>NaN</td>\n",
       "      <td>0</td>\n",
       "      <td>NaN</td>\n",
       "      <td>0</td>\n",
       "    </tr>\n",
       "    <tr>\n",
       "      <th>1</th>\n",
       "      <td>1</td>\n",
       "      <td>NaN</td>\n",
       "      <td>4</td>\n",
       "      <td>NaN</td>\n",
       "      <td>NaN</td>\n",
       "      <td>0</td>\n",
       "      <td>0</td>\n",
       "      <td>5.0</td>\n",
       "      <td>5</td>\n",
       "      <td>0</td>\n",
       "      <td>...</td>\n",
       "      <td>NaN</td>\n",
       "      <td>NaN</td>\n",
       "      <td>NaN</td>\n",
       "      <td>NaN</td>\n",
       "      <td>NaN</td>\n",
       "      <td>NaN</td>\n",
       "      <td>NaN</td>\n",
       "      <td>0</td>\n",
       "      <td>NaN</td>\n",
       "      <td>0</td>\n",
       "    </tr>\n",
       "    <tr>\n",
       "      <th>2</th>\n",
       "      <td>2</td>\n",
       "      <td>0.0</td>\n",
       "      <td>3</td>\n",
       "      <td>PC</td>\n",
       "      <td>1.0</td>\n",
       "      <td>27</td>\n",
       "      <td>620</td>\n",
       "      <td>5.0</td>\n",
       "      <td>1</td>\n",
       "      <td>0</td>\n",
       "      <td>...</td>\n",
       "      <td>NaN</td>\n",
       "      <td>NaN</td>\n",
       "      <td>NaN</td>\n",
       "      <td>NaN</td>\n",
       "      <td>NaN</td>\n",
       "      <td>NaN</td>\n",
       "      <td>NaN</td>\n",
       "      <td>0</td>\n",
       "      <td>NaN</td>\n",
       "      <td>0</td>\n",
       "    </tr>\n",
       "    <tr>\n",
       "      <th>3</th>\n",
       "      <td>3</td>\n",
       "      <td>0.0</td>\n",
       "      <td>2</td>\n",
       "      <td>NaN</td>\n",
       "      <td>2.0</td>\n",
       "      <td>41</td>\n",
       "      <td>1188</td>\n",
       "      <td>5.0</td>\n",
       "      <td>1</td>\n",
       "      <td>0</td>\n",
       "      <td>...</td>\n",
       "      <td>NaN</td>\n",
       "      <td>NaN</td>\n",
       "      <td>NaN</td>\n",
       "      <td>NaN</td>\n",
       "      <td>NaN</td>\n",
       "      <td>NaN</td>\n",
       "      <td>NaN</td>\n",
       "      <td>0</td>\n",
       "      <td>NaN</td>\n",
       "      <td>0</td>\n",
       "    </tr>\n",
       "    <tr>\n",
       "      <th>4</th>\n",
       "      <td>4</td>\n",
       "      <td>NaN</td>\n",
       "      <td>4</td>\n",
       "      <td>NaN</td>\n",
       "      <td>NaN</td>\n",
       "      <td>0</td>\n",
       "      <td>0</td>\n",
       "      <td>5.0</td>\n",
       "      <td>5</td>\n",
       "      <td>0</td>\n",
       "      <td>...</td>\n",
       "      <td>NaN</td>\n",
       "      <td>NaN</td>\n",
       "      <td>NaN</td>\n",
       "      <td>NaN</td>\n",
       "      <td>NaN</td>\n",
       "      <td>NaN</td>\n",
       "      <td>NaN</td>\n",
       "      <td>0</td>\n",
       "      <td>NaN</td>\n",
       "      <td>0</td>\n",
       "    </tr>\n",
       "    <tr>\n",
       "      <th>5</th>\n",
       "      <td>5</td>\n",
       "      <td>0.0</td>\n",
       "      <td>3</td>\n",
       "      <td>WAP</td>\n",
       "      <td>1.0</td>\n",
       "      <td>32</td>\n",
       "      <td>563</td>\n",
       "      <td>5.0</td>\n",
       "      <td>1</td>\n",
       "      <td>1</td>\n",
       "      <td>...</td>\n",
       "      <td>NaN</td>\n",
       "      <td>NaN</td>\n",
       "      <td>NaN</td>\n",
       "      <td>NaN</td>\n",
       "      <td>NaN</td>\n",
       "      <td>NaN</td>\n",
       "      <td>NaN</td>\n",
       "      <td>0</td>\n",
       "      <td>NaN</td>\n",
       "      <td>0</td>\n",
       "    </tr>\n",
       "    <tr>\n",
       "      <th>6</th>\n",
       "      <td>6</td>\n",
       "      <td>0.0</td>\n",
       "      <td>4</td>\n",
       "      <td>PC</td>\n",
       "      <td>NaN</td>\n",
       "      <td>0</td>\n",
       "      <td>162</td>\n",
       "      <td>5.0</td>\n",
       "      <td>5</td>\n",
       "      <td>0</td>\n",
       "      <td>...</td>\n",
       "      <td>NaN</td>\n",
       "      <td>NaN</td>\n",
       "      <td>NaN</td>\n",
       "      <td>NaN</td>\n",
       "      <td>NaN</td>\n",
       "      <td>NaN</td>\n",
       "      <td>NaN</td>\n",
       "      <td>0</td>\n",
       "      <td>NaN</td>\n",
       "      <td>0</td>\n",
       "    </tr>\n",
       "    <tr>\n",
       "      <th>7</th>\n",
       "      <td>7</td>\n",
       "      <td>1.0</td>\n",
       "      <td>3</td>\n",
       "      <td>NaN</td>\n",
       "      <td>1.0</td>\n",
       "      <td>44</td>\n",
       "      <td>1014</td>\n",
       "      <td>5.0</td>\n",
       "      <td>2</td>\n",
       "      <td>0</td>\n",
       "      <td>...</td>\n",
       "      <td>NaN</td>\n",
       "      <td>NaN</td>\n",
       "      <td>NaN</td>\n",
       "      <td>NaN</td>\n",
       "      <td>NaN</td>\n",
       "      <td>NaN</td>\n",
       "      <td>NaN</td>\n",
       "      <td>0</td>\n",
       "      <td>NaN</td>\n",
       "      <td>0</td>\n",
       "    </tr>\n",
       "    <tr>\n",
       "      <th>8</th>\n",
       "      <td>8</td>\n",
       "      <td>1.0</td>\n",
       "      <td>3</td>\n",
       "      <td>NaN</td>\n",
       "      <td>1.0</td>\n",
       "      <td>32</td>\n",
       "      <td>1328</td>\n",
       "      <td>5.0</td>\n",
       "      <td>1</td>\n",
       "      <td>0</td>\n",
       "      <td>...</td>\n",
       "      <td>NaN</td>\n",
       "      <td>1.0</td>\n",
       "      <td>1.0</td>\n",
       "      <td>NaN</td>\n",
       "      <td>NaN</td>\n",
       "      <td>NaN</td>\n",
       "      <td>329800.0</td>\n",
       "      <td>329800</td>\n",
       "      <td>NaN</td>\n",
       "      <td>0</td>\n",
       "    </tr>\n",
       "    <tr>\n",
       "      <th>9</th>\n",
       "      <td>9</td>\n",
       "      <td>0.0</td>\n",
       "      <td>4</td>\n",
       "      <td>NaN</td>\n",
       "      <td>NaN</td>\n",
       "      <td>0</td>\n",
       "      <td>967</td>\n",
       "      <td>5.0</td>\n",
       "      <td>1</td>\n",
       "      <td>0</td>\n",
       "      <td>...</td>\n",
       "      <td>NaN</td>\n",
       "      <td>NaN</td>\n",
       "      <td>NaN</td>\n",
       "      <td>NaN</td>\n",
       "      <td>NaN</td>\n",
       "      <td>NaN</td>\n",
       "      <td>NaN</td>\n",
       "      <td>0</td>\n",
       "      <td>NaN</td>\n",
       "      <td>0</td>\n",
       "    </tr>\n",
       "  </tbody>\n",
       "</table>\n",
       "<p>10 rows × 96 columns</p>\n",
       "</div>"
      ],
      "text/plain": [
       "   ID  is_email_acct  certificationtype registered_channels  sex  age  \\\n",
       "0   0            0.0                  2                 SDK  1.0   42   \n",
       "1   1            NaN                  4                 NaN  NaN    0   \n",
       "2   2            0.0                  3                  PC  1.0   27   \n",
       "3   3            0.0                  2                 NaN  2.0   41   \n",
       "4   4            NaN                  4                 NaN  NaN    0   \n",
       "5   5            0.0                  3                 WAP  1.0   32   \n",
       "6   6            0.0                  4                  PC  NaN    0   \n",
       "7   7            1.0                  3                 NaN  1.0   44   \n",
       "8   8            1.0                  3                 NaN  1.0   32   \n",
       "9   9            0.0                  4                 NaN  NaN    0   \n",
       "\n",
       "   registered_days  area1_danger  area4_danger  is_area3_eqaul_area4  ...  \\\n",
       "0              219           5.0             1                     1  ...   \n",
       "1                0           5.0             5                     0  ...   \n",
       "2              620           5.0             1                     0  ...   \n",
       "3             1188           5.0             1                     0  ...   \n",
       "4                0           5.0             5                     0  ...   \n",
       "5              563           5.0             1                     1  ...   \n",
       "6              162           5.0             5                     0  ...   \n",
       "7             1014           5.0             2                     0  ...   \n",
       "8             1328           5.0             1                     0  ...   \n",
       "9              967           5.0             1                     0  ...   \n",
       "\n",
       "   10m_pay_times  12h_pay_times  1d_pay_times  1h_pay_times  30m_pay_times  \\\n",
       "0            NaN            NaN           NaN           NaN            NaN   \n",
       "1            NaN            NaN           NaN           NaN            NaN   \n",
       "2            NaN            NaN           NaN           NaN            NaN   \n",
       "3            NaN            NaN           NaN           NaN            NaN   \n",
       "4            NaN            NaN           NaN           NaN            NaN   \n",
       "5            NaN            NaN           NaN           NaN            NaN   \n",
       "6            NaN            NaN           NaN           NaN            NaN   \n",
       "7            NaN            NaN           NaN           NaN            NaN   \n",
       "8            NaN            1.0           1.0           NaN            NaN   \n",
       "9            NaN            NaN           NaN           NaN            NaN   \n",
       "\n",
       "   10m_Sum_pay_amount  12h_Sum_pay_amount  1d_Sum_pay_amount  \\\n",
       "0                 NaN                 NaN                  0   \n",
       "1                 NaN                 NaN                  0   \n",
       "2                 NaN                 NaN                  0   \n",
       "3                 NaN                 NaN                  0   \n",
       "4                 NaN                 NaN                  0   \n",
       "5                 NaN                 NaN                  0   \n",
       "6                 NaN                 NaN                  0   \n",
       "7                 NaN                 NaN                  0   \n",
       "8                 NaN            329800.0             329800   \n",
       "9                 NaN                 NaN                  0   \n",
       "\n",
       "   1h_Sum_pay_amount  flag  \n",
       "0                NaN     0  \n",
       "1                NaN     0  \n",
       "2                NaN     0  \n",
       "3                NaN     0  \n",
       "4                NaN     0  \n",
       "5                NaN     0  \n",
       "6                NaN     0  \n",
       "7                NaN     0  \n",
       "8                NaN     0  \n",
       "9                NaN     0  \n",
       "\n",
       "[10 rows x 96 columns]"
      ]
     },
     "execution_count": 10,
     "metadata": {},
     "output_type": "execute_result"
    }
   ],
   "source": [
    "# Visualiza os dados\n",
    "dataset_completo.head(10)"
   ]
  },
  {
   "cell_type": "code",
   "execution_count": 11,
   "metadata": {},
   "outputs": [
    {
     "name": "stdout",
     "output_type": "stream",
     "text": [
      "<class 'pandas.core.frame.DataFrame'>\n",
      "RangeIndex: 46960 entries, 0 to 46959\n",
      "Data columns (total 96 columns):\n",
      " #   Column                 Non-Null Count  Dtype  \n",
      "---  ------                 --------------  -----  \n",
      " 0   ID                     46960 non-null  int64  \n",
      " 1   is_email_acct          41314 non-null  float64\n",
      " 2   certificationtype      46960 non-null  int64  \n",
      " 3   registered_channels    29437 non-null  object \n",
      " 4   sex                    33313 non-null  float64\n",
      " 5   age                    46960 non-null  int64  \n",
      " 6   registered_days        46960 non-null  int64  \n",
      " 7   area1_danger           46946 non-null  float64\n",
      " 8   area4_danger           46960 non-null  int64  \n",
      " 9   is_area3_eqaul_area4   46960 non-null  int64  \n",
      " 10  is_area3_equal_area6   46960 non-null  int64  \n",
      " 11  is_area4_equal_area6   46960 non-null  int64  \n",
      " 12  is_area5_equal_area3   46960 non-null  int64  \n",
      " 13  is_area5_equal_area4   46960 non-null  int64  \n",
      " 14  is_area5_equal_area6   46960 non-null  int64  \n",
      " 15  is_area1_equal_area2   46960 non-null  int64  \n",
      " 16  is_area7_equal_area3   46960 non-null  int64  \n",
      " 17  is_area7_equal_area4   46960 non-null  int64  \n",
      " 18  is_area7_equal_area6   46960 non-null  int64  \n",
      " 19  is_area7_equal_area5   46960 non-null  int64  \n",
      " 20  is_area2_equal_area3   46960 non-null  int64  \n",
      " 21  is_area2_equal_area4   46960 non-null  int64  \n",
      " 22  is_area2_equal_area6   46960 non-null  int64  \n",
      " 23  is_area2_equal_area5   46960 non-null  int64  \n",
      " 24  area4_danger.1         46960 non-null  int64  \n",
      " 25  area2_danger           46960 non-null  int64  \n",
      " 26  area10_danger          46960 non-null  int64  \n",
      " 27  ip_desc_danger         0 non-null      float64\n",
      " 28  is_area1_equal_area11  46960 non-null  int64  \n",
      " 29  is_area10_equal_area8  46960 non-null  int64  \n",
      " 30  is_area10_equal_area9  46960 non-null  int64  \n",
      " 31  is_area2_equal_area8   46960 non-null  int64  \n",
      " 32  is_area2_equal_area9   46960 non-null  int64  \n",
      " 33  is_area8_equal_area3   46960 non-null  int64  \n",
      " 34  is_area8_equal_area4   46960 non-null  int64  \n",
      " 35  is_area8_equal_area6   46960 non-null  int64  \n",
      " 36  is_area8_equal_area5   46960 non-null  int64  \n",
      " 37  is_area8_equal_area9   46960 non-null  int64  \n",
      " 38  is_area9_equal_area3   46960 non-null  int64  \n",
      " 39  is_area9_equal_area4   46960 non-null  int64  \n",
      " 40  is_area9_equal_area6   46960 non-null  int64  \n",
      " 41  is_area9_equal_area5   46960 non-null  int64  \n",
      " 42  area8_danger           33061 non-null  float64\n",
      " 43  area11_danger          46960 non-null  object \n",
      " 44  area6_danger           46960 non-null  object \n",
      " 45  paytime_hour           46960 non-null  int64  \n",
      " 46  goods_type             46960 non-null  int64  \n",
      " 47  is_danger_goods        46960 non-null  int64  \n",
      " 48  pay_amount             46960 non-null  int64  \n",
      " 49  Bank_Bind_Hour         46960 non-null  int64  \n",
      " 50  30days_sign_bank_cnt   31470 non-null  float64\n",
      " 51  90days_sign_bank_cnt   31470 non-null  float64\n",
      " 52  1h_sign_bank_cnt       46960 non-null  int64  \n",
      " 53  24h_sign_bank_cnt      46960 non-null  int64  \n",
      " 54  12h_sign_bank_cnt      18017 non-null  float64\n",
      " 55  1h_release_bank_cnt    1177 non-null   float64\n",
      " 56  24h_release_bank_cnt   1905 non-null   float64\n",
      " 57  12h_release_bank_cnt   1751 non-null   float64\n",
      " 58  30m_Sum_pay_amount     6654 non-null   float64\n",
      " 59  30d_AcctPerDevice      46960 non-null  int64  \n",
      " 60  30d_AcctPerIP          46960 non-null  int64  \n",
      " 61  15d_Max_pay_amount     16808 non-null  float64\n",
      " 62  30d_Max_pay_amount     19527 non-null  float64\n",
      " 63  60d_Max_pay_amount     46960 non-null  int64  \n",
      " 64  7d_Max_pay_amount      13606 non-null  float64\n",
      " 65  90d_Max_pay_amount     46960 non-null  int64  \n",
      " 66  15d_Min_pay_amount     16809 non-null  float64\n",
      " 67  30d_Min_pay_amount     19527 non-null  float64\n",
      " 68  60d_Min_pay_amount     46960 non-null  int64  \n",
      " 69  7d_Min_pay_amount      13607 non-null  float64\n",
      " 70  90d_Min_pay_amount     46960 non-null  int64  \n",
      " 71  15d_pay_times          16808 non-null  float64\n",
      " 72  30d_pay_times          19528 non-null  float64\n",
      " 73  60d_pay_times          22301 non-null  float64\n",
      " 74  7d_pay_times           13606 non-null  float64\n",
      " 75  90d_pay_times          46960 non-null  int64  \n",
      " 76  15d_Sum_pay_amount     16808 non-null  float64\n",
      " 77  30d_Sum_pay_amount     19527 non-null  float64\n",
      " 78  60d_Sum_pay_amount     22301 non-null  float64\n",
      " 79  7d_Sum_pay_amount      13606 non-null  float64\n",
      " 80  90d_Sum_pay_amount     46960 non-null  int64  \n",
      " 81  24h_AcctPerDevice      46960 non-null  int64  \n",
      " 82  24h_AcctPerIP          46960 non-null  int64  \n",
      " 83  1d_Max_pay_amount      46960 non-null  int64  \n",
      " 84  12h_Min_pay_amount     46960 non-null  int64  \n",
      " 85  1d_Min_pay_amount      46960 non-null  int64  \n",
      " 86  10m_pay_times          5278 non-null   float64\n",
      " 87  12h_pay_times          10056 non-null  float64\n",
      " 88  1d_pay_times           12148 non-null  float64\n",
      " 89  1h_pay_times           7411 non-null   float64\n",
      " 90  30m_pay_times          6652 non-null   float64\n",
      " 91  10m_Sum_pay_amount     5282 non-null   float64\n",
      " 92  12h_Sum_pay_amount     10057 non-null  float64\n",
      " 93  1d_Sum_pay_amount      46960 non-null  int64  \n",
      " 94  1h_Sum_pay_amount      7410 non-null   float64\n",
      " 95  flag                   46960 non-null  int64  \n",
      "dtypes: float64(34), int64(59), object(3)\n",
      "memory usage: 34.4+ MB\n"
     ]
    }
   ],
   "source": [
    "# Tipos de dados\n",
    "dataset_completo.info()"
   ]
  },
  {
   "cell_type": "code",
   "execution_count": 12,
   "metadata": {},
   "outputs": [
    {
     "data": {
      "text/plain": [
       "0    46439\n",
       "1      521\n",
       "Name: flag, dtype: int64"
      ]
     },
     "execution_count": 12,
     "metadata": {},
     "output_type": "execute_result"
    }
   ],
   "source": [
    "dataset_completo['flag'].value_counts()"
   ]
  },
  {
   "cell_type": "code",
   "execution_count": 13,
   "metadata": {},
   "outputs": [
    {
     "name": "stdout",
     "output_type": "stream",
     "text": [
      "Taxa de Transações Fraudulentas no Dataset Completo: 1.1095%\n"
     ]
    }
   ],
   "source": [
    "print('Taxa de Transações Fraudulentas no Dataset Completo: {0:2.4f}%'.format(dataset_completo['flag'].mean() * 100))"
   ]
  },
  {
   "cell_type": "code",
   "execution_count": 14,
   "metadata": {},
   "outputs": [],
   "source": [
    "# Divisão em dados de treino e teste\n",
    "dados_treino, dados_teste = train_test_split(dataset_completo, test_size = 0.3)"
   ]
  },
  {
   "cell_type": "code",
   "execution_count": 15,
   "metadata": {},
   "outputs": [
    {
     "name": "stdout",
     "output_type": "stream",
     "text": [
      "Taxa de Transações Fraudulentas nos Dados de Treino: 1.1438%\n"
     ]
    }
   ],
   "source": [
    "print('Taxa de Transações Fraudulentas nos Dados de Treino: {0:2.4f}%'.format(dados_treino['flag'].mean() * 100))"
   ]
  },
  {
   "cell_type": "markdown",
   "metadata": {},
   "source": [
    "## Limpeza, Processamento e Engenharia de Atributos"
   ]
  },
  {
   "cell_type": "code",
   "execution_count": 16,
   "metadata": {},
   "outputs": [],
   "source": [
    "# Módulo customizado\n",
    "from tools.ProcessamentoBasico import *"
   ]
  },
  {
   "cell_type": "code",
   "execution_count": 17,
   "metadata": {},
   "outputs": [],
   "source": [
    "# Cria instância da classe\n",
    "feature_process = ProcessamentoBasico()"
   ]
  },
  {
   "cell_type": "code",
   "execution_count": 18,
   "metadata": {},
   "outputs": [],
   "source": [
    "# Checa valores constantes\n",
    "fixed_cols = feature_process.fix_value_check(dados_treino)"
   ]
  },
  {
   "cell_type": "code",
   "execution_count": 19,
   "metadata": {},
   "outputs": [
    {
     "name": "stdout",
     "output_type": "stream",
     "text": [
      "Coluna com Valor Constante: ['ip_desc_danger']\n"
     ]
    }
   ],
   "source": [
    "if fixed_cols:\n",
    "    print('Coluna com Valor Constante:', fixed_cols)\n",
    "    dados_treino = dados_treino.drop(fixed_cols, axis = 1).copy()\n",
    "else:\n",
    "    print('Não há Coluna com Valor Constante')"
   ]
  },
  {
   "cell_type": "code",
   "execution_count": 20,
   "metadata": {},
   "outputs": [],
   "source": [
    "# Se a idade for igual a zero, substitui por valor nan\n",
    "dados_treino.loc[dados_treino.age==0, 'age'] = np.nan"
   ]
  },
  {
   "cell_type": "code",
   "execution_count": 21,
   "metadata": {},
   "outputs": [],
   "source": [
    "# Extrai a taxa de valores ausentes por coluna\n",
    "missing_rate_df = feature_process.missing_value_pct(dados_treino)"
   ]
  },
  {
   "cell_type": "code",
   "execution_count": 22,
   "metadata": {},
   "outputs": [
    {
     "data": {
      "text/html": [
       "<div>\n",
       "<style scoped>\n",
       "    .dataframe tbody tr th:only-of-type {\n",
       "        vertical-align: middle;\n",
       "    }\n",
       "\n",
       "    .dataframe tbody tr th {\n",
       "        vertical-align: top;\n",
       "    }\n",
       "\n",
       "    .dataframe thead th {\n",
       "        text-align: right;\n",
       "    }\n",
       "</style>\n",
       "<table border=\"1\" class=\"dataframe\">\n",
       "  <thead>\n",
       "    <tr style=\"text-align: right;\">\n",
       "      <th></th>\n",
       "      <th>missing_rate</th>\n",
       "    </tr>\n",
       "  </thead>\n",
       "  <tbody>\n",
       "    <tr>\n",
       "      <th>1h_release_bank_cnt</th>\n",
       "      <td>0.975116</td>\n",
       "    </tr>\n",
       "    <tr>\n",
       "      <th>12h_release_bank_cnt</th>\n",
       "      <td>0.962278</td>\n",
       "    </tr>\n",
       "    <tr>\n",
       "      <th>24h_release_bank_cnt</th>\n",
       "      <td>0.959084</td>\n",
       "    </tr>\n",
       "    <tr>\n",
       "      <th>10m_pay_times</th>\n",
       "      <td>0.888963</td>\n",
       "    </tr>\n",
       "    <tr>\n",
       "      <th>10m_Sum_pay_amount</th>\n",
       "      <td>0.888842</td>\n",
       "    </tr>\n",
       "  </tbody>\n",
       "</table>\n",
       "</div>"
      ],
      "text/plain": [
       "                      missing_rate\n",
       "1h_release_bank_cnt       0.975116\n",
       "12h_release_bank_cnt      0.962278\n",
       "24h_release_bank_cnt      0.959084\n",
       "10m_pay_times             0.888963\n",
       "10m_Sum_pay_amount        0.888842"
      ]
     },
     "execution_count": 22,
     "metadata": {},
     "output_type": "execute_result"
    }
   ],
   "source": [
    "missing_rate_df.head()"
   ]
  },
  {
   "cell_type": "code",
   "execution_count": 23,
   "metadata": {},
   "outputs": [
    {
     "data": {
      "text/plain": [
       "Text(0.5, 1.0, 'Taxa de Valores Ausentes Por Coluna')"
      ]
     },
     "execution_count": 23,
     "metadata": {},
     "output_type": "execute_result"
    },
    {
     "data": {
      "image/png": "[encoded data removed]",
      "text/plain": [
       "<Figure size 432x288 with 1 Axes>"
      ]
     },
     "metadata": {
      "needs_background": "light"
     },
     "output_type": "display_data"
    }
   ],
   "source": [
    "# Plot\n",
    "plt.bar(x = range(missing_rate_df.shape[0]), height = missing_rate_df['missing_rate'], color = 'red')\n",
    "plt.title('Taxa de Valores Ausentes Por Coluna')"
   ]
  },
  {
   "cell_type": "code",
   "execution_count": 24,
   "metadata": {},
   "outputs": [],
   "source": [
    "# Colunas com valores ausentes\n",
    "columns_with_missing = missing_rate_df.index[missing_rate_df.missing_rate > 0].tolist()"
   ]
  },
  {
   "cell_type": "code",
   "execution_count": 25,
   "metadata": {},
   "outputs": [],
   "source": [
    "# Indica no dataframe as colunas com valores ausentes\n",
    "dados_treino = feature_process.add_missing_indicator_to_df(data = dados_treino, cols = columns_with_missing)"
   ]
  },
  {
   "cell_type": "code",
   "execution_count": 26,
   "metadata": {},
   "outputs": [
    {
     "data": {
      "text/html": [
       "<div>\n",
       "<style scoped>\n",
       "    .dataframe tbody tr th:only-of-type {\n",
       "        vertical-align: middle;\n",
       "    }\n",
       "\n",
       "    .dataframe tbody tr th {\n",
       "        vertical-align: top;\n",
       "    }\n",
       "\n",
       "    .dataframe thead th {\n",
       "        text-align: right;\n",
       "    }\n",
       "</style>\n",
       "<table border=\"1\" class=\"dataframe\">\n",
       "  <thead>\n",
       "    <tr style=\"text-align: right;\">\n",
       "      <th></th>\n",
       "      <th>ID</th>\n",
       "      <th>is_email_acct</th>\n",
       "      <th>certificationtype</th>\n",
       "      <th>registered_channels</th>\n",
       "      <th>sex</th>\n",
       "      <th>age</th>\n",
       "      <th>registered_days</th>\n",
       "      <th>area1_danger</th>\n",
       "      <th>area4_danger</th>\n",
       "      <th>is_area3_eqaul_area4</th>\n",
       "      <th>...</th>\n",
       "      <th>60d_Sum_pay_amount_ismissing</th>\n",
       "      <th>60d_pay_times_ismissing</th>\n",
       "      <th>registered_channels_ismissing</th>\n",
       "      <th>90days_sign_bank_cnt_ismissing</th>\n",
       "      <th>30days_sign_bank_cnt_ismissing</th>\n",
       "      <th>area8_danger_ismissing</th>\n",
       "      <th>sex_ismissing</th>\n",
       "      <th>age_ismissing</th>\n",
       "      <th>is_email_acct_ismissing</th>\n",
       "      <th>area1_danger_ismissing</th>\n",
       "    </tr>\n",
       "  </thead>\n",
       "  <tbody>\n",
       "    <tr>\n",
       "      <th>19985</th>\n",
       "      <td>19985</td>\n",
       "      <td>NaN</td>\n",
       "      <td>4</td>\n",
       "      <td>NaN</td>\n",
       "      <td>NaN</td>\n",
       "      <td>NaN</td>\n",
       "      <td>0</td>\n",
       "      <td>5.0</td>\n",
       "      <td>1</td>\n",
       "      <td>1</td>\n",
       "      <td>...</td>\n",
       "      <td>1</td>\n",
       "      <td>1</td>\n",
       "      <td>1</td>\n",
       "      <td>1</td>\n",
       "      <td>1</td>\n",
       "      <td>1</td>\n",
       "      <td>1</td>\n",
       "      <td>1</td>\n",
       "      <td>1</td>\n",
       "      <td>0</td>\n",
       "    </tr>\n",
       "    <tr>\n",
       "      <th>37095</th>\n",
       "      <td>37095</td>\n",
       "      <td>0.0</td>\n",
       "      <td>2</td>\n",
       "      <td>PC</td>\n",
       "      <td>1.0</td>\n",
       "      <td>31.0</td>\n",
       "      <td>397</td>\n",
       "      <td>5.0</td>\n",
       "      <td>5</td>\n",
       "      <td>0</td>\n",
       "      <td>...</td>\n",
       "      <td>0</td>\n",
       "      <td>0</td>\n",
       "      <td>0</td>\n",
       "      <td>0</td>\n",
       "      <td>0</td>\n",
       "      <td>0</td>\n",
       "      <td>0</td>\n",
       "      <td>0</td>\n",
       "      <td>0</td>\n",
       "      <td>0</td>\n",
       "    </tr>\n",
       "    <tr>\n",
       "      <th>42979</th>\n",
       "      <td>42979</td>\n",
       "      <td>0.0</td>\n",
       "      <td>3</td>\n",
       "      <td>WAP</td>\n",
       "      <td>1.0</td>\n",
       "      <td>30.0</td>\n",
       "      <td>25</td>\n",
       "      <td>5.0</td>\n",
       "      <td>5</td>\n",
       "      <td>0</td>\n",
       "      <td>...</td>\n",
       "      <td>0</td>\n",
       "      <td>0</td>\n",
       "      <td>0</td>\n",
       "      <td>0</td>\n",
       "      <td>0</td>\n",
       "      <td>0</td>\n",
       "      <td>0</td>\n",
       "      <td>0</td>\n",
       "      <td>0</td>\n",
       "      <td>0</td>\n",
       "    </tr>\n",
       "    <tr>\n",
       "      <th>1615</th>\n",
       "      <td>1615</td>\n",
       "      <td>0.0</td>\n",
       "      <td>3</td>\n",
       "      <td>PC</td>\n",
       "      <td>1.0</td>\n",
       "      <td>30.0</td>\n",
       "      <td>716</td>\n",
       "      <td>5.0</td>\n",
       "      <td>1</td>\n",
       "      <td>0</td>\n",
       "      <td>...</td>\n",
       "      <td>0</td>\n",
       "      <td>0</td>\n",
       "      <td>0</td>\n",
       "      <td>0</td>\n",
       "      <td>0</td>\n",
       "      <td>0</td>\n",
       "      <td>0</td>\n",
       "      <td>0</td>\n",
       "      <td>0</td>\n",
       "      <td>0</td>\n",
       "    </tr>\n",
       "    <tr>\n",
       "      <th>37923</th>\n",
       "      <td>37923</td>\n",
       "      <td>0.0</td>\n",
       "      <td>2</td>\n",
       "      <td>WAP</td>\n",
       "      <td>2.0</td>\n",
       "      <td>22.0</td>\n",
       "      <td>241</td>\n",
       "      <td>5.0</td>\n",
       "      <td>2</td>\n",
       "      <td>1</td>\n",
       "      <td>...</td>\n",
       "      <td>0</td>\n",
       "      <td>0</td>\n",
       "      <td>0</td>\n",
       "      <td>0</td>\n",
       "      <td>0</td>\n",
       "      <td>0</td>\n",
       "      <td>0</td>\n",
       "      <td>0</td>\n",
       "      <td>0</td>\n",
       "      <td>0</td>\n",
       "    </tr>\n",
       "  </tbody>\n",
       "</table>\n",
       "<p>5 rows × 130 columns</p>\n",
       "</div>"
      ],
      "text/plain": [
       "          ID  is_email_acct  certificationtype registered_channels  sex   age  \\\n",
       "19985  19985            NaN                  4                 NaN  NaN   NaN   \n",
       "37095  37095            0.0                  2                  PC  1.0  31.0   \n",
       "42979  42979            0.0                  3                 WAP  1.0  30.0   \n",
       "1615    1615            0.0                  3                  PC  1.0  30.0   \n",
       "37923  37923            0.0                  2                 WAP  2.0  22.0   \n",
       "\n",
       "       registered_days  area1_danger  area4_danger  is_area3_eqaul_area4  ...  \\\n",
       "19985                0           5.0             1                     1  ...   \n",
       "37095              397           5.0             5                     0  ...   \n",
       "42979               25           5.0             5                     0  ...   \n",
       "1615               716           5.0             1                     0  ...   \n",
       "37923              241           5.0             2                     1  ...   \n",
       "\n",
       "       60d_Sum_pay_amount_ismissing  60d_pay_times_ismissing  \\\n",
       "19985                             1                        1   \n",
       "37095                             0                        0   \n",
       "42979                             0                        0   \n",
       "1615                              0                        0   \n",
       "37923                             0                        0   \n",
       "\n",
       "       registered_channels_ismissing  90days_sign_bank_cnt_ismissing  \\\n",
       "19985                              1                               1   \n",
       "37095                              0                               0   \n",
       "42979                              0                               0   \n",
       "1615                               0                               0   \n",
       "37923                              0                               0   \n",
       "\n",
       "       30days_sign_bank_cnt_ismissing  area8_danger_ismissing  sex_ismissing  \\\n",
       "19985                               1                       1              1   \n",
       "37095                               0                       0              0   \n",
       "42979                               0                       0              0   \n",
       "1615                                0                       0              0   \n",
       "37923                               0                       0              0   \n",
       "\n",
       "       age_ismissing  is_email_acct_ismissing  area1_danger_ismissing  \n",
       "19985              1                        1                       0  \n",
       "37095              0                        0                       0  \n",
       "42979              0                        0                       0  \n",
       "1615               0                        0                       0  \n",
       "37923              0                        0                       0  \n",
       "\n",
       "[5 rows x 130 columns]"
      ]
     },
     "execution_count": 26,
     "metadata": {},
     "output_type": "execute_result"
    }
   ],
   "source": [
    "dados_treino.head()"
   ]
  },
  {
   "cell_type": "code",
   "execution_count": 27,
   "metadata": {},
   "outputs": [
    {
     "data": {
      "text/plain": [
       "['registered_channels', 'area11_danger', 'area6_danger']"
      ]
     },
     "execution_count": 27,
     "metadata": {},
     "output_type": "execute_result"
    }
   ],
   "source": [
    "# Identificando variáveis do tipo object\n",
    "obj_types = feature_process.feature_type_identifier(dados_treino, 'O')\n",
    "obj_types"
   ]
  },
  {
   "cell_type": "code",
   "execution_count": 28,
   "metadata": {},
   "outputs": [
    {
     "data": {
      "text/html": [
       "<div>\n",
       "<style scoped>\n",
       "    .dataframe tbody tr th:only-of-type {\n",
       "        vertical-align: middle;\n",
       "    }\n",
       "\n",
       "    .dataframe tbody tr th {\n",
       "        vertical-align: top;\n",
       "    }\n",
       "\n",
       "    .dataframe thead th {\n",
       "        text-align: right;\n",
       "    }\n",
       "</style>\n",
       "<table border=\"1\" class=\"dataframe\">\n",
       "  <thead>\n",
       "    <tr style=\"text-align: right;\">\n",
       "      <th></th>\n",
       "      <th>ID</th>\n",
       "      <th>is_email_acct</th>\n",
       "      <th>certificationtype</th>\n",
       "      <th>registered_channels</th>\n",
       "      <th>sex</th>\n",
       "      <th>age</th>\n",
       "      <th>registered_days</th>\n",
       "      <th>area1_danger</th>\n",
       "      <th>area4_danger</th>\n",
       "      <th>is_area3_eqaul_area4</th>\n",
       "      <th>...</th>\n",
       "      <th>60d_Sum_pay_amount_ismissing</th>\n",
       "      <th>60d_pay_times_ismissing</th>\n",
       "      <th>registered_channels_ismissing</th>\n",
       "      <th>90days_sign_bank_cnt_ismissing</th>\n",
       "      <th>30days_sign_bank_cnt_ismissing</th>\n",
       "      <th>area8_danger_ismissing</th>\n",
       "      <th>sex_ismissing</th>\n",
       "      <th>age_ismissing</th>\n",
       "      <th>is_email_acct_ismissing</th>\n",
       "      <th>area1_danger_ismissing</th>\n",
       "    </tr>\n",
       "  </thead>\n",
       "  <tbody>\n",
       "    <tr>\n",
       "      <th>19985</th>\n",
       "      <td>19985</td>\n",
       "      <td>NaN</td>\n",
       "      <td>4</td>\n",
       "      <td>NaN</td>\n",
       "      <td>NaN</td>\n",
       "      <td>NaN</td>\n",
       "      <td>0</td>\n",
       "      <td>5.0</td>\n",
       "      <td>1</td>\n",
       "      <td>1</td>\n",
       "      <td>...</td>\n",
       "      <td>1</td>\n",
       "      <td>1</td>\n",
       "      <td>1</td>\n",
       "      <td>1</td>\n",
       "      <td>1</td>\n",
       "      <td>1</td>\n",
       "      <td>1</td>\n",
       "      <td>1</td>\n",
       "      <td>1</td>\n",
       "      <td>0</td>\n",
       "    </tr>\n",
       "    <tr>\n",
       "      <th>37095</th>\n",
       "      <td>37095</td>\n",
       "      <td>0.0</td>\n",
       "      <td>2</td>\n",
       "      <td>PC</td>\n",
       "      <td>1.0</td>\n",
       "      <td>31.0</td>\n",
       "      <td>397</td>\n",
       "      <td>5.0</td>\n",
       "      <td>5</td>\n",
       "      <td>0</td>\n",
       "      <td>...</td>\n",
       "      <td>0</td>\n",
       "      <td>0</td>\n",
       "      <td>0</td>\n",
       "      <td>0</td>\n",
       "      <td>0</td>\n",
       "      <td>0</td>\n",
       "      <td>0</td>\n",
       "      <td>0</td>\n",
       "      <td>0</td>\n",
       "      <td>0</td>\n",
       "    </tr>\n",
       "    <tr>\n",
       "      <th>42979</th>\n",
       "      <td>42979</td>\n",
       "      <td>0.0</td>\n",
       "      <td>3</td>\n",
       "      <td>WAP</td>\n",
       "      <td>1.0</td>\n",
       "      <td>30.0</td>\n",
       "      <td>25</td>\n",
       "      <td>5.0</td>\n",
       "      <td>5</td>\n",
       "      <td>0</td>\n",
       "      <td>...</td>\n",
       "      <td>0</td>\n",
       "      <td>0</td>\n",
       "      <td>0</td>\n",
       "      <td>0</td>\n",
       "      <td>0</td>\n",
       "      <td>0</td>\n",
       "      <td>0</td>\n",
       "      <td>0</td>\n",
       "      <td>0</td>\n",
       "      <td>0</td>\n",
       "    </tr>\n",
       "    <tr>\n",
       "      <th>1615</th>\n",
       "      <td>1615</td>\n",
       "      <td>0.0</td>\n",
       "      <td>3</td>\n",
       "      <td>PC</td>\n",
       "      <td>1.0</td>\n",
       "      <td>30.0</td>\n",
       "      <td>716</td>\n",
       "      <td>5.0</td>\n",
       "      <td>1</td>\n",
       "      <td>0</td>\n",
       "      <td>...</td>\n",
       "      <td>0</td>\n",
       "      <td>0</td>\n",
       "      <td>0</td>\n",
       "      <td>0</td>\n",
       "      <td>0</td>\n",
       "      <td>0</td>\n",
       "      <td>0</td>\n",
       "      <td>0</td>\n",
       "      <td>0</td>\n",
       "      <td>0</td>\n",
       "    </tr>\n",
       "    <tr>\n",
       "      <th>37923</th>\n",
       "      <td>37923</td>\n",
       "      <td>0.0</td>\n",
       "      <td>2</td>\n",
       "      <td>WAP</td>\n",
       "      <td>2.0</td>\n",
       "      <td>22.0</td>\n",
       "      <td>241</td>\n",
       "      <td>5.0</td>\n",
       "      <td>2</td>\n",
       "      <td>1</td>\n",
       "      <td>...</td>\n",
       "      <td>0</td>\n",
       "      <td>0</td>\n",
       "      <td>0</td>\n",
       "      <td>0</td>\n",
       "      <td>0</td>\n",
       "      <td>0</td>\n",
       "      <td>0</td>\n",
       "      <td>0</td>\n",
       "      <td>0</td>\n",
       "      <td>0</td>\n",
       "    </tr>\n",
       "  </tbody>\n",
       "</table>\n",
       "<p>5 rows × 130 columns</p>\n",
       "</div>"
      ],
      "text/plain": [
       "          ID  is_email_acct  certificationtype registered_channels  sex   age  \\\n",
       "19985  19985            NaN                  4                 NaN  NaN   NaN   \n",
       "37095  37095            0.0                  2                  PC  1.0  31.0   \n",
       "42979  42979            0.0                  3                 WAP  1.0  30.0   \n",
       "1615    1615            0.0                  3                  PC  1.0  30.0   \n",
       "37923  37923            0.0                  2                 WAP  2.0  22.0   \n",
       "\n",
       "       registered_days  area1_danger  area4_danger  is_area3_eqaul_area4  ...  \\\n",
       "19985                0           5.0             1                     1  ...   \n",
       "37095              397           5.0             5                     0  ...   \n",
       "42979               25           5.0             5                     0  ...   \n",
       "1615               716           5.0             1                     0  ...   \n",
       "37923              241           5.0             2                     1  ...   \n",
       "\n",
       "       60d_Sum_pay_amount_ismissing  60d_pay_times_ismissing  \\\n",
       "19985                             1                        1   \n",
       "37095                             0                        0   \n",
       "42979                             0                        0   \n",
       "1615                              0                        0   \n",
       "37923                             0                        0   \n",
       "\n",
       "       registered_channels_ismissing  90days_sign_bank_cnt_ismissing  \\\n",
       "19985                              1                               1   \n",
       "37095                              0                               0   \n",
       "42979                              0                               0   \n",
       "1615                               0                               0   \n",
       "37923                              0                               0   \n",
       "\n",
       "       30days_sign_bank_cnt_ismissing  area8_danger_ismissing  sex_ismissing  \\\n",
       "19985                               1                       1              1   \n",
       "37095                               0                       0              0   \n",
       "42979                               0                       0              0   \n",
       "1615                                0                       0              0   \n",
       "37923                               0                       0              0   \n",
       "\n",
       "       age_ismissing  is_email_acct_ismissing  area1_danger_ismissing  \n",
       "19985              1                        1                       0  \n",
       "37095              0                        0                       0  \n",
       "42979              0                        0                       0  \n",
       "1615               0                        0                       0  \n",
       "37923              0                        0                       0  \n",
       "\n",
       "[5 rows x 130 columns]"
      ]
     },
     "execution_count": 28,
     "metadata": {},
     "output_type": "execute_result"
    }
   ],
   "source": [
    "dados_treino.head()"
   ]
  },
  {
   "cell_type": "code",
   "execution_count": 29,
   "metadata": {},
   "outputs": [
    {
     "data": {
      "text/plain": [
       "ID                         32872\n",
       "is_email_acct                  2\n",
       "certificationtype              4\n",
       "registered_channels            7\n",
       "sex                            2\n",
       "                           ...  \n",
       "area8_danger_ismissing         2\n",
       "sex_ismissing                  2\n",
       "age_ismissing                  2\n",
       "is_email_acct_ismissing        2\n",
       "area1_danger_ismissing         2\n",
       "Length: 130, dtype: int64"
      ]
     },
     "execution_count": 29,
     "metadata": {},
     "output_type": "execute_result"
    }
   ],
   "source": [
    "# Valores únicos por coluna\n",
    "data_counts = dados_treino.nunique() \n",
    "data_counts"
   ]
  },
  {
   "cell_type": "code",
   "execution_count": 30,
   "metadata": {},
   "outputs": [],
   "source": [
    "# Colunas com 10 ou menos valores únicos serão do tipo categórico\n",
    "categorical_cols = data_counts.index[data_counts <= 10].tolist()\n",
    "categorical_cols = list(set(categorical_cols  + obj_types) - set(['flag']))"
   ]
  },
  {
   "cell_type": "code",
   "execution_count": 31,
   "metadata": {},
   "outputs": [],
   "source": [
    "# Valores ausentes nas variáveis categóricas\n",
    "categoriacal_cols_with_missing = list(set(columns_with_missing) & set(categorical_cols))"
   ]
  },
  {
   "cell_type": "code",
   "execution_count": 32,
   "metadata": {},
   "outputs": [],
   "source": [
    "# Cria variáveis dummy\n",
    "dummy_result = feature_process.get_categorical_dummy_variable(dados_treino, categorical_cols)"
   ]
  },
  {
   "cell_type": "code",
   "execution_count": 33,
   "metadata": {},
   "outputs": [],
   "source": [
    "# Novo dataset de treino\n",
    "dados_treino = dummy_result['data']"
   ]
  },
  {
   "cell_type": "code",
   "execution_count": 34,
   "metadata": {},
   "outputs": [
    {
     "data": {
      "text/plain": [
       "(32872, 226)"
      ]
     },
     "execution_count": 34,
     "metadata": {},
     "output_type": "execute_result"
    }
   ],
   "source": [
    "dados_treino.shape"
   ]
  },
  {
   "cell_type": "code",
   "execution_count": 35,
   "metadata": {},
   "outputs": [
    {
     "data": {
      "text/html": [
       "<div>\n",
       "<style scoped>\n",
       "    .dataframe tbody tr th:only-of-type {\n",
       "        vertical-align: middle;\n",
       "    }\n",
       "\n",
       "    .dataframe tbody tr th {\n",
       "        vertical-align: top;\n",
       "    }\n",
       "\n",
       "    .dataframe thead th {\n",
       "        text-align: right;\n",
       "    }\n",
       "</style>\n",
       "<table border=\"1\" class=\"dataframe\">\n",
       "  <thead>\n",
       "    <tr style=\"text-align: right;\">\n",
       "      <th></th>\n",
       "      <th>is_area7_equal_area4_0</th>\n",
       "      <th>is_area7_equal_area4_1</th>\n",
       "      <th>is_area2_equal_area8_0</th>\n",
       "      <th>is_area2_equal_area8_1</th>\n",
       "      <th>15d_Max_pay_amount_ismissing_0</th>\n",
       "      <th>15d_Max_pay_amount_ismissing_1</th>\n",
       "      <th>sex_ismissing_0</th>\n",
       "      <th>sex_ismissing_1</th>\n",
       "      <th>is_area9_equal_area5_0</th>\n",
       "      <th>registered_channels_31</th>\n",
       "      <th>...</th>\n",
       "      <th>10m_pay_times</th>\n",
       "      <th>12h_pay_times</th>\n",
       "      <th>1d_pay_times</th>\n",
       "      <th>1h_pay_times</th>\n",
       "      <th>30m_pay_times</th>\n",
       "      <th>10m_Sum_pay_amount</th>\n",
       "      <th>12h_Sum_pay_amount</th>\n",
       "      <th>1d_Sum_pay_amount</th>\n",
       "      <th>1h_Sum_pay_amount</th>\n",
       "      <th>flag</th>\n",
       "    </tr>\n",
       "  </thead>\n",
       "  <tbody>\n",
       "    <tr>\n",
       "      <th>19985</th>\n",
       "      <td>1</td>\n",
       "      <td>0</td>\n",
       "      <td>1</td>\n",
       "      <td>0</td>\n",
       "      <td>0</td>\n",
       "      <td>1</td>\n",
       "      <td>0</td>\n",
       "      <td>1</td>\n",
       "      <td>1</td>\n",
       "      <td>0</td>\n",
       "      <td>...</td>\n",
       "      <td>NaN</td>\n",
       "      <td>NaN</td>\n",
       "      <td>NaN</td>\n",
       "      <td>NaN</td>\n",
       "      <td>NaN</td>\n",
       "      <td>NaN</td>\n",
       "      <td>NaN</td>\n",
       "      <td>0</td>\n",
       "      <td>NaN</td>\n",
       "      <td>1</td>\n",
       "    </tr>\n",
       "    <tr>\n",
       "      <th>37095</th>\n",
       "      <td>0</td>\n",
       "      <td>1</td>\n",
       "      <td>1</td>\n",
       "      <td>0</td>\n",
       "      <td>1</td>\n",
       "      <td>0</td>\n",
       "      <td>1</td>\n",
       "      <td>0</td>\n",
       "      <td>1</td>\n",
       "      <td>0</td>\n",
       "      <td>...</td>\n",
       "      <td>NaN</td>\n",
       "      <td>105.0</td>\n",
       "      <td>105.0</td>\n",
       "      <td>65.0</td>\n",
       "      <td>65.0</td>\n",
       "      <td>NaN</td>\n",
       "      <td>31557380.0</td>\n",
       "      <td>31557380</td>\n",
       "      <td>21048740.0</td>\n",
       "      <td>0</td>\n",
       "    </tr>\n",
       "    <tr>\n",
       "      <th>42979</th>\n",
       "      <td>0</td>\n",
       "      <td>1</td>\n",
       "      <td>1</td>\n",
       "      <td>0</td>\n",
       "      <td>1</td>\n",
       "      <td>0</td>\n",
       "      <td>1</td>\n",
       "      <td>0</td>\n",
       "      <td>1</td>\n",
       "      <td>0</td>\n",
       "      <td>...</td>\n",
       "      <td>NaN</td>\n",
       "      <td>NaN</td>\n",
       "      <td>NaN</td>\n",
       "      <td>NaN</td>\n",
       "      <td>NaN</td>\n",
       "      <td>NaN</td>\n",
       "      <td>NaN</td>\n",
       "      <td>0</td>\n",
       "      <td>NaN</td>\n",
       "      <td>0</td>\n",
       "    </tr>\n",
       "    <tr>\n",
       "      <th>1615</th>\n",
       "      <td>0</td>\n",
       "      <td>1</td>\n",
       "      <td>1</td>\n",
       "      <td>0</td>\n",
       "      <td>1</td>\n",
       "      <td>0</td>\n",
       "      <td>1</td>\n",
       "      <td>0</td>\n",
       "      <td>1</td>\n",
       "      <td>0</td>\n",
       "      <td>...</td>\n",
       "      <td>NaN</td>\n",
       "      <td>NaN</td>\n",
       "      <td>2.0</td>\n",
       "      <td>NaN</td>\n",
       "      <td>NaN</td>\n",
       "      <td>NaN</td>\n",
       "      <td>NaN</td>\n",
       "      <td>737800</td>\n",
       "      <td>NaN</td>\n",
       "      <td>0</td>\n",
       "    </tr>\n",
       "    <tr>\n",
       "      <th>37923</th>\n",
       "      <td>0</td>\n",
       "      <td>1</td>\n",
       "      <td>1</td>\n",
       "      <td>0</td>\n",
       "      <td>1</td>\n",
       "      <td>0</td>\n",
       "      <td>1</td>\n",
       "      <td>0</td>\n",
       "      <td>1</td>\n",
       "      <td>0</td>\n",
       "      <td>...</td>\n",
       "      <td>NaN</td>\n",
       "      <td>86.0</td>\n",
       "      <td>195.0</td>\n",
       "      <td>NaN</td>\n",
       "      <td>NaN</td>\n",
       "      <td>NaN</td>\n",
       "      <td>19325900.0</td>\n",
       "      <td>37229200</td>\n",
       "      <td>NaN</td>\n",
       "      <td>0</td>\n",
       "    </tr>\n",
       "  </tbody>\n",
       "</table>\n",
       "<p>5 rows × 226 columns</p>\n",
       "</div>"
      ],
      "text/plain": [
       "       is_area7_equal_area4_0  is_area7_equal_area4_1  is_area2_equal_area8_0  \\\n",
       "19985                       1                       0                       1   \n",
       "37095                       0                       1                       1   \n",
       "42979                       0                       1                       1   \n",
       "1615                        0                       1                       1   \n",
       "37923                       0                       1                       1   \n",
       "\n",
       "       is_area2_equal_area8_1  15d_Max_pay_amount_ismissing_0  \\\n",
       "19985                       0                               0   \n",
       "37095                       0                               1   \n",
       "42979                       0                               1   \n",
       "1615                        0                               1   \n",
       "37923                       0                               1   \n",
       "\n",
       "       15d_Max_pay_amount_ismissing_1  sex_ismissing_0  sex_ismissing_1  \\\n",
       "19985                               1                0                1   \n",
       "37095                               0                1                0   \n",
       "42979                               0                1                0   \n",
       "1615                                0                1                0   \n",
       "37923                               0                1                0   \n",
       "\n",
       "       is_area9_equal_area5_0  registered_channels_31  ...  10m_pay_times  \\\n",
       "19985                       1                       0  ...            NaN   \n",
       "37095                       1                       0  ...            NaN   \n",
       "42979                       1                       0  ...            NaN   \n",
       "1615                        1                       0  ...            NaN   \n",
       "37923                       1                       0  ...            NaN   \n",
       "\n",
       "       12h_pay_times  1d_pay_times  1h_pay_times  30m_pay_times  \\\n",
       "19985            NaN           NaN           NaN            NaN   \n",
       "37095          105.0         105.0          65.0           65.0   \n",
       "42979            NaN           NaN           NaN            NaN   \n",
       "1615             NaN           2.0           NaN            NaN   \n",
       "37923           86.0         195.0           NaN            NaN   \n",
       "\n",
       "       10m_Sum_pay_amount  12h_Sum_pay_amount  1d_Sum_pay_amount  \\\n",
       "19985                 NaN                 NaN                  0   \n",
       "37095                 NaN          31557380.0           31557380   \n",
       "42979                 NaN                 NaN                  0   \n",
       "1615                  NaN                 NaN             737800   \n",
       "37923                 NaN          19325900.0           37229200   \n",
       "\n",
       "       1h_Sum_pay_amount  flag  \n",
       "19985                NaN     1  \n",
       "37095         21048740.0     0  \n",
       "42979                NaN     0  \n",
       "1615                 NaN     0  \n",
       "37923                NaN     0  \n",
       "\n",
       "[5 rows x 226 columns]"
      ]
     },
     "execution_count": 35,
     "metadata": {},
     "output_type": "execute_result"
    }
   ],
   "source": [
    "dados_treino.head()"
   ]
  },
  {
   "cell_type": "code",
   "execution_count": 36,
   "metadata": {},
   "outputs": [],
   "source": [
    "# Colunas dummy\n",
    "dummy_columns = dummy_result['dummy_cols']"
   ]
  },
  {
   "cell_type": "code",
   "execution_count": 37,
   "metadata": {},
   "outputs": [],
   "source": [
    "# Colunas de valores contínuos com valores ausentes\n",
    "continues_col_with_missing = list(set(columns_with_missing) - set(categoriacal_cols_with_missing))"
   ]
  },
  {
   "cell_type": "code",
   "execution_count": 38,
   "metadata": {},
   "outputs": [],
   "source": [
    "# Preenchemos valores ausentes com 0\n",
    "dados_treino[continues_col_with_missing] = dados_treino[continues_col_with_missing].fillna(0)"
   ]
  },
  {
   "cell_type": "markdown",
   "metadata": {},
   "source": [
    "## Tratamento nos Dados"
   ]
  },
  {
   "cell_type": "code",
   "execution_count": 39,
   "metadata": {},
   "outputs": [
    {
     "data": {
      "text/html": [
       "<div>\n",
       "<style scoped>\n",
       "    .dataframe tbody tr th:only-of-type {\n",
       "        vertical-align: middle;\n",
       "    }\n",
       "\n",
       "    .dataframe tbody tr th {\n",
       "        vertical-align: top;\n",
       "    }\n",
       "\n",
       "    .dataframe thead th {\n",
       "        text-align: right;\n",
       "    }\n",
       "</style>\n",
       "<table border=\"1\" class=\"dataframe\">\n",
       "  <thead>\n",
       "    <tr style=\"text-align: right;\">\n",
       "      <th></th>\n",
       "      <th>is_area7_equal_area4_0</th>\n",
       "      <th>is_area7_equal_area4_1</th>\n",
       "      <th>is_area2_equal_area8_0</th>\n",
       "      <th>is_area2_equal_area8_1</th>\n",
       "      <th>15d_Max_pay_amount_ismissing_0</th>\n",
       "      <th>15d_Max_pay_amount_ismissing_1</th>\n",
       "      <th>sex_ismissing_0</th>\n",
       "      <th>sex_ismissing_1</th>\n",
       "      <th>is_area9_equal_area5_0</th>\n",
       "      <th>registered_channels_31</th>\n",
       "      <th>...</th>\n",
       "      <th>10m_pay_times</th>\n",
       "      <th>12h_pay_times</th>\n",
       "      <th>1d_pay_times</th>\n",
       "      <th>1h_pay_times</th>\n",
       "      <th>30m_pay_times</th>\n",
       "      <th>10m_Sum_pay_amount</th>\n",
       "      <th>12h_Sum_pay_amount</th>\n",
       "      <th>1d_Sum_pay_amount</th>\n",
       "      <th>1h_Sum_pay_amount</th>\n",
       "      <th>flag</th>\n",
       "    </tr>\n",
       "  </thead>\n",
       "  <tbody>\n",
       "    <tr>\n",
       "      <th>19985</th>\n",
       "      <td>1</td>\n",
       "      <td>0</td>\n",
       "      <td>1</td>\n",
       "      <td>0</td>\n",
       "      <td>0</td>\n",
       "      <td>1</td>\n",
       "      <td>0</td>\n",
       "      <td>1</td>\n",
       "      <td>1</td>\n",
       "      <td>0</td>\n",
       "      <td>...</td>\n",
       "      <td>0.0</td>\n",
       "      <td>0.0</td>\n",
       "      <td>0.0</td>\n",
       "      <td>0.0</td>\n",
       "      <td>0.0</td>\n",
       "      <td>0.0</td>\n",
       "      <td>0.0</td>\n",
       "      <td>0</td>\n",
       "      <td>0.0</td>\n",
       "      <td>1</td>\n",
       "    </tr>\n",
       "    <tr>\n",
       "      <th>37095</th>\n",
       "      <td>0</td>\n",
       "      <td>1</td>\n",
       "      <td>1</td>\n",
       "      <td>0</td>\n",
       "      <td>1</td>\n",
       "      <td>0</td>\n",
       "      <td>1</td>\n",
       "      <td>0</td>\n",
       "      <td>1</td>\n",
       "      <td>0</td>\n",
       "      <td>...</td>\n",
       "      <td>0.0</td>\n",
       "      <td>105.0</td>\n",
       "      <td>105.0</td>\n",
       "      <td>65.0</td>\n",
       "      <td>65.0</td>\n",
       "      <td>0.0</td>\n",
       "      <td>31557380.0</td>\n",
       "      <td>31557380</td>\n",
       "      <td>21048740.0</td>\n",
       "      <td>0</td>\n",
       "    </tr>\n",
       "    <tr>\n",
       "      <th>42979</th>\n",
       "      <td>0</td>\n",
       "      <td>1</td>\n",
       "      <td>1</td>\n",
       "      <td>0</td>\n",
       "      <td>1</td>\n",
       "      <td>0</td>\n",
       "      <td>1</td>\n",
       "      <td>0</td>\n",
       "      <td>1</td>\n",
       "      <td>0</td>\n",
       "      <td>...</td>\n",
       "      <td>0.0</td>\n",
       "      <td>0.0</td>\n",
       "      <td>0.0</td>\n",
       "      <td>0.0</td>\n",
       "      <td>0.0</td>\n",
       "      <td>0.0</td>\n",
       "      <td>0.0</td>\n",
       "      <td>0</td>\n",
       "      <td>0.0</td>\n",
       "      <td>0</td>\n",
       "    </tr>\n",
       "    <tr>\n",
       "      <th>1615</th>\n",
       "      <td>0</td>\n",
       "      <td>1</td>\n",
       "      <td>1</td>\n",
       "      <td>0</td>\n",
       "      <td>1</td>\n",
       "      <td>0</td>\n",
       "      <td>1</td>\n",
       "      <td>0</td>\n",
       "      <td>1</td>\n",
       "      <td>0</td>\n",
       "      <td>...</td>\n",
       "      <td>0.0</td>\n",
       "      <td>0.0</td>\n",
       "      <td>2.0</td>\n",
       "      <td>0.0</td>\n",
       "      <td>0.0</td>\n",
       "      <td>0.0</td>\n",
       "      <td>0.0</td>\n",
       "      <td>737800</td>\n",
       "      <td>0.0</td>\n",
       "      <td>0</td>\n",
       "    </tr>\n",
       "    <tr>\n",
       "      <th>37923</th>\n",
       "      <td>0</td>\n",
       "      <td>1</td>\n",
       "      <td>1</td>\n",
       "      <td>0</td>\n",
       "      <td>1</td>\n",
       "      <td>0</td>\n",
       "      <td>1</td>\n",
       "      <td>0</td>\n",
       "      <td>1</td>\n",
       "      <td>0</td>\n",
       "      <td>...</td>\n",
       "      <td>0.0</td>\n",
       "      <td>86.0</td>\n",
       "      <td>195.0</td>\n",
       "      <td>0.0</td>\n",
       "      <td>0.0</td>\n",
       "      <td>0.0</td>\n",
       "      <td>19325900.0</td>\n",
       "      <td>37229200</td>\n",
       "      <td>0.0</td>\n",
       "      <td>0</td>\n",
       "    </tr>\n",
       "  </tbody>\n",
       "</table>\n",
       "<p>5 rows × 226 columns</p>\n",
       "</div>"
      ],
      "text/plain": [
       "       is_area7_equal_area4_0  is_area7_equal_area4_1  is_area2_equal_area8_0  \\\n",
       "19985                       1                       0                       1   \n",
       "37095                       0                       1                       1   \n",
       "42979                       0                       1                       1   \n",
       "1615                        0                       1                       1   \n",
       "37923                       0                       1                       1   \n",
       "\n",
       "       is_area2_equal_area8_1  15d_Max_pay_amount_ismissing_0  \\\n",
       "19985                       0                               0   \n",
       "37095                       0                               1   \n",
       "42979                       0                               1   \n",
       "1615                        0                               1   \n",
       "37923                       0                               1   \n",
       "\n",
       "       15d_Max_pay_amount_ismissing_1  sex_ismissing_0  sex_ismissing_1  \\\n",
       "19985                               1                0                1   \n",
       "37095                               0                1                0   \n",
       "42979                               0                1                0   \n",
       "1615                                0                1                0   \n",
       "37923                               0                1                0   \n",
       "\n",
       "       is_area9_equal_area5_0  registered_channels_31  ...  10m_pay_times  \\\n",
       "19985                       1                       0  ...            0.0   \n",
       "37095                       1                       0  ...            0.0   \n",
       "42979                       1                       0  ...            0.0   \n",
       "1615                        1                       0  ...            0.0   \n",
       "37923                       1                       0  ...            0.0   \n",
       "\n",
       "       12h_pay_times  1d_pay_times  1h_pay_times  30m_pay_times  \\\n",
       "19985            0.0           0.0           0.0            0.0   \n",
       "37095          105.0         105.0          65.0           65.0   \n",
       "42979            0.0           0.0           0.0            0.0   \n",
       "1615             0.0           2.0           0.0            0.0   \n",
       "37923           86.0         195.0           0.0            0.0   \n",
       "\n",
       "       10m_Sum_pay_amount  12h_Sum_pay_amount  1d_Sum_pay_amount  \\\n",
       "19985                 0.0                 0.0                  0   \n",
       "37095                 0.0          31557380.0           31557380   \n",
       "42979                 0.0                 0.0                  0   \n",
       "1615                  0.0                 0.0             737800   \n",
       "37923                 0.0          19325900.0           37229200   \n",
       "\n",
       "       1h_Sum_pay_amount  flag  \n",
       "19985                0.0     1  \n",
       "37095         21048740.0     0  \n",
       "42979                0.0     0  \n",
       "1615                 0.0     0  \n",
       "37923                0.0     0  \n",
       "\n",
       "[5 rows x 226 columns]"
      ]
     },
     "execution_count": 39,
     "metadata": {},
     "output_type": "execute_result"
    }
   ],
   "source": [
    "dados_treino.head()"
   ]
  },
  {
   "cell_type": "code",
   "execution_count": 40,
   "metadata": {},
   "outputs": [],
   "source": [
    "# Módulo customizado\n",
    "from tools.FeatureDerivative import *"
   ]
  },
  {
   "cell_type": "code",
   "execution_count": 41,
   "metadata": {},
   "outputs": [],
   "source": [
    "# Instância da classe\n",
    "feature_derive = FeatureDerivative()"
   ]
  },
  {
   "cell_type": "code",
   "execution_count": 42,
   "metadata": {},
   "outputs": [],
   "source": [
    "# Calcula a média de pagamento\n",
    "dados_treino = feature_derive.avg_payment_derivative(dados_treino)"
   ]
  },
  {
   "cell_type": "code",
   "execution_count": 43,
   "metadata": {},
   "outputs": [],
   "source": [
    "# Ajusta as colunas, removendo ID e flag\n",
    "all_columns = list(dados_treino.columns)\n",
    "all_columns.remove('ID')\n",
    "all_columns.remove('flag')"
   ]
  },
  {
   "cell_type": "code",
   "execution_count": 44,
   "metadata": {},
   "outputs": [],
   "source": [
    "# Colunas numéricas\n",
    "numerical_columns = list(set(all_columns) - set(dummy_columns) - set(categorical_cols))"
   ]
  },
  {
   "cell_type": "code",
   "execution_count": 45,
   "metadata": {},
   "outputs": [
    {
     "data": {
      "text/html": [
       "<div>\n",
       "<style scoped>\n",
       "    .dataframe tbody tr th:only-of-type {\n",
       "        vertical-align: middle;\n",
       "    }\n",
       "\n",
       "    .dataframe tbody tr th {\n",
       "        vertical-align: top;\n",
       "    }\n",
       "\n",
       "    .dataframe thead th {\n",
       "        text-align: right;\n",
       "    }\n",
       "</style>\n",
       "<table border=\"1\" class=\"dataframe\">\n",
       "  <thead>\n",
       "    <tr style=\"text-align: right;\">\n",
       "      <th></th>\n",
       "      <th>is_area7_equal_area4_0</th>\n",
       "      <th>is_area7_equal_area4_1</th>\n",
       "      <th>is_area2_equal_area8_0</th>\n",
       "      <th>is_area2_equal_area8_1</th>\n",
       "      <th>15d_Max_pay_amount_ismissing_0</th>\n",
       "      <th>15d_Max_pay_amount_ismissing_1</th>\n",
       "      <th>sex_ismissing_0</th>\n",
       "      <th>sex_ismissing_1</th>\n",
       "      <th>is_area9_equal_area5_0</th>\n",
       "      <th>registered_channels_31</th>\n",
       "      <th>...</th>\n",
       "      <th>10m_30m_payment_increase</th>\n",
       "      <th>30m_1h_payment_increase</th>\n",
       "      <th>1h_12h_payment_increase</th>\n",
       "      <th>12h_1d_payment_increase</th>\n",
       "      <th>1d_7d_payment_increase</th>\n",
       "      <th>7d_15d_payment_increase</th>\n",
       "      <th>15d_30d_payment_increase</th>\n",
       "      <th>30d_60d_payment_increase</th>\n",
       "      <th>60d_90d_payment_increase</th>\n",
       "      <th>max_Avg_pay_amount</th>\n",
       "    </tr>\n",
       "  </thead>\n",
       "  <tbody>\n",
       "    <tr>\n",
       "      <th>19985</th>\n",
       "      <td>1</td>\n",
       "      <td>0</td>\n",
       "      <td>1</td>\n",
       "      <td>0</td>\n",
       "      <td>0</td>\n",
       "      <td>1</td>\n",
       "      <td>0</td>\n",
       "      <td>1</td>\n",
       "      <td>1</td>\n",
       "      <td>0</td>\n",
       "      <td>...</td>\n",
       "      <td>0.000000</td>\n",
       "      <td>0.0</td>\n",
       "      <td>0.000000</td>\n",
       "      <td>0.000000</td>\n",
       "      <td>0.000000</td>\n",
       "      <td>0.000000</td>\n",
       "      <td>0.000000</td>\n",
       "      <td>0.000000</td>\n",
       "      <td>0.000000</td>\n",
       "      <td>0.000000</td>\n",
       "    </tr>\n",
       "    <tr>\n",
       "      <th>37095</th>\n",
       "      <td>0</td>\n",
       "      <td>1</td>\n",
       "      <td>1</td>\n",
       "      <td>0</td>\n",
       "      <td>1</td>\n",
       "      <td>0</td>\n",
       "      <td>1</td>\n",
       "      <td>0</td>\n",
       "      <td>1</td>\n",
       "      <td>0</td>\n",
       "      <td>...</td>\n",
       "      <td>323826.769231</td>\n",
       "      <td>0.0</td>\n",
       "      <td>-23280.293040</td>\n",
       "      <td>0.000000</td>\n",
       "      <td>-262187.287001</td>\n",
       "      <td>-3702.816308</td>\n",
       "      <td>16557.706829</td>\n",
       "      <td>-6498.535029</td>\n",
       "      <td>-1362.416276</td>\n",
       "      <td>323826.769231</td>\n",
       "    </tr>\n",
       "    <tr>\n",
       "      <th>42979</th>\n",
       "      <td>0</td>\n",
       "      <td>1</td>\n",
       "      <td>1</td>\n",
       "      <td>0</td>\n",
       "      <td>1</td>\n",
       "      <td>0</td>\n",
       "      <td>1</td>\n",
       "      <td>0</td>\n",
       "      <td>1</td>\n",
       "      <td>0</td>\n",
       "      <td>...</td>\n",
       "      <td>0.000000</td>\n",
       "      <td>0.0</td>\n",
       "      <td>0.000000</td>\n",
       "      <td>0.000000</td>\n",
       "      <td>19161.666667</td>\n",
       "      <td>108085.904762</td>\n",
       "      <td>-18380.935065</td>\n",
       "      <td>0.000000</td>\n",
       "      <td>0.000000</td>\n",
       "      <td>127247.571429</td>\n",
       "    </tr>\n",
       "    <tr>\n",
       "      <th>1615</th>\n",
       "      <td>0</td>\n",
       "      <td>1</td>\n",
       "      <td>1</td>\n",
       "      <td>0</td>\n",
       "      <td>1</td>\n",
       "      <td>0</td>\n",
       "      <td>1</td>\n",
       "      <td>0</td>\n",
       "      <td>1</td>\n",
       "      <td>0</td>\n",
       "      <td>...</td>\n",
       "      <td>0.000000</td>\n",
       "      <td>0.0</td>\n",
       "      <td>0.000000</td>\n",
       "      <td>368900.000000</td>\n",
       "      <td>-269100.000000</td>\n",
       "      <td>0.000000</td>\n",
       "      <td>0.000000</td>\n",
       "      <td>0.000000</td>\n",
       "      <td>0.000000</td>\n",
       "      <td>368900.000000</td>\n",
       "    </tr>\n",
       "    <tr>\n",
       "      <th>37923</th>\n",
       "      <td>0</td>\n",
       "      <td>1</td>\n",
       "      <td>1</td>\n",
       "      <td>0</td>\n",
       "      <td>1</td>\n",
       "      <td>0</td>\n",
       "      <td>1</td>\n",
       "      <td>0</td>\n",
       "      <td>1</td>\n",
       "      <td>0</td>\n",
       "      <td>...</td>\n",
       "      <td>0.000000</td>\n",
       "      <td>0.0</td>\n",
       "      <td>224719.767442</td>\n",
       "      <td>-33800.793083</td>\n",
       "      <td>101690.516382</td>\n",
       "      <td>20766.907861</td>\n",
       "      <td>5546.704847</td>\n",
       "      <td>466.071809</td>\n",
       "      <td>-457.957419</td>\n",
       "      <td>319389.175258</td>\n",
       "    </tr>\n",
       "  </tbody>\n",
       "</table>\n",
       "<p>5 rows × 246 columns</p>\n",
       "</div>"
      ],
      "text/plain": [
       "       is_area7_equal_area4_0  is_area7_equal_area4_1  is_area2_equal_area8_0  \\\n",
       "19985                       1                       0                       1   \n",
       "37095                       0                       1                       1   \n",
       "42979                       0                       1                       1   \n",
       "1615                        0                       1                       1   \n",
       "37923                       0                       1                       1   \n",
       "\n",
       "       is_area2_equal_area8_1  15d_Max_pay_amount_ismissing_0  \\\n",
       "19985                       0                               0   \n",
       "37095                       0                               1   \n",
       "42979                       0                               1   \n",
       "1615                        0                               1   \n",
       "37923                       0                               1   \n",
       "\n",
       "       15d_Max_pay_amount_ismissing_1  sex_ismissing_0  sex_ismissing_1  \\\n",
       "19985                               1                0                1   \n",
       "37095                               0                1                0   \n",
       "42979                               0                1                0   \n",
       "1615                                0                1                0   \n",
       "37923                               0                1                0   \n",
       "\n",
       "       is_area9_equal_area5_0  registered_channels_31  ...  \\\n",
       "19985                       1                       0  ...   \n",
       "37095                       1                       0  ...   \n",
       "42979                       1                       0  ...   \n",
       "1615                        1                       0  ...   \n",
       "37923                       1                       0  ...   \n",
       "\n",
       "       10m_30m_payment_increase  30m_1h_payment_increase  \\\n",
       "19985                  0.000000                      0.0   \n",
       "37095             323826.769231                      0.0   \n",
       "42979                  0.000000                      0.0   \n",
       "1615                   0.000000                      0.0   \n",
       "37923                  0.000000                      0.0   \n",
       "\n",
       "       1h_12h_payment_increase  12h_1d_payment_increase  \\\n",
       "19985                 0.000000                 0.000000   \n",
       "37095            -23280.293040                 0.000000   \n",
       "42979                 0.000000                 0.000000   \n",
       "1615                  0.000000            368900.000000   \n",
       "37923            224719.767442            -33800.793083   \n",
       "\n",
       "       1d_7d_payment_increase  7d_15d_payment_increase  \\\n",
       "19985                0.000000                 0.000000   \n",
       "37095          -262187.287001             -3702.816308   \n",
       "42979            19161.666667            108085.904762   \n",
       "1615           -269100.000000                 0.000000   \n",
       "37923           101690.516382             20766.907861   \n",
       "\n",
       "       15d_30d_payment_increase  30d_60d_payment_increase  \\\n",
       "19985                  0.000000                  0.000000   \n",
       "37095              16557.706829              -6498.535029   \n",
       "42979             -18380.935065                  0.000000   \n",
       "1615                   0.000000                  0.000000   \n",
       "37923               5546.704847                466.071809   \n",
       "\n",
       "       60d_90d_payment_increase  max_Avg_pay_amount  \n",
       "19985                  0.000000            0.000000  \n",
       "37095              -1362.416276       323826.769231  \n",
       "42979                  0.000000       127247.571429  \n",
       "1615                   0.000000       368900.000000  \n",
       "37923               -457.957419       319389.175258  \n",
       "\n",
       "[5 rows x 246 columns]"
      ]
     },
     "execution_count": 45,
     "metadata": {},
     "output_type": "execute_result"
    }
   ],
   "source": [
    "dados_treino.head()"
   ]
  },
  {
   "cell_type": "code",
   "execution_count": 46,
   "metadata": {},
   "outputs": [
    {
     "data": {
      "text/plain": [
       "(32872, 246)"
      ]
     },
     "execution_count": 46,
     "metadata": {},
     "output_type": "execute_result"
    }
   ],
   "source": [
    "dados_treino.shape"
   ]
  },
  {
   "cell_type": "markdown",
   "metadata": {},
   "source": [
    "## Padronização dos Dados"
   ]
  },
  {
   "cell_type": "code",
   "execution_count": 47,
   "metadata": {},
   "outputs": [],
   "source": [
    "# Módulo customizadoo\n",
    "from tools.FeatureStandard import *"
   ]
  },
  {
   "cell_type": "code",
   "execution_count": 48,
   "metadata": {},
   "outputs": [],
   "source": [
    "# Extrai os outliers\n",
    "outlier_columns = get_outlier_features(dados_treino, numerical_columns, expand = True)"
   ]
  },
  {
   "cell_type": "code",
   "execution_count": 49,
   "metadata": {},
   "outputs": [],
   "source": [
    "# Dataframe com  os outliers de fraudes\n",
    "outlier_fraud_df = outlier_effect(dados_treino, outlier_cols = outlier_columns, flag_col = 'flag', expand = True)"
   ]
  },
  {
   "cell_type": "code",
   "execution_count": 50,
   "metadata": {},
   "outputs": [],
   "source": [
    "# Padronização\n",
    "lower, upper, mu, sigma = {}, {}, {}, {}\n",
    "for col in outlier_columns:\n",
    "    temp_df = dados_treino[[col,'flag']]\n",
    "    zero_score = zero_score_normalization(temp_df,col)\n",
    "    if zero_score ==1:\n",
    "        del dados_treino[col]\n",
    "        numerical_columns.remove(col)\n",
    "        continue\n",
    "    dados_treino[col] = zero_score['new_var']\n",
    "    lower[col], upper[col], mu[col], sigma[col] = zero_score['lower'], zero_score['upper'], zero_score['mu'], zero_score['sigma']"
   ]
  },
  {
   "cell_type": "code",
   "execution_count": 51,
   "metadata": {},
   "outputs": [
    {
     "data": {
      "text/plain": [
       "(32872, 246)"
      ]
     },
     "execution_count": 51,
     "metadata": {},
     "output_type": "execute_result"
    }
   ],
   "source": [
    "dados_treino.shape"
   ]
  },
  {
   "cell_type": "code",
   "execution_count": 52,
   "metadata": {},
   "outputs": [
    {
     "data": {
      "text/html": [
       "<div>\n",
       "<style scoped>\n",
       "    .dataframe tbody tr th:only-of-type {\n",
       "        vertical-align: middle;\n",
       "    }\n",
       "\n",
       "    .dataframe tbody tr th {\n",
       "        vertical-align: top;\n",
       "    }\n",
       "\n",
       "    .dataframe thead th {\n",
       "        text-align: right;\n",
       "    }\n",
       "</style>\n",
       "<table border=\"1\" class=\"dataframe\">\n",
       "  <thead>\n",
       "    <tr style=\"text-align: right;\">\n",
       "      <th></th>\n",
       "      <th>is_area7_equal_area4_0</th>\n",
       "      <th>is_area7_equal_area4_1</th>\n",
       "      <th>is_area2_equal_area8_0</th>\n",
       "      <th>is_area2_equal_area8_1</th>\n",
       "      <th>15d_Max_pay_amount_ismissing_0</th>\n",
       "      <th>15d_Max_pay_amount_ismissing_1</th>\n",
       "      <th>sex_ismissing_0</th>\n",
       "      <th>sex_ismissing_1</th>\n",
       "      <th>is_area9_equal_area5_0</th>\n",
       "      <th>registered_channels_31</th>\n",
       "      <th>...</th>\n",
       "      <th>10m_30m_payment_increase</th>\n",
       "      <th>30m_1h_payment_increase</th>\n",
       "      <th>1h_12h_payment_increase</th>\n",
       "      <th>12h_1d_payment_increase</th>\n",
       "      <th>1d_7d_payment_increase</th>\n",
       "      <th>7d_15d_payment_increase</th>\n",
       "      <th>15d_30d_payment_increase</th>\n",
       "      <th>30d_60d_payment_increase</th>\n",
       "      <th>60d_90d_payment_increase</th>\n",
       "      <th>max_Avg_pay_amount</th>\n",
       "    </tr>\n",
       "  </thead>\n",
       "  <tbody>\n",
       "    <tr>\n",
       "      <th>19985</th>\n",
       "      <td>1</td>\n",
       "      <td>0</td>\n",
       "      <td>1</td>\n",
       "      <td>0</td>\n",
       "      <td>0</td>\n",
       "      <td>1</td>\n",
       "      <td>0</td>\n",
       "      <td>1</td>\n",
       "      <td>1</td>\n",
       "      <td>0</td>\n",
       "      <td>...</td>\n",
       "      <td>-0.168666</td>\n",
       "      <td>-0.132468</td>\n",
       "      <td>-0.204880</td>\n",
       "      <td>-0.177423</td>\n",
       "      <td>0.088077</td>\n",
       "      <td>-0.173009</td>\n",
       "      <td>-0.149261</td>\n",
       "      <td>-0.130625</td>\n",
       "      <td>-0.059811</td>\n",
       "      <td>-0.403575</td>\n",
       "    </tr>\n",
       "    <tr>\n",
       "      <th>37095</th>\n",
       "      <td>0</td>\n",
       "      <td>1</td>\n",
       "      <td>1</td>\n",
       "      <td>0</td>\n",
       "      <td>1</td>\n",
       "      <td>0</td>\n",
       "      <td>1</td>\n",
       "      <td>0</td>\n",
       "      <td>1</td>\n",
       "      <td>0</td>\n",
       "      <td>...</td>\n",
       "      <td>4.498488</td>\n",
       "      <td>-0.132468</td>\n",
       "      <td>-0.455090</td>\n",
       "      <td>-0.177423</td>\n",
       "      <td>-1.045207</td>\n",
       "      <td>-0.216479</td>\n",
       "      <td>0.054612</td>\n",
       "      <td>-0.190992</td>\n",
       "      <td>-0.086019</td>\n",
       "      <td>0.083852</td>\n",
       "    </tr>\n",
       "    <tr>\n",
       "      <th>42979</th>\n",
       "      <td>0</td>\n",
       "      <td>1</td>\n",
       "      <td>1</td>\n",
       "      <td>0</td>\n",
       "      <td>1</td>\n",
       "      <td>0</td>\n",
       "      <td>1</td>\n",
       "      <td>0</td>\n",
       "      <td>1</td>\n",
       "      <td>0</td>\n",
       "      <td>...</td>\n",
       "      <td>-0.168666</td>\n",
       "      <td>-0.132468</td>\n",
       "      <td>-0.204880</td>\n",
       "      <td>-0.177423</td>\n",
       "      <td>0.170901</td>\n",
       "      <td>1.095872</td>\n",
       "      <td>-0.375584</td>\n",
       "      <td>-0.130625</td>\n",
       "      <td>-0.059811</td>\n",
       "      <td>-0.212041</td>\n",
       "    </tr>\n",
       "    <tr>\n",
       "      <th>1615</th>\n",
       "      <td>0</td>\n",
       "      <td>1</td>\n",
       "      <td>1</td>\n",
       "      <td>0</td>\n",
       "      <td>1</td>\n",
       "      <td>0</td>\n",
       "      <td>1</td>\n",
       "      <td>0</td>\n",
       "      <td>1</td>\n",
       "      <td>0</td>\n",
       "      <td>...</td>\n",
       "      <td>-0.168666</td>\n",
       "      <td>-0.132468</td>\n",
       "      <td>-0.204880</td>\n",
       "      <td>4.293545</td>\n",
       "      <td>-1.075087</td>\n",
       "      <td>-0.173009</td>\n",
       "      <td>-0.149261</td>\n",
       "      <td>-0.130625</td>\n",
       "      <td>-0.059811</td>\n",
       "      <td>0.151697</td>\n",
       "    </tr>\n",
       "    <tr>\n",
       "      <th>37923</th>\n",
       "      <td>0</td>\n",
       "      <td>1</td>\n",
       "      <td>1</td>\n",
       "      <td>0</td>\n",
       "      <td>1</td>\n",
       "      <td>0</td>\n",
       "      <td>1</td>\n",
       "      <td>0</td>\n",
       "      <td>1</td>\n",
       "      <td>0</td>\n",
       "      <td>...</td>\n",
       "      <td>-0.168666</td>\n",
       "      <td>-0.132468</td>\n",
       "      <td>2.210348</td>\n",
       "      <td>-0.587080</td>\n",
       "      <td>0.527626</td>\n",
       "      <td>0.070785</td>\n",
       "      <td>-0.080965</td>\n",
       "      <td>-0.126296</td>\n",
       "      <td>-0.068621</td>\n",
       "      <td>0.077173</td>\n",
       "    </tr>\n",
       "  </tbody>\n",
       "</table>\n",
       "<p>5 rows × 246 columns</p>\n",
       "</div>"
      ],
      "text/plain": [
       "       is_area7_equal_area4_0  is_area7_equal_area4_1  is_area2_equal_area8_0  \\\n",
       "19985                       1                       0                       1   \n",
       "37095                       0                       1                       1   \n",
       "42979                       0                       1                       1   \n",
       "1615                        0                       1                       1   \n",
       "37923                       0                       1                       1   \n",
       "\n",
       "       is_area2_equal_area8_1  15d_Max_pay_amount_ismissing_0  \\\n",
       "19985                       0                               0   \n",
       "37095                       0                               1   \n",
       "42979                       0                               1   \n",
       "1615                        0                               1   \n",
       "37923                       0                               1   \n",
       "\n",
       "       15d_Max_pay_amount_ismissing_1  sex_ismissing_0  sex_ismissing_1  \\\n",
       "19985                               1                0                1   \n",
       "37095                               0                1                0   \n",
       "42979                               0                1                0   \n",
       "1615                                0                1                0   \n",
       "37923                               0                1                0   \n",
       "\n",
       "       is_area9_equal_area5_0  registered_channels_31  ...  \\\n",
       "19985                       1                       0  ...   \n",
       "37095                       1                       0  ...   \n",
       "42979                       1                       0  ...   \n",
       "1615                        1                       0  ...   \n",
       "37923                       1                       0  ...   \n",
       "\n",
       "       10m_30m_payment_increase  30m_1h_payment_increase  \\\n",
       "19985                 -0.168666                -0.132468   \n",
       "37095                  4.498488                -0.132468   \n",
       "42979                 -0.168666                -0.132468   \n",
       "1615                  -0.168666                -0.132468   \n",
       "37923                 -0.168666                -0.132468   \n",
       "\n",
       "       1h_12h_payment_increase  12h_1d_payment_increase  \\\n",
       "19985                -0.204880                -0.177423   \n",
       "37095                -0.455090                -0.177423   \n",
       "42979                -0.204880                -0.177423   \n",
       "1615                 -0.204880                 4.293545   \n",
       "37923                 2.210348                -0.587080   \n",
       "\n",
       "       1d_7d_payment_increase  7d_15d_payment_increase  \\\n",
       "19985                0.088077                -0.173009   \n",
       "37095               -1.045207                -0.216479   \n",
       "42979                0.170901                 1.095872   \n",
       "1615                -1.075087                -0.173009   \n",
       "37923                0.527626                 0.070785   \n",
       "\n",
       "       15d_30d_payment_increase  30d_60d_payment_increase  \\\n",
       "19985                 -0.149261                 -0.130625   \n",
       "37095                  0.054612                 -0.190992   \n",
       "42979                 -0.375584                 -0.130625   \n",
       "1615                  -0.149261                 -0.130625   \n",
       "37923                 -0.080965                 -0.126296   \n",
       "\n",
       "       60d_90d_payment_increase  max_Avg_pay_amount  \n",
       "19985                 -0.059811           -0.403575  \n",
       "37095                 -0.086019            0.083852  \n",
       "42979                 -0.059811           -0.212041  \n",
       "1615                  -0.059811            0.151697  \n",
       "37923                 -0.068621            0.077173  \n",
       "\n",
       "[5 rows x 246 columns]"
      ]
     },
     "execution_count": 52,
     "metadata": {},
     "output_type": "execute_result"
    }
   ],
   "source": [
    "dados_treino.head()"
   ]
  },
  {
   "cell_type": "code",
   "execution_count": 53,
   "metadata": {},
   "outputs": [],
   "source": [
    "# Grava os dados limpos em disco\n",
    "dados_treino.to_csv('dados/dados_treino.csv', index = False)"
   ]
  },
  {
   "cell_type": "markdown",
   "metadata": {},
   "source": [
    "## Modelagem"
   ]
  },
  {
   "cell_type": "markdown",
   "metadata": {},
   "source": [
    "## Método 1 - Bagging\n",
    "\n",
    "### Modelos a serem usados: Regressão Logística, Gradient Boosting Classifier e Rede Neural"
   ]
  },
  {
   "cell_type": "markdown",
   "metadata": {},
   "source": [
    "### Modelo de Regressão Logísitica"
   ]
  },
  {
   "cell_type": "code",
   "execution_count": 54,
   "metadata": {},
   "outputs": [],
   "source": [
    "# Extrai o índice e cria uma nova coluna\n",
    "dados_treino['Idx'] = dados_treino.index"
   ]
  },
  {
   "cell_type": "code",
   "execution_count": 55,
   "metadata": {},
   "outputs": [],
   "source": [
    "# Extrai o tamanho do dataset\n",
    "size = dados_treino.shape[0]"
   ]
  },
  {
   "cell_type": "code",
   "execution_count": 56,
   "metadata": {},
   "outputs": [],
   "source": [
    "# Criamos uma amostra dos dados de treino para gerar um novo índice\n",
    "dados_treino2 = dados_treino.sample(n = size, replace = True)"
   ]
  },
  {
   "cell_type": "code",
   "execution_count": 57,
   "metadata": {},
   "outputs": [],
   "source": [
    "# Cria um novo índice\n",
    "trainDataIndex = set(list(dados_treino2.Idx))"
   ]
  },
  {
   "cell_type": "code",
   "execution_count": 58,
   "metadata": {},
   "outputs": [
    {
     "data": {
      "text/plain": [
       "0.36788147967875395"
      ]
     },
     "execution_count": 58,
     "metadata": {},
     "output_type": "execute_result"
    }
   ],
   "source": [
    "# Cria a amostra para avaliiação do modelo\n",
    "amostra_valid = dados_treino.loc[~dados_treino['Idx'].isin(list(trainDataIndex))]\n",
    "amostra_valid.shape[0] / dados_treino.shape[0]"
   ]
  },
  {
   "cell_type": "code",
   "execution_count": 59,
   "metadata": {},
   "outputs": [
    {
     "data": {
      "text/plain": [
       "(12093, 247)"
      ]
     },
     "execution_count": 59,
     "metadata": {},
     "output_type": "execute_result"
    }
   ],
   "source": [
    "amostra_valid.shape"
   ]
  },
  {
   "cell_type": "code",
   "execution_count": 60,
   "metadata": {},
   "outputs": [],
   "source": [
    "# Lista com todos os atributos\n",
    "all_features = [feature for feature in list(dados_treino2.columns)]\n",
    "all_features.remove('Idx')\n",
    "all_features.remove('flag')"
   ]
  },
  {
   "cell_type": "code",
   "execution_count": 61,
   "metadata": {
    "scrolled": false
   },
   "outputs": [],
   "source": [
    "# Parâmetros e variáveis\n",
    "C_list = np.arange(0.01,1,0.1)\n",
    "\n",
    "# Area under the curve\n",
    "lr_auc = []"
   ]
  },
  {
   "cell_type": "code",
   "execution_count": 62,
   "metadata": {},
   "outputs": [],
   "source": [
    "# Otimização de hiperparâmetro\n",
    "for c in C_list:\n",
    "    LR = LogisticRegression(C = c).fit(dados_treino2[all_features], dados_treino2['flag'])\n",
    "    pred = LR.predict_proba(amostra_valid[all_features])[:,1]\n",
    "    test_auc = roc_auc_score(amostra_valid['flag'], pred)\n",
    "    lr_auc.append(test_auc)"
   ]
  },
  {
   "cell_type": "code",
   "execution_count": 63,
   "metadata": {},
   "outputs": [
    {
     "name": "stdout",
     "output_type": "stream",
     "text": [
      "0.8080096884657144\n"
     ]
    }
   ],
   "source": [
    "# AUC\n",
    "position = lr_auc.index(max(lr_auc))\n",
    "C_best = C_list[position]\n",
    "print(max(lr_auc))"
   ]
  },
  {
   "cell_type": "code",
   "execution_count": 64,
   "metadata": {},
   "outputs": [
    {
     "data": {
      "text/plain": [
       "0.51"
      ]
     },
     "execution_count": 64,
     "metadata": {},
     "output_type": "execute_result"
    }
   ],
   "source": [
    "C_best"
   ]
  },
  {
   "cell_type": "code",
   "execution_count": 65,
   "metadata": {},
   "outputs": [],
   "source": [
    "# Cria e treina o modelo\n",
    "LR = LogisticRegression(C = C_best).fit(dados_treino2[all_features], dados_treino2['flag'])"
   ]
  },
  {
   "cell_type": "code",
   "execution_count": 66,
   "metadata": {},
   "outputs": [],
   "source": [
    "# Previsões\n",
    "lr_pred = LR.predict_proba(dados_treino[all_features])[:,1]"
   ]
  },
  {
   "cell_type": "code",
   "execution_count": 67,
   "metadata": {},
   "outputs": [
    {
     "data": {
      "text/plain": [
       "0.8073898784269357"
      ]
     },
     "execution_count": 67,
     "metadata": {},
     "output_type": "execute_result"
    }
   ],
   "source": [
    "# Avalia o modelo\n",
    "lr_auc = roc_auc_score(dados_treino['flag'], lr_pred)   \n",
    "lr_auc"
   ]
  },
  {
   "cell_type": "markdown",
   "metadata": {},
   "source": [
    "### Modelo Gradient Boosting Classifier"
   ]
  },
  {
   "cell_type": "code",
   "execution_count": 68,
   "metadata": {},
   "outputs": [],
   "source": [
    "# Prepara a amostra\n",
    "dados_treino2 = dados_treino.sample(n = size, replace = True)\n",
    "trainDataIndex = set(list(dados_treino2.Idx))\n",
    "amostra_valid = dados_treino.loc[~dados_treino['Idx'].isin(list(trainDataIndex))]"
   ]
  },
  {
   "cell_type": "code",
   "execution_count": 69,
   "metadata": {},
   "outputs": [],
   "source": [
    "# Hiperparâmetros\n",
    "best_max_depth = 8\n",
    "best_min_samples_split, best_min_samples_leaf  = 70,5\n",
    "best_max_features = 10\n",
    "best_subsample = 0.7\n",
    "best_n_estimators = 40"
   ]
  },
  {
   "cell_type": "code",
   "execution_count": 70,
   "metadata": {},
   "outputs": [],
   "source": [
    "# Cria o modelo\n",
    "gbm_best = GradientBoostingClassifier(learning_rate = 0.1, \n",
    "                                      random_state = 10,\n",
    "                                      n_estimators = best_n_estimators,\n",
    "                                      max_depth = best_max_depth,\n",
    "                                      min_samples_leaf = best_min_samples_leaf,\n",
    "                                      max_features = best_max_features,\n",
    "                                      subsample = best_subsample)"
   ]
  },
  {
   "cell_type": "code",
   "execution_count": 71,
   "metadata": {},
   "outputs": [
    {
     "data": {
      "text/plain": [
       "GradientBoostingClassifier(max_depth=8, max_features=10, min_samples_leaf=5,\n",
       "                           n_estimators=40, random_state=10, subsample=0.7)"
      ]
     },
     "execution_count": 71,
     "metadata": {},
     "output_type": "execute_result"
    }
   ],
   "source": [
    "# Treina o modelo\n",
    "gbm_best.fit(dados_treino2[all_features], dados_treino2['flag'])"
   ]
  },
  {
   "cell_type": "code",
   "execution_count": 72,
   "metadata": {},
   "outputs": [
    {
     "data": {
      "text/plain": [
       "0.9752227279036634"
      ]
     },
     "execution_count": 72,
     "metadata": {},
     "output_type": "execute_result"
    }
   ],
   "source": [
    "# Previsões\n",
    "gbdt_pred = gbm_best.predict_proba(dados_treino[all_features])[:,1]\n",
    "gbdt_auc = roc_auc_score(dados_treino['flag'], gbdt_pred)  \n",
    "gbdt_auc"
   ]
  },
  {
   "cell_type": "markdown",
   "metadata": {},
   "source": [
    "### Modelo de Rede Neural"
   ]
  },
  {
   "cell_type": "code",
   "execution_count": 73,
   "metadata": {},
   "outputs": [],
   "source": [
    "# Prepara a amostra\n",
    "dados_treino2 = dados_treino.sample(n = size, replace = True)\n",
    "trainDataIndex = set(list(dados_treino2.Idx))\n",
    "amostra_valid = dados_treino.loc[~dados_treino['Idx'].isin(list(trainDataIndex))]"
   ]
  },
  {
   "cell_type": "code",
   "execution_count": 74,
   "metadata": {},
   "outputs": [
    {
     "data": {
      "text/plain": [
       "MLPClassifier(hidden_layer_sizes=(60, 40, 20))"
      ]
     },
     "execution_count": 74,
     "metadata": {},
     "output_type": "execute_result"
    }
   ],
   "source": [
    "# Cria e treina o modelo\n",
    "ann_clf = MLPClassifier(hidden_layer_sizes = (60,40,20))\n",
    "ann_clf.fit(dados_treino2[all_features], dados_treino2['flag'])"
   ]
  },
  {
   "cell_type": "code",
   "execution_count": 75,
   "metadata": {},
   "outputs": [
    {
     "data": {
      "text/plain": [
       "0.8220930792136775"
      ]
     },
     "execution_count": 75,
     "metadata": {},
     "output_type": "execute_result"
    }
   ],
   "source": [
    "# Previsões\n",
    "ann_pred = ann_clf.predict_proba(dados_treino[all_features])[:,1]\n",
    "ann_auc = roc_auc_score(dados_treino['flag'], ann_pred) \n",
    "ann_auc"
   ]
  },
  {
   "cell_type": "code",
   "execution_count": 76,
   "metadata": {},
   "outputs": [
    {
     "data": {
      "text/plain": [
       "0.9715176074043811"
      ]
     },
     "execution_count": 76,
     "metadata": {},
     "output_type": "execute_result"
    }
   ],
   "source": [
    "# Resumo\n",
    "bagging_pred = pd.DataFrame({'LR':lr_pred, 'GBDT':gbdt_pred, 'ANN':ann_pred})\n",
    "bagging_pred['avg_prob'] = bagging_pred.apply(np.mean, axis=1)\n",
    "avg_auc = roc_auc_score(dados_treino['flag'], bagging_pred['avg_prob']) \n",
    "avg_auc"
   ]
  },
  {
   "cell_type": "markdown",
   "metadata": {},
   "source": [
    "## Método 2  - Boosting\n",
    "\n",
    "### Modelo a ser usado: Adaboost"
   ]
  },
  {
   "cell_type": "code",
   "execution_count": 77,
   "metadata": {},
   "outputs": [],
   "source": [
    "# Prepara os dados\n",
    "bad = dados_treino[dados_treino.flag == 1]\n",
    "good0 = dados_treino[dados_treino.flag == 0]\n",
    "good = good0.iloc[:bad.shape[0]*10]\n",
    "dados_treino_ada = pd.concat([bad, good])"
   ]
  },
  {
   "cell_type": "code",
   "execution_count": 78,
   "metadata": {},
   "outputs": [],
   "source": [
    "# Lista de hiperparâmetros\n",
    "param_test = {'n_estimators':range(5,101,5), 'learning_rate':np.arange(0.1,1.1,0.1)}"
   ]
  },
  {
   "cell_type": "code",
   "execution_count": 79,
   "metadata": {},
   "outputs": [],
   "source": [
    "# Cria o modelo de Grid Search\n",
    "gsearch = GridSearchCV(n_jobs = -1,\n",
    "                       estimator = AdaBoostClassifier(),\n",
    "                       param_grid = param_test,\n",
    "                       iid = False,\n",
    "                       cv = 5)"
   ]
  },
  {
   "cell_type": "code",
   "execution_count": 80,
   "metadata": {},
   "outputs": [
    {
     "data": {
      "text/plain": [
       "GridSearchCV(cv=5, estimator=AdaBoostClassifier(), iid=False, n_jobs=-1,\n",
       "             param_grid={'learning_rate': array([0.1, 0.2, 0.3, 0.4, 0.5, 0.6, 0.7, 0.8, 0.9, 1. ]),\n",
       "                         'n_estimators': range(5, 101, 5)})"
      ]
     },
     "execution_count": 80,
     "metadata": {},
     "output_type": "execute_result"
    }
   ],
   "source": [
    "# Treinamento do modelo\n",
    "gsearch.fit(dados_treino_ada[all_features], dados_treino_ada['flag'])"
   ]
  },
  {
   "cell_type": "code",
   "execution_count": 81,
   "metadata": {},
   "outputs": [],
   "source": [
    "# Coleta os melhores hiperparâmetros\n",
    "best_n_estimators, best_learning_rate = gsearch.best_params_['n_estimators'], gsearch.best_params_['learning_rate']"
   ]
  },
  {
   "cell_type": "code",
   "execution_count": 82,
   "metadata": {},
   "outputs": [
    {
     "data": {
      "text/plain": [
       "95"
      ]
     },
     "execution_count": 82,
     "metadata": {},
     "output_type": "execute_result"
    }
   ],
   "source": [
    "best_n_estimators"
   ]
  },
  {
   "cell_type": "code",
   "execution_count": 83,
   "metadata": {},
   "outputs": [
    {
     "data": {
      "text/plain": [
       "0.9"
      ]
     },
     "execution_count": 83,
     "metadata": {},
     "output_type": "execute_result"
    }
   ],
   "source": [
    "best_learning_rate"
   ]
  },
  {
   "cell_type": "code",
   "execution_count": 84,
   "metadata": {},
   "outputs": [],
   "source": [
    "# Cria o modelo\n",
    "ada_clf = AdaBoostClassifier(n_estimators = best_n_estimators, learning_rate = best_learning_rate)"
   ]
  },
  {
   "cell_type": "code",
   "execution_count": 85,
   "metadata": {},
   "outputs": [
    {
     "data": {
      "text/plain": [
       "AdaBoostClassifier(learning_rate=0.9, n_estimators=95)"
      ]
     },
     "execution_count": 85,
     "metadata": {},
     "output_type": "execute_result"
    }
   ],
   "source": [
    "# Treinamento do modelo\n",
    "ada_clf.fit(dados_treino_ada[all_features], dados_treino_ada['flag'])"
   ]
  },
  {
   "cell_type": "code",
   "execution_count": 86,
   "metadata": {},
   "outputs": [
    {
     "data": {
      "text/plain": [
       "0.9623589106220602"
      ]
     },
     "execution_count": 86,
     "metadata": {},
     "output_type": "execute_result"
    }
   ],
   "source": [
    "ada_pred = ada_clf.predict_proba(dados_treino[all_features])[:,1]\n",
    "ada_auc = roc_auc_score(dados_treino['flag'], ada_pred)\n",
    "ada_auc"
   ]
  },
  {
   "cell_type": "markdown",
   "metadata": {},
   "source": [
    "### Método 3 - Stacking \n",
    "\n",
    "### Modelos a serem usados: Regressão Logística, Gradient Boosting Classifier e Rede Neural"
   ]
  },
  {
   "cell_type": "code",
   "execution_count": 87,
   "metadata": {},
   "outputs": [],
   "source": [
    "idx = list(dados_treino.Idx)\n",
    "K = 5\n",
    "num_of_models = 2\n",
    "gbdt_result = pd.DataFrame()\n",
    "ann_result = pd.DataFrame()"
   ]
  },
  {
   "cell_type": "markdown",
   "metadata": {},
   "source": [
    "Usando GB como o primeiro modelo na camada 1.\n",
    "\n",
    "A fim de evitar que os submodelos da camada 1 tenham uma certa correlação, as amostras são organizadas aleatoriamente ao construir a validação cruzada, de modo que o conjunto de verificação dos submodelos da camada 1 tenha diversidade."
   ]
  },
  {
   "cell_type": "code",
   "execution_count": 88,
   "metadata": {},
   "outputs": [],
   "source": [
    "# Embaralha os índices para aleatoriedade\n",
    "idx_shuffle = idx.copy()\n",
    "shuffle(idx)"
   ]
  },
  {
   "cell_type": "markdown",
   "metadata": {},
   "source": [
    "Usaremos o método cruzado K-fold para dividir o conjunto de dados em K partes iguais. Além disso, uma vez que o tamanho da amostra do conjunto de dados pode não ser um múltiplo integral de K, o tamanho do primeiro a K-1 subconjuntos é o mesmo.\n",
    "\n",
    "O tamanho do subconjunto K-th não é menor que o tamanho do primeiro subconjunto ~ K-1."
   ]
  },
  {
   "cell_type": "code",
   "execution_count": 89,
   "metadata": {},
   "outputs": [],
   "source": [
    "# Prepara os dados\n",
    "sub_n = int(np.floor(len(idx_shuffle)/K))\n",
    "interval_starts = [i*sub_n for i in range(K)]\n",
    "interval_ends = [(i+1)*sub_n-1 for i in range(K-1)] + [len(idx_shuffle)-1]"
   ]
  },
  {
   "cell_type": "code",
   "execution_count": 90,
   "metadata": {},
   "outputs": [
    {
     "name": "stdout",
     "output_type": "stream",
     "text": [
      "AUC = 0.9383362079886184\n",
      "AUC = 0.950993840778974\n",
      "AUC = 0.950092502276906\n",
      "AUC = 0.9281801067183549\n",
      "AUC = 0.9372895657884892\n"
     ]
    }
   ],
   "source": [
    "# Loop de treinamento para o Modelo GB\n",
    "for j in range(K):\n",
    "    start_pot, end_pot = interval_starts[j], interval_ends[j]\n",
    "    validation_idx = [idx_shuffle[m] for m in range(start_pot,end_pot+1)]\n",
    "    validation_set = dados_treino.loc[dados_treino['Idx'].isin(validation_idx)]\n",
    "    train_set = dados_treino.loc[~dados_treino['Idx'].isin(validation_idx)]\n",
    "    \n",
    "    # Modelo GB\n",
    "    best_gbm = GradientBoostingClassifier(learning_rate = 0.1, \n",
    "                                          random_state = 10,\n",
    "                                          n_estimators = best_n_estimators,\n",
    "                                          max_depth = best_max_depth,\n",
    "                                          min_samples_leaf = best_min_samples_leaf,\n",
    "                                          max_features = best_max_features,\n",
    "                                          subsample = best_subsample)\n",
    "    \n",
    "    best_gbm.fit(train_set[all_features], train_set['flag'])\n",
    "    gbdt_pred = best_gbm.predict_proba(validation_set[all_features])[:, 1]\n",
    "    auc = roc_auc_score(validation_set['flag'], gbdt_pred)\n",
    "    \n",
    "    print(\"AUC = {}\".format(auc))\n",
    "    result_validation = pd.DataFrame({'Idx':validation_idx, 'gbdt_pred':gbdt_pred})\n",
    "    gbdt_result = pd.concat([gbdt_result, result_validation])"
   ]
  },
  {
   "cell_type": "markdown",
   "metadata": {},
   "source": [
    "Use ANN como o segundo modelo em camada 1. O pré-processamento do conjunto de dados é o mesmo que no GB."
   ]
  },
  {
   "cell_type": "code",
   "execution_count": 91,
   "metadata": {},
   "outputs": [],
   "source": [
    "# Pepara os dados\n",
    "shuffle(idx_shuffle)\n",
    "sub_n = int(np.floor(len(idx_shuffle)/K))\n",
    "interval_starts = [i*sub_n for i in range(K)]\n",
    "interval_ends = [(i+1)*sub_n-1 for i in range(K-1)] + [len(idx_shuffle)-1]"
   ]
  },
  {
   "cell_type": "code",
   "execution_count": 92,
   "metadata": {},
   "outputs": [
    {
     "name": "stdout",
     "output_type": "stream",
     "text": [
      "AUC = 0.6586580086580087\n",
      "AUC = 0.776093560695105\n",
      "AUC = 0.49031600831600836\n",
      "AUC = 0.6427018029839141\n",
      "AUC = 0.6584605984021549\n"
     ]
    }
   ],
   "source": [
    "# Loop de treinamento para o Modelo ANN\n",
    "for j in range(K):\n",
    "    start_pot, end_pot = interval_starts[j],interval_ends[j]\n",
    "    validation_idx = [idx_shuffle[m] for m in range(start_pot,end_pot+1)]\n",
    "    validation_set = dados_treino.loc[dados_treino['Idx'].isin(validation_idx)]\n",
    "    train_set = dados_treino.loc[~dados_treino['Idx'].isin(validation_idx)]\n",
    "    \n",
    "    # Modelo ANN\n",
    "    ann_clf = MLPClassifier(hidden_layer_sizes = (60, 40, 20))\n",
    "    ann_clf.fit(train_set[all_features], train_set['flag'])\n",
    "    ann_pred = ann_clf.predict_proba(validation_set[all_features])[:, 1]\n",
    "    auc = roc_auc_score(validation_set['flag'], ann_pred)\n",
    "    \n",
    "    print(\"AUC = {}\".format(auc))\n",
    "    result_validation = pd.DataFrame({'Idx':validation_idx, 'ann_pred':ann_pred})\n",
    "    ann_result = pd.concat([ann_result, result_validation])"
   ]
  },
  {
   "cell_type": "code",
   "execution_count": 93,
   "metadata": {},
   "outputs": [],
   "source": [
    "tier1_pred   = pd.merge(left = gbdt_result, right = ann_result, on = 'Idx', how = 'inner')\n",
    "tier1_target = dados_treino[['Idx','flag']]\n",
    "tier1_train  = pd.merge(left = tier1_pred, right = tier1_target, on = 'Idx', how = 'inner')"
   ]
  },
  {
   "cell_type": "code",
   "execution_count": 94,
   "metadata": {},
   "outputs": [
    {
     "data": {
      "text/plain": [
       "0.939708291429649"
      ]
     },
     "execution_count": 94,
     "metadata": {},
     "output_type": "execute_result"
    }
   ],
   "source": [
    "# Stack\n",
    "LR2 = LogisticRegression().fit(tier1_train[['ann_pred','gbdt_pred']], tier1_train['flag'])\n",
    "tier2_pred = LR2.predict_proba(tier1_train[['ann_pred','gbdt_pred']])[:,1]\n",
    "roc_auc_score(tier1_train['flag'], tier2_pred)   "
   ]
  },
  {
   "cell_type": "markdown",
   "metadata": {},
   "source": [
    "## Previsões com o Modelo Treinado e Avaliação com Dados de Teste"
   ]
  },
  {
   "cell_type": "code",
   "execution_count": 95,
   "metadata": {},
   "outputs": [
    {
     "name": "stdout",
     "output_type": "stream",
     "text": [
      "Taxa de Transações Fraudulentas nos Dados de Teste: 1.1565%\n"
     ]
    }
   ],
   "source": [
    "# Carregando os dados de teste\n",
    "arquivo = 'dados/dados_teste.csv'\n",
    "dados_teste = pd.read_csv(arquivo)\n",
    "print('Taxa de Transações Fraudulentas nos Dados de Teste: {0:2.4f}%'.format(dados_teste['flag'].mean() * 100))"
   ]
  },
  {
   "cell_type": "code",
   "execution_count": 96,
   "metadata": {},
   "outputs": [
    {
     "data": {
      "text/plain": [
       "(14094, 246)"
      ]
     },
     "execution_count": 96,
     "metadata": {},
     "output_type": "execute_result"
    }
   ],
   "source": [
    "dados_teste.shape"
   ]
  },
  {
   "cell_type": "code",
   "execution_count": 97,
   "metadata": {},
   "outputs": [
    {
     "data": {
      "text/html": [
       "<div>\n",
       "<style scoped>\n",
       "    .dataframe tbody tr th:only-of-type {\n",
       "        vertical-align: middle;\n",
       "    }\n",
       "\n",
       "    .dataframe tbody tr th {\n",
       "        vertical-align: top;\n",
       "    }\n",
       "\n",
       "    .dataframe thead th {\n",
       "        text-align: right;\n",
       "    }\n",
       "</style>\n",
       "<table border=\"1\" class=\"dataframe\">\n",
       "  <thead>\n",
       "    <tr style=\"text-align: right;\">\n",
       "      <th></th>\n",
       "      <th>12h_Sum_pay_amount_ismissing_0</th>\n",
       "      <th>12h_Sum_pay_amount_ismissing_1</th>\n",
       "      <th>is_area7_equal_area3_0</th>\n",
       "      <th>is_area7_equal_area3_1</th>\n",
       "      <th>1h_pay_times_ismissing_0</th>\n",
       "      <th>1h_pay_times_ismissing_1</th>\n",
       "      <th>area8_danger_1.0</th>\n",
       "      <th>area8_danger_2.0</th>\n",
       "      <th>area8_danger_3.0</th>\n",
       "      <th>area8_danger_4.0</th>\n",
       "      <th>...</th>\n",
       "      <th>10m_30m_payment_increase</th>\n",
       "      <th>30m_1h_payment_increase</th>\n",
       "      <th>1h_12h_payment_increase</th>\n",
       "      <th>12h_1d_payment_increase</th>\n",
       "      <th>1d_7d_payment_increase</th>\n",
       "      <th>7d_15d_payment_increase</th>\n",
       "      <th>15d_30d_payment_increase</th>\n",
       "      <th>30d_60d_payment_increase</th>\n",
       "      <th>60d_90d_payment_increase</th>\n",
       "      <th>max_Avg_pay_amount</th>\n",
       "    </tr>\n",
       "  </thead>\n",
       "  <tbody>\n",
       "    <tr>\n",
       "      <th>0</th>\n",
       "      <td>0</td>\n",
       "      <td>1</td>\n",
       "      <td>1</td>\n",
       "      <td>0</td>\n",
       "      <td>0</td>\n",
       "      <td>1</td>\n",
       "      <td>1</td>\n",
       "      <td>0</td>\n",
       "      <td>0</td>\n",
       "      <td>0</td>\n",
       "      <td>...</td>\n",
       "      <td>-0.169005</td>\n",
       "      <td>-0.133208</td>\n",
       "      <td>-0.205107</td>\n",
       "      <td>-0.171303</td>\n",
       "      <td>0.091076</td>\n",
       "      <td>-0.176709</td>\n",
       "      <td>-0.146012</td>\n",
       "      <td>-0.136497</td>\n",
       "      <td>-0.045101</td>\n",
       "      <td>-0.376424</td>\n",
       "    </tr>\n",
       "    <tr>\n",
       "      <th>1</th>\n",
       "      <td>0</td>\n",
       "      <td>1</td>\n",
       "      <td>1</td>\n",
       "      <td>0</td>\n",
       "      <td>0</td>\n",
       "      <td>1</td>\n",
       "      <td>0</td>\n",
       "      <td>0</td>\n",
       "      <td>1</td>\n",
       "      <td>0</td>\n",
       "      <td>...</td>\n",
       "      <td>-0.169005</td>\n",
       "      <td>-0.133208</td>\n",
       "      <td>-0.205107</td>\n",
       "      <td>-0.171303</td>\n",
       "      <td>0.091076</td>\n",
       "      <td>-0.176709</td>\n",
       "      <td>-0.146012</td>\n",
       "      <td>1.491718</td>\n",
       "      <td>-0.045101</td>\n",
       "      <td>-0.123198</td>\n",
       "    </tr>\n",
       "    <tr>\n",
       "      <th>2</th>\n",
       "      <td>1</td>\n",
       "      <td>0</td>\n",
       "      <td>1</td>\n",
       "      <td>0</td>\n",
       "      <td>1</td>\n",
       "      <td>0</td>\n",
       "      <td>0</td>\n",
       "      <td>1</td>\n",
       "      <td>0</td>\n",
       "      <td>0</td>\n",
       "      <td>...</td>\n",
       "      <td>-0.169005</td>\n",
       "      <td>-0.133208</td>\n",
       "      <td>-0.205107</td>\n",
       "      <td>-0.171303</td>\n",
       "      <td>-4.167601</td>\n",
       "      <td>-0.176709</td>\n",
       "      <td>-0.146012</td>\n",
       "      <td>3.048285</td>\n",
       "      <td>-2.099918</td>\n",
       "      <td>0.938122</td>\n",
       "    </tr>\n",
       "    <tr>\n",
       "      <th>3</th>\n",
       "      <td>0</td>\n",
       "      <td>1</td>\n",
       "      <td>0</td>\n",
       "      <td>1</td>\n",
       "      <td>0</td>\n",
       "      <td>1</td>\n",
       "      <td>0</td>\n",
       "      <td>0</td>\n",
       "      <td>0</td>\n",
       "      <td>0</td>\n",
       "      <td>...</td>\n",
       "      <td>-0.169005</td>\n",
       "      <td>-0.133208</td>\n",
       "      <td>-0.205107</td>\n",
       "      <td>-0.171303</td>\n",
       "      <td>0.091076</td>\n",
       "      <td>-0.176709</td>\n",
       "      <td>-0.132606</td>\n",
       "      <td>-0.126751</td>\n",
       "      <td>-0.045101</td>\n",
       "      <td>-0.373435</td>\n",
       "    </tr>\n",
       "    <tr>\n",
       "      <th>4</th>\n",
       "      <td>0</td>\n",
       "      <td>1</td>\n",
       "      <td>1</td>\n",
       "      <td>0</td>\n",
       "      <td>0</td>\n",
       "      <td>1</td>\n",
       "      <td>0</td>\n",
       "      <td>1</td>\n",
       "      <td>0</td>\n",
       "      <td>0</td>\n",
       "      <td>...</td>\n",
       "      <td>-0.169005</td>\n",
       "      <td>-0.133208</td>\n",
       "      <td>-0.205107</td>\n",
       "      <td>-0.171303</td>\n",
       "      <td>0.091076</td>\n",
       "      <td>-0.176709</td>\n",
       "      <td>-0.146012</td>\n",
       "      <td>-0.136497</td>\n",
       "      <td>-0.045101</td>\n",
       "      <td>-0.376424</td>\n",
       "    </tr>\n",
       "    <tr>\n",
       "      <th>5</th>\n",
       "      <td>0</td>\n",
       "      <td>1</td>\n",
       "      <td>0</td>\n",
       "      <td>1</td>\n",
       "      <td>0</td>\n",
       "      <td>1</td>\n",
       "      <td>0</td>\n",
       "      <td>0</td>\n",
       "      <td>0</td>\n",
       "      <td>0</td>\n",
       "      <td>...</td>\n",
       "      <td>-0.169005</td>\n",
       "      <td>-0.133208</td>\n",
       "      <td>-0.205107</td>\n",
       "      <td>-0.171303</td>\n",
       "      <td>0.091076</td>\n",
       "      <td>-0.176709</td>\n",
       "      <td>-0.146012</td>\n",
       "      <td>-0.136497</td>\n",
       "      <td>-0.045101</td>\n",
       "      <td>-0.376424</td>\n",
       "    </tr>\n",
       "    <tr>\n",
       "      <th>6</th>\n",
       "      <td>0</td>\n",
       "      <td>1</td>\n",
       "      <td>1</td>\n",
       "      <td>0</td>\n",
       "      <td>0</td>\n",
       "      <td>1</td>\n",
       "      <td>0</td>\n",
       "      <td>0</td>\n",
       "      <td>0</td>\n",
       "      <td>0</td>\n",
       "      <td>...</td>\n",
       "      <td>-0.169005</td>\n",
       "      <td>-0.133208</td>\n",
       "      <td>-0.205107</td>\n",
       "      <td>-0.171303</td>\n",
       "      <td>0.091076</td>\n",
       "      <td>-0.176709</td>\n",
       "      <td>-0.146012</td>\n",
       "      <td>-0.136497</td>\n",
       "      <td>-0.045101</td>\n",
       "      <td>-0.376424</td>\n",
       "    </tr>\n",
       "    <tr>\n",
       "      <th>7</th>\n",
       "      <td>0</td>\n",
       "      <td>1</td>\n",
       "      <td>1</td>\n",
       "      <td>0</td>\n",
       "      <td>0</td>\n",
       "      <td>1</td>\n",
       "      <td>0</td>\n",
       "      <td>0</td>\n",
       "      <td>0</td>\n",
       "      <td>0</td>\n",
       "      <td>...</td>\n",
       "      <td>-0.169005</td>\n",
       "      <td>-0.133208</td>\n",
       "      <td>-0.205107</td>\n",
       "      <td>-0.171303</td>\n",
       "      <td>0.091076</td>\n",
       "      <td>-0.176709</td>\n",
       "      <td>-0.146012</td>\n",
       "      <td>-0.136497</td>\n",
       "      <td>-0.045101</td>\n",
       "      <td>-0.376424</td>\n",
       "    </tr>\n",
       "    <tr>\n",
       "      <th>8</th>\n",
       "      <td>0</td>\n",
       "      <td>1</td>\n",
       "      <td>1</td>\n",
       "      <td>0</td>\n",
       "      <td>0</td>\n",
       "      <td>1</td>\n",
       "      <td>1</td>\n",
       "      <td>0</td>\n",
       "      <td>0</td>\n",
       "      <td>0</td>\n",
       "      <td>...</td>\n",
       "      <td>-0.169005</td>\n",
       "      <td>-0.133208</td>\n",
       "      <td>-0.205107</td>\n",
       "      <td>-0.171303</td>\n",
       "      <td>0.091076</td>\n",
       "      <td>-0.176709</td>\n",
       "      <td>-0.146012</td>\n",
       "      <td>-0.136497</td>\n",
       "      <td>-0.045101</td>\n",
       "      <td>-0.376424</td>\n",
       "    </tr>\n",
       "    <tr>\n",
       "      <th>9</th>\n",
       "      <td>0</td>\n",
       "      <td>1</td>\n",
       "      <td>1</td>\n",
       "      <td>0</td>\n",
       "      <td>0</td>\n",
       "      <td>1</td>\n",
       "      <td>0</td>\n",
       "      <td>0</td>\n",
       "      <td>0</td>\n",
       "      <td>1</td>\n",
       "      <td>...</td>\n",
       "      <td>-0.169005</td>\n",
       "      <td>-0.133208</td>\n",
       "      <td>-0.205107</td>\n",
       "      <td>-0.171303</td>\n",
       "      <td>0.091076</td>\n",
       "      <td>-0.176709</td>\n",
       "      <td>-0.146012</td>\n",
       "      <td>-0.136497</td>\n",
       "      <td>-0.045101</td>\n",
       "      <td>-0.376424</td>\n",
       "    </tr>\n",
       "  </tbody>\n",
       "</table>\n",
       "<p>10 rows × 246 columns</p>\n",
       "</div>"
      ],
      "text/plain": [
       "   12h_Sum_pay_amount_ismissing_0  12h_Sum_pay_amount_ismissing_1  \\\n",
       "0                               0                               1   \n",
       "1                               0                               1   \n",
       "2                               1                               0   \n",
       "3                               0                               1   \n",
       "4                               0                               1   \n",
       "5                               0                               1   \n",
       "6                               0                               1   \n",
       "7                               0                               1   \n",
       "8                               0                               1   \n",
       "9                               0                               1   \n",
       "\n",
       "   is_area7_equal_area3_0  is_area7_equal_area3_1  1h_pay_times_ismissing_0  \\\n",
       "0                       1                       0                         0   \n",
       "1                       1                       0                         0   \n",
       "2                       1                       0                         1   \n",
       "3                       0                       1                         0   \n",
       "4                       1                       0                         0   \n",
       "5                       0                       1                         0   \n",
       "6                       1                       0                         0   \n",
       "7                       1                       0                         0   \n",
       "8                       1                       0                         0   \n",
       "9                       1                       0                         0   \n",
       "\n",
       "   1h_pay_times_ismissing_1  area8_danger_1.0  area8_danger_2.0  \\\n",
       "0                         1                 1                 0   \n",
       "1                         1                 0                 0   \n",
       "2                         0                 0                 1   \n",
       "3                         1                 0                 0   \n",
       "4                         1                 0                 1   \n",
       "5                         1                 0                 0   \n",
       "6                         1                 0                 0   \n",
       "7                         1                 0                 0   \n",
       "8                         1                 1                 0   \n",
       "9                         1                 0                 0   \n",
       "\n",
       "   area8_danger_3.0  area8_danger_4.0  ...  10m_30m_payment_increase  \\\n",
       "0                 0                 0  ...                 -0.169005   \n",
       "1                 1                 0  ...                 -0.169005   \n",
       "2                 0                 0  ...                 -0.169005   \n",
       "3                 0                 0  ...                 -0.169005   \n",
       "4                 0                 0  ...                 -0.169005   \n",
       "5                 0                 0  ...                 -0.169005   \n",
       "6                 0                 0  ...                 -0.169005   \n",
       "7                 0                 0  ...                 -0.169005   \n",
       "8                 0                 0  ...                 -0.169005   \n",
       "9                 0                 1  ...                 -0.169005   \n",
       "\n",
       "   30m_1h_payment_increase  1h_12h_payment_increase  12h_1d_payment_increase  \\\n",
       "0                -0.133208                -0.205107                -0.171303   \n",
       "1                -0.133208                -0.205107                -0.171303   \n",
       "2                -0.133208                -0.205107                -0.171303   \n",
       "3                -0.133208                -0.205107                -0.171303   \n",
       "4                -0.133208                -0.205107                -0.171303   \n",
       "5                -0.133208                -0.205107                -0.171303   \n",
       "6                -0.133208                -0.205107                -0.171303   \n",
       "7                -0.133208                -0.205107                -0.171303   \n",
       "8                -0.133208                -0.205107                -0.171303   \n",
       "9                -0.133208                -0.205107                -0.171303   \n",
       "\n",
       "   1d_7d_payment_increase  7d_15d_payment_increase  15d_30d_payment_increase  \\\n",
       "0                0.091076                -0.176709                 -0.146012   \n",
       "1                0.091076                -0.176709                 -0.146012   \n",
       "2               -4.167601                -0.176709                 -0.146012   \n",
       "3                0.091076                -0.176709                 -0.132606   \n",
       "4                0.091076                -0.176709                 -0.146012   \n",
       "5                0.091076                -0.176709                 -0.146012   \n",
       "6                0.091076                -0.176709                 -0.146012   \n",
       "7                0.091076                -0.176709                 -0.146012   \n",
       "8                0.091076                -0.176709                 -0.146012   \n",
       "9                0.091076                -0.176709                 -0.146012   \n",
       "\n",
       "   30d_60d_payment_increase  60d_90d_payment_increase  max_Avg_pay_amount  \n",
       "0                 -0.136497                 -0.045101           -0.376424  \n",
       "1                  1.491718                 -0.045101           -0.123198  \n",
       "2                  3.048285                 -2.099918            0.938122  \n",
       "3                 -0.126751                 -0.045101           -0.373435  \n",
       "4                 -0.136497                 -0.045101           -0.376424  \n",
       "5                 -0.136497                 -0.045101           -0.376424  \n",
       "6                 -0.136497                 -0.045101           -0.376424  \n",
       "7                 -0.136497                 -0.045101           -0.376424  \n",
       "8                 -0.136497                 -0.045101           -0.376424  \n",
       "9                 -0.136497                 -0.045101           -0.376424  \n",
       "\n",
       "[10 rows x 246 columns]"
      ]
     },
     "execution_count": 97,
     "metadata": {},
     "output_type": "execute_result"
    }
   ],
   "source": [
    "dados_teste.head(10)"
   ]
  },
  {
   "cell_type": "markdown",
   "metadata": {},
   "source": [
    "### Avaliação dos Modelos Bagging"
   ]
  },
  {
   "cell_type": "code",
   "execution_count": 98,
   "metadata": {},
   "outputs": [
    {
     "data": {
      "text/plain": [
       "0.7972513963429753"
      ]
     },
     "execution_count": 98,
     "metadata": {},
     "output_type": "execute_result"
    }
   ],
   "source": [
    "# Modelo LR\n",
    "lr_pred = LR.predict_proba(dados_teste[all_features])[:,1]\n",
    "lr_auc = roc_auc_score(dados_teste['flag'], lr_pred)   \n",
    "lr_auc"
   ]
  },
  {
   "cell_type": "code",
   "execution_count": 99,
   "metadata": {},
   "outputs": [
    {
     "data": {
      "text/plain": [
       "0.9454528960217161"
      ]
     },
     "execution_count": 99,
     "metadata": {},
     "output_type": "execute_result"
    }
   ],
   "source": [
    "# Modelo GB\n",
    "gbdt_pred = gbm_best.predict_proba(dados_teste[all_features])[:,1]\n",
    "gbdt_auc = roc_auc_score(dados_teste['flag'], gbdt_pred)   \n",
    "gbdt_auc"
   ]
  },
  {
   "cell_type": "code",
   "execution_count": 100,
   "metadata": {},
   "outputs": [
    {
     "data": {
      "text/plain": [
       "0.655977994964666"
      ]
     },
     "execution_count": 100,
     "metadata": {},
     "output_type": "execute_result"
    }
   ],
   "source": [
    "# Modelo ANN\n",
    "ann_pred = ann_clf.predict_proba(dados_teste[all_features])[:,1]\n",
    "ann_auc = roc_auc_score(dados_teste['flag'], ann_pred)\n",
    "ann_auc"
   ]
  },
  {
   "cell_type": "code",
   "execution_count": 101,
   "metadata": {},
   "outputs": [
    {
     "data": {
      "text/plain": [
       "0.892820575377419"
      ]
     },
     "execution_count": 101,
     "metadata": {},
     "output_type": "execute_result"
    }
   ],
   "source": [
    "# Fusão dos modelos de bagging \n",
    "bagging_pred = pd.DataFrame({'LR':lr_pred, 'GBDT':gbdt_pred, 'ANN':ann_pred})\n",
    "bagging_pred['avg_prob'] = bagging_pred.mean(axis=1)\n",
    "avg_auc = roc_auc_score(dados_teste['flag'], bagging_pred['avg_prob']) \n",
    "avg_auc"
   ]
  },
  {
   "cell_type": "markdown",
   "metadata": {},
   "source": [
    "### Avaliação do Modelo Boosting"
   ]
  },
  {
   "cell_type": "code",
   "execution_count": 102,
   "metadata": {},
   "outputs": [
    {
     "data": {
      "text/plain": [
       "0.9275460607120193"
      ]
     },
     "execution_count": 102,
     "metadata": {},
     "output_type": "execute_result"
    }
   ],
   "source": [
    "# Modelo Adaboost\n",
    "ada_pred = ada_clf.predict_proba(dados_teste[all_features])[:,1]\n",
    "ada_auc = roc_auc_score(dados_teste['flag'], ada_pred)   \n",
    "ada_auc"
   ]
  },
  {
   "cell_type": "markdown",
   "metadata": {},
   "source": [
    "### Avaliação do Modelo Stacking "
   ]
  },
  {
   "cell_type": "code",
   "execution_count": 103,
   "metadata": {},
   "outputs": [],
   "source": [
    "dados_teste['Idx'] = dados_teste.index\n",
    "idx = list(dados_teste.Idx)\n",
    "K = 5\n",
    "num_of_models = 2\n",
    "gbdt_result = pd.DataFrame()\n",
    "ann_result = pd.DataFrame()"
   ]
  },
  {
   "cell_type": "code",
   "execution_count": 104,
   "metadata": {},
   "outputs": [],
   "source": [
    "idx_shuffle = idx.copy()\n",
    "shuffle(idx)"
   ]
  },
  {
   "cell_type": "code",
   "execution_count": 105,
   "metadata": {},
   "outputs": [
    {
     "name": "stdout",
     "output_type": "stream",
     "text": [
      "AUC = 0.9611786611629576\n",
      "AUC = 0.9281323105380557\n",
      "AUC = 0.9773075083692013\n",
      "AUC = 0.9610889267767408\n",
      "AUC = 0.953248384781048\n"
     ]
    }
   ],
   "source": [
    "# GB\n",
    "sub_n = int(np.floor(len(idx_shuffle)/K))\n",
    "interval_starts = [i*sub_n for i in range(K)]\n",
    "interval_ends = [(i+1)*sub_n-1 for i in range(K-1)] + [len(idx_shuffle)-1]\n",
    "\n",
    "for j in range(K):\n",
    "    start_pot, end_pot = interval_starts[j],interval_ends[j]\n",
    "    validation_idx = [idx_shuffle[m] for m in range(start_pot,end_pot+1)]\n",
    "    validation_set = dados_teste.loc[dados_teste['Idx'].isin(validation_idx)]\n",
    "    gbdt_pred = best_gbm.predict_proba(validation_set[all_features])[:, 1]\n",
    "    auc = roc_auc_score(validation_set['flag'], gbdt_pred)\n",
    "    \n",
    "    print(\"AUC = {}\".format(auc))\n",
    "    result_validation = pd.DataFrame({'Idx':validation_idx, 'gbdt_pred':gbdt_pred})\n",
    "    gbdt_result = pd.concat([gbdt_result, result_validation])"
   ]
  },
  {
   "cell_type": "code",
   "execution_count": 106,
   "metadata": {},
   "outputs": [
    {
     "name": "stdout",
     "output_type": "stream",
     "text": [
      "AUC é 0.6906554019457245\n",
      "AUC é 0.7567637293610912\n",
      "AUC é 0.5932089909134385\n",
      "AUC é 0.5906702439386259\n",
      "AUC é 0.4617366974278421\n"
     ]
    }
   ],
   "source": [
    "# ANN\n",
    "shuffle(idx_shuffle)\n",
    "sub_n = int(np.floor(len(idx_shuffle)/K))\n",
    "interval_starts = [i*sub_n for i in range(K)]\n",
    "interval_ends = [(i+1)*sub_n-1 for i in range(K-1)] + [len(idx_shuffle)-1]\n",
    "\n",
    "for j in range(K):\n",
    "    start_pot, end_pot = interval_starts[j],interval_ends[j]\n",
    "    validation_idx = [idx_shuffle[m] for m in range(start_pot,end_pot+1)]\n",
    "    validation_set = dados_teste.loc[dados_teste['Idx'].isin(validation_idx)]\n",
    "    test_set = dados_teste.loc[~dados_teste['Idx'].isin(validation_idx)]\n",
    "    ann_clf = MLPClassifier(hidden_layer_sizes=(60, 40, 20))\n",
    "    ann_clf.fit(test_set[all_features], test_set['flag'])\n",
    "    ann_pred = ann_clf.predict_proba(validation_set[all_features])[:, 1]\n",
    "    auc = roc_auc_score(validation_set['flag'], ann_pred)\n",
    "    \n",
    "    print(\"AUC = {}\".format(auc))\n",
    "    result_validation = pd.DataFrame({'Idx':validation_idx, 'ann_pred':ann_pred})\n",
    "    ann_result = pd.concat([ann_result, result_validation])"
   ]
  },
  {
   "cell_type": "code",
   "execution_count": 107,
   "metadata": {},
   "outputs": [
    {
     "data": {
      "text/plain": [
       "0.9560559867145392"
      ]
     },
     "execution_count": 107,
     "metadata": {},
     "output_type": "execute_result"
    }
   ],
   "source": [
    "tier1_pred = pd.merge(left = gbdt_result, right = ann_result, on = 'Idx', how = 'inner')\n",
    "tier1_target = dados_teste[['Idx','flag']]\n",
    "tier1_test = pd.merge(left = tier1_pred, right = tier1_target, on = 'Idx', how = 'inner')\n",
    "\n",
    "tier2_pred = LR2.predict_proba(tier1_test[['ann_pred','gbdt_pred']])[:,1]\n",
    "roc_auc_score(tier1_test['flag'], tier2_pred)   "
   ]
  },
  {
   "cell_type": "markdown",
   "metadata": {},
   "source": [
    "O modelo Stack foi o que apresentou a melhor performance em dados de teste e, portanto, deve ser usadoo para prever as transações fraudulentas."
   ]
  },
  {
   "cell_type": "markdown",
   "metadata": {},
   "source": [
    "# Fim"
   ]
  }
 ],
 "metadata": {
  "kernelspec": {
   "display_name": "Python 3",
   "language": "python",
   "name": "python3"
  },
  "language_info": {
   "codemirror_mode": {
    "name": "ipython",
    "version": 3
   },
   "file_extension": ".py",
   "mimetype": "text/x-python",
   "name": "python",
   "nbconvert_exporter": "python",
   "pygments_lexer": "ipython3",
   "version": "3.7.4"
  }
 },
 "nbformat": 4,
 "nbformat_minor": 2
}
