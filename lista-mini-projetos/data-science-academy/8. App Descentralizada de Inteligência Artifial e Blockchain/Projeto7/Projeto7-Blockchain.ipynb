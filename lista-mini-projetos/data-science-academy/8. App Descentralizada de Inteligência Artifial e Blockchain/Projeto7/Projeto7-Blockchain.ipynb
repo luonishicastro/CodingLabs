{
 "cells": [
  {
   "cell_type": "markdown",
   "metadata": {},
   "source": [
    "# Inteligência Artificial Aplicada a Finanças"
   ]
  },
  {
   "cell_type": "markdown",
   "metadata": {},
   "source": [
    "### Projeto 7 - Blockchain e IA Para Gestão de Empréstimos Pessoais – Clube do Empréstimo"
   ]
  },
  {
   "cell_type": "markdown",
   "metadata": {},
   "source": [
    "![title](imagens/projeto7.png)"
   ]
  },
  {
   "cell_type": "markdown",
   "metadata": {},
   "source": [
    "## Definindo um Sub-Problema\n",
    "\n",
    "Este Jupyter Notebook demonstra como criar a Rede Blockchain e submeter transações. A rede é criada com protocolo Ethereum através do Ganache.\n",
    "\n",
    "Faça o download, instale e inicie o Ganache (modo Quick Start) na sua máquina antes de executar este Jupyter Notebook:\n",
    "\n",
    "https://www.trufflesuite.com/ganache\n",
    "\n",
    "Então execute célula a célula e leia todos os comentários."
   ]
  },
  {
   "cell_type": "markdown",
   "metadata": {},
   "source": [
    "## Instalando e Carregando Pacotes"
   ]
  },
  {
   "cell_type": "code",
   "execution_count": 1,
   "metadata": {},
   "outputs": [
    {
     "name": "stdout",
     "output_type": "stream",
     "text": [
      "Versão da Linguagem Python Usada Neste Jupyter Notebook: 3.8.5\n"
     ]
    }
   ],
   "source": [
    "# Versão da Linguagem Python\n",
    "from platform import python_version\n",
    "print('Versão da Linguagem Python Usada Neste Jupyter Notebook:', python_version())"
   ]
  },
  {
   "cell_type": "code",
   "execution_count": 2,
   "metadata": {},
   "outputs": [],
   "source": [
    "# Para atualizar um pacote, execute o comando abaixo no terminal ou prompt de comando:\n",
    "# pip install -U nome_pacote\n",
    "\n",
    "# Para instalar a versão exata de um pacote, execute o comando abaixo no terminal ou prompt de comando:\n",
    "# pip install nome_pacote==versão_desejada\n",
    "\n",
    "# Depois de instalar ou atualizar o pacote, reinicie o jupyter notebook.\n",
    "\n",
    "# Instala o pacote watermark.\n",
    "# Esse pacote é usado para gravar as versões de outros pacotes usados neste jupyter notebook.\n",
    "!pip install -q -U watermark"
   ]
  },
  {
   "cell_type": "code",
   "execution_count": 3,
   "metadata": {},
   "outputs": [],
   "source": [
    "# https://web3py.readthedocs.io/en/stable/\n",
    "!pip install -q -U web3"
   ]
  },
  {
   "cell_type": "code",
   "execution_count": 4,
   "metadata": {},
   "outputs": [],
   "source": [
    "# Import\n",
    "import web3\n",
    "from web3 import Web3"
   ]
  },
  {
   "cell_type": "code",
   "execution_count": 5,
   "metadata": {},
   "outputs": [
    {
     "name": "stdout",
     "output_type": "stream",
     "text": [
      "Author: Data Science Academy\n",
      "\n",
      "web3: 5.20.0\n",
      "\n"
     ]
    }
   ],
   "source": [
    "# Versões dos pacotes usados neste jupyter notebook\n",
    "%reload_ext watermark\n",
    "%watermark -a \"Data Science Academy\" --iversions"
   ]
  },
  {
   "cell_type": "markdown",
   "metadata": {},
   "source": [
    "## Rede Blockchain"
   ]
  },
  {
   "cell_type": "code",
   "execution_count": 6,
   "metadata": {},
   "outputs": [],
   "source": [
    "# Abre conexão para rede Blockchain no Ganache\n",
    "web3 = Web3(Web3.HTTPProvider(\"http://127.0.0.1:7545\"))"
   ]
  },
  {
   "cell_type": "markdown",
   "metadata": {},
   "source": [
    "Abaixo definimos o ABI para a rede."
   ]
  },
  {
   "cell_type": "code",
   "execution_count": 7,
   "metadata": {},
   "outputs": [],
   "source": [
    "ABI = '''[\n",
    "    {\n",
    "        \"inputs\": [\n",
    "            {\n",
    "                \"internalType\": \"uint256\",\n",
    "                \"name\": \"\",\n",
    "                \"type\": \"uint256\"\n",
    "            },\n",
    "            {\n",
    "                \"internalType\": \"uint256\",\n",
    "                \"name\": \"\",\n",
    "                \"type\": \"uint256\"\n",
    "            }\n",
    "        ],\n",
    "        \"name\": \"array_type\",\n",
    "        \"outputs\": [\n",
    "            {\n",
    "                \"internalType\": \"int256\",\n",
    "                \"name\": \"\",\n",
    "                \"type\": \"int256\"\n",
    "            }\n",
    "        ],\n",
    "        \"stateMutability\": \"view\",\n",
    "        \"type\": \"function\"\n",
    "    },\n",
    "    {\n",
    "        \"inputs\": [],\n",
    "        \"name\": \"bytes_data\",\n",
    "        \"outputs\": [\n",
    "            {\n",
    "                \"internalType\": \"bytes1\",\n",
    "                \"name\": \"\",\n",
    "                \"type\": \"bytes1\"\n",
    "            }\n",
    "        ],\n",
    "        \"stateMutability\": \"view\",\n",
    "        \"type\": \"function\"\n",
    "    },\n",
    "    {\n",
    "        \"inputs\": [\n",
    "            {\n",
    "                \"internalType\": \"uint256\",\n",
    "                \"name\": \"\",\n",
    "                \"type\": \"uint256\"\n",
    "            }\n",
    "        ],\n",
    "        \"name\": \"dynamic_array\",\n",
    "        \"outputs\": [\n",
    "            {\n",
    "                \"internalType\": \"int256\",\n",
    "                \"name\": \"\",\n",
    "                \"type\": \"int256\"\n",
    "            }\n",
    "        ],\n",
    "        \"stateMutability\": \"view\",\n",
    "        \"type\": \"function\"\n",
    "    },\n",
    "    {\n",
    "        \"inputs\": [],\n",
    "        \"name\": \"hello\",\n",
    "        \"outputs\": [\n",
    "            {\n",
    "                \"internalType\": \"string\",\n",
    "                \"name\": \"\",\n",
    "                \"type\": \"string\"\n",
    "            }\n",
    "        ],\n",
    "        \"stateMutability\": \"view\",\n",
    "        \"type\": \"function\"\n",
    "    },\n",
    "    {\n",
    "        \"inputs\": [],\n",
    "        \"name\": \"hi\",\n",
    "        \"outputs\": [\n",
    "            {\n",
    "                \"internalType\": \"int256\",\n",
    "                \"name\": \"\",\n",
    "                \"type\": \"int256\"\n",
    "            }\n",
    "        ],\n",
    "        \"stateMutability\": \"view\",\n",
    "        \"type\": \"function\"\n",
    "    },\n",
    "    {\n",
    "        \"inputs\": [],\n",
    "        \"name\": \"is_true\",\n",
    "        \"outputs\": [\n",
    "            {\n",
    "                \"internalType\": \"bool\",\n",
    "                \"name\": \"\",\n",
    "                \"type\": \"bool\"\n",
    "            }\n",
    "        ],\n",
    "        \"stateMutability\": \"view\",\n",
    "        \"type\": \"function\"\n",
    "    },\n",
    "    {\n",
    "        \"inputs\": [],\n",
    "        \"name\": \"owner\",\n",
    "        \"outputs\": [\n",
    "            {\n",
    "                \"internalType\": \"address\",\n",
    "                \"name\": \"\",\n",
    "                \"type\": \"address\"\n",
    "            }\n",
    "        ],\n",
    "        \"stateMutability\": \"view\",\n",
    "        \"type\": \"function\"\n",
    "    },\n",
    "    {\n",
    "        \"inputs\": [],\n",
    "        \"name\": \"unsigned_int\",\n",
    "        \"outputs\": [\n",
    "            {\n",
    "                \"internalType\": \"uint256\",\n",
    "                \"name\": \"\",\n",
    "                \"type\": \"uint256\"\n",
    "            }\n",
    "        ],\n",
    "        \"stateMutability\": \"view\",\n",
    "        \"type\": \"function\"\n",
    "    }\n",
    "]'''\n",
    "\n",
    "BYTECODE =\"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\""
   ]
  },
  {
   "cell_type": "code",
   "execution_count": 8,
   "metadata": {},
   "outputs": [],
   "source": [
    "# Cria o contrato\n",
    "mycontract = web3.eth.contract(abi = ABI, bytecode = BYTECODE)"
   ]
  },
  {
   "cell_type": "code",
   "execution_count": 9,
   "metadata": {},
   "outputs": [],
   "source": [
    "# Conecta na rede\n",
    "web3.eth.default_account = web3.eth.accounts[0]"
   ]
  },
  {
   "cell_type": "code",
   "execution_count": 10,
   "metadata": {},
   "outputs": [],
   "source": [
    "# Instância do contrato\n",
    "constructed = mycontract.constructor()"
   ]
  },
  {
   "cell_type": "code",
   "execution_count": 11,
   "metadata": {},
   "outputs": [],
   "source": [
    "# Cria uma transação\n",
    "tx = constructed.buildTransaction({'from': web3.eth.default_account,\n",
    "                                   'nonce': web3.eth.getTransactionCount(web3.eth.default_account),})"
   ]
  },
  {
   "cell_type": "markdown",
   "metadata": {},
   "source": [
    "> A chave privada deve ser obtida no Ganache conforme as telas abaixo."
   ]
  },
  {
   "cell_type": "markdown",
   "metadata": {},
   "source": [
    "![title](imagens/ganache1.png)"
   ]
  },
  {
   "cell_type": "markdown",
   "metadata": {},
   "source": [
    "![title](imagens/ganache2.png)"
   ]
  },
  {
   "cell_type": "code",
   "execution_count": 12,
   "metadata": {},
   "outputs": [],
   "source": [
    "# A chave abaixo deve ser obtida no Ganache\n",
    "private_key = \"ce927b42e2ceea53b6afdb642f2c27d52eec651e45ebaacf7530b9733f7bfd68\""
   ]
  },
  {
   "cell_type": "code",
   "execution_count": 13,
   "metadata": {},
   "outputs": [],
   "source": [
    "# Assina a transação com a chave privada\n",
    "signed_txn = web3.eth.account.sign_transaction(tx, private_key = private_key)"
   ]
  },
  {
   "cell_type": "code",
   "execution_count": 14,
   "metadata": {},
   "outputs": [],
   "source": [
    "# Envia a transação para a rede Blockchain\n",
    "tx_hash = web3.eth.sendRawTransaction(signed_txn.rawTransaction)"
   ]
  },
  {
   "cell_type": "code",
   "execution_count": 15,
   "metadata": {},
   "outputs": [],
   "source": [
    "# Obtém o recibo de confirmação\n",
    "tx_receipt = web3.eth.waitForTransactionReceipt(tx_hash)"
   ]
  },
  {
   "cell_type": "code",
   "execution_count": 16,
   "metadata": {},
   "outputs": [
    {
     "data": {
      "text/plain": [
       "AttributeDict({'transactionHash': HexBytes('0xc782ff9fa9af1aef015ea6f90f42de8f08cfd56407421df0f317e655d7fc9e30'),\n",
       " 'transactionIndex': 0,\n",
       " 'blockHash': HexBytes('0x0307a64a1ff447411849a85054c9aad09c4bca858b476297fac06f5a107c6850'),\n",
       " 'blockNumber': 2,\n",
       " 'from': '0x41A94795132de678c6D10F3C6e9091B4c4549987',\n",
       " 'to': None,\n",
       " 'gasUsed': 494629,\n",
       " 'cumulativeGasUsed': 494629,\n",
       " 'contractAddress': '0x9D501da731569ad8c71cCb974dc3989d960BD72F',\n",
       " 'logs': [],\n",
       " 'status': 1,\n",
       " 'logsBloom': HexBytes('0x00000000000000000000000000000000000000000000000000000000000000000000000000000000000000000000000000000000000000000000000000000000000000000000000000000000000000000000000000000000000000000000000000000000000000000000000000000000000000000000000000000000000000000000000000000000000000000000000000000000000000000000000000000000000000000000000000000000000000000000000000000000000000000000000000000000000000000000000000000000000000000000000000000000000000000000000000000000000000000000000000000000000000000000000000000000')})"
      ]
     },
     "execution_count": 16,
     "metadata": {},
     "output_type": "execute_result"
    }
   ],
   "source": [
    "# Recibo\n",
    "tx_receipt"
   ]
  },
  {
   "cell_type": "markdown",
   "metadata": {},
   "source": [
    "Na transação podemos enviar dados do usuário, do contrato de empréstimo, do resultado do modelo preditivo ou qualquer outra informação desejada. Uma interface web poderia interagir com a rede Blockchain para submeter os dados e depois obter o recibo de confirmação."
   ]
  },
  {
   "cell_type": "markdown",
   "metadata": {},
   "source": [
    "# Fim"
   ]
  }
 ],
 "metadata": {
  "kernelspec": {
   "display_name": "Python 3",
   "language": "python",
   "name": "python3"
  },
  "language_info": {
   "codemirror_mode": {
    "name": "ipython",
    "version": 3
   },
   "file_extension": ".py",
   "mimetype": "text/x-python",
   "name": "python",
   "nbconvert_exporter": "python",
   "pygments_lexer": "ipython3",
   "version": "3.8.5"
  }
 },
 "nbformat": 4,
 "nbformat_minor": 5
}
