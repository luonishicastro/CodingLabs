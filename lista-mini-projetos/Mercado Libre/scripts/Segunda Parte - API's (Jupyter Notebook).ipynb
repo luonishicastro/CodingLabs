{
 "cells": [
  {
   "cell_type": "markdown",
   "metadata": {},
   "source": [
    "<b>Realizar uma análise sobre a oferta/vitrine das opções de produtos que repondam a distintas buscas no site do mercadolibre.com.ar</b>"
   ]
  },
  {
   "cell_type": "markdown",
   "metadata": {},
   "source": [
    "<h1>Tarefa 1</h1>"
   ]
  },
  {
   "cell_type": "markdown",
   "metadata": {},
   "source": [
    "<n>Varrer uma lista de mais de 150 itens ids no serviço público:"
   ]
  },
  {
   "cell_type": "markdown",
   "metadata": {},
   "source": [
    "https://api.mercadolibre.com/sites/MLA/search?q=chromecast&limit=50#json"
   ]
  },
  {
   "cell_type": "markdown",
   "metadata": {},
   "source": [
    "<n>Nesse caso particular e somente como exemplo, são resultado para a busca \"chromecast\", porém deverá eleger outros términos para o experimento que permitam enriquecer uma análise em um hipotético dashboard (ex: Google Home, Apple TV, Amazon Fire TV, e outros para poder comparar dispositivos portáteis, ou até mesmo eleger outros e que você tenha interesse em comparar).</n></n>"
   ]
  },
  {
   "cell_type": "markdown",
   "metadata": {},
   "source": [
    "<h3>Criação do Dataframe</h3>"
   ]
  },
  {
   "cell_type": "code",
   "execution_count": 147,
   "metadata": {},
   "outputs": [],
   "source": [
    "# Imports\n",
    "import requests\n",
    "import pandas as pd\n",
    "import functools as a\n",
    "import csv"
   ]
  },
  {
   "cell_type": "code",
   "execution_count": 148,
   "metadata": {},
   "outputs": [],
   "source": [
    "item_range = 10\n",
    "items = ['chromecast', 'Google Home', 'Apple TV', 'Amazon Fire TV']\n",
    "\n",
    "# Função que varre os itens e retorna suas respectivas informações\n",
    "def get_info(item):\n",
    "    return [requests.get(f\"https://api.mercadolibre.com/sites/MLA/search?q={item}&limit={item_range}&offset={num}\").json()\n",
    "            for num in range(1, item_range+1)]\n",
    "\n",
    "# result_list contém os dicionários de informações para cada combinação de item e número de página\n",
    "result_list = a.reduce(lambda result, item: result + get_info(item), items, [])"
   ]
  },
  {
   "cell_type": "code",
   "execution_count": 106,
   "metadata": {},
   "outputs": [],
   "source": [
    "# Converter a lista de dicionários em DataFrame\n",
    "data_MercadoLibre = pd.DataFrame(result_list)"
   ]
  },
  {
   "cell_type": "markdown",
   "metadata": {},
   "source": [
    "<h3>Verificação dos Dados</h3>"
   ]
  },
  {
   "cell_type": "code",
   "execution_count": 119,
   "metadata": {},
   "outputs": [
    {
     "data": {
      "text/html": [
       "<div>\n",
       "<style scoped>\n",
       "    .dataframe tbody tr th:only-of-type {\n",
       "        vertical-align: middle;\n",
       "    }\n",
       "\n",
       "    .dataframe tbody tr th {\n",
       "        vertical-align: top;\n",
       "    }\n",
       "\n",
       "    .dataframe thead th {\n",
       "        text-align: right;\n",
       "    }\n",
       "</style>\n",
       "<table border=\"1\" class=\"dataframe\">\n",
       "  <thead>\n",
       "    <tr style=\"text-align: right;\">\n",
       "      <th></th>\n",
       "      <th>site_id</th>\n",
       "      <th>country_default_time_zone</th>\n",
       "      <th>query</th>\n",
       "      <th>paging</th>\n",
       "      <th>results</th>\n",
       "      <th>sort</th>\n",
       "      <th>available_sorts</th>\n",
       "      <th>filters</th>\n",
       "      <th>available_filters</th>\n",
       "    </tr>\n",
       "  </thead>\n",
       "  <tbody>\n",
       "    <tr>\n",
       "      <td>0</td>\n",
       "      <td>MLA</td>\n",
       "      <td>GMT-03:00</td>\n",
       "      <td>chromecast</td>\n",
       "      <td>{'total': 383, 'primary_results': 383, 'offset...</td>\n",
       "      <td>[{'id': 'MLA1150728234', 'title': 'Google Chro...</td>\n",
       "      <td>{'id': 'relevance', 'name': 'Más relevantes'}</td>\n",
       "      <td>[{'id': 'price_asc', 'name': 'Menor precio'}, ...</td>\n",
       "      <td>[{'id': 'category', 'name': 'Categorías', 'typ...</td>\n",
       "      <td>[{'id': 'discount', 'name': 'Descuentos', 'typ...</td>\n",
       "    </tr>\n",
       "    <tr>\n",
       "      <td>1</td>\n",
       "      <td>MLA</td>\n",
       "      <td>GMT-03:00</td>\n",
       "      <td>chromecast</td>\n",
       "      <td>{'total': 383, 'primary_results': 383, 'offset...</td>\n",
       "      <td>[{'id': 'MLA1394845862', 'title': 'Xiaomi Mi T...</td>\n",
       "      <td>{'id': 'relevance', 'name': 'Más relevantes'}</td>\n",
       "      <td>[{'id': 'price_asc', 'name': 'Menor precio'}, ...</td>\n",
       "      <td>[{'id': 'category', 'name': 'Categorías', 'typ...</td>\n",
       "      <td>[{'id': 'state', 'name': 'Ubicación', 'type': ...</td>\n",
       "    </tr>\n",
       "    <tr>\n",
       "      <td>2</td>\n",
       "      <td>MLA</td>\n",
       "      <td>GMT-03:00</td>\n",
       "      <td>chromecast</td>\n",
       "      <td>{'total': 383, 'primary_results': 383, 'offset...</td>\n",
       "      <td>[{'id': 'MLA1346181299', 'title': 'Chromecast ...</td>\n",
       "      <td>{'id': 'relevance', 'name': 'Más relevantes'}</td>\n",
       "      <td>[{'id': 'price_asc', 'name': 'Menor precio'}, ...</td>\n",
       "      <td>[{'id': 'category', 'name': 'Categorías', 'typ...</td>\n",
       "      <td>[{'id': 'discount', 'name': 'Descuentos', 'typ...</td>\n",
       "    </tr>\n",
       "    <tr>\n",
       "      <td>3</td>\n",
       "      <td>MLA</td>\n",
       "      <td>GMT-03:00</td>\n",
       "      <td>chromecast</td>\n",
       "      <td>{'total': 383, 'primary_results': 383, 'offset...</td>\n",
       "      <td>[{'id': 'MLA1200056325', 'title': 'Google Chro...</td>\n",
       "      <td>{'id': 'relevance', 'name': 'Más relevantes'}</td>\n",
       "      <td>[{'id': 'price_asc', 'name': 'Menor precio'}, ...</td>\n",
       "      <td>[{'id': 'category', 'name': 'Categorías', 'typ...</td>\n",
       "      <td>[{'id': 'official_store', 'name': 'Tiendas ofi...</td>\n",
       "    </tr>\n",
       "    <tr>\n",
       "      <td>4</td>\n",
       "      <td>MLA</td>\n",
       "      <td>GMT-03:00</td>\n",
       "      <td>chromecast</td>\n",
       "      <td>{'total': 383, 'primary_results': 383, 'offset...</td>\n",
       "      <td>[{'id': 'MLA1400348604', 'title': 'Xiaomi Stic...</td>\n",
       "      <td>{'id': 'relevance', 'name': 'Más relevantes'}</td>\n",
       "      <td>[{'id': 'price_asc', 'name': 'Menor precio'}, ...</td>\n",
       "      <td>[{'id': 'category', 'name': 'Categorías', 'typ...</td>\n",
       "      <td>[{'id': 'state', 'name': 'Ubicación', 'type': ...</td>\n",
       "    </tr>\n",
       "  </tbody>\n",
       "</table>\n",
       "</div>"
      ],
      "text/plain": [
       "  site_id country_default_time_zone       query  \\\n",
       "0     MLA                 GMT-03:00  chromecast   \n",
       "1     MLA                 GMT-03:00  chromecast   \n",
       "2     MLA                 GMT-03:00  chromecast   \n",
       "3     MLA                 GMT-03:00  chromecast   \n",
       "4     MLA                 GMT-03:00  chromecast   \n",
       "\n",
       "                                              paging  \\\n",
       "0  {'total': 383, 'primary_results': 383, 'offset...   \n",
       "1  {'total': 383, 'primary_results': 383, 'offset...   \n",
       "2  {'total': 383, 'primary_results': 383, 'offset...   \n",
       "3  {'total': 383, 'primary_results': 383, 'offset...   \n",
       "4  {'total': 383, 'primary_results': 383, 'offset...   \n",
       "\n",
       "                                             results  \\\n",
       "0  [{'id': 'MLA1150728234', 'title': 'Google Chro...   \n",
       "1  [{'id': 'MLA1394845862', 'title': 'Xiaomi Mi T...   \n",
       "2  [{'id': 'MLA1346181299', 'title': 'Chromecast ...   \n",
       "3  [{'id': 'MLA1200056325', 'title': 'Google Chro...   \n",
       "4  [{'id': 'MLA1400348604', 'title': 'Xiaomi Stic...   \n",
       "\n",
       "                                            sort  \\\n",
       "0  {'id': 'relevance', 'name': 'Más relevantes'}   \n",
       "1  {'id': 'relevance', 'name': 'Más relevantes'}   \n",
       "2  {'id': 'relevance', 'name': 'Más relevantes'}   \n",
       "3  {'id': 'relevance', 'name': 'Más relevantes'}   \n",
       "4  {'id': 'relevance', 'name': 'Más relevantes'}   \n",
       "\n",
       "                                     available_sorts  \\\n",
       "0  [{'id': 'price_asc', 'name': 'Menor precio'}, ...   \n",
       "1  [{'id': 'price_asc', 'name': 'Menor precio'}, ...   \n",
       "2  [{'id': 'price_asc', 'name': 'Menor precio'}, ...   \n",
       "3  [{'id': 'price_asc', 'name': 'Menor precio'}, ...   \n",
       "4  [{'id': 'price_asc', 'name': 'Menor precio'}, ...   \n",
       "\n",
       "                                             filters  \\\n",
       "0  [{'id': 'category', 'name': 'Categorías', 'typ...   \n",
       "1  [{'id': 'category', 'name': 'Categorías', 'typ...   \n",
       "2  [{'id': 'category', 'name': 'Categorías', 'typ...   \n",
       "3  [{'id': 'category', 'name': 'Categorías', 'typ...   \n",
       "4  [{'id': 'category', 'name': 'Categorías', 'typ...   \n",
       "\n",
       "                                   available_filters  \n",
       "0  [{'id': 'discount', 'name': 'Descuentos', 'typ...  \n",
       "1  [{'id': 'state', 'name': 'Ubicación', 'type': ...  \n",
       "2  [{'id': 'discount', 'name': 'Descuentos', 'typ...  \n",
       "3  [{'id': 'official_store', 'name': 'Tiendas ofi...  \n",
       "4  [{'id': 'state', 'name': 'Ubicación', 'type': ...  "
      ]
     },
     "execution_count": 119,
     "metadata": {},
     "output_type": "execute_result"
    }
   ],
   "source": [
    "# Cabeçalho do Dataframe criado\n",
    "data_MercadoLibre.head()"
   ]
  },
  {
   "cell_type": "code",
   "execution_count": 111,
   "metadata": {},
   "outputs": [
    {
     "name": "stdout",
     "output_type": "stream",
     "text": [
      "MLA1394845862\n"
     ]
    }
   ],
   "source": [
    "# Exemplo do dado desejado\n",
    "print(data_MercadoLibre['results'][0][1]['id'])"
   ]
  },
  {
   "cell_type": "code",
   "execution_count": 114,
   "metadata": {},
   "outputs": [
    {
     "data": {
      "text/plain": [
       "site_id                      object\n",
       "country_default_time_zone    object\n",
       "query                        object\n",
       "paging                       object\n",
       "results                      object\n",
       "sort                         object\n",
       "available_sorts              object\n",
       "filters                      object\n",
       "available_filters            object\n",
       "dtype: object"
      ]
     },
     "execution_count": 114,
     "metadata": {},
     "output_type": "execute_result"
    }
   ],
   "source": [
    "# Tipo dos Dados\n",
    "data_MercadoLibre.dtypes"
   ]
  },
  {
   "cell_type": "code",
   "execution_count": 123,
   "metadata": {},
   "outputs": [
    {
     "data": {
      "text/plain": [
       "0     {'total': 383, 'primary_results': 383, 'offset...\n",
       "1     {'total': 383, 'primary_results': 383, 'offset...\n",
       "2     {'total': 383, 'primary_results': 383, 'offset...\n",
       "3     {'total': 383, 'primary_results': 383, 'offset...\n",
       "4     {'total': 383, 'primary_results': 383, 'offset...\n",
       "5     {'total': 383, 'primary_results': 383, 'offset...\n",
       "6     {'total': 383, 'primary_results': 383, 'offset...\n",
       "7     {'total': 383, 'primary_results': 383, 'offset...\n",
       "8     {'total': 383, 'primary_results': 383, 'offset...\n",
       "9     {'total': 383, 'primary_results': 383, 'offset...\n",
       "10    {'total': 67, 'primary_results': 60, 'offset':...\n",
       "11    {'total': 67, 'primary_results': 60, 'offset':...\n",
       "12    {'total': 67, 'primary_results': 60, 'offset':...\n",
       "13    {'total': 67, 'primary_results': 60, 'offset':...\n",
       "14    {'total': 67, 'primary_results': 60, 'offset':...\n",
       "15    {'total': 67, 'primary_results': 60, 'offset':...\n",
       "16    {'total': 67, 'primary_results': 60, 'offset':...\n",
       "17    {'total': 67, 'primary_results': 60, 'offset':...\n",
       "18    {'total': 67, 'primary_results': 60, 'offset':...\n",
       "19    {'total': 67, 'primary_results': 60, 'offset':...\n",
       "20    {'total': 249, 'primary_results': 54, 'offset'...\n",
       "21    {'total': 249, 'primary_results': 54, 'offset'...\n",
       "22    {'total': 249, 'primary_results': 54, 'offset'...\n",
       "23    {'total': 249, 'primary_results': 54, 'offset'...\n",
       "24    {'total': 249, 'primary_results': 54, 'offset'...\n",
       "25    {'total': 249, 'primary_results': 54, 'offset'...\n",
       "26    {'total': 249, 'primary_results': 54, 'offset'...\n",
       "27    {'total': 249, 'primary_results': 54, 'offset'...\n",
       "28    {'total': 249, 'primary_results': 54, 'offset'...\n",
       "29    {'total': 249, 'primary_results': 54, 'offset'...\n",
       "30    {'total': 119, 'primary_results': 119, 'offset...\n",
       "31    {'total': 119, 'primary_results': 119, 'offset...\n",
       "32    {'total': 119, 'primary_results': 119, 'offset...\n",
       "33    {'total': 119, 'primary_results': 119, 'offset...\n",
       "34    {'total': 119, 'primary_results': 119, 'offset...\n",
       "35    {'total': 119, 'primary_results': 119, 'offset...\n",
       "36    {'total': 119, 'primary_results': 119, 'offset...\n",
       "37    {'total': 119, 'primary_results': 119, 'offset...\n",
       "38    {'total': 119, 'primary_results': 119, 'offset...\n",
       "39    {'total': 119, 'primary_results': 119, 'offset...\n",
       "Name: paging, dtype: object"
      ]
     },
     "execution_count": 123,
     "metadata": {},
     "output_type": "execute_result"
    }
   ],
   "source": [
    "data_MercadoLibre[query]"
   ]
  },
  {
   "cell_type": "code",
   "execution_count": null,
   "metadata": {},
   "outputs": [],
   "source": []
  },
  {
   "cell_type": "markdown",
   "metadata": {},
   "source": [
    "<h1>Tarefa 2</h1>"
   ]
  },
  {
   "cell_type": "markdown",
   "metadata": {},
   "source": [
    "<n>Para cada resultado, realizar o correspondente GET por item_id no recurso publico:</n>"
   ]
  },
  {
   "cell_type": "markdown",
   "metadata": {},
   "source": [
    "https://api.mercadolibre.com/items/{Item_Id}"
   ]
  },
  {
   "cell_type": "code",
   "execution_count": 144,
   "metadata": {},
   "outputs": [],
   "source": [
    "# Obtém as informações do item com base no Item_id.\n",
    "def get_item_info(item_id):\n",
    "    url = f\"https://api.mercadolibre.com/items/{item_id}\"\n",
    "    response = requests.get(url)\n",
    "\n",
    "    if response.status_code == 200:\n",
    "        item_info = response.json()\n",
    "        return item_info\n",
    "    else:\n",
    "        return None\n",
    "\n",
    "items_mercado_libre = [get_item_info(result['id']) for result in result_list[0]['results']]"
   ]
  },
  {
   "cell_type": "markdown",
   "metadata": {},
   "source": [
    "<h1>Tarefa 3</h1>"
   ]
  },
  {
   "cell_type": "markdown",
   "metadata": {},
   "source": [
    "<n>Escrever os resultados em um arquivo plano delimitado por vírgulas, desnormalizando o JSON obtido no passo anterior, em quantos campos sejam necessários para guardar as variáveis que te interesse modelar.</n>"
   ]
  },
  {
   "cell_type": "code",
   "execution_count": 160,
   "metadata": {},
   "outputs": [],
   "source": [
    "# Lista com os campos desejados do JSON\n",
    "campos_desejados = ['campo1', 'campo2', 'campo3']\n",
    "\n",
    "# Caminho do arquivo de saída CSV\n",
    "arquivo_saida = '\\GitHub\\mercado_libre_items.csv'\n",
    "\n",
    "with open(arquivo_saida, 'w', newline='', encoding='utf-8') as arquivo:\n",
    "    writer = csv.writer(arquivo)\n",
    "    \n",
    "    # Escreve o cabeçalho com os nomes dos campos\n",
    "    writer.writerow(campos_desejados)\n",
    "    \n",
    "    # Itera sobre os itens e escreve as informações nos campos correspondentes\n",
    "    for item in items_mercado_libre:\n",
    "        linha = []\n",
    "        \n",
    "        # Extrai as informações desejadas do item\n",
    "        for campo in campos_desejados:\n",
    "            # Verifica se o campo está presente no item\n",
    "            if campo in item:\n",
    "                linha.append(item[campo])\n",
    "            else:\n",
    "                linha.append('')\n",
    "        \n",
    "        # Escreve a linha no arquivo CSV\n",
    "        writer.writerow(linha)"
   ]
  },
  {
   "cell_type": "code",
   "execution_count": 151,
   "metadata": {},
   "outputs": [
    {
     "data": {
      "text/plain": [
       "'resultados.csv'"
      ]
     },
     "execution_count": 151,
     "metadata": {},
     "output_type": "execute_result"
    }
   ],
   "source": []
  },
  {
   "cell_type": "code",
   "execution_count": null,
   "metadata": {},
   "outputs": [],
   "source": []
  }
 ],
 "metadata": {
  "kernelspec": {
   "display_name": "Python 3",
   "language": "python",
   "name": "python3"
  },
  "language_info": {
   "codemirror_mode": {
    "name": "ipython",
    "version": 3
   },
   "file_extension": ".py",
   "mimetype": "text/x-python",
   "name": "python",
   "nbconvert_exporter": "python",
   "pygments_lexer": "ipython3",
   "version": "3.7.4"
  }
 },
 "nbformat": 4,
 "nbformat_minor": 2
}
