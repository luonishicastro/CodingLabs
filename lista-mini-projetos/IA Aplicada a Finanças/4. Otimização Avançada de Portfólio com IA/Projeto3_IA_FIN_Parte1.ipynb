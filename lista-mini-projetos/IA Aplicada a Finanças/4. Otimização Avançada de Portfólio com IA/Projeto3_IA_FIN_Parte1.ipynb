{
 "cells": [
  {
   "cell_type": "markdown",
   "metadata": {},
   "source": [
    "# Inteligência Artificial Aplicada a Finanças"
   ]
  },
  {
   "cell_type": "markdown",
   "metadata": {},
   "source": [
    "# Projeto 3 - Otimização Avançada de Portfólio com IA"
   ]
  },
  {
   "cell_type": "code",
   "execution_count": 1,
   "metadata": {},
   "outputs": [
    {
     "name": "stdout",
     "output_type": "stream",
     "text": [
      "Versão da Linguagem Python Usada Neste Jupyter Notebook: 3.7.6\n"
     ]
    }
   ],
   "source": [
    "# Versão da Linguagem Python\n",
    "from platform import python_version\n",
    "print('Versão da Linguagem Python Usada Neste Jupyter Notebook:', python_version())"
   ]
  },
  {
   "cell_type": "markdown",
   "metadata": {},
   "source": [
    "## Parte 1 - Coleta Automática dos Dados"
   ]
  },
  {
   "cell_type": "markdown",
   "metadata": {},
   "source": [
    "Neste projeto vamos construir um sistema de IA para otimização de portfólio de investimentos, que será capaz de aprender de forma automática como otimizar o lucro ao longo do tempo com diferentes combinações de ativos financeiros, especificamente ações listadas na NASDAQ."
   ]
  },
  {
   "cell_type": "markdown",
   "metadata": {},
   "source": [
    "### Instalando e Carregando Pacotes"
   ]
  },
  {
   "cell_type": "code",
   "execution_count": 2,
   "metadata": {},
   "outputs": [],
   "source": [
    "# Para atualizar um pacote, execute o comando abaixo no terminal ou prompt de comando:\n",
    "# pip install -U nome_pacote\n",
    "\n",
    "# Para instalar a versão exata de um pacote, execute o comando abaixo no terminal ou prompt de comando:\n",
    "# pip install nome_pacote==versão_desejada\n",
    "\n",
    "# Depois de instalar ou atualizar o pacote, reinicie o jupyter notebook.\n",
    "\n",
    "# Instala o pacote watermark. \n",
    "# Esse pacote é usado para gravar as versões de outros pacotes usados neste jupyter notebook.\n",
    "!pip install -q -U watermark"
   ]
  },
  {
   "cell_type": "code",
   "execution_count": 3,
   "metadata": {},
   "outputs": [],
   "source": [
    "!pip install -q -U pandas_datareader"
   ]
  },
  {
   "cell_type": "code",
   "execution_count": 4,
   "metadata": {},
   "outputs": [],
   "source": [
    "!pip install -q -U holidays"
   ]
  },
  {
   "cell_type": "code",
   "execution_count": 1,
   "metadata": {},
   "outputs": [],
   "source": [
    "# Imports\n",
    "import warnings\n",
    "warnings.simplefilter(action='ignore', category=FutureWarning)\n",
    "warnings.filterwarnings(\"ignore\", category=FutureWarning)\n",
    "import time\n",
    "import pandas as pd\n",
    "import numpy as np\n",
    "import requests\n",
    "import holidays\n",
    "import bs4\n",
    "import pandas_datareader\n",
    "from random import randint\n",
    "from datetime import date\n",
    "from bs4 import BeautifulSoup\n",
    "from pandas_datareader import data as pdr"
   ]
  },
  {
   "cell_type": "code",
   "execution_count": 6,
   "metadata": {},
   "outputs": [
    {
     "name": "stdout",
     "output_type": "stream",
     "text": [
      "numpy             1.19.2\n",
      "pandas            1.1.3\n",
      "bs4               4.8.2\n",
      "holidays          0.10.3\n",
      "requests          2.22.0\n",
      "pandas_datareader 0.9.0\n",
      "Data Science Academy\n"
     ]
    }
   ],
   "source": [
    "# Versões dos pacotes usados neste jupyter notebook\n",
    "%reload_ext watermark\n",
    "%watermark -a \"Data Science Academy\" --iversions"
   ]
  },
  {
   "cell_type": "markdown",
   "metadata": {},
   "source": [
    "### Função Para Obter Dados de Ações do Yahoo Finance"
   ]
  },
  {
   "cell_type": "code",
   "execution_count": 2,
   "metadata": {},
   "outputs": [],
   "source": [
    "def retorna_acoes(ticker_list, start, end):\n",
    "    list_of_df = []\n",
    "    not_found = []\n",
    "    \n",
    "    for ticker in ticker_list:\n",
    "        try:\n",
    "            df = pdr.get_data_yahoo(ticker, start, end)\n",
    "            df = df.reset_index()\n",
    "            df.rename(columns = {'Date':'date'})\n",
    "            df['ticker'] = [ticker] * len(df)\n",
    "            list_of_df.append(df)\n",
    "        except ValueError:\n",
    "            print(\"Não Encontrado: \" + ticker)\n",
    "            not_found.append(ticker)\n",
    "    \n",
    "    return list_of_df, not_found"
   ]
  },
  {
   "cell_type": "markdown",
   "metadata": {},
   "source": [
    "### Função Para Scraping de Dados Históricos da NASDAQ"
   ]
  },
  {
   "cell_type": "code",
   "execution_count": 3,
   "metadata": {},
   "outputs": [],
   "source": [
    "def scrape_nasdaq(ticker_list):\n",
    "    tckr_data = {}\n",
    "    count = 1\n",
    "    \n",
    "    for ticker in ticker_list:\n",
    "        print(\"Scraping count: \" + str(count))\n",
    "        \n",
    "        url = 'https://old.nasdaq.com/symbol/' + ticker + '/historical'\n",
    "        driver.get(url)\n",
    "        \n",
    "        # Coleta de 10 anos de dados\n",
    "        data_range = driver.find_elements_by_name('ddlTimeFrame')\n",
    "        \n",
    "        if len(data_range) > 0:\n",
    "            for option in data_range[0].find_elements_by_tag_name('option'):\n",
    "                if option.text == '10 Years':\n",
    "                    option.click()\n",
    "                    break\n",
    "            time.sleep(5)\n",
    "            page_source = driver.page_source\n",
    "    \n",
    "            # Gerando objeto soup para o parse de dados da URL\n",
    "            soup = BeautifulSoup(page_source, 'lxml')\n",
    "    \n",
    "            # Definindo a regra de pesquisa na tabela de dados históricos\n",
    "            tags = soup.find_all('div', id = \"historicalContainer\")\n",
    "    \n",
    "            # Iniciando a busca\n",
    "            temp_data = []\n",
    "    \n",
    "            for tag in tags:\n",
    "                rows = tag.findAll('tr')\n",
    "                for tr in rows:\n",
    "                    cols = tr.findAll('td')\n",
    "                    val = [tr.text for tr in cols]\n",
    "                    temp_data.append(val)\n",
    "            \n",
    "            # Limpando os dados\n",
    "            for i in range(len(temp_data)):\n",
    "                to_process = temp_data[i]\n",
    "    \n",
    "                for i in range(len(to_process)):\n",
    "                    temp = to_process[i]\n",
    "                    temp = temp.strip()\n",
    "                    to_process[i] = temp\n",
    "         \n",
    "            # Obtendo os dados\n",
    "            temp_data = temp_data[2:]\n",
    "            \n",
    "            if tckr_data.get(ticker) == None:\n",
    "                tckr_data[ticker] = temp_data\n",
    "        \n",
    "            # Pausa na coleta para evitar bloqueio no site da Nasdaq\n",
    "            print(\"Random Sleep\")\n",
    "            sleep(randint(2, 4))\n",
    "            count += 1\n",
    "        \n",
    "        else:\n",
    "            print(\"Não Encontrado\" + ticker)\n",
    "        \n",
    "    # Preparando as listas para o dataframe\n",
    "    date = []\n",
    "    Open = []\n",
    "    high = []\n",
    "    low = []\n",
    "    close = []\n",
    "    volume = []\n",
    "    ticker = []\n",
    "\n",
    "    # Coletando e classificando os dados\n",
    "    for key, value in tckr_data.items():\n",
    "        for data in value:\n",
    "            date.append(data[0].replace('/','-'))\n",
    "            Open.append(data[1])\n",
    "            high.append(data[2])\n",
    "            low.append(data[3])\n",
    "            close.append(data[4])\n",
    "            volume.append(data[5].replace(',',''))\n",
    "            ticker.append(key)  \n",
    "            \n",
    "    # Dicionário final com os dados\n",
    "    final_dict = {'date' : date, 'Open':Open, 'High':high, 'Low':low, 'Close':close, 'Volume':volume, 'ticker':ticker}\n",
    "    \n",
    "    # Gerando o dataframe a partir do dicionário\n",
    "    df = pd.DataFrame(final_dict)\n",
    "    cols = ['date', 'Open', 'High', 'Low', 'Close', 'Volume', 'ticker']\n",
    "    df = df[cols]\n",
    "\n",
    "    return df"
   ]
  },
  {
   "cell_type": "markdown",
   "metadata": {},
   "source": [
    "### Function Para Obter as Cotações Históricas Usando as Duas Funções Acima"
   ]
  },
  {
   "cell_type": "code",
   "execution_count": 9,
   "metadata": {},
   "outputs": [],
   "source": [
    "def get_stocks_data(ticker_set, start, end):\n",
    "    \n",
    "    # Retorna ações que que serão coletadas\n",
    "    stocks_1, not_found = retorna_acoes(ticker_set, start, end)\n",
    "    \n",
    "    if len(not_found) > 0:\n",
    "    \n",
    "        # Dados das ações da Nasdaq\n",
    "        stocks = scrape_nasdaq(not_found)\n",
    "    \n",
    "        # Merging em um dataframe\n",
    "        stocks_1 = pd.concat(stocks_1)\n",
    "\n",
    "        stocks_1 = stocks_1.rename(columns = {'Date' : 'date'})\n",
    "        stocks_1 = stocks_1[['date', 'Open', 'High', 'Low', 'Close', 'Volume', 'ticker']]\n",
    "        stocks_1['date'] = stocks_1['date'].dt.date\n",
    "\n",
    "        stocks = stocks.rename(columns = {'Ticker' : 'ticker'})\n",
    "        stocks[['Open', 'High', 'Low', 'Close', 'Volume']] = stocks[['Open', 'High', 'Low', 'Close', 'Volume']].astype(float)\n",
    "    \n",
    "        stocks_final = pd.concat([stocks_1, stocks])\n",
    "        return stocks_final\n",
    "    \n",
    "    else:\n",
    "        return pd.concat(stocks_1)"
   ]
  },
  {
   "cell_type": "code",
   "execution_count": 10,
   "metadata": {},
   "outputs": [],
   "source": [
    "# 16 Ações que serão coletadas\n",
    "tickers = ['AAPL', 'XOM' ,'VMC', 'BA', 'AMZN', 'TGT', 'WMT', 'KO', 'UNH', 'JPM', 'GOOGL', 'STT', 'MSFT', 'VZ', 'XEL', 'SPG']"
   ]
  },
  {
   "cell_type": "code",
   "execution_count": 11,
   "metadata": {},
   "outputs": [],
   "source": [
    "# Coletando as cotações históricas de 10 anos\n",
    "df = get_stocks_data(tickers, start = '2009-01-01', end = '2019-12-31')"
   ]
  },
  {
   "cell_type": "code",
   "execution_count": 12,
   "metadata": {},
   "outputs": [
    {
     "data": {
      "text/html": [
       "<div>\n",
       "<style scoped>\n",
       "    .dataframe tbody tr th:only-of-type {\n",
       "        vertical-align: middle;\n",
       "    }\n",
       "\n",
       "    .dataframe tbody tr th {\n",
       "        vertical-align: top;\n",
       "    }\n",
       "\n",
       "    .dataframe thead th {\n",
       "        text-align: right;\n",
       "    }\n",
       "</style>\n",
       "<table border=\"1\" class=\"dataframe\">\n",
       "  <thead>\n",
       "    <tr style=\"text-align: right;\">\n",
       "      <th></th>\n",
       "      <th>Date</th>\n",
       "      <th>High</th>\n",
       "      <th>Low</th>\n",
       "      <th>Open</th>\n",
       "      <th>Close</th>\n",
       "      <th>Volume</th>\n",
       "      <th>Adj Close</th>\n",
       "      <th>ticker</th>\n",
       "    </tr>\n",
       "  </thead>\n",
       "  <tbody>\n",
       "    <tr>\n",
       "      <th>148</th>\n",
       "      <td>2009-08-05</td>\n",
       "      <td>85.750000</td>\n",
       "      <td>83.019997</td>\n",
       "      <td>85.639999</td>\n",
       "      <td>84.290001</td>\n",
       "      <td>7279400.0</td>\n",
       "      <td>84.290001</td>\n",
       "      <td>AMZN</td>\n",
       "    </tr>\n",
       "    <tr>\n",
       "      <th>2180</th>\n",
       "      <td>2017-08-30</td>\n",
       "      <td>79.099998</td>\n",
       "      <td>78.519997</td>\n",
       "      <td>78.820000</td>\n",
       "      <td>78.540001</td>\n",
       "      <td>5829800.0</td>\n",
       "      <td>73.457710</td>\n",
       "      <td>WMT</td>\n",
       "    </tr>\n",
       "    <tr>\n",
       "      <th>705</th>\n",
       "      <td>2011-10-19</td>\n",
       "      <td>79.239998</td>\n",
       "      <td>77.919998</td>\n",
       "      <td>78.570000</td>\n",
       "      <td>78.430000</td>\n",
       "      <td>20910900.0</td>\n",
       "      <td>56.269211</td>\n",
       "      <td>XOM</td>\n",
       "    </tr>\n",
       "    <tr>\n",
       "      <th>2409</th>\n",
       "      <td>2018-07-30</td>\n",
       "      <td>53.000000</td>\n",
       "      <td>52.080002</td>\n",
       "      <td>52.270000</td>\n",
       "      <td>52.490002</td>\n",
       "      <td>16725000.0</td>\n",
       "      <td>47.719433</td>\n",
       "      <td>VZ</td>\n",
       "    </tr>\n",
       "    <tr>\n",
       "      <th>1144</th>\n",
       "      <td>2013-07-22</td>\n",
       "      <td>56.669998</td>\n",
       "      <td>55.950001</td>\n",
       "      <td>56.169998</td>\n",
       "      <td>56.560001</td>\n",
       "      <td>15999700.0</td>\n",
       "      <td>45.984550</td>\n",
       "      <td>JPM</td>\n",
       "    </tr>\n",
       "  </tbody>\n",
       "</table>\n",
       "</div>"
      ],
      "text/plain": [
       "           Date       High        Low       Open      Close      Volume  \\\n",
       "148  2009-08-05  85.750000  83.019997  85.639999  84.290001   7279400.0   \n",
       "2180 2017-08-30  79.099998  78.519997  78.820000  78.540001   5829800.0   \n",
       "705  2011-10-19  79.239998  77.919998  78.570000  78.430000  20910900.0   \n",
       "2409 2018-07-30  53.000000  52.080002  52.270000  52.490002  16725000.0   \n",
       "1144 2013-07-22  56.669998  55.950001  56.169998  56.560001  15999700.0   \n",
       "\n",
       "      Adj Close ticker  \n",
       "148   84.290001   AMZN  \n",
       "2180  73.457710    WMT  \n",
       "705   56.269211    XOM  \n",
       "2409  47.719433     VZ  \n",
       "1144  45.984550    JPM  "
      ]
     },
     "execution_count": 12,
     "metadata": {},
     "output_type": "execute_result"
    }
   ],
   "source": [
    "df.sample(5)"
   ]
  },
  {
   "cell_type": "code",
   "execution_count": 13,
   "metadata": {},
   "outputs": [],
   "source": [
    "# Ajustando o dataframe apenas com as colunas que nos interessam\n",
    "df = df[['Date', 'Open', 'High', 'Low', 'Close', 'ticker']]"
   ]
  },
  {
   "cell_type": "code",
   "execution_count": 14,
   "metadata": {},
   "outputs": [
    {
     "data": {
      "text/html": [
       "<div>\n",
       "<style scoped>\n",
       "    .dataframe tbody tr th:only-of-type {\n",
       "        vertical-align: middle;\n",
       "    }\n",
       "\n",
       "    .dataframe tbody tr th {\n",
       "        vertical-align: top;\n",
       "    }\n",
       "\n",
       "    .dataframe thead th {\n",
       "        text-align: right;\n",
       "    }\n",
       "</style>\n",
       "<table border=\"1\" class=\"dataframe\">\n",
       "  <thead>\n",
       "    <tr style=\"text-align: right;\">\n",
       "      <th></th>\n",
       "      <th>Date</th>\n",
       "      <th>Open</th>\n",
       "      <th>High</th>\n",
       "      <th>Low</th>\n",
       "      <th>Close</th>\n",
       "      <th>ticker</th>\n",
       "    </tr>\n",
       "  </thead>\n",
       "  <tbody>\n",
       "    <tr>\n",
       "      <th>220</th>\n",
       "      <td>2009-11-16</td>\n",
       "      <td>7.338572</td>\n",
       "      <td>7.428571</td>\n",
       "      <td>7.321786</td>\n",
       "      <td>7.379643</td>\n",
       "      <td>AAPL</td>\n",
       "    </tr>\n",
       "    <tr>\n",
       "      <th>2052</th>\n",
       "      <td>2017-02-28</td>\n",
       "      <td>165.470001</td>\n",
       "      <td>166.759995</td>\n",
       "      <td>164.899994</td>\n",
       "      <td>165.380005</td>\n",
       "      <td>UNH</td>\n",
       "    </tr>\n",
       "    <tr>\n",
       "      <th>556</th>\n",
       "      <td>2011-03-18</td>\n",
       "      <td>81.769997</td>\n",
       "      <td>82.330002</td>\n",
       "      <td>80.849998</td>\n",
       "      <td>80.849998</td>\n",
       "      <td>XOM</td>\n",
       "    </tr>\n",
       "    <tr>\n",
       "      <th>918</th>\n",
       "      <td>2012-08-23</td>\n",
       "      <td>30.389999</td>\n",
       "      <td>30.400000</td>\n",
       "      <td>30.080000</td>\n",
       "      <td>30.260000</td>\n",
       "      <td>MSFT</td>\n",
       "    </tr>\n",
       "    <tr>\n",
       "      <th>1858</th>\n",
       "      <td>2016-05-20</td>\n",
       "      <td>67.389999</td>\n",
       "      <td>69.139999</td>\n",
       "      <td>67.000000</td>\n",
       "      <td>68.660004</td>\n",
       "      <td>TGT</td>\n",
       "    </tr>\n",
       "  </tbody>\n",
       "</table>\n",
       "</div>"
      ],
      "text/plain": [
       "           Date        Open        High         Low       Close ticker\n",
       "220  2009-11-16    7.338572    7.428571    7.321786    7.379643   AAPL\n",
       "2052 2017-02-28  165.470001  166.759995  164.899994  165.380005    UNH\n",
       "556  2011-03-18   81.769997   82.330002   80.849998   80.849998    XOM\n",
       "918  2012-08-23   30.389999   30.400000   30.080000   30.260000   MSFT\n",
       "1858 2016-05-20   67.389999   69.139999   67.000000   68.660004    TGT"
      ]
     },
     "execution_count": 14,
     "metadata": {},
     "output_type": "execute_result"
    }
   ],
   "source": [
    "# Amostra do que foi coletado\n",
    "df.sample(5)"
   ]
  },
  {
   "cell_type": "code",
   "execution_count": 15,
   "metadata": {},
   "outputs": [],
   "source": [
    "# Salvando em formato csv\n",
    "df.to_csv('dados/stocks.csv')"
   ]
  },
  {
   "cell_type": "markdown",
   "metadata": {},
   "source": [
    "# Fim"
   ]
  }
 ],
 "metadata": {
  "kernelspec": {
   "display_name": "Python 3",
   "language": "python",
   "name": "python3"
  },
  "language_info": {
   "codemirror_mode": {
    "name": "ipython",
    "version": 3
   },
   "file_extension": ".py",
   "mimetype": "text/x-python",
   "name": "python",
   "nbconvert_exporter": "python",
   "pygments_lexer": "ipython3",
   "version": "3.7.4"
  }
 },
 "nbformat": 4,
 "nbformat_minor": 2
}
