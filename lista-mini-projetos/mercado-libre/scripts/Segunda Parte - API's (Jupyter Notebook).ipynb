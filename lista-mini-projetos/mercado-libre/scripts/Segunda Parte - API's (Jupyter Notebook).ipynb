{
 "cells": [
  {
   "cell_type": "markdown",
   "metadata": {},
   "source": [
    "<b>Realizar uma análise sobre a oferta/vitrine das opções de produtos que repondam a distintas buscas no site do mercadolibre.com.ar</b>"
   ]
  },
  {
   "cell_type": "markdown",
   "metadata": {},
   "source": [
    "<h1>Tarefa 1</h1>"
   ]
  },
  {
   "cell_type": "markdown",
   "metadata": {},
   "source": [
    "<n>Varrer uma lista de mais de 150 itens ids no serviço público:"
   ]
  },
  {
   "cell_type": "markdown",
   "metadata": {},
   "source": [
    "https://api.mercadolibre.com/sites/MLA/search?q=chromecast&limit=50#json"
   ]
  },
  {
   "cell_type": "markdown",
   "metadata": {},
   "source": [
    "<n>Nesse caso particular e somente como exemplo, são resultado para a busca \"chromecast\", porém deverá eleger outros términos para o experimento que permitam enriquecer uma análise em um hipotético dashboard (ex: Google Home, Apple TV, Amazon Fire TV, e outros para poder comparar dispositivos portáteis, ou até mesmo eleger outros e que você tenha interesse em comparar).</n></n>"
   ]
  },
  {
   "cell_type": "markdown",
   "metadata": {},
   "source": [
    "<h3>Criação do Dataframe</h3>"
   ]
  },
  {
   "cell_type": "code",
   "execution_count": 41,
   "metadata": {},
   "outputs": [],
   "source": [
    "# Imports\n",
    "import requests\n",
    "import pandas as pd\n",
    "import functools as a\n",
    "import csv\n",
    "import pyodbc"
   ]
  },
  {
   "cell_type": "code",
   "execution_count": 27,
   "metadata": {},
   "outputs": [],
   "source": [
    "# O limite definido é de 50 resultados, a partir daí o status_code passa a ser de erro.\n",
    "# Para melhorar essa função, poderia-se acrescentar um tratamento de erros.\n",
    "item_range = 50\n",
    "items = ['chromecast', 'Google Home', 'Apple TV', 'Amazon Fire TV']\n",
    "\n",
    "# Função que varre os itens e retorna suas respectivas informações\n",
    "def get_info(item):\n",
    "    return [requests.get(f\"https://api.mercadolibre.com/sites/MLA/search?q={item}&limit={item_range}&offset={num}\").json()\n",
    "            for num in range(1, item_range+1)]\n",
    "\n",
    "# result_list contém os dicionários de informações para cada combinação de item e número de página\n",
    "result_list = a.reduce(lambda result, item: result + get_info(item), items, [])"
   ]
  },
  {
   "cell_type": "code",
   "execution_count": 28,
   "metadata": {},
   "outputs": [],
   "source": [
    "# Converter a lista de dicionários em DataFrame\n",
    "data_MercadoLibre = pd.DataFrame(result_list)"
   ]
  },
  {
   "cell_type": "markdown",
   "metadata": {},
   "source": [
    "<h3>Verificação dos Dados</h3>"
   ]
  },
  {
   "cell_type": "code",
   "execution_count": 29,
   "metadata": {},
   "outputs": [
    {
     "data": {
      "text/html": [
       "<div>\n",
       "<style scoped>\n",
       "    .dataframe tbody tr th:only-of-type {\n",
       "        vertical-align: middle;\n",
       "    }\n",
       "\n",
       "    .dataframe tbody tr th {\n",
       "        vertical-align: top;\n",
       "    }\n",
       "\n",
       "    .dataframe thead th {\n",
       "        text-align: right;\n",
       "    }\n",
       "</style>\n",
       "<table border=\"1\" class=\"dataframe\">\n",
       "  <thead>\n",
       "    <tr style=\"text-align: right;\">\n",
       "      <th></th>\n",
       "      <th>site_id</th>\n",
       "      <th>country_default_time_zone</th>\n",
       "      <th>query</th>\n",
       "      <th>paging</th>\n",
       "      <th>results</th>\n",
       "      <th>sort</th>\n",
       "      <th>available_sorts</th>\n",
       "      <th>filters</th>\n",
       "      <th>available_filters</th>\n",
       "    </tr>\n",
       "  </thead>\n",
       "  <tbody>\n",
       "    <tr>\n",
       "      <td>0</td>\n",
       "      <td>MLA</td>\n",
       "      <td>GMT-03:00</td>\n",
       "      <td>chromecast</td>\n",
       "      <td>{'total': 373, 'primary_results': 373, 'offset...</td>\n",
       "      <td>[{'id': 'MLA930961291', 'title': 'Google Chrom...</td>\n",
       "      <td>{'id': 'relevance', 'name': 'Más relevantes'}</td>\n",
       "      <td>[{'id': 'price_asc', 'name': 'Menor precio'}, ...</td>\n",
       "      <td>[{'id': 'category', 'name': 'Categorías', 'typ...</td>\n",
       "      <td>[{'id': 'discount', 'name': 'Descuentos', 'typ...</td>\n",
       "    </tr>\n",
       "    <tr>\n",
       "      <td>1</td>\n",
       "      <td>MLA</td>\n",
       "      <td>GMT-03:00</td>\n",
       "      <td>chromecast</td>\n",
       "      <td>{'total': 373, 'primary_results': 373, 'offset...</td>\n",
       "      <td>[{'id': 'MLA1394845862', 'title': 'Xiaomi Mi T...</td>\n",
       "      <td>{'id': 'relevance', 'name': 'Más relevantes'}</td>\n",
       "      <td>[{'id': 'price_asc', 'name': 'Menor precio'}, ...</td>\n",
       "      <td>[{'id': 'category', 'name': 'Categorías', 'typ...</td>\n",
       "      <td>[{'id': 'discount', 'name': 'Descuentos', 'typ...</td>\n",
       "    </tr>\n",
       "    <tr>\n",
       "      <td>2</td>\n",
       "      <td>MLA</td>\n",
       "      <td>GMT-03:00</td>\n",
       "      <td>chromecast</td>\n",
       "      <td>{'total': 373, 'primary_results': 373, 'offset...</td>\n",
       "      <td>[{'id': 'MLA1429270982', 'title': 'Chromecast ...</td>\n",
       "      <td>{'id': 'relevance', 'name': 'Más relevantes'}</td>\n",
       "      <td>[{'id': 'price_asc', 'name': 'Menor precio'}, ...</td>\n",
       "      <td>[{'id': 'category', 'name': 'Categorías', 'typ...</td>\n",
       "      <td>[{'id': 'official_store', 'name': 'Tiendas ofi...</td>\n",
       "    </tr>\n",
       "    <tr>\n",
       "      <td>3</td>\n",
       "      <td>MLA</td>\n",
       "      <td>GMT-03:00</td>\n",
       "      <td>chromecast</td>\n",
       "      <td>{'total': 373, 'primary_results': 373, 'offset...</td>\n",
       "      <td>[{'id': 'MLA1199951609', 'title': 'Google Chro...</td>\n",
       "      <td>{'id': 'relevance', 'name': 'Más relevantes'}</td>\n",
       "      <td>[{'id': 'price_asc', 'name': 'Menor precio'}, ...</td>\n",
       "      <td>[{'id': 'category', 'name': 'Categorías', 'typ...</td>\n",
       "      <td>[{'id': 'official_store', 'name': 'Tiendas ofi...</td>\n",
       "    </tr>\n",
       "    <tr>\n",
       "      <td>4</td>\n",
       "      <td>MLA</td>\n",
       "      <td>GMT-03:00</td>\n",
       "      <td>chromecast</td>\n",
       "      <td>{'total': 373, 'primary_results': 373, 'offset...</td>\n",
       "      <td>[{'id': 'MLA832074188', 'title': 'Xiaomi Mi Bo...</td>\n",
       "      <td>{'id': 'relevance', 'name': 'Más relevantes'}</td>\n",
       "      <td>[{'id': 'price_asc', 'name': 'Menor precio'}, ...</td>\n",
       "      <td>[{'id': 'category', 'name': 'Categorías', 'typ...</td>\n",
       "      <td>[{'id': 'official_store', 'name': 'Tiendas ofi...</td>\n",
       "    </tr>\n",
       "  </tbody>\n",
       "</table>\n",
       "</div>"
      ],
      "text/plain": [
       "  site_id country_default_time_zone       query  \\\n",
       "0     MLA                 GMT-03:00  chromecast   \n",
       "1     MLA                 GMT-03:00  chromecast   \n",
       "2     MLA                 GMT-03:00  chromecast   \n",
       "3     MLA                 GMT-03:00  chromecast   \n",
       "4     MLA                 GMT-03:00  chromecast   \n",
       "\n",
       "                                              paging  \\\n",
       "0  {'total': 373, 'primary_results': 373, 'offset...   \n",
       "1  {'total': 373, 'primary_results': 373, 'offset...   \n",
       "2  {'total': 373, 'primary_results': 373, 'offset...   \n",
       "3  {'total': 373, 'primary_results': 373, 'offset...   \n",
       "4  {'total': 373, 'primary_results': 373, 'offset...   \n",
       "\n",
       "                                             results  \\\n",
       "0  [{'id': 'MLA930961291', 'title': 'Google Chrom...   \n",
       "1  [{'id': 'MLA1394845862', 'title': 'Xiaomi Mi T...   \n",
       "2  [{'id': 'MLA1429270982', 'title': 'Chromecast ...   \n",
       "3  [{'id': 'MLA1199951609', 'title': 'Google Chro...   \n",
       "4  [{'id': 'MLA832074188', 'title': 'Xiaomi Mi Bo...   \n",
       "\n",
       "                                            sort  \\\n",
       "0  {'id': 'relevance', 'name': 'Más relevantes'}   \n",
       "1  {'id': 'relevance', 'name': 'Más relevantes'}   \n",
       "2  {'id': 'relevance', 'name': 'Más relevantes'}   \n",
       "3  {'id': 'relevance', 'name': 'Más relevantes'}   \n",
       "4  {'id': 'relevance', 'name': 'Más relevantes'}   \n",
       "\n",
       "                                     available_sorts  \\\n",
       "0  [{'id': 'price_asc', 'name': 'Menor precio'}, ...   \n",
       "1  [{'id': 'price_asc', 'name': 'Menor precio'}, ...   \n",
       "2  [{'id': 'price_asc', 'name': 'Menor precio'}, ...   \n",
       "3  [{'id': 'price_asc', 'name': 'Menor precio'}, ...   \n",
       "4  [{'id': 'price_asc', 'name': 'Menor precio'}, ...   \n",
       "\n",
       "                                             filters  \\\n",
       "0  [{'id': 'category', 'name': 'Categorías', 'typ...   \n",
       "1  [{'id': 'category', 'name': 'Categorías', 'typ...   \n",
       "2  [{'id': 'category', 'name': 'Categorías', 'typ...   \n",
       "3  [{'id': 'category', 'name': 'Categorías', 'typ...   \n",
       "4  [{'id': 'category', 'name': 'Categorías', 'typ...   \n",
       "\n",
       "                                   available_filters  \n",
       "0  [{'id': 'discount', 'name': 'Descuentos', 'typ...  \n",
       "1  [{'id': 'discount', 'name': 'Descuentos', 'typ...  \n",
       "2  [{'id': 'official_store', 'name': 'Tiendas ofi...  \n",
       "3  [{'id': 'official_store', 'name': 'Tiendas ofi...  \n",
       "4  [{'id': 'official_store', 'name': 'Tiendas ofi...  "
      ]
     },
     "execution_count": 29,
     "metadata": {},
     "output_type": "execute_result"
    }
   ],
   "source": [
    "# Cabeçalho do Dataframe criado\n",
    "data_MercadoLibre.head()"
   ]
  },
  {
   "cell_type": "code",
   "execution_count": 33,
   "metadata": {},
   "outputs": [
    {
     "name": "stdout",
     "output_type": "stream",
     "text": [
      "MLA1394845862\n"
     ]
    }
   ],
   "source": [
    "# Exemplo do dado desejado\n",
    "print(data_MercadoLibre['results'][0][1]['id'])"
   ]
  },
  {
   "cell_type": "code",
   "execution_count": 34,
   "metadata": {},
   "outputs": [
    {
     "data": {
      "text/plain": [
       "site_id                      object\n",
       "country_default_time_zone    object\n",
       "query                        object\n",
       "paging                       object\n",
       "results                      object\n",
       "sort                         object\n",
       "available_sorts              object\n",
       "filters                      object\n",
       "available_filters            object\n",
       "dtype: object"
      ]
     },
     "execution_count": 34,
     "metadata": {},
     "output_type": "execute_result"
    }
   ],
   "source": [
    "# Tipo dos Dados\n",
    "data_MercadoLibre.dtypes"
   ]
  },
  {
   "cell_type": "code",
   "execution_count": 35,
   "metadata": {},
   "outputs": [
    {
     "data": {
      "text/plain": [
       "array(['chromecast', 'Google Home', 'Apple TV', 'Amazon Fire TV'],\n",
       "      dtype=object)"
      ]
     },
     "execution_count": 35,
     "metadata": {},
     "output_type": "execute_result"
    }
   ],
   "source": [
    "# Verifica quais os possíveis resultados de busca\n",
    "data_MercadoLibre['query'].unique()"
   ]
  },
  {
   "cell_type": "markdown",
   "metadata": {},
   "source": [
    "<h1>Tarefa 2</h1>"
   ]
  },
  {
   "cell_type": "markdown",
   "metadata": {},
   "source": [
    "<n>Para cada resultado, realizar o correspondente GET por item_id no recurso publico:</n>"
   ]
  },
  {
   "cell_type": "markdown",
   "metadata": {},
   "source": [
    "https://api.mercadolibre.com/items/{Item_Id}"
   ]
  },
  {
   "cell_type": "code",
   "execution_count": 36,
   "metadata": {},
   "outputs": [],
   "source": [
    "# Obtém as informações do item com base no Item_id.\n",
    "def get_item_info(item_id):\n",
    "    url = f\"https://api.mercadolibre.com/items/{item_id}\"\n",
    "    response = requests.get(url)\n",
    "\n",
    "    if response.status_code == 200:\n",
    "        item_info = response.json()\n",
    "        return item_info\n",
    "    else:\n",
    "        return None\n",
    "\n",
    "items_mercado_libre = [get_item_info(result['id']) for result in result_list[0]['results']]"
   ]
  },
  {
   "cell_type": "markdown",
   "metadata": {},
   "source": [
    "<h1>Tarefa 3</h1>"
   ]
  },
  {
   "cell_type": "markdown",
   "metadata": {},
   "source": [
    "<n>Escrever os resultados em um arquivo plano delimitado por vírgulas, desnormalizando o JSON obtido no passo anterior, em quantos campos sejam necessários para guardar as variáveis que te interesse modelar.</n>"
   ]
  },
  {
   "cell_type": "code",
   "execution_count": 37,
   "metadata": {},
   "outputs": [],
   "source": [
    "features = ['site_id', 'title', 'subtitle', 'seller_id', 'category_id', 'official_store_id', 'price', 'base_price'\n",
    "            , 'original_price', 'currency_id' 'initial_quantity', 'available_quantity', 'sold_quantity', 'sale_terms',\n",
    "               'buying_mode']\n",
    "\n",
    "result_csv_file = '\\projetos\\mercado_libre_items_output.csv'\n",
    "\n",
    "with open(result_csv_file, 'w', newline='', encoding='utf-8') as result_file:\n",
    "    writer = csv.writer(result_file)\n",
    "    \n",
    "    writer.writerow(features)\n",
    "    \n",
    "    for item in items_mercado_libre:\n",
    "        row = []\n",
    "        \n",
    "        for feature in features:\n",
    "            if feature in item:\n",
    "                row.append(item[feature])\n",
    "            else:\n",
    "                row.append('')\n",
    "        writer.writerow(row)"
   ]
  },
  {
   "cell_type": "markdown",
   "metadata": {},
   "source": [
    "<h1>Adendos</h1>"
   ]
  },
  {
   "cell_type": "markdown",
   "metadata": {},
   "source": [
    "<n>Incluindo mais esse bloco de código, vou alimentar os dados da minha tabela TMP_FACT_ITEM no SQl Server.</n>"
   ]
  },
  {
   "cell_type": "code",
   "execution_count": 50,
   "metadata": {},
   "outputs": [],
   "source": [
    "# Conexão com SQL Server no meu Servidor - LAPTOP-JPLNNUP4\n",
    "connection = pyodbc.connect('DRIVER={SQL Server};SERVER=LAPTOP-JPLNNUP4;DATABASE=BD_MERCADOLIBRE;Trusted_Connection=yes')\n",
    "\n",
    "# Cursor para executar queries\n",
    "cursor = connection.cursor()\n",
    "\n",
    "# Queries DDL\n",
    "create_table_query = \"\"\"\n",
    "CREATE TABLE TMP_FACT_ITEM (\n",
    "    title VARCHAR(100) NULL\n",
    "    , subtitle VARCHAR(100) NULL\n",
    "    , price FLOAT NULL\n",
    ");\n",
    "\"\"\"\n",
    "\n",
    "# Execução DDL\n",
    "cursor.execute(create_table_query)\n",
    "connection.commit()\n",
    "\n",
    "# Queries de INSERT\n",
    "insert_query = \"\"\"\n",
    "INSERT INTO TMP_FACT_ITEM (\n",
    "    title, subtitle, price\n",
    ") VALUES (?, ?, ?)\n",
    "\"\"\"\n",
    "\n",
    "# Execução INSERT\n",
    "for item in items_mercado_libre:\n",
    "    values = (\n",
    "        item.get('title', '')\n",
    "        , item.get('subtitle', '')\n",
    "        , item.get('price', None)\n",
    "    )\n",
    "    cursor.execute(insert_query, values)\n",
    "    connection.commit()\n",
    "\n",
    "# Fecha cursor e interrompe conexão\n",
    "cursor.close()\n",
    "connection.close()"
   ]
  },
  {
   "cell_type": "code",
   "execution_count": null,
   "metadata": {},
   "outputs": [],
   "source": []
  }
 ],
 "metadata": {
  "kernelspec": {
   "display_name": "Python 3",
   "language": "python",
   "name": "python3"
  },
  "language_info": {
   "codemirror_mode": {
    "name": "ipython",
    "version": 3
   },
   "file_extension": ".py",
   "mimetype": "text/x-python",
   "name": "python",
   "nbconvert_exporter": "python",
   "pygments_lexer": "ipython3",
   "version": "3.7.4"
  }
 },
 "nbformat": 4,
 "nbformat_minor": 2
}
