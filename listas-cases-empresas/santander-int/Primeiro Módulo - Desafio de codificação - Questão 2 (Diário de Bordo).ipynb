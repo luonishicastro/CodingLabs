{
 "cells": [
  {
   "cell_type": "markdown",
   "id": "c0359eb7",
   "metadata": {},
   "source": [
    "A amostra de dados em anexo (info_transportes.csv), possui dados de um\n",
    "aplicativo de transporte privado, cujas colunas são:\n",
    "* DATA_INICIO (formato: \"mm-dd-yyyy HH\")\n",
    "* DATA_FIM (formato: \"mm-dd-yyyy HH\")\n",
    "* CATEGORIA\n",
    "* LOCAL_INICIO\n",
    "* LOCAL_FIM\n",
    "* PROPOSITO\n",
    "* DISTANCIA\n",
    "\n",
    "<br>\n",
    "Uma equipe está elaborando um modelo para compreender como os clientes\n",
    "estão utilizando o aplicativo. Para isso, você precisa fornecer uma nova tabela\n",
    "“info_corridas_do_dia\", com dados agrupados pela data de início do transporte\n",
    "utilizando a formatação “yyyy-MM-dd”, contendo as seguintes colunas:\n",
    "\n",
    "| Nome da Coluna | Descrição |\n",
    "   |---|---|\n",
    "   | DT_REFE | Data de referência. |\n",
    "   | QT_CORR | Quantidade de corridas. |\n",
    "   | QT_CORR_NEG | Quantidade de corridas com a categoria “Negócio”. |\n",
    "   | QT_CORR_PESS | Quantidade de corridas com a categoria “Pessoal”. |\n",
    "   | VL_MAX_DIST | Maior distância percorrida por uma corrida. |\n",
    "   | VL_MIN_DIST | Menor distância percorrida por uma corrida. |\n",
    "   | VL_AVG_DIST | Média das distâncias percorridas. |\n",
    "   | QT_CORR_REUNI | Quantidade de corridas com o propósito de \"Reunião\". |\n",
    "   | QT_CORR_NAO_REUNI | Quantidade de corridas com o propósito declarado e diferente de \"Reunião\". |\n",
    "   \n",
    "<br>\n",
    "Abaixo temos um exemplo de uma possível linha da tabela:\n",
    "\n",
    "| DT_REFE | QT_CORR | QT_CORR_NEG | QT_CORR_PESS | VL_MAX_DIST | VL_MIN_DIST | VL_AVG_DIST | QT_CORR_REUNI | QT_CORR_NAO_REUNI |\n",
    "   |---|---|---|---|---|---|---|---|---|\n",
    "   | 2022-01-01 | 20 | 12 | 8 | 2.2 | 0.7 | 1.1 | 6 | 10 |\n",
    "\n",
    "O código que você irá elaborar para criar a tabela (ou dataframe spark/pandas)\n",
    "deverá ser escrito em uma das seguintes linguagens: SQL ou Python (pyspark\n",
    "e/ou pandas). Caso decida por SQL, considere o nome da tabela como \"\n",
    "info_transportes\"."
   ]
  },
  {
   "cell_type": "markdown",
   "id": "78d144c4",
   "metadata": {},
   "source": [
    "<h3>Solução 1 - Exploração de Dados com Pandas</h3>"
   ]
  },
  {
   "cell_type": "code",
   "execution_count": 19,
   "id": "5b4e8d56",
   "metadata": {},
   "outputs": [],
   "source": [
    "import pandas as pd\n",
    "import pyodbc"
   ]
  },
  {
   "cell_type": "code",
   "execution_count": 10,
   "id": "dbce6890",
   "metadata": {},
   "outputs": [],
   "source": [
    "df = pd.read_csv('\\\\projetos\\info_transportes.csv', sep=';')"
   ]
  },
  {
   "cell_type": "code",
   "execution_count": 11,
   "id": "edf9b21f",
   "metadata": {},
   "outputs": [
    {
     "name": "stdout",
     "output_type": "stream",
     "text": [
      "<class 'pandas.core.frame.DataFrame'>\n",
      "RangeIndex: 1153 entries, 0 to 1152\n",
      "Data columns (total 7 columns):\n",
      " #   Column        Non-Null Count  Dtype \n",
      "---  ------        --------------  ----- \n",
      " 0   DATA_INICIO   1153 non-null   object\n",
      " 1   DATA_FIM      1153 non-null   object\n",
      " 2   CATEGORIA     1153 non-null   object\n",
      " 3   LOCAL_INICIO  1153 non-null   object\n",
      " 4   LOCAL_FIM     1153 non-null   object\n",
      " 5   DISTANCIA     1153 non-null   int64 \n",
      " 6   PROPOSITO     651 non-null    object\n",
      "dtypes: int64(1), object(6)\n",
      "memory usage: 63.2+ KB\n"
     ]
    }
   ],
   "source": [
    "df.info()"
   ]
  },
  {
   "cell_type": "code",
   "execution_count": 13,
   "id": "d2466116",
   "metadata": {},
   "outputs": [
    {
     "data": {
      "text/html": [
       "<div>\n",
       "<style scoped>\n",
       "    .dataframe tbody tr th:only-of-type {\n",
       "        vertical-align: middle;\n",
       "    }\n",
       "\n",
       "    .dataframe tbody tr th {\n",
       "        vertical-align: top;\n",
       "    }\n",
       "\n",
       "    .dataframe thead th {\n",
       "        text-align: right;\n",
       "    }\n",
       "</style>\n",
       "<table border=\"1\" class=\"dataframe\">\n",
       "  <thead>\n",
       "    <tr style=\"text-align: right;\">\n",
       "      <th></th>\n",
       "      <th>DATA_INICIO</th>\n",
       "      <th>DATA_FIM</th>\n",
       "      <th>CATEGORIA</th>\n",
       "      <th>LOCAL_INICIO</th>\n",
       "      <th>LOCAL_FIM</th>\n",
       "      <th>DISTANCIA</th>\n",
       "      <th>PROPOSITO</th>\n",
       "    </tr>\n",
       "  </thead>\n",
       "  <tbody>\n",
       "    <tr>\n",
       "      <th>0</th>\n",
       "      <td>01-01-2016 21:11</td>\n",
       "      <td>01-01-2016 21:17</td>\n",
       "      <td>Negocio</td>\n",
       "      <td>Fort Pierce</td>\n",
       "      <td>Fort Pierce</td>\n",
       "      <td>51</td>\n",
       "      <td>Alimentação</td>\n",
       "    </tr>\n",
       "    <tr>\n",
       "      <th>1</th>\n",
       "      <td>01-02-2016 01:25</td>\n",
       "      <td>01-02-2016 01:37</td>\n",
       "      <td>Negocio</td>\n",
       "      <td>Fort Pierce</td>\n",
       "      <td>Fort Pierce</td>\n",
       "      <td>5</td>\n",
       "      <td>NaN</td>\n",
       "    </tr>\n",
       "    <tr>\n",
       "      <th>2</th>\n",
       "      <td>01-02-2016 20:25</td>\n",
       "      <td>01-02-2016 20:38</td>\n",
       "      <td>Negocio</td>\n",
       "      <td>Fort Pierce</td>\n",
       "      <td>Fort Pierce</td>\n",
       "      <td>48</td>\n",
       "      <td>Entregas</td>\n",
       "    </tr>\n",
       "    <tr>\n",
       "      <th>3</th>\n",
       "      <td>01-05-2016 17:31</td>\n",
       "      <td>01-05-2016 17:45</td>\n",
       "      <td>Negocio</td>\n",
       "      <td>Fort Pierce</td>\n",
       "      <td>Fort Pierce</td>\n",
       "      <td>47</td>\n",
       "      <td>Reunião</td>\n",
       "    </tr>\n",
       "    <tr>\n",
       "      <th>4</th>\n",
       "      <td>01-06-2016 14:42</td>\n",
       "      <td>01-06-2016 15:49</td>\n",
       "      <td>Negocio</td>\n",
       "      <td>Fort Pierce</td>\n",
       "      <td>West Palm Beach</td>\n",
       "      <td>637</td>\n",
       "      <td>Visita ao cliente</td>\n",
       "    </tr>\n",
       "  </tbody>\n",
       "</table>\n",
       "</div>"
      ],
      "text/plain": [
       "        DATA_INICIO          DATA_FIM CATEGORIA LOCAL_INICIO        LOCAL_FIM  \\\n",
       "0  01-01-2016 21:11  01-01-2016 21:17   Negocio  Fort Pierce      Fort Pierce   \n",
       "1  01-02-2016 01:25  01-02-2016 01:37   Negocio  Fort Pierce      Fort Pierce   \n",
       "2  01-02-2016 20:25  01-02-2016 20:38   Negocio  Fort Pierce      Fort Pierce   \n",
       "3  01-05-2016 17:31  01-05-2016 17:45   Negocio  Fort Pierce      Fort Pierce   \n",
       "4  01-06-2016 14:42  01-06-2016 15:49   Negocio  Fort Pierce  West Palm Beach   \n",
       "\n",
       "   DISTANCIA          PROPOSITO  \n",
       "0         51        Alimentação  \n",
       "1          5                NaN  \n",
       "2         48           Entregas  \n",
       "3         47            Reunião  \n",
       "4        637  Visita ao cliente  "
      ]
     },
     "execution_count": 13,
     "metadata": {},
     "output_type": "execute_result"
    }
   ],
   "source": [
    "df.head()"
   ]
  },
  {
   "cell_type": "code",
   "execution_count": 21,
   "id": "438713ab",
   "metadata": {},
   "outputs": [],
   "source": [
    "conn_str = (\n",
    "    r'DRIVER={ODBC Driver 17 for SQL Server};'\n",
    "    r'SERVER=(localdb)\\LocalDBDemo;'\n",
    "    r'DATABASE=BD_FIN_PES;'\n",
    "    r'UID=CBYK-81\\lucas.castro;'\n",
    "    r'PWD=@81@cbyk@;'\n",
    ")"
   ]
  },
  {
   "cell_type": "code",
   "execution_count": 23,
   "id": "9215249f",
   "metadata": {},
   "outputs": [],
   "source": [
    "nome_tabela = 'info_transportes'"
   ]
  },
  {
   "cell_type": "code",
   "execution_count": 24,
   "id": "560a875e",
   "metadata": {},
   "outputs": [
    {
     "ename": "InterfaceError",
     "evalue": "('28000', \"[28000] [Microsoft][ODBC Driver 17 for SQL Server][SQL Server]Login failed for user 'CBYK-81\\\\lucas.castro'. (18456) (SQLDriverConnect); [28000] [Microsoft][ODBC Driver 17 for SQL Server][SQL Server]Login failed for user 'CBYK-81\\\\lucas.castro'. (18456)\")",
     "output_type": "error",
     "traceback": [
      "\u001b[1;31m---------------------------------------------------------------------------\u001b[0m",
      "\u001b[1;31mInterfaceError\u001b[0m                            Traceback (most recent call last)",
      "Cell \u001b[1;32mIn[24], line 1\u001b[0m\n\u001b[1;32m----> 1\u001b[0m conn \u001b[38;5;241m=\u001b[39m \u001b[43mpyodbc\u001b[49m\u001b[38;5;241;43m.\u001b[39;49m\u001b[43mconnect\u001b[49m\u001b[43m(\u001b[49m\u001b[43mconn_str\u001b[49m\u001b[43m)\u001b[49m\n",
      "\u001b[1;31mInterfaceError\u001b[0m: ('28000', \"[28000] [Microsoft][ODBC Driver 17 for SQL Server][SQL Server]Login failed for user 'CBYK-81\\\\lucas.castro'. (18456) (SQLDriverConnect); [28000] [Microsoft][ODBC Driver 17 for SQL Server][SQL Server]Login failed for user 'CBYK-81\\\\lucas.castro'. (18456)\")"
     ]
    }
   ],
   "source": [
    "conn = pyodbc.connect(conn_str)"
   ]
  },
  {
   "cell_type": "markdown",
   "id": "395d1067",
   "metadata": {},
   "source": [
    "<h3>Solução 2 - Manipulação de Dados no SQL Server</h3>"
   ]
  },
  {
   "cell_type": "code",
   "execution_count": null,
   "id": "0eec2c16",
   "metadata": {},
   "outputs": [],
   "source": []
  }
 ],
 "metadata": {
  "kernelspec": {
   "display_name": "Python 3 (ipykernel)",
   "language": "python",
   "name": "python3"
  },
  "language_info": {
   "codemirror_mode": {
    "name": "ipython",
    "version": 3
   },
   "file_extension": ".py",
   "mimetype": "text/x-python",
   "name": "python",
   "nbconvert_exporter": "python",
   "pygments_lexer": "ipython3",
   "version": "3.11.4"
  }
 },
 "nbformat": 4,
 "nbformat_minor": 5
}
