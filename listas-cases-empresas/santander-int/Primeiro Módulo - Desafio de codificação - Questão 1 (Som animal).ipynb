{
 "cells": [
  {
   "cell_type": "markdown",
   "id": "b661fc7b",
   "metadata": {},
   "source": [
    "<p>Desenvolva uma solução, obrigatoriamente em Python, que recebe input \"1\" para \"GATO\" e \"2\" para \"CACHORRO\". Quando selecionada a opção \"1\", o output deve ser \"Miau\". Quando a opção for \"2\", o output deve ser \"Auau\". Se o input for \"histórico\", o output deve apresentar a lista de execuções do software. Para sua solução, você deve se atentar para duas obrigatoriedades: conter polimorfismo e Design Patter Singleton (ou outro de sua preferência).</p>"
   ]
  },
  {
   "cell_type": "markdown",
   "id": "2972b4a5",
   "metadata": {},
   "source": [
    "O exemplo a seguir, ilustra a solução:\n",
    "\n",
    "Input: <b>1</b>\n",
    "<br>\n",
    "Output: <b>Miau</b>\n",
    "\n",
    "Input: <b>2</b>\n",
    "<br>\n",
    "Output: <b>Auau</b>\n",
    "\n",
    "Input: <b>2</b>\n",
    "<br>\n",
    "Output: <b>Auau</b>\n",
    "\n",
    "Input: <b>histórico</b>\n",
    "<br>\n",
    "Output:\n",
    "<br>\n",
    "<b>1 Miau</b>\n",
    "    \n",
    "<b>2 Auau</b>\n",
    "    \n",
    "<b>2 Auau</b>\n"
   ]
  },
  {
   "cell_type": "code",
   "execution_count": 40,
   "id": "0f954839",
   "metadata": {},
   "outputs": [
    {
     "ename": "TypeError",
     "evalue": "Animal.__init__() missing 1 required positional argument: 'entrada'",
     "output_type": "error",
     "traceback": [
      "\u001b[1;31m---------------------------------------------------------------------------\u001b[0m",
      "\u001b[1;31mTypeError\u001b[0m                                 Traceback (most recent call last)",
      "Cell \u001b[1;32mIn[40], line 27\u001b[0m\n\u001b[0;32m     21\u001b[0m         \u001b[38;5;28;01mreturn\u001b[39;00m Gato()\u001b[38;5;241m.\u001b[39msom_animal()\n\u001b[0;32m     23\u001b[0m \u001b[38;5;66;03m# class Fila:\u001b[39;00m\n\u001b[0;32m     24\u001b[0m \n\u001b[0;32m     25\u001b[0m         \n\u001b[0;32m     26\u001b[0m \u001b[38;5;66;03m# Instâncias\u001b[39;00m\n\u001b[1;32m---> 27\u001b[0m a1 \u001b[38;5;241m=\u001b[39m \u001b[43mfazer_som\u001b[49m\u001b[43m(\u001b[49m\u001b[43mAnimal\u001b[49m\u001b[43m(\u001b[49m\u001b[38;5;241;43m1\u001b[39;49m\u001b[43m)\u001b[49m\u001b[43m)\u001b[49m\n\u001b[0;32m     28\u001b[0m a2 \u001b[38;5;241m=\u001b[39m fazer_som(Animal(\u001b[38;5;241m2\u001b[39m))\n\u001b[0;32m     29\u001b[0m a3 \u001b[38;5;241m=\u001b[39m fazer_som(Animal(\u001b[38;5;241m2\u001b[39m))\n",
      "Cell \u001b[1;32mIn[40], line 19\u001b[0m, in \u001b[0;36mfazer_som\u001b[1;34m(animal)\u001b[0m\n\u001b[0;32m     17\u001b[0m \u001b[38;5;28;01mdef\u001b[39;00m \u001b[38;5;21mfazer_som\u001b[39m(animal):\n\u001b[0;32m     18\u001b[0m     \u001b[38;5;28;01mif\u001b[39;00m animal\u001b[38;5;241m.\u001b[39mentrada \u001b[38;5;241m==\u001b[39m \u001b[38;5;241m1\u001b[39m:\n\u001b[1;32m---> 19\u001b[0m         \u001b[38;5;28;01mreturn\u001b[39;00m \u001b[43mCachorro\u001b[49m\u001b[43m(\u001b[49m\u001b[43m)\u001b[49m\u001b[38;5;241m.\u001b[39msom_animal()\n\u001b[0;32m     20\u001b[0m     \u001b[38;5;28;01melif\u001b[39;00m animal\u001b[38;5;241m.\u001b[39mentrada \u001b[38;5;241m==\u001b[39m \u001b[38;5;241m2\u001b[39m:\n\u001b[0;32m     21\u001b[0m         \u001b[38;5;28;01mreturn\u001b[39;00m Gato()\u001b[38;5;241m.\u001b[39msom_animal()\n",
      "\u001b[1;31mTypeError\u001b[0m: Animal.__init__() missing 1 required positional argument: 'entrada'"
     ]
    }
   ],
   "source": [
    "# método construtor: usado para inicializar um objeto instânciado, ou seja, quando se cria um novo objeto a partir de uma classe esse método será executado;\n",
    "     \n",
    "import queue\n",
    "    \n",
    "class Animal:\n",
    "    def __init__(self, entrada):\n",
    "        self.entrada = entrada\n",
    "\n",
    "class Cachorro(Animal):\n",
    "    def som_animal(self):\n",
    "        return 'Auau'\n",
    "    \n",
    "class Gato(Animal):\n",
    "    def som_animal(self):\n",
    "        return 'Miau'\n",
    "    \n",
    "def fazer_som(animal):\n",
    "    if animal.entrada == 1:\n",
    "        return Cachorro(animal.entrada).som_animal()\n",
    "    elif animal.entrada == 2:\n",
    "        return Gato(animal.entrada).som_animal()\n",
    "        \n",
    "class Fila:\n",
    "    _q = queue.Queue()\n",
    "\n",
    "        \n",
    "# Instâncias\n",
    "a1 = fazer_som(Animal(1))\n",
    "a2 = fazer_som(Animal(2))\n",
    "a3 = fazer_som(Animal(2))\n",
    "        \n",
    "# chamando os métodos\n",
    "# print(a1.som_animal())\n",
    "# print(a2.som_animal())\n",
    "\n",
    "\n",
    "q.put(a1)\n",
    "q.put(a2)\n",
    "q.put(a3)\n",
    "\n",
    "print(q.get())\n",
    "print(q.get())\n",
    "print(q.get())\n",
    "\n",
    "\"\"\"\n",
    "criar um construtor privado (ok)\n",
    "criar uma variável estática privada da própria classe (ok)\n",
    "criar um método estático público para acesso à instância (ok)\n",
    "\n",
    "1. esperar um input e mostrar opções\n",
    "2. função de retorno do input quando \"gato\" ou quando \"cachorro\" (essa é a classe base, ela pode chamar métodos da classe derivada)\n",
    "3. função com uma queue que retorne os valores quando \"histórico\" (essa é a classe derivada, ela pode tratar como objetos próprios os objetos criados na classe base. Ao chamar os métodos nesse objeto, os métodos especificos na classe derivada podem ser executados)\n",
    "\"\"\""
   ]
  },
  {
   "cell_type": "code",
   "execution_count": null,
   "id": "dbaf9fa2",
   "metadata": {},
   "outputs": [],
   "source": []
  }
 ],
 "metadata": {
  "kernelspec": {
   "display_name": "Python 3 (ipykernel)",
   "language": "python",
   "name": "python3"
  },
  "language_info": {
   "codemirror_mode": {
    "name": "ipython",
    "version": 3
   },
   "file_extension": ".py",
   "mimetype": "text/x-python",
   "name": "python",
   "nbconvert_exporter": "python",
   "pygments_lexer": "ipython3",
   "version": "3.11.4"
  }
 },
 "nbformat": 4,
 "nbformat_minor": 5
}
