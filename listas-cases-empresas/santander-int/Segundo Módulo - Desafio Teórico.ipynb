{
 "cells": [
  {
   "cell_type": "markdown",
   "id": "1220c416",
   "metadata": {},
   "source": [
    "Foi pedido para você montar uma arquitetura de um projeto novo da área. Este\n",
    "projeto consiste na transcrição de fala presente em arquivos de áudios e vídeos\n",
    "para finalidades de acessibilidade do consumo de tais mídias. Para torná-lo\n",
    "possível, é necessário pensar, inicialmente, na extração desses arquivos de\n",
    "fontes diversas, depois, não necessariamente nessa ordem (fica a seu critério),\n",
    "nas etapas de armazenamento, etapas de tratamento, etapas de transcrição\n",
    "e, por fim, na disponibilização da informação transcrita para o usuário final."
   ]
  },
  {
   "cell_type": "markdown",
   "id": "49535697",
   "metadata": {},
   "source": [
    "As fontes de dados que alimentarão a pipeline serão de produtores de mídia\n",
    "diversos que divulgarão seus arquivos em seus próprios servidores, os quais\n",
    "você terá acesso para realizar a transferência desses arquivos."
   ]
  },
  {
   "cell_type": "markdown",
   "id": "15d766c3",
   "metadata": {},
   "source": [
    "Desenhe a arquitetura com os passos indicados (e outros que enxergar\n",
    "conveniente) e responda as seguintes perguntas acerca do desenho.\n",
    "1. O processo realizado foi Streaming ou Batch? Explique a escolha.\n",
    "2. Você utilizou algum Data Warehouse ou Data Lake para armazenamento?\n",
    "Justifique cada uso.\n",
    "3. O processo é ETL ou ELT? Justifique.\n",
    "4. Identifique na sua arquitetura onde usaria containers e justifique a\n",
    "importância deles dentro do projeto."
   ]
  },
  {
   "cell_type": "code",
   "execution_count": null,
   "id": "8ac1e5ce",
   "metadata": {},
   "outputs": [],
   "source": []
  }
 ],
 "metadata": {
  "kernelspec": {
   "display_name": "Python 3 (ipykernel)",
   "language": "python",
   "name": "python3"
  },
  "language_info": {
   "codemirror_mode": {
    "name": "ipython",
    "version": 3
   },
   "file_extension": ".py",
   "mimetype": "text/x-python",
   "name": "python",
   "nbconvert_exporter": "python",
   "pygments_lexer": "ipython3",
   "version": "3.11.4"
  }
 },
 "nbformat": 4,
 "nbformat_minor": 5
}
